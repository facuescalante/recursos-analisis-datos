{
 "cells": [
  {
   "cell_type": "markdown",
   "id": "e65a8a8b-7341-4e78-a024-510764343e9c",
   "metadata": {},
   "source": [
    "# Clase 12\n",
    "\n",
    "## Pandas DataFrame\n",
    "\n",
    "los dataframe son tablas parecidas a una hoja de calculo, contienen filas y columnas. cada una de estas filas individualmente es una Serie"
   ]
  },
  {
   "cell_type": "markdown",
   "id": "839e94c6-0538-45c4-bcc8-87c40ad73d20",
   "metadata": {},
   "source": [
    "## Ejercicio 1.0"
   ]
  },
  {
   "cell_type": "code",
   "execution_count": 62,
   "id": "e20bcc3b-37b0-4301-a3ec-77e5786cc5f9",
   "metadata": {},
   "outputs": [
    {
     "name": "stdout",
     "output_type": "stream",
     "text": [
      "Requirement already satisfied: pandas==2.2.2 in /usr/local/python/3.10.13/lib/python3.10/site-packages (2.2.2)\n",
      "Requirement already satisfied: numpy>=1.22.4 in /home/codespace/.local/lib/python3.10/site-packages (from pandas==2.2.2) (1.26.4)\n",
      "Requirement already satisfied: python-dateutil>=2.8.2 in /home/codespace/.local/lib/python3.10/site-packages (from pandas==2.2.2) (2.9.0.post0)\n",
      "Requirement already satisfied: pytz>=2020.1 in /home/codespace/.local/lib/python3.10/site-packages (from pandas==2.2.2) (2024.1)\n",
      "Requirement already satisfied: tzdata>=2022.7 in /home/codespace/.local/lib/python3.10/site-packages (from pandas==2.2.2) (2024.1)\n",
      "Requirement already satisfied: six>=1.5 in /home/codespace/.local/lib/python3.10/site-packages (from python-dateutil>=2.8.2->pandas==2.2.2) (1.16.0)\n"
     ]
    }
   ],
   "source": [
    "!pip install pandas==2.2.2"
   ]
  },
  {
   "cell_type": "code",
   "execution_count": 63,
   "id": "a940484a-5715-40dd-bb1a-fa020b72a73a",
   "metadata": {},
   "outputs": [],
   "source": [
    "import pandas as pd\n",
    "import numpy as np"
   ]
  },
  {
   "cell_type": "markdown",
   "id": "5dedaecf-a6e5-417f-a27d-8937f59418ef",
   "metadata": {},
   "source": [
    "## Ejercicio 1.1\n",
    "\n",
    "creacion objeto DataFrame"
   ]
  },
  {
   "cell_type": "code",
   "execution_count": 64,
   "id": "3b85fe4c-eeec-4612-8a3f-c94f85da29a6",
   "metadata": {},
   "outputs": [
    {
     "data": {
      "text/html": [
       "<div>\n",
       "<style scoped>\n",
       "    .dataframe tbody tr th:only-of-type {\n",
       "        vertical-align: middle;\n",
       "    }\n",
       "\n",
       "    .dataframe tbody tr th {\n",
       "        vertical-align: top;\n",
       "    }\n",
       "\n",
       "    .dataframe thead th {\n",
       "        text-align: right;\n",
       "    }\n",
       "</style>\n",
       "<table border=\"1\" class=\"dataframe\">\n",
       "  <thead>\n",
       "    <tr style=\"text-align: right;\">\n",
       "      <th></th>\n",
       "      <th>Nombre</th>\n",
       "      <th>Apellido</th>\n",
       "      <th>Edad</th>\n",
       "      <th>Es metido</th>\n",
       "    </tr>\n",
       "  </thead>\n",
       "  <tbody>\n",
       "    <tr>\n",
       "      <th>0</th>\n",
       "      <td>Juan Pablo</td>\n",
       "      <td>Simone</td>\n",
       "      <td>56</td>\n",
       "      <td>False</td>\n",
       "    </tr>\n",
       "    <tr>\n",
       "      <th>1</th>\n",
       "      <td>Yul</td>\n",
       "      <td>Mohurad</td>\n",
       "      <td>46</td>\n",
       "      <td>True</td>\n",
       "    </tr>\n",
       "    <tr>\n",
       "      <th>2</th>\n",
       "      <td>Cristina</td>\n",
       "      <td>Arreglate</td>\n",
       "      <td>45</td>\n",
       "      <td>False</td>\n",
       "    </tr>\n",
       "    <tr>\n",
       "      <th>3</th>\n",
       "      <td>Jorge</td>\n",
       "      <td>Rodriguez</td>\n",
       "      <td>38</td>\n",
       "      <td>False</td>\n",
       "    </tr>\n",
       "    <tr>\n",
       "      <th>4</th>\n",
       "      <td>Sebastian</td>\n",
       "      <td>First</td>\n",
       "      <td>48</td>\n",
       "      <td>False</td>\n",
       "    </tr>\n",
       "  </tbody>\n",
       "</table>\n",
       "</div>"
      ],
      "text/plain": [
       "       Nombre   Apellido  Edad  Es metido\n",
       "0  Juan Pablo     Simone    56      False\n",
       "1         Yul    Mohurad    46       True\n",
       "2    Cristina  Arreglate    45      False\n",
       "3       Jorge  Rodriguez    38      False\n",
       "4   Sebastian      First    48      False"
      ]
     },
     "execution_count": 64,
     "metadata": {},
     "output_type": "execute_result"
    }
   ],
   "source": [
    "# creamos un dataframe extrayendo los datos de las listas\n",
    "lista_p1 = [\"Juan Pablo\", \"Simone\", 56, False]\n",
    "lista_p2 = [\"Yul\",\"Mohurad\",46,True]\n",
    "lista_p3 = [\"Cristina\",\"Arreglate\",45,False]\n",
    "lista_p4 = [\"Jorge\",\"Rodriguez\",38,False]\n",
    "lista_p5 = [\"Sebastian\",\"First\",48,False]\n",
    "\n",
    "lista_nombre_columnas = [\"Nombre\",\"Apellido\",\"Edad\",\"Es metido\"]\n",
    "\n",
    "df_alumnos = pd.DataFrame(\n",
    "    data = [lista_p1,lista_p2,lista_p3,lista_p4,lista_p5],\n",
    "    columns = lista_nombre_columnas\n",
    ")\n",
    "df_alumnos\n"
   ]
  },
  {
   "cell_type": "code",
   "execution_count": 65,
   "id": "3c5e115a-6c02-4f2c-9464-cd4bcf568c6f",
   "metadata": {},
   "outputs": [
    {
     "data": {
      "text/plain": [
       "{'Nombre': ['Mara', 'Mirta', 'Jose', 'Juana'],\n",
       " 'Departamento': ['Sales', 'IT', 'IT', 'JR'],\n",
       " 'Suledo_usd': [1200, 5000, 7600, 8000],\n",
       " 'Facturacion': [True, True, False, True]}"
      ]
     },
     "execution_count": 65,
     "metadata": {},
     "output_type": "execute_result"
    }
   ],
   "source": [
    "# podemos crear un dataFrame extrayendo los datos de un diccionario\n",
    "\n",
    "diccionario_empleados = {\n",
    "    \"Nombre\" : [\"Mara\",\"Mirta\",\"Jose\",\"Juana\"],\n",
    "    \"Departamento\" : [\"Sales\",\"IT\",\"IT\",\"JR\"],\n",
    "    \"Suledo_usd\" : [1200,5000,7600,8000],\n",
    "    \"Facturacion\" : [True,True,False,True]\n",
    "}\n",
    "diccionario_empleados"
   ]
  },
  {
   "cell_type": "code",
   "execution_count": 66,
   "id": "c4f2f117-476e-460d-8d57-693731f84287",
   "metadata": {},
   "outputs": [
    {
     "data": {
      "text/html": [
       "<div>\n",
       "<style scoped>\n",
       "    .dataframe tbody tr th:only-of-type {\n",
       "        vertical-align: middle;\n",
       "    }\n",
       "\n",
       "    .dataframe tbody tr th {\n",
       "        vertical-align: top;\n",
       "    }\n",
       "\n",
       "    .dataframe thead th {\n",
       "        text-align: right;\n",
       "    }\n",
       "</style>\n",
       "<table border=\"1\" class=\"dataframe\">\n",
       "  <thead>\n",
       "    <tr style=\"text-align: right;\">\n",
       "      <th></th>\n",
       "      <th>Nombre</th>\n",
       "      <th>Departamento</th>\n",
       "      <th>Suledo_usd</th>\n",
       "      <th>Facturacion</th>\n",
       "    </tr>\n",
       "  </thead>\n",
       "  <tbody>\n",
       "    <tr>\n",
       "      <th>0</th>\n",
       "      <td>Mara</td>\n",
       "      <td>Sales</td>\n",
       "      <td>1200</td>\n",
       "      <td>True</td>\n",
       "    </tr>\n",
       "    <tr>\n",
       "      <th>1</th>\n",
       "      <td>Mirta</td>\n",
       "      <td>IT</td>\n",
       "      <td>5000</td>\n",
       "      <td>True</td>\n",
       "    </tr>\n",
       "    <tr>\n",
       "      <th>2</th>\n",
       "      <td>Jose</td>\n",
       "      <td>IT</td>\n",
       "      <td>7600</td>\n",
       "      <td>False</td>\n",
       "    </tr>\n",
       "    <tr>\n",
       "      <th>3</th>\n",
       "      <td>Juana</td>\n",
       "      <td>JR</td>\n",
       "      <td>8000</td>\n",
       "      <td>True</td>\n",
       "    </tr>\n",
       "  </tbody>\n",
       "</table>\n",
       "</div>"
      ],
      "text/plain": [
       "  Nombre Departamento  Suledo_usd  Facturacion\n",
       "0   Mara        Sales        1200         True\n",
       "1  Mirta           IT        5000         True\n",
       "2   Jose           IT        7600        False\n",
       "3  Juana           JR        8000         True"
      ]
     },
     "execution_count": 66,
     "metadata": {},
     "output_type": "execute_result"
    }
   ],
   "source": [
    "df_empleados = pd.DataFrame(diccionario_empleados)\n",
    "\n",
    "df_empleados"
   ]
  },
  {
   "cell_type": "code",
   "execution_count": 67,
   "id": "9df5f8ab-3b56-4e2a-99e3-60830ed8e044",
   "metadata": {},
   "outputs": [],
   "source": [
    "rng = np.random.default_rng()\n"
   ]
  },
  {
   "cell_type": "code",
   "execution_count": 68,
   "id": "76f433b8-7fd2-476a-b80e-46e8d6178121",
   "metadata": {},
   "outputs": [
    {
     "name": "stdout",
     "output_type": "stream",
     "text": [
      "[[ 5 11  2]\n",
      " [ 2  4 16]\n",
      " [18  4  8]\n",
      " [16 11 13]\n",
      " [ 4 15 16]]\n"
     ]
    }
   ],
   "source": [
    "array_5x3 = rng.integers(1,20,(5,3)) #creacion array\n",
    "print(array_5x3)"
   ]
  },
  {
   "cell_type": "code",
   "execution_count": 69,
   "id": "4c5949b3-f211-443f-acb7-e084c21277b0",
   "metadata": {},
   "outputs": [
    {
     "data": {
      "text/plain": [
       "2"
      ]
     },
     "execution_count": 69,
     "metadata": {},
     "output_type": "execute_result"
    }
   ],
   "source": [
    "array_5x3.ndim"
   ]
  },
  {
   "cell_type": "code",
   "execution_count": 70,
   "id": "5fe3f6ca-157e-41be-be7c-666d4eba354e",
   "metadata": {},
   "outputs": [
    {
     "data": {
      "text/plain": [
       "(5, 3)"
      ]
     },
     "execution_count": 70,
     "metadata": {},
     "output_type": "execute_result"
    }
   ],
   "source": [
    "array_5x3.shape"
   ]
  },
  {
   "cell_type": "code",
   "execution_count": 71,
   "id": "06c581b0-a43f-4094-999b-e0c35bf2d896",
   "metadata": {},
   "outputs": [],
   "source": [
    "#tambien podemos crear un dataframe a partir de un array\n"
   ]
  },
  {
   "cell_type": "markdown",
   "id": "064c762a-d45f-4a93-a67f-da3c72112907",
   "metadata": {},
   "source": [
    "## Ejercicio 1.2\n",
    "\n",
    "podemos trabajar con indices personalizados"
   ]
  },
  {
   "cell_type": "code",
   "execution_count": 72,
   "id": "5c453860-10e9-4c8e-9e9d-1eedf5602c56",
   "metadata": {},
   "outputs": [
    {
     "data": {
      "text/html": [
       "<div>\n",
       "<style scoped>\n",
       "    .dataframe tbody tr th:only-of-type {\n",
       "        vertical-align: middle;\n",
       "    }\n",
       "\n",
       "    .dataframe tbody tr th {\n",
       "        vertical-align: top;\n",
       "    }\n",
       "\n",
       "    .dataframe thead th {\n",
       "        text-align: right;\n",
       "    }\n",
       "</style>\n",
       "<table border=\"1\" class=\"dataframe\">\n",
       "  <thead>\n",
       "    <tr style=\"text-align: right;\">\n",
       "      <th></th>\n",
       "      <th>Marca</th>\n",
       "      <th>Modelo</th>\n",
       "      <th>Precio</th>\n",
       "      <th>0Km</th>\n",
       "    </tr>\n",
       "  </thead>\n",
       "  <tbody>\n",
       "    <tr>\n",
       "      <th>GHY-548</th>\n",
       "      <td>Ford</td>\n",
       "      <td>Mustang</td>\n",
       "      <td>100000</td>\n",
       "      <td>True</td>\n",
       "    </tr>\n",
       "    <tr>\n",
       "      <th>ERG-105</th>\n",
       "      <td>Fiat</td>\n",
       "      <td>500</td>\n",
       "      <td>50000</td>\n",
       "      <td>False</td>\n",
       "    </tr>\n",
       "    <tr>\n",
       "      <th>TPE-485</th>\n",
       "      <td>Toyota</td>\n",
       "      <td>Yaris</td>\n",
       "      <td>75000</td>\n",
       "      <td>True</td>\n",
       "    </tr>\n",
       "    <tr>\n",
       "      <th>POL-896</th>\n",
       "      <td>Toyota</td>\n",
       "      <td>Corolla</td>\n",
       "      <td>150000</td>\n",
       "      <td>True</td>\n",
       "    </tr>\n",
       "  </tbody>\n",
       "</table>\n",
       "</div>"
      ],
      "text/plain": [
       "          Marca   Modelo  Precio    0Km\n",
       "GHY-548    Ford  Mustang  100000   True\n",
       "ERG-105    Fiat      500   50000  False\n",
       "TPE-485  Toyota    Yaris   75000   True\n",
       "POL-896  Toyota  Corolla  150000   True"
      ]
     },
     "execution_count": 72,
     "metadata": {},
     "output_type": "execute_result"
    }
   ],
   "source": [
    "# Estamos integrando el indice a partir de una lista\n",
    "\n",
    "# dataframe catalogo vehiculos disponibles en una concecionaria\n",
    "\n",
    "lista_patente = [\"GHY-548\",\"ERG-105\",\"TPE-485\",\"POL-896\"]\n",
    "\n",
    "lista_v1 = [\"Ford\",\"Mustang\",100000,True]\n",
    "lista_v2 = [\"Fiat\",\"500\",50000,False]\n",
    "lista_v3 = [\"Toyota\",\"Yaris\",75000,True]\n",
    "lista_v4 = [\"Toyota\",\"Corolla\",150000,True]\n",
    "\n",
    "lista_encabezado_concecionaria = [\"Marca\", \"Modelo\", \"Precio\", \"0Km\"]\n",
    "\n",
    "df_vehiculos = pd.DataFrame(\n",
    "    data = [lista_v1,lista_v2,lista_v3,lista_v4],\n",
    "    columns = lista_encabezado_concecionaria,\n",
    "    index = lista_patente\n",
    ")\n",
    "df_vehiculos\n"
   ]
  },
  {
   "cell_type": "code",
   "execution_count": 73,
   "id": "df32e052-30be-4e67-80cd-ce4ce4514500",
   "metadata": {
    "scrolled": true
   },
   "outputs": [
    {
     "data": {
      "text/html": [
       "<div>\n",
       "<style scoped>\n",
       "    .dataframe tbody tr th:only-of-type {\n",
       "        vertical-align: middle;\n",
       "    }\n",
       "\n",
       "    .dataframe tbody tr th {\n",
       "        vertical-align: top;\n",
       "    }\n",
       "\n",
       "    .dataframe thead th {\n",
       "        text-align: right;\n",
       "    }\n",
       "</style>\n",
       "<table border=\"1\" class=\"dataframe\">\n",
       "  <thead>\n",
       "    <tr style=\"text-align: right;\">\n",
       "      <th></th>\n",
       "      <th>ID</th>\n",
       "      <th>Nombre</th>\n",
       "      <th>Apellido</th>\n",
       "      <th>Sueldo</th>\n",
       "      <th>Departamento</th>\n",
       "      <th>Facturacion</th>\n",
       "    </tr>\n",
       "  </thead>\n",
       "  <tbody>\n",
       "    <tr>\n",
       "      <th>0</th>\n",
       "      <td>F-001</td>\n",
       "      <td>Andres</td>\n",
       "      <td>Muñoz</td>\n",
       "      <td>4500</td>\n",
       "      <td>IT</td>\n",
       "      <td>True</td>\n",
       "    </tr>\n",
       "    <tr>\n",
       "      <th>1</th>\n",
       "      <td>C-001</td>\n",
       "      <td>Sofia</td>\n",
       "      <td>Cerves</td>\n",
       "      <td>6000</td>\n",
       "      <td>Sales</td>\n",
       "      <td>True</td>\n",
       "    </tr>\n",
       "    <tr>\n",
       "      <th>2</th>\n",
       "      <td>F-002</td>\n",
       "      <td>Mercedes</td>\n",
       "      <td>Garcia</td>\n",
       "      <td>2300</td>\n",
       "      <td>IT</td>\n",
       "      <td>False</td>\n",
       "    </tr>\n",
       "    <tr>\n",
       "      <th>3</th>\n",
       "      <td>F-003</td>\n",
       "      <td>Pablo</td>\n",
       "      <td>Alaves</td>\n",
       "      <td>5300</td>\n",
       "      <td>IT</td>\n",
       "      <td>True</td>\n",
       "    </tr>\n",
       "    <tr>\n",
       "      <th>4</th>\n",
       "      <td>F-004</td>\n",
       "      <td>Claudia</td>\n",
       "      <td>Perez</td>\n",
       "      <td>4920</td>\n",
       "      <td>HR</td>\n",
       "      <td>True</td>\n",
       "    </tr>\n",
       "    <tr>\n",
       "      <th>5</th>\n",
       "      <td>C-002</td>\n",
       "      <td>Miguel</td>\n",
       "      <td>Solis</td>\n",
       "      <td>5000</td>\n",
       "      <td>Sales</td>\n",
       "      <td>False</td>\n",
       "    </tr>\n",
       "  </tbody>\n",
       "</table>\n",
       "</div>"
      ],
      "text/plain": [
       "      ID    Nombre Apellido  Sueldo Departamento  Facturacion\n",
       "0  F-001    Andres    Muñoz    4500           IT         True\n",
       "1  C-001     Sofia   Cerves    6000        Sales         True\n",
       "2  F-002  Mercedes   Garcia    2300           IT        False\n",
       "3  F-003     Pablo   Alaves    5300           IT         True\n",
       "4  F-004   Claudia    Perez    4920           HR         True\n",
       "5  C-002    Miguel    Solis    5000        Sales        False"
      ]
     },
     "execution_count": 73,
     "metadata": {},
     "output_type": "execute_result"
    }
   ],
   "source": [
    "# Podemos seleccionar el indice desde una columna de mi dataframe\n",
    "\n",
    "#Tengo un diccionario con empleados\n",
    "diccionario_empleados = {\n",
    "  \"ID\":[\"F-001\",\"C-001\",\"F-002\",\"F-003\",\"F-004\",\"C-002\"],\n",
    "  \"Nombre\":[\"Andres\",\"Sofia\",\"Mercedes\",\"Pablo\",\"Claudia\",\"Miguel\"],\n",
    "  \"Apellido\":[\"Muñoz\",\"Cerves\",\"Garcia\",\"Alaves\",\"Perez\",\"Solis\"],\n",
    "  \"Sueldo\":[4500,6000,2300,5300,4920,5000],\n",
    "  \"Departamento\":[\"IT\",\"Sales\",\"IT\",\"IT\",\"HR\",\"Sales\"],\n",
    "  \"Facturacion\":[True,True,False,True,True,False]\n",
    "}\n",
    "\n",
    "df_empleado2 = pd.DataFrame(diccionario_empleados)\n",
    "df_empleado2"
   ]
  },
  {
   "cell_type": "code",
   "execution_count": 74,
   "id": "9e124c18-bd62-4f57-81fb-d3daf33712cc",
   "metadata": {},
   "outputs": [
    {
     "data": {
      "text/html": [
       "<div>\n",
       "<style scoped>\n",
       "    .dataframe tbody tr th:only-of-type {\n",
       "        vertical-align: middle;\n",
       "    }\n",
       "\n",
       "    .dataframe tbody tr th {\n",
       "        vertical-align: top;\n",
       "    }\n",
       "\n",
       "    .dataframe thead th {\n",
       "        text-align: right;\n",
       "    }\n",
       "</style>\n",
       "<table border=\"1\" class=\"dataframe\">\n",
       "  <thead>\n",
       "    <tr style=\"text-align: right;\">\n",
       "      <th></th>\n",
       "      <th>Nombre</th>\n",
       "      <th>Apellido</th>\n",
       "      <th>Sueldo</th>\n",
       "      <th>Departamento</th>\n",
       "      <th>Facturacion</th>\n",
       "    </tr>\n",
       "    <tr>\n",
       "      <th>ID</th>\n",
       "      <th></th>\n",
       "      <th></th>\n",
       "      <th></th>\n",
       "      <th></th>\n",
       "      <th></th>\n",
       "    </tr>\n",
       "  </thead>\n",
       "  <tbody>\n",
       "    <tr>\n",
       "      <th>F-001</th>\n",
       "      <td>Andres</td>\n",
       "      <td>Muñoz</td>\n",
       "      <td>4500</td>\n",
       "      <td>IT</td>\n",
       "      <td>True</td>\n",
       "    </tr>\n",
       "    <tr>\n",
       "      <th>C-001</th>\n",
       "      <td>Sofia</td>\n",
       "      <td>Cerves</td>\n",
       "      <td>6000</td>\n",
       "      <td>Sales</td>\n",
       "      <td>True</td>\n",
       "    </tr>\n",
       "    <tr>\n",
       "      <th>F-002</th>\n",
       "      <td>Mercedes</td>\n",
       "      <td>Garcia</td>\n",
       "      <td>2300</td>\n",
       "      <td>IT</td>\n",
       "      <td>False</td>\n",
       "    </tr>\n",
       "    <tr>\n",
       "      <th>F-003</th>\n",
       "      <td>Pablo</td>\n",
       "      <td>Alaves</td>\n",
       "      <td>5300</td>\n",
       "      <td>IT</td>\n",
       "      <td>True</td>\n",
       "    </tr>\n",
       "    <tr>\n",
       "      <th>F-004</th>\n",
       "      <td>Claudia</td>\n",
       "      <td>Perez</td>\n",
       "      <td>4920</td>\n",
       "      <td>HR</td>\n",
       "      <td>True</td>\n",
       "    </tr>\n",
       "    <tr>\n",
       "      <th>C-002</th>\n",
       "      <td>Miguel</td>\n",
       "      <td>Solis</td>\n",
       "      <td>5000</td>\n",
       "      <td>Sales</td>\n",
       "      <td>False</td>\n",
       "    </tr>\n",
       "  </tbody>\n",
       "</table>\n",
       "</div>"
      ],
      "text/plain": [
       "         Nombre Apellido  Sueldo Departamento  Facturacion\n",
       "ID                                                        \n",
       "F-001    Andres    Muñoz    4500           IT         True\n",
       "C-001     Sofia   Cerves    6000        Sales         True\n",
       "F-002  Mercedes   Garcia    2300           IT        False\n",
       "F-003     Pablo   Alaves    5300           IT         True\n",
       "F-004   Claudia    Perez    4920           HR         True\n",
       "C-002    Miguel    Solis    5000        Sales        False"
      ]
     },
     "execution_count": 74,
     "metadata": {},
     "output_type": "execute_result"
    }
   ],
   "source": [
    "\n",
    "df_empleado2.set_index(\"ID\", inplace=True)\n",
    "df_empleado2"
   ]
  },
  {
   "cell_type": "markdown",
   "id": "a99df3ad-7884-47d6-a3cc-b89c0fcd405a",
   "metadata": {},
   "source": [
    "## Ejercicio 1.4\n",
    "\n",
    "como renombrar columnas e indices en dataframe"
   ]
  },
  {
   "cell_type": "code",
   "execution_count": 75,
   "id": "174921f0-7e30-4f80-b8a1-2d4d71a787b4",
   "metadata": {},
   "outputs": [
    {
     "data": {
      "text/plain": [
       "{'marca': ['Ford',\n",
       "  'Toyota',\n",
       "  'Audi',\n",
       "  'Ford',\n",
       "  'Ford',\n",
       "  'Renault',\n",
       "  'Chevrolet',\n",
       "  'Ford',\n",
       "  'Ford',\n",
       "  'Volkswagen',\n",
       "  'Honda',\n",
       "  'BMW',\n",
       "  'Mercedes-Benz',\n",
       "  'Ford',\n",
       "  'Ford'],\n",
       " 'modelo': ['Focus',\n",
       "  'Hilux',\n",
       "  'A3',\n",
       "  'Mustang',\n",
       "  'F-100',\n",
       "  'Cactus',\n",
       "  'Spark',\n",
       "  'Escape',\n",
       "  'Explorer',\n",
       "  'Gol',\n",
       "  'Civic',\n",
       "  'X5',\n",
       "  'Clase C',\n",
       "  'Ranger',\n",
       "  'Fusion'],\n",
       " 'precio': [3000,\n",
       "  10000,\n",
       "  10000,\n",
       "  20000,\n",
       "  2000,\n",
       "  3500,\n",
       "  4000,\n",
       "  18000,\n",
       "  25000,\n",
       "  6000,\n",
       "  8000,\n",
       "  15000,\n",
       "  12000,\n",
       "  22000,\n",
       "  17000],\n",
       " '0Km': [True,\n",
       "  True,\n",
       "  True,\n",
       "  True,\n",
       "  False,\n",
       "  True,\n",
       "  False,\n",
       "  True,\n",
       "  False,\n",
       "  True,\n",
       "  True,\n",
       "  True,\n",
       "  False,\n",
       "  True,\n",
       "  False]}"
      ]
     },
     "execution_count": 75,
     "metadata": {},
     "output_type": "execute_result"
    }
   ],
   "source": [
    "dict_concesionaria = {\n",
    "    'marca': ['Ford','Toyota','Audi','Ford','Ford','Renault','Chevrolet','Ford','Ford','Volkswagen','Honda','BMW','Mercedes-Benz','Ford','Ford'],\n",
    "    'modelo': ['Focus','Hilux','A3','Mustang','F-100','Cactus','Spark','Escape','Explorer','Gol','Civic','X5','Clase C','Ranger','Fusion'],\n",
    "    'precio': [3000,10000,10000,20000,2000,3500,4000,18000,25000,6000,8000,15000,12000,22000,17000],\n",
    "    '0Km': [True,True,True,True,False,True,False,True,False,True,True,True,False,True,False]\n",
    "  }\n",
    "dict_concesionaria"
   ]
  },
  {
   "cell_type": "code",
   "execution_count": 76,
   "id": "39b0fb2d-65c4-4496-8b4c-eacaee1b2a8a",
   "metadata": {},
   "outputs": [
    {
     "data": {
      "text/html": [
       "<div>\n",
       "<style scoped>\n",
       "    .dataframe tbody tr th:only-of-type {\n",
       "        vertical-align: middle;\n",
       "    }\n",
       "\n",
       "    .dataframe tbody tr th {\n",
       "        vertical-align: top;\n",
       "    }\n",
       "\n",
       "    .dataframe thead th {\n",
       "        text-align: right;\n",
       "    }\n",
       "</style>\n",
       "<table border=\"1\" class=\"dataframe\">\n",
       "  <thead>\n",
       "    <tr style=\"text-align: right;\">\n",
       "      <th></th>\n",
       "      <th>marca</th>\n",
       "      <th>modelo</th>\n",
       "      <th>precio</th>\n",
       "      <th>0Km</th>\n",
       "    </tr>\n",
       "  </thead>\n",
       "  <tbody>\n",
       "    <tr>\n",
       "      <th>0</th>\n",
       "      <td>Ford</td>\n",
       "      <td>Focus</td>\n",
       "      <td>3000</td>\n",
       "      <td>True</td>\n",
       "    </tr>\n",
       "    <tr>\n",
       "      <th>1</th>\n",
       "      <td>Toyota</td>\n",
       "      <td>Hilux</td>\n",
       "      <td>10000</td>\n",
       "      <td>True</td>\n",
       "    </tr>\n",
       "    <tr>\n",
       "      <th>2</th>\n",
       "      <td>Audi</td>\n",
       "      <td>A3</td>\n",
       "      <td>10000</td>\n",
       "      <td>True</td>\n",
       "    </tr>\n",
       "    <tr>\n",
       "      <th>3</th>\n",
       "      <td>Ford</td>\n",
       "      <td>Mustang</td>\n",
       "      <td>20000</td>\n",
       "      <td>True</td>\n",
       "    </tr>\n",
       "    <tr>\n",
       "      <th>4</th>\n",
       "      <td>Ford</td>\n",
       "      <td>F-100</td>\n",
       "      <td>2000</td>\n",
       "      <td>False</td>\n",
       "    </tr>\n",
       "    <tr>\n",
       "      <th>5</th>\n",
       "      <td>Renault</td>\n",
       "      <td>Cactus</td>\n",
       "      <td>3500</td>\n",
       "      <td>True</td>\n",
       "    </tr>\n",
       "    <tr>\n",
       "      <th>6</th>\n",
       "      <td>Chevrolet</td>\n",
       "      <td>Spark</td>\n",
       "      <td>4000</td>\n",
       "      <td>False</td>\n",
       "    </tr>\n",
       "    <tr>\n",
       "      <th>7</th>\n",
       "      <td>Ford</td>\n",
       "      <td>Escape</td>\n",
       "      <td>18000</td>\n",
       "      <td>True</td>\n",
       "    </tr>\n",
       "    <tr>\n",
       "      <th>8</th>\n",
       "      <td>Ford</td>\n",
       "      <td>Explorer</td>\n",
       "      <td>25000</td>\n",
       "      <td>False</td>\n",
       "    </tr>\n",
       "    <tr>\n",
       "      <th>9</th>\n",
       "      <td>Volkswagen</td>\n",
       "      <td>Gol</td>\n",
       "      <td>6000</td>\n",
       "      <td>True</td>\n",
       "    </tr>\n",
       "    <tr>\n",
       "      <th>10</th>\n",
       "      <td>Honda</td>\n",
       "      <td>Civic</td>\n",
       "      <td>8000</td>\n",
       "      <td>True</td>\n",
       "    </tr>\n",
       "    <tr>\n",
       "      <th>11</th>\n",
       "      <td>BMW</td>\n",
       "      <td>X5</td>\n",
       "      <td>15000</td>\n",
       "      <td>True</td>\n",
       "    </tr>\n",
       "    <tr>\n",
       "      <th>12</th>\n",
       "      <td>Mercedes-Benz</td>\n",
       "      <td>Clase C</td>\n",
       "      <td>12000</td>\n",
       "      <td>False</td>\n",
       "    </tr>\n",
       "    <tr>\n",
       "      <th>13</th>\n",
       "      <td>Ford</td>\n",
       "      <td>Ranger</td>\n",
       "      <td>22000</td>\n",
       "      <td>True</td>\n",
       "    </tr>\n",
       "    <tr>\n",
       "      <th>14</th>\n",
       "      <td>Ford</td>\n",
       "      <td>Fusion</td>\n",
       "      <td>17000</td>\n",
       "      <td>False</td>\n",
       "    </tr>\n",
       "  </tbody>\n",
       "</table>\n",
       "</div>"
      ],
      "text/plain": [
       "            marca    modelo  precio    0Km\n",
       "0            Ford     Focus    3000   True\n",
       "1          Toyota     Hilux   10000   True\n",
       "2            Audi        A3   10000   True\n",
       "3            Ford   Mustang   20000   True\n",
       "4            Ford     F-100    2000  False\n",
       "5         Renault    Cactus    3500   True\n",
       "6       Chevrolet     Spark    4000  False\n",
       "7            Ford    Escape   18000   True\n",
       "8            Ford  Explorer   25000  False\n",
       "9      Volkswagen       Gol    6000   True\n",
       "10          Honda     Civic    8000   True\n",
       "11            BMW        X5   15000   True\n",
       "12  Mercedes-Benz   Clase C   12000  False\n",
       "13           Ford    Ranger   22000   True\n",
       "14           Ford    Fusion   17000  False"
      ]
     },
     "execution_count": 76,
     "metadata": {},
     "output_type": "execute_result"
    }
   ],
   "source": [
    "df_conce = pd.DataFrame(dict_concesionaria)\n",
    "df_conce"
   ]
  },
  {
   "cell_type": "markdown",
   "id": "0c7bbac8-79f9-4703-aeea-d4e59b4e49bc",
   "metadata": {},
   "source": [
    "### Podemos cambiar todos los nombres de las columnas\n"
   ]
  },
  {
   "cell_type": "code",
   "execution_count": 77,
   "id": "f3c4ae8a-5c96-44df-a026-ea2af8223578",
   "metadata": {},
   "outputs": [
    {
     "data": {
      "text/html": [
       "<div>\n",
       "<style scoped>\n",
       "    .dataframe tbody tr th:only-of-type {\n",
       "        vertical-align: middle;\n",
       "    }\n",
       "\n",
       "    .dataframe tbody tr th {\n",
       "        vertical-align: top;\n",
       "    }\n",
       "\n",
       "    .dataframe thead th {\n",
       "        text-align: right;\n",
       "    }\n",
       "</style>\n",
       "<table border=\"1\" class=\"dataframe\">\n",
       "  <thead>\n",
       "    <tr style=\"text-align: right;\">\n",
       "      <th></th>\n",
       "      <th>marca</th>\n",
       "      <th>modelo</th>\n",
       "      <th>precio</th>\n",
       "      <th>0Km</th>\n",
       "    </tr>\n",
       "  </thead>\n",
       "  <tbody>\n",
       "    <tr>\n",
       "      <th>0</th>\n",
       "      <td>Ford</td>\n",
       "      <td>Focus</td>\n",
       "      <td>3000</td>\n",
       "      <td>True</td>\n",
       "    </tr>\n",
       "    <tr>\n",
       "      <th>1</th>\n",
       "      <td>Toyota</td>\n",
       "      <td>Hilux</td>\n",
       "      <td>10000</td>\n",
       "      <td>True</td>\n",
       "    </tr>\n",
       "    <tr>\n",
       "      <th>2</th>\n",
       "      <td>Audi</td>\n",
       "      <td>A3</td>\n",
       "      <td>10000</td>\n",
       "      <td>True</td>\n",
       "    </tr>\n",
       "    <tr>\n",
       "      <th>3</th>\n",
       "      <td>Ford</td>\n",
       "      <td>Mustang</td>\n",
       "      <td>20000</td>\n",
       "      <td>True</td>\n",
       "    </tr>\n",
       "    <tr>\n",
       "      <th>4</th>\n",
       "      <td>Ford</td>\n",
       "      <td>F-100</td>\n",
       "      <td>2000</td>\n",
       "      <td>False</td>\n",
       "    </tr>\n",
       "  </tbody>\n",
       "</table>\n",
       "</div>"
      ],
      "text/plain": [
       "    marca   modelo  precio    0Km\n",
       "0    Ford    Focus    3000   True\n",
       "1  Toyota    Hilux   10000   True\n",
       "2    Audi       A3   10000   True\n",
       "3    Ford  Mustang   20000   True\n",
       "4    Ford    F-100    2000  False"
      ]
     },
     "execution_count": 77,
     "metadata": {},
     "output_type": "execute_result"
    }
   ],
   "source": [
    "df_conce.head()"
   ]
  },
  {
   "cell_type": "markdown",
   "id": "e00d2526-c801-4ee9-936d-0b42083ba8a9",
   "metadata": {},
   "source": [
    "## Ejercicio 1.5\n",
    "\n",
    "como agregar o concatenarelementos a un dataframe"
   ]
  },
  {
   "cell_type": "code",
   "execution_count": 78,
   "id": "cd98057f-5672-4f4b-8e0d-33f3b810b1c7",
   "metadata": {},
   "outputs": [
    {
     "data": {
      "text/plain": [
       "(15, 4)"
      ]
     },
     "execution_count": 78,
     "metadata": {},
     "output_type": "execute_result"
    }
   ],
   "source": [
    "df_conce.shape #tenemos 15 filas y 4 columnas"
   ]
  },
  {
   "cell_type": "code",
   "execution_count": null,
   "id": "2e42a260-5778-4e46-8517-508b3e9583f2",
   "metadata": {},
   "outputs": [],
   "source": []
  }
 ],
 "metadata": {
  "kernelspec": {
   "display_name": "Python 3 (ipykernel)",
   "language": "python",
   "name": "python3"
  },
  "language_info": {
   "codemirror_mode": {
    "name": "ipython",
    "version": 3
   },
   "file_extension": ".py",
   "mimetype": "text/x-python",
   "name": "python",
   "nbconvert_exporter": "python",
   "pygments_lexer": "ipython3",
   "version": "3.10.13"
  }
 },
 "nbformat": 4,
 "nbformat_minor": 5
}
