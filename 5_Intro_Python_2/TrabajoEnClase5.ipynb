{
  "nbformat": 4,
  "nbformat_minor": 0,
  "metadata": {
    "colab": {
      "provenance": []
    },
    "kernelspec": {
      "name": "python3",
      "display_name": "Python 3"
    },
    "language_info": {
      "name": "python"
    }
  },
  "cells": [
    {
      "cell_type": "code",
      "execution_count": null,
      "metadata": {
        "id": "5WIZXjFSyBah"
      },
      "outputs": [],
      "source": []
    },
    {
      "cell_type": "markdown",
      "source": [
        "IF ELSE ELIF"
      ],
      "metadata": {
        "id": "OlmxqMwGyMvh"
      }
    },
    {
      "cell_type": "markdown",
      "source": [
        "##Ejercicio 1.0\n"
      ],
      "metadata": {
        "id": "ywaF5GYpy8uh"
      }
    },
    {
      "cell_type": "markdown",
      "source": [
        "Demostracion de if en Python\n",
        "\n",
        "\n",
        "\n",
        "\n",
        "\n",
        "            "
      ],
      "metadata": {
        "id": "AVgMJQGdzDyo"
      }
    },
    {
      "cell_type": "code",
      "source": [
        "var_de_prueba = 5\n",
        "\n",
        "if var_de_prueba > 0 :\n",
        "  print(\"La venta dio ganancias\")\n"
      ],
      "metadata": {
        "colab": {
          "base_uri": "https://localhost:8080/"
        },
        "id": "y_9ojxXpzXUn",
        "outputId": "1dd67f35-1a4b-408f-d0da-efa35bf12405"
      },
      "execution_count": 1,
      "outputs": [
        {
          "output_type": "stream",
          "name": "stdout",
          "text": [
            "La venta dio ganancias\n"
          ]
        }
      ]
    },
    {
      "cell_type": "markdown",
      "source": [
        "##Ejercicio 1.1"
      ],
      "metadata": {
        "id": "vi-6xEatz-WY"
      }
    },
    {
      "cell_type": "code",
      "source": [
        "var_edad = 10\n",
        "mayoria_edad = 18\n",
        "\n",
        "if var_edad >= mayoria_edad :\n",
        "  print(\"Usted es mayor de edad\")"
      ],
      "metadata": {
        "id": "LQ5nbh8x1ICE"
      },
      "execution_count": 2,
      "outputs": []
    },
    {
      "cell_type": "markdown",
      "source": [],
      "metadata": {
        "id": "B0hqWv6G1W7U"
      }
    },
    {
      "cell_type": "markdown",
      "source": [
        "##Ejercicio 1.2"
      ],
      "metadata": {
        "id": "tRKIVEUv1YIU"
      }
    },
    {
      "cell_type": "code",
      "source": [
        "edad_votante = 4\n",
        "edad_min_voto = 16\n",
        "\n",
        "if edad_votante >= edad_min_voto :\n",
        "  print(\"usted puede votar\")\n",
        "else:\n",
        "  print(\"es menor de edad\")"
      ],
      "metadata": {
        "colab": {
          "base_uri": "https://localhost:8080/"
        },
        "id": "jivgsEuk1bJd",
        "outputId": "11735b9f-e7cb-4e84-9659-92c3e510f50b"
      },
      "execution_count": 3,
      "outputs": [
        {
          "output_type": "stream",
          "name": "stdout",
          "text": [
            "es menor de edad\n"
          ]
        }
      ]
    },
    {
      "cell_type": "markdown",
      "source": [
        "##Ejercicio 1.3 (booleanos con if)"
      ],
      "metadata": {
        "id": "rASvzSeI3V58"
      }
    },
    {
      "cell_type": "code",
      "source": [
        "es_profe = True\n",
        "\n",
        "if es_profe == True :\n",
        "  print(\"bienvenido profe!!\")\n",
        "else :\n",
        "  print(\"bienvenido alumno\")"
      ],
      "metadata": {
        "colab": {
          "base_uri": "https://localhost:8080/"
        },
        "id": "lnk3s4gm3X-K",
        "outputId": "c7a17738-b28a-41e1-c2ec-96ef318f1143"
      },
      "execution_count": 4,
      "outputs": [
        {
          "output_type": "stream",
          "name": "stdout",
          "text": [
            "bienvenido profe!!\n"
          ]
        }
      ]
    },
    {
      "cell_type": "markdown",
      "source": [
        "##Ejercicio 1.4 (Con python al trabajar con booleanos en los if podemos aplicar un truquito para reducir el código)"
      ],
      "metadata": {
        "id": "uHdLRZc27r2h"
      }
    },
    {
      "cell_type": "code",
      "source": [
        "coordinador = True\n",
        "\n",
        "if coordinador:\n",
        "  print(\"Buenos dias coordinador\")\n",
        "else:\n",
        "  print(\"Usted no es el coordinador\")"
      ],
      "metadata": {
        "colab": {
          "base_uri": "https://localhost:8080/"
        },
        "id": "xNheYqYA7w5z",
        "outputId": "21dbf7cd-7440-4cc9-ee90-7529d7425d2c"
      },
      "execution_count": 5,
      "outputs": [
        {
          "output_type": "stream",
          "name": "stdout",
          "text": [
            "Buenos dias coordinador\n"
          ]
        }
      ]
    },
    {
      "cell_type": "markdown",
      "source": [
        "##Ejercicio 1.5 ( if en conjunto con strings)"
      ],
      "metadata": {
        "id": "mtjkG08l9LsZ"
      }
    },
    {
      "cell_type": "code",
      "source": [
        "nacionalidad = \"Argentina\"\n",
        "\n",
        "if nacionalidad == \"argentina\" :\n",
        "  print(\"Usted es Argentino\")\n",
        "else:\n",
        "  print(\"Usted no es Argentino\")"
      ],
      "metadata": {
        "colab": {
          "base_uri": "https://localhost:8080/"
        },
        "id": "L8WPrLZy9N1B",
        "outputId": "d510f79e-a70d-4b13-acf5-0b8da1918520"
      },
      "execution_count": 6,
      "outputs": [
        {
          "output_type": "stream",
          "name": "stdout",
          "text": [
            "Usted no es Argentino\n"
          ]
        }
      ]
    },
    {
      "cell_type": "markdown",
      "source": [
        "##Ejercicio 1.6"
      ],
      "metadata": {
        "id": "ejJkXYG15-Gp"
      }
    },
    {
      "cell_type": "code",
      "source": [
        "color_ingresado = \"amarillo\"\n",
        "\n",
        "if color_ingresado == \"azul\" :\n",
        "  print(\"Usted selecciono un color primario :\", color_ingresado)\n",
        "elif color_ingresado == \"rojo\" :\n",
        "  print(\"Usted selecciono un color primario :\", color_ingresado)\n",
        "elif color_ingresado == \"amarillo\" :\n",
        "  print(\"Usted selecciono un color primario :\", color_ingresado)\n",
        "else:\n",
        "  print(\"Usted no selecciono un color primario :\", color_ingresado)\n",
        "\n"
      ],
      "metadata": {
        "colab": {
          "base_uri": "https://localhost:8080/"
        },
        "id": "d1FwJ6KU6BGu",
        "outputId": "6faefdba-7115-47db-d518-06860a850506"
      },
      "execution_count": 7,
      "outputs": [
        {
          "output_type": "stream",
          "name": "stdout",
          "text": [
            "Usted selecciono un color primario : amarillo\n"
          ]
        }
      ]
    },
    {
      "cell_type": "markdown",
      "source": [
        "##Ejercicio 1.7 (operadores logicos) \"&\" (and)"
      ],
      "metadata": {
        "id": "le3IH3L8ARc-"
      }
    },
    {
      "cell_type": "code",
      "source": [
        "edad = 50\n",
        "genero = \"H\"\n",
        "\n",
        "if (genero == \"H\") & (edad >= 65):\n",
        "  print(\"Usted se puede jubilar\")\n",
        "elif (genero == \"M\") & (edad >=62):\n",
        "  print(\"Usted se puede jubilar\")\n",
        "else:\n",
        "  print(\"Usted No se puede jubilar\")"
      ],
      "metadata": {
        "colab": {
          "base_uri": "https://localhost:8080/"
        },
        "id": "-YWlbTerAZHd",
        "outputId": "39991344-4687-40ae-8747-d61ec468f2ab"
      },
      "execution_count": 8,
      "outputs": [
        {
          "output_type": "stream",
          "name": "stdout",
          "text": [
            "Usted No se puede jubilar\n"
          ]
        }
      ]
    },
    {
      "cell_type": "markdown",
      "source": [
        "##Ejercicio 1.8 (operadores logicos) \"|\" (or)"
      ],
      "metadata": {
        "id": "62fOHWq3CGpo"
      }
    },
    {
      "cell_type": "code",
      "source": [
        "cargo = \"profesor\"\n",
        "\n",
        "if (cargo == \"profesor\") | (cargo == \"coodinador\"):\n",
        "  print(\"Usted tiene privilegios de admin en Slack\")\n",
        "else:\n",
        "  print(\"Usted es invitado, no tiene privilegios\")"
      ],
      "metadata": {
        "colab": {
          "base_uri": "https://localhost:8080/"
        },
        "id": "wGExNMi8CGL4",
        "outputId": "52d804be-07ab-4160-9f0d-709fa0182810"
      },
      "execution_count": 9,
      "outputs": [
        {
          "output_type": "stream",
          "name": "stdout",
          "text": [
            "Usted tiene privilegios de admin en Slack\n"
          ]
        }
      ]
    },
    {
      "cell_type": "markdown",
      "source": [
        "# Funciones nativas\n"
      ],
      "metadata": {
        "id": "J0uqkNNODMrA"
      }
    },
    {
      "cell_type": "markdown",
      "source": [
        "##print()"
      ],
      "metadata": {
        "id": "HUR2dxyTDfGW"
      }
    },
    {
      "cell_type": "code",
      "source": [
        "edad = 15\n",
        "nombre = \"jose\"\n",
        "\n",
        "print(\"el alumno\" , nombre, \"\\ntiene\", edad, \"anios\")"
      ],
      "metadata": {
        "colab": {
          "base_uri": "https://localhost:8080/"
        },
        "id": "7B_i4knYDZk-",
        "outputId": "8e6c0e07-cc91-409a-e52b-9cf88846d33e"
      },
      "execution_count": 10,
      "outputs": [
        {
          "output_type": "stream",
          "name": "stdout",
          "text": [
            "el alumno jose \n",
            "tiene 15 anios\n"
          ]
        }
      ]
    },
    {
      "cell_type": "markdown",
      "source": [
        "##type()"
      ],
      "metadata": {
        "id": "Cf6-C_BoEG7N"
      }
    },
    {
      "cell_type": "code",
      "source": [
        "type(nombre)"
      ],
      "metadata": {
        "colab": {
          "base_uri": "https://localhost:8080/"
        },
        "id": "4zs62ckUETkN",
        "outputId": "48241b23-c321-491e-babf-cf3ec8b5c836"
      },
      "execution_count": 11,
      "outputs": [
        {
          "output_type": "execute_result",
          "data": {
            "text/plain": [
              "str"
            ]
          },
          "metadata": {},
          "execution_count": 11
        }
      ]
    },
    {
      "cell_type": "code",
      "source": [
        "type(edad)"
      ],
      "metadata": {
        "colab": {
          "base_uri": "https://localhost:8080/"
        },
        "id": "_67V4efLEcz1",
        "outputId": "422256c3-d962-4c78-a077-0fabdf3299b1"
      },
      "execution_count": 12,
      "outputs": [
        {
          "output_type": "execute_result",
          "data": {
            "text/plain": [
              "int"
            ]
          },
          "metadata": {},
          "execution_count": 12
        }
      ]
    },
    {
      "cell_type": "markdown",
      "source": [
        "##Format() \"permite dar formato a un string\""
      ],
      "metadata": {
        "id": "-o3pP_7MEuqM"
      }
    },
    {
      "cell_type": "code",
      "source": [
        "nombre_alumno = \"Andres\"\n",
        "nota_examen = 10\n",
        "materia = \"PHP\"\n",
        "\n",
        "mensaje = \"El alumno {} se saco un {} en el examen de {}\".format(nombre_alumno,nota_examen,materia)\n",
        "mensaje\n",
        "\n",
        "\n",
        "\n"
      ],
      "metadata": {
        "id": "rxkn-Xd9EycE",
        "colab": {
          "base_uri": "https://localhost:8080/",
          "height": 35
        },
        "outputId": "93650d8d-987d-49c3-8e35-a37bf1d5d917"
      },
      "execution_count": 13,
      "outputs": [
        {
          "output_type": "execute_result",
          "data": {
            "text/plain": [
              "'El alumno Andres se saco un 10 en el examen de PHP'"
            ],
            "application/vnd.google.colaboratory.intrinsic+json": {
              "type": "string"
            }
          },
          "metadata": {},
          "execution_count": 13
        }
      ]
    },
    {
      "cell_type": "markdown",
      "source": [
        "#input()"
      ],
      "metadata": {
        "id": "h4kMKalz0W7S"
      }
    },
    {
      "cell_type": "code",
      "source": [
        "usuario = input(\"Por favor ingrese su usuario : \")\n",
        "\n",
        "print(\"Bienvenido Sr :\", usuario)"
      ],
      "metadata": {
        "colab": {
          "base_uri": "https://localhost:8080/"
        },
        "id": "w57e8LpX0ole",
        "outputId": "696d191b-b364-438c-aa3e-2468553ecd1d"
      },
      "execution_count": 14,
      "outputs": [
        {
          "output_type": "stream",
          "name": "stdout",
          "text": [
            "Por favor ingrese su usuario : Leonel Messi\n",
            "Bienvenido Sr : Leonel Messi\n"
          ]
        }
      ]
    },
    {
      "cell_type": "markdown",
      "source": [
        "#Round() \"permite redondear al numero decimal deseado"
      ],
      "metadata": {
        "id": "3NRvbfBcG7ab"
      }
    },
    {
      "cell_type": "code",
      "source": [
        "numero_decimal_4_cifras = 2.1321\n",
        "\n",
        "numero_decimal_2_cifras = round(numero_decimal_4_cifras,2)\n",
        "\n",
        "numero_decimal_2_cifras, type(numero_decimal_2_cifras)\n",
        "\n"
      ],
      "metadata": {
        "id": "RWOYuPi7G-jt",
        "colab": {
          "base_uri": "https://localhost:8080/"
        },
        "outputId": "5711e0ba-562d-4c7b-9e14-7b7dc5517d8a"
      },
      "execution_count": 15,
      "outputs": [
        {
          "output_type": "execute_result",
          "data": {
            "text/plain": [
              "(2.13, float)"
            ]
          },
          "metadata": {},
          "execution_count": 15
        }
      ]
    },
    {
      "cell_type": "code",
      "source": [
        "numero_decimal = 6.76\n",
        "\n",
        "numero_sin_decimal = round(numero_decimal,0)\n",
        "\n",
        "numero_sin_decimal, type(numero_sin_decimal)\n",
        "\n"
      ],
      "metadata": {
        "colab": {
          "base_uri": "https://localhost:8080/"
        },
        "id": "refh_FL_4duB",
        "outputId": "99c3a6ba-f343-4312-e0a1-3800e5bb0cfe"
      },
      "execution_count": 16,
      "outputs": [
        {
          "output_type": "execute_result",
          "data": {
            "text/plain": [
              "(7.0, float)"
            ]
          },
          "metadata": {},
          "execution_count": 16
        }
      ]
    },
    {
      "cell_type": "markdown",
      "source": [
        "# int + round"
      ],
      "metadata": {
        "id": "cwBNPBrs5kBH"
      }
    },
    {
      "cell_type": "code",
      "source": [
        "numero_decimal = 6.76\n",
        "\n",
        "numero_entero = int(round(numero_decimal))\n",
        "\n",
        "numero_entero, type(numero_entero)"
      ],
      "metadata": {
        "colab": {
          "base_uri": "https://localhost:8080/"
        },
        "id": "UmSwq2O-5BFZ",
        "outputId": "b7e3e179-bd2d-4308-aa7b-fadf8c6a6e97"
      },
      "execution_count": 17,
      "outputs": [
        {
          "output_type": "execute_result",
          "data": {
            "text/plain": [
              "(7, int)"
            ]
          },
          "metadata": {},
          "execution_count": 17
        }
      ]
    },
    {
      "cell_type": "markdown",
      "source": [
        "# Tarea"
      ],
      "metadata": {
        "id": "HWQ7iMR16TOt"
      }
    },
    {
      "cell_type": "markdown",
      "source": [
        "**str()**  se usa para convertir un valor a una cadena de texto (string)"
      ],
      "metadata": {
        "id": "h919Ujns6bgH"
      }
    },
    {
      "cell_type": "code",
      "source": [
        "numero = 432\n",
        "\n",
        "texto = str(numero)\n",
        "\n",
        "print(texto)"
      ],
      "metadata": {
        "colab": {
          "base_uri": "https://localhost:8080/"
        },
        "id": "K_q8FJFt6Syr",
        "outputId": "b3b60388-7280-4813-ab2a-cb6414b22a32"
      },
      "execution_count": 18,
      "outputs": [
        {
          "output_type": "stream",
          "name": "stdout",
          "text": [
            "432\n"
          ]
        }
      ]
    },
    {
      "cell_type": "markdown",
      "source": [
        "**int()** se usa para convertir un valor a un entero (integer)"
      ],
      "metadata": {
        "id": "qNqxyxQr6xt-"
      }
    },
    {
      "cell_type": "code",
      "source": [
        "mi_flotante = 15.32\n",
        "\n",
        "entero = int(mi_flotante)\n",
        "\n",
        "print(entero)"
      ],
      "metadata": {
        "colab": {
          "base_uri": "https://localhost:8080/"
        },
        "id": "cPYgRypPDDQt",
        "outputId": "ce3e9f06-5491-4e42-8257-749460384e2c"
      },
      "execution_count": 19,
      "outputs": [
        {
          "output_type": "stream",
          "name": "stdout",
          "text": [
            "15\n"
          ]
        }
      ]
    },
    {
      "cell_type": "markdown",
      "source": [
        "**float** se usa para convertir un valor a un número de punto flotante"
      ],
      "metadata": {
        "id": "ulYDmcfy7eGb"
      }
    },
    {
      "cell_type": "code",
      "source": [
        "cadena = \"12.34\"\n",
        "flotante = float(cadena)\n",
        "print(flotante)"
      ],
      "metadata": {
        "colab": {
          "base_uri": "https://localhost:8080/"
        },
        "id": "SzDwXzuwEMCL",
        "outputId": "3044ac03-c8c9-4814-e173-6fe52c60a7dd"
      },
      "execution_count": 20,
      "outputs": [
        {
          "output_type": "stream",
          "name": "stdout",
          "text": [
            "12.34\n"
          ]
        }
      ]
    },
    {
      "cell_type": "markdown",
      "source": [
        "**bool()** se usa para convertir un valor a un booleano (True o False)"
      ],
      "metadata": {
        "id": "XJd8FIZj_MfV"
      }
    },
    {
      "cell_type": "code",
      "source": [
        "cadena_vacia = \"\"\n",
        "\n",
        "booleano = bool(cadena_vacia)\n",
        "print(booleano)"
      ],
      "metadata": {
        "colab": {
          "base_uri": "https://localhost:8080/"
        },
        "id": "UHJ422oM_SLJ",
        "outputId": "78fa5263-86fb-4850-902d-f10cf5baad9e"
      },
      "execution_count": 21,
      "outputs": [
        {
          "output_type": "stream",
          "name": "stdout",
          "text": [
            "False\n"
          ]
        }
      ]
    }
  ]
}