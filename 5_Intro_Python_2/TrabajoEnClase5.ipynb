{
  "nbformat": 4,
  "nbformat_minor": 0,
  "metadata": {
    "colab": {
      "provenance": []
    },
    "kernelspec": {
      "name": "python3",
      "display_name": "Python 3"
    },
    "language_info": {
      "name": "python"
    }
  },
  "cells": [
    {
      "cell_type": "code",
      "execution_count": null,
      "metadata": {
        "id": "5WIZXjFSyBah"
      },
      "outputs": [],
      "source": []
    },
    {
      "cell_type": "markdown",
      "source": [
        "IF ELSE ELIF"
      ],
      "metadata": {
        "id": "OlmxqMwGyMvh"
      }
    },
    {
      "cell_type": "markdown",
      "source": [
        "##Ejercicio 1.0\n"
      ],
      "metadata": {
        "id": "ywaF5GYpy8uh"
      }
    },
    {
      "cell_type": "markdown",
      "source": [
        "Demostracion de if en Python\n",
        "\n",
        "\n",
        "\n",
        "\n",
        "\n",
        "            "
      ],
      "metadata": {
        "id": "AVgMJQGdzDyo"
      }
    },
    {
      "cell_type": "code",
      "source": [
        "var_de_prueba = 5\n",
        "\n",
        "if var_de_prueba > 0 :\n",
        "  print(\"La venta dio ganancias\")\n"
      ],
      "metadata": {
        "colab": {
          "base_uri": "https://localhost:8080/"
        },
        "id": "y_9ojxXpzXUn",
        "outputId": "909f1a3f-c464-498f-c825-a5b27ae307c6"
      },
      "execution_count": null,
      "outputs": [
        {
          "output_type": "stream",
          "name": "stdout",
          "text": [
            "La venta dio ganancias\n"
          ]
        }
      ]
    },
    {
      "cell_type": "markdown",
      "source": [
        "##Ejercicio 1.1"
      ],
      "metadata": {
        "id": "vi-6xEatz-WY"
      }
    },
    {
      "cell_type": "code",
      "source": [
        "var_edad = 10\n",
        "mayoria_edad = 18\n",
        "\n",
        "if var_edad >= mayoria_edad :\n",
        "  print(\"Usted es mayor de edad\")"
      ],
      "metadata": {
        "id": "LQ5nbh8x1ICE"
      },
      "execution_count": null,
      "outputs": []
    },
    {
      "cell_type": "markdown",
      "source": [],
      "metadata": {
        "id": "B0hqWv6G1W7U"
      }
    },
    {
      "cell_type": "markdown",
      "source": [
        "##Ejercicio 1.2"
      ],
      "metadata": {
        "id": "tRKIVEUv1YIU"
      }
    },
    {
      "cell_type": "code",
      "source": [
        "edad_votante = 4\n",
        "edad_min_voto = 16\n",
        "\n",
        "if edad_votante >= edad_min_voto :\n",
        "  print(\"usted puede votar\")\n",
        "else:\n",
        "  print(\"es menor de edad\")"
      ],
      "metadata": {
        "colab": {
          "base_uri": "https://localhost:8080/"
        },
        "id": "jivgsEuk1bJd",
        "outputId": "ec84df4e-2f63-4026-ee9e-9c37490080f4"
      },
      "execution_count": null,
      "outputs": [
        {
          "output_type": "stream",
          "name": "stdout",
          "text": [
            "es menor de edad\n"
          ]
        }
      ]
    },
    {
      "cell_type": "markdown",
      "source": [
        "##Ejercicio 1.3 (booleanos con if)"
      ],
      "metadata": {
        "id": "rASvzSeI3V58"
      }
    },
    {
      "cell_type": "code",
      "source": [
        "es_profe = True\n",
        "\n",
        "if es_profe == True :\n",
        "  print(\"bienvenido profe!!\")\n",
        "else :\n",
        "  print(\"bienvenido alumno\")"
      ],
      "metadata": {
        "colab": {
          "base_uri": "https://localhost:8080/"
        },
        "id": "lnk3s4gm3X-K",
        "outputId": "a056928e-9f8a-4619-83aa-28402f1ed51e"
      },
      "execution_count": null,
      "outputs": [
        {
          "output_type": "stream",
          "name": "stdout",
          "text": [
            "bienvenido profe!!\n"
          ]
        }
      ]
    },
    {
      "cell_type": "markdown",
      "source": [
        "##Ejercicio 1.4 (Con python al trabajar con booleanos en los if podemos aplicar un truquito para reducir el código)"
      ],
      "metadata": {
        "id": "uHdLRZc27r2h"
      }
    },
    {
      "cell_type": "code",
      "source": [
        "coordinador = True\n",
        "\n",
        "if coordinador:\n",
        "  print(\"Buenos dias coordinador\")\n",
        "else:\n",
        "  print(\"Usted no es el coordinador\")"
      ],
      "metadata": {
        "colab": {
          "base_uri": "https://localhost:8080/"
        },
        "id": "xNheYqYA7w5z",
        "outputId": "abb1ef35-302a-4513-bf45-10e7f5adecab"
      },
      "execution_count": null,
      "outputs": [
        {
          "output_type": "stream",
          "name": "stdout",
          "text": [
            "Buenos dias coordinador\n"
          ]
        }
      ]
    },
    {
      "cell_type": "markdown",
      "source": [
        "##Ejercicio 1.5 ( if en conjunto con strings)"
      ],
      "metadata": {
        "id": "mtjkG08l9LsZ"
      }
    },
    {
      "cell_type": "code",
      "source": [
        "nacionalidad = \"Argentina\"\n",
        "\n",
        "if nacionalidad == \"argentina\" :\n",
        "  print(\"Usted es Argentino\")\n",
        "else:\n",
        "  print(\"Usted no es Argentino\")"
      ],
      "metadata": {
        "colab": {
          "base_uri": "https://localhost:8080/"
        },
        "id": "L8WPrLZy9N1B",
        "outputId": "3cccc7f2-5972-4b61-9c36-dae8e97662d1"
      },
      "execution_count": null,
      "outputs": [
        {
          "output_type": "stream",
          "name": "stdout",
          "text": [
            "Usted no es Argentino\n"
          ]
        }
      ]
    },
    {
      "cell_type": "markdown",
      "source": [
        "##Ejercicio 1.6"
      ],
      "metadata": {
        "id": "ejJkXYG15-Gp"
      }
    },
    {
      "cell_type": "code",
      "source": [
        "color_ingresado = \"amarillo\"\n",
        "\n",
        "if color_ingresado == \"azul\" :\n",
        "  print(\"Usted selecciono un color primario :\", color_ingresado)\n",
        "elif color_ingresado == \"rojo\" :\n",
        "  print(\"Usted selecciono un color primario :\", color_ingresado)\n",
        "elif color_ingresado == \"amarillo\" :\n",
        "  print(\"Usted selecciono un color primario :\", color_ingresado)\n",
        "else:\n",
        "  print(\"Usted no selecciono un color primario :\", color_ingresado)\n",
        "\n"
      ],
      "metadata": {
        "colab": {
          "base_uri": "https://localhost:8080/"
        },
        "id": "d1FwJ6KU6BGu",
        "outputId": "8e171aaf-822c-4019-e777-4ec80d8b97a0"
      },
      "execution_count": null,
      "outputs": [
        {
          "output_type": "stream",
          "name": "stdout",
          "text": [
            "Usted selecciono un color primario : amarillo\n"
          ]
        }
      ]
    },
    {
      "cell_type": "markdown",
      "source": [
        "##Ejercicio 1.7 (operadores logicos) \"&\" (and)"
      ],
      "metadata": {
        "id": "le3IH3L8ARc-"
      }
    },
    {
      "cell_type": "code",
      "source": [
        "edad = 50\n",
        "genero = \"H\"\n",
        "\n",
        "if (genero == \"H\") & (edad >= 65):\n",
        "  print(\"Usted se puede jubilar\")\n",
        "elif (genero == \"M\") & (edad >=62):\n",
        "  print(\"Usted se puede jubilar\")\n",
        "else:\n",
        "  print(\"Usted No se puede jubilar\")"
      ],
      "metadata": {
        "colab": {
          "base_uri": "https://localhost:8080/"
        },
        "id": "-YWlbTerAZHd",
        "outputId": "0db4421d-6195-4025-a61c-a3b801705817"
      },
      "execution_count": null,
      "outputs": [
        {
          "output_type": "stream",
          "name": "stdout",
          "text": [
            "Usted No se puede jubilar\n"
          ]
        }
      ]
    },
    {
      "cell_type": "markdown",
      "source": [
        "##Ejercicio 1.8 (operadores logicos) \"|\" (or)"
      ],
      "metadata": {
        "id": "62fOHWq3CGpo"
      }
    },
    {
      "cell_type": "code",
      "source": [
        "cargo = \"profesor\"\n",
        "\n",
        "if (cargo == \"profesor\") | (cargo == \"coodinador\"):\n",
        "  print(\"Usted tiene privilegios de admin en Slack\")\n",
        "else:\n",
        "  print(\"Usted es invitado, no tiene privilegios\")"
      ],
      "metadata": {
        "colab": {
          "base_uri": "https://localhost:8080/"
        },
        "id": "wGExNMi8CGL4",
        "outputId": "5028271b-f3bb-42ee-a4bd-67b63aaf3443"
      },
      "execution_count": null,
      "outputs": [
        {
          "output_type": "stream",
          "name": "stdout",
          "text": [
            "Usted tiene privilegios de admin en Slack\n"
          ]
        }
      ]
    },
    {
      "cell_type": "markdown",
      "source": [
        "# Funciones nativas\n"
      ],
      "metadata": {
        "id": "J0uqkNNODMrA"
      }
    },
    {
      "cell_type": "markdown",
      "source": [
        "##print()"
      ],
      "metadata": {
        "id": "HUR2dxyTDfGW"
      }
    },
    {
      "cell_type": "code",
      "source": [
        "edad = 15\n",
        "nombre = \"jose\"\n",
        "\n",
        "print(\"el alumno\" , nombre, \"\\ntiene\", edad, \"anios\")"
      ],
      "metadata": {
        "colab": {
          "base_uri": "https://localhost:8080/"
        },
        "id": "7B_i4knYDZk-",
        "outputId": "6baa0255-7c62-461b-9911-0fb1023c84a7"
      },
      "execution_count": null,
      "outputs": [
        {
          "output_type": "stream",
          "name": "stdout",
          "text": [
            "el alumno jose \n",
            "tiene 15 anios\n"
          ]
        }
      ]
    },
    {
      "cell_type": "markdown",
      "source": [
        "##type()"
      ],
      "metadata": {
        "id": "Cf6-C_BoEG7N"
      }
    },
    {
      "cell_type": "code",
      "source": [
        "type(nombre)"
      ],
      "metadata": {
        "colab": {
          "base_uri": "https://localhost:8080/"
        },
        "id": "4zs62ckUETkN",
        "outputId": "27c06aa6-7d0d-4b92-c67c-caadb449bf1d"
      },
      "execution_count": null,
      "outputs": [
        {
          "output_type": "execute_result",
          "data": {
            "text/plain": [
              "str"
            ]
          },
          "metadata": {},
          "execution_count": 24
        }
      ]
    },
    {
      "cell_type": "code",
      "source": [
        "type(edad)"
      ],
      "metadata": {
        "colab": {
          "base_uri": "https://localhost:8080/"
        },
        "id": "_67V4efLEcz1",
        "outputId": "322b540e-f217-4148-c600-a7ec6d9ebac9"
      },
      "execution_count": null,
      "outputs": [
        {
          "output_type": "execute_result",
          "data": {
            "text/plain": [
              "int"
            ]
          },
          "metadata": {},
          "execution_count": 25
        }
      ]
    },
    {
      "cell_type": "markdown",
      "source": [
        "##Format() \"editar string\""
      ],
      "metadata": {
        "id": "-o3pP_7MEuqM"
      }
    },
    {
      "cell_type": "code",
      "source": [
        "nombre_alumno = \"Andres\"\n",
        "nota_examen = 8\n",
        "materia = \"python\"\n",
        "\n",
        "\n"
      ],
      "metadata": {
        "id": "rxkn-Xd9EycE"
      },
      "execution_count": null,
      "outputs": []
    },
    {
      "cell_type": "markdown",
      "source": [
        "#Round()"
      ],
      "metadata": {
        "id": "3NRvbfBcG7ab"
      }
    },
    {
      "cell_type": "code",
      "source": [],
      "metadata": {
        "id": "RWOYuPi7G-jt"
      },
      "execution_count": null,
      "outputs": []
    }
  ]
}