{
  "nbformat": 4,
  "nbformat_minor": 0,
  "metadata": {
    "colab": {
      "provenance": []
    },
    "kernelspec": {
      "name": "python3",
      "display_name": "Python 3"
    },
    "language_info": {
      "name": "python"
    }
  },
  "cells": [
    {
      "cell_type": "markdown",
      "source": [
        "# Clase 6"
      ],
      "metadata": {
        "id": "FUIr5Y39gqVg"
      }
    },
    {
      "cell_type": "markdown",
      "source": [
        "## while -mientras que-"
      ],
      "metadata": {
        "id": "LfXyNgckg4qV"
      }
    },
    {
      "cell_type": "markdown",
      "source": [
        "Demo"
      ],
      "metadata": {
        "id": "q6thwd2qiWCE"
      }
    },
    {
      "cell_type": "code",
      "source": [
        "if True:\n",
        "  print(\"Hola desde un if\")"
      ],
      "metadata": {
        "colab": {
          "base_uri": "https://localhost:8080/"
        },
        "id": "fy2DjT6Qg7w1",
        "outputId": "a10ba212-f829-4fe1-e08d-f7247028ea47"
      },
      "execution_count": 1,
      "outputs": [
        {
          "output_type": "stream",
          "name": "stdout",
          "text": [
            "Hola desde un if\n"
          ]
        }
      ]
    },
    {
      "cell_type": "markdown",
      "source": [
        "Ejercicio 1.1"
      ],
      "metadata": {
        "id": "3ZIzriQ2ib84"
      }
    },
    {
      "cell_type": "code",
      "source": [
        "password = \"trx123\"\n",
        "password_ingresada = input(\"Por favor, ingrese su contrasena: \")\n",
        "\n",
        "while (password != password_ingresada) :\n",
        "  print(\"La contrasena\", password_ingresada,\"es incorrecta..re intente por favor\")\n",
        "  password_ingresada = input(\"Ingrese su contrasena nuevamente: \")"
      ],
      "metadata": {
        "colab": {
          "base_uri": "https://localhost:8080/"
        },
        "id": "np7VdRCVioeq",
        "outputId": "76c6b5ea-1986-4f28-9bc1-d5ff0bfbb85e"
      },
      "execution_count": 2,
      "outputs": [
        {
          "name": "stdout",
          "output_type": "stream",
          "text": [
            "Por favor, ingrese su contrasena: Carlos\n",
            "La contrasena Carlos es incorrecta..re intente por favor\n",
            "Ingrese su contrasena nuevamente: trx123\n"
          ]
        }
      ]
    },
    {
      "cell_type": "markdown",
      "source": [
        "Ejercicio 1.2"
      ],
      "metadata": {
        "id": "9fuFUbepk1Xh"
      }
    },
    {
      "cell_type": "code",
      "source": [
        "numero_ciclos = 1\n",
        "\n",
        "while (numero_ciclos < 11) :\n",
        "  print(numero_ciclos)\n",
        "  numero_ciclos += 1"
      ],
      "metadata": {
        "colab": {
          "base_uri": "https://localhost:8080/"
        },
        "id": "zK3Vkftvk5tI",
        "outputId": "191e5b42-9314-4b7b-fc51-68cdfb54c9d0"
      },
      "execution_count": 3,
      "outputs": [
        {
          "output_type": "stream",
          "name": "stdout",
          "text": [
            "1\n",
            "2\n",
            "3\n",
            "4\n",
            "5\n",
            "6\n",
            "7\n",
            "8\n",
            "9\n",
            "10\n"
          ]
        }
      ]
    },
    {
      "cell_type": "markdown",
      "source": [
        "Ejercicio 1.3"
      ],
      "metadata": {
        "id": "9OgRa-GPlb5g"
      }
    },
    {
      "cell_type": "code",
      "source": [
        "username = \"facumax\"\n",
        "username_ingresado = input(\"Por favor ingrese su usuario : \")\n",
        "\n",
        "while (username != username_ingresado) :\n",
        "  print(\"Usuario no reconocido\")\n",
        "  username_ingresado = input(\"Re-ingrese su usuario : \")\n",
        "else :\n",
        "   print(\"Bienvenido ! \", username)"
      ],
      "metadata": {
        "colab": {
          "base_uri": "https://localhost:8080/"
        },
        "id": "zyhwL88qlelN",
        "outputId": "a09951b0-4504-4277-d40e-4035f50faa1d"
      },
      "execution_count": 4,
      "outputs": [
        {
          "output_type": "stream",
          "name": "stdout",
          "text": [
            "Por favor ingrese su usuario : Leonel Messi\n",
            "Usuario no reconocido\n",
            "Re-ingrese su usuario : facumax\n",
            "Bienvenido !  facumax\n"
          ]
        }
      ]
    },
    {
      "cell_type": "markdown",
      "source": [
        "Ejercicio 1.4"
      ],
      "metadata": {
        "id": "9lwK53TknK09"
      }
    },
    {
      "cell_type": "code",
      "source": [
        "datos_cargados = False #0 False\n",
        "\n",
        "while datos_cargados:\n",
        "  columna_analizar = input(\"Por favor ingrese la columna a analizar\")\n",
        "  print(\"Se esta prosesando la columna\", columna_analizar)\n",
        "else:\n",
        "  print(\"No se cargaron los datos\")"
      ],
      "metadata": {
        "colab": {
          "base_uri": "https://localhost:8080/"
        },
        "id": "GaLcGOsSnNbl",
        "outputId": "0f2103c3-6744-4f75-9eff-d0e5af5c195e"
      },
      "execution_count": 5,
      "outputs": [
        {
          "output_type": "stream",
          "name": "stdout",
          "text": [
            "No se cargaron los datos\n"
          ]
        }
      ]
    },
    {
      "cell_type": "markdown",
      "source": [
        "Ejercicio 1.5"
      ],
      "metadata": {
        "id": "TlYm2lLaoNSR"
      }
    },
    {
      "cell_type": "code",
      "source": [],
      "metadata": {
        "id": "XvFzqCifoPUg"
      },
      "execution_count": 5,
      "outputs": []
    },
    {
      "cell_type": "markdown",
      "source": [
        "Ejercicio 1.6"
      ],
      "metadata": {
        "id": "0Iv1QjW1t93Z"
      }
    },
    {
      "cell_type": "code",
      "source": [
        "texto = \"este es el codigo de ejemplo\"\n",
        "numero_letra = 1\n",
        "\n",
        "for letra in texto :\n",
        "  mensaje = \"la letra nro {} tiene un valor {}\".format(numero_letra,letra)\n",
        "  print(mensaje)\n",
        "  numero_letra += 1"
      ],
      "metadata": {
        "colab": {
          "base_uri": "https://localhost:8080/"
        },
        "id": "WbJK6KnduAGS",
        "outputId": "19b1d9ee-713a-4b92-f620-33fb901e2b1e"
      },
      "execution_count": 6,
      "outputs": [
        {
          "output_type": "stream",
          "name": "stdout",
          "text": [
            "la letra nro 1 tiene un valor e\n",
            "la letra nro 2 tiene un valor s\n",
            "la letra nro 3 tiene un valor t\n",
            "la letra nro 4 tiene un valor e\n",
            "la letra nro 5 tiene un valor  \n",
            "la letra nro 6 tiene un valor e\n",
            "la letra nro 7 tiene un valor s\n",
            "la letra nro 8 tiene un valor  \n",
            "la letra nro 9 tiene un valor e\n",
            "la letra nro 10 tiene un valor l\n",
            "la letra nro 11 tiene un valor  \n",
            "la letra nro 12 tiene un valor c\n",
            "la letra nro 13 tiene un valor o\n",
            "la letra nro 14 tiene un valor d\n",
            "la letra nro 15 tiene un valor i\n",
            "la letra nro 16 tiene un valor g\n",
            "la letra nro 17 tiene un valor o\n",
            "la letra nro 18 tiene un valor  \n",
            "la letra nro 19 tiene un valor d\n",
            "la letra nro 20 tiene un valor e\n",
            "la letra nro 21 tiene un valor  \n",
            "la letra nro 22 tiene un valor e\n",
            "la letra nro 23 tiene un valor j\n",
            "la letra nro 24 tiene un valor e\n",
            "la letra nro 25 tiene un valor m\n",
            "la letra nro 26 tiene un valor p\n",
            "la letra nro 27 tiene un valor l\n",
            "la letra nro 28 tiene un valor o\n"
          ]
        }
      ]
    },
    {
      "cell_type": "markdown",
      "source": [
        "Ejercicio 1.7 --uno en uno--"
      ],
      "metadata": {
        "id": "NvpGa43lvWig"
      }
    },
    {
      "cell_type": "code",
      "source": [
        "for numero in range(1,5) :\n",
        "  print(numero)"
      ],
      "metadata": {
        "colab": {
          "base_uri": "https://localhost:8080/"
        },
        "id": "Ra90AxaLvawY",
        "outputId": "d94e2d4d-91d4-421e-e1df-6182820abb66"
      },
      "execution_count": 7,
      "outputs": [
        {
          "output_type": "stream",
          "name": "stdout",
          "text": [
            "1\n",
            "2\n",
            "3\n",
            "4\n"
          ]
        }
      ]
    },
    {
      "cell_type": "code",
      "source": [],
      "metadata": {
        "id": "FEPPjxsHwiGt"
      },
      "execution_count": 7,
      "outputs": []
    },
    {
      "cell_type": "markdown",
      "source": [
        "Ejercicio 1.8 --dos en dos--"
      ],
      "metadata": {
        "id": "K7QLhqT3wG5-"
      }
    },
    {
      "cell_type": "code",
      "source": [
        "for pares in range(2,15,2) :\n",
        "  print(pares)"
      ],
      "metadata": {
        "colab": {
          "base_uri": "https://localhost:8080/"
        },
        "id": "3NLQduhrwJEw",
        "outputId": "deb8381c-0b2b-4c10-d217-ec2becbb97d0"
      },
      "execution_count": 8,
      "outputs": [
        {
          "output_type": "stream",
          "name": "stdout",
          "text": [
            "2\n",
            "4\n",
            "6\n",
            "8\n",
            "10\n",
            "12\n",
            "14\n"
          ]
        }
      ]
    },
    {
      "cell_type": "markdown",
      "source": [
        "Ejercicio 1.9"
      ],
      "metadata": {
        "id": "dpqreVmFG-iF"
      }
    },
    {
      "cell_type": "code",
      "source": [
        "for valor in range(12,-10,-2):\n",
        "  print(valor)"
      ],
      "metadata": {
        "colab": {
          "base_uri": "https://localhost:8080/"
        },
        "id": "WQ9Yoh8kHDOh",
        "outputId": "fcdd9a4b-7980-412a-9067-116a37348928"
      },
      "execution_count": 9,
      "outputs": [
        {
          "output_type": "stream",
          "name": "stdout",
          "text": [
            "12\n",
            "10\n",
            "8\n",
            "6\n",
            "4\n",
            "2\n",
            "0\n",
            "-2\n",
            "-4\n",
            "-6\n",
            "-8\n"
          ]
        }
      ]
    },
    {
      "cell_type": "markdown",
      "source": [
        "## Coleccion de datos\n",
        "en python tenemos estos tipos de datos:\n",
        "-str\n",
        "-int\n",
        "-float\n",
        "-bool"
      ],
      "metadata": {
        "id": "iYoSaM_bxTmc"
      }
    },
    {
      "cell_type": "markdown",
      "source": [
        "# list\n",
        "permiten guardar diferentes tipos de datos, pueden ser variables repetidas, se pueden alterar los valores de la lista.(reodenar, agregar y quitar).\n",
        "las listas se definen con [] y sus valores se separan con ,\n"
      ],
      "metadata": {
        "id": "8ydkQH-Ly0vy"
      }
    },
    {
      "cell_type": "markdown",
      "source": [
        "Ejercicio 2.0\n",
        "creamos varios tipos de lista\n"
      ],
      "metadata": {
        "id": "nfJYBU-rKKwP"
      }
    },
    {
      "cell_type": "code",
      "source": [
        "lista_alumnos = [\"andres\", \"pedro\", \"maria\", \"jose\"]\n",
        "lista_notas = [7,8,10,7]\n",
        "lista_mixta = [\"andres\", True, 190,6.31, False, \"verde\"]"
      ],
      "metadata": {
        "id": "Jo5CC-fOH73D"
      },
      "execution_count": 10,
      "outputs": []
    },
    {
      "cell_type": "markdown",
      "source": [
        "Ejercicio 2.1\n",
        "trabajando con las listas"
      ],
      "metadata": {
        "id": "MFzguMKELJSt"
      }
    },
    {
      "cell_type": "code",
      "source": [
        "#accedemos a los valores por su indice\n",
        "lista_alumnos = [\"andres\", \"pedro\", \"maria\", \"jose\", \"mabel\"]\n",
        "lista_alumnos[0],lista_alumnos[4],lista_alumnos[-2],lista_alumnos[-1]\n"
      ],
      "metadata": {
        "colab": {
          "base_uri": "https://localhost:8080/"
        },
        "id": "PKJ7F1SCLONB",
        "outputId": "db1d8045-e6d8-4c80-8e13-6bc3aafdee19"
      },
      "execution_count": 11,
      "outputs": [
        {
          "output_type": "execute_result",
          "data": {
            "text/plain": [
              "('andres', 'mabel', 'jose', 'mabel')"
            ]
          },
          "metadata": {},
          "execution_count": 11
        }
      ]
    },
    {
      "cell_type": "code",
      "source": [
        "#utilizando el for\n",
        "for alumno in lista_alumnos:\n",
        "  print(alumno)"
      ],
      "metadata": {
        "colab": {
          "base_uri": "https://localhost:8080/"
        },
        "id": "neGECWhQMVC7",
        "outputId": "232612e7-8a95-4be5-9128-ef8d95fc8f78"
      },
      "execution_count": 12,
      "outputs": [
        {
          "output_type": "stream",
          "name": "stdout",
          "text": [
            "andres\n",
            "pedro\n",
            "maria\n",
            "jose\n",
            "mabel\n"
          ]
        }
      ]
    },
    {
      "cell_type": "code",
      "source": [
        "#len() puedo obtener la cantidad de valores en mi lista\n",
        "len(lista_alumnos)"
      ],
      "metadata": {
        "colab": {
          "base_uri": "https://localhost:8080/"
        },
        "id": "EK18YOoBMv0x",
        "outputId": "fdf9e2d3-69e1-4959-a49e-722a137c4ae8"
      },
      "execution_count": 13,
      "outputs": [
        {
          "output_type": "execute_result",
          "data": {
            "text/plain": [
              "5"
            ]
          },
          "metadata": {},
          "execution_count": 13
        }
      ]
    },
    {
      "cell_type": "code",
      "source": [
        "#creo otra lista\n",
        "lista_coches = [\"audi\", \"negro\", 2021, 2115454, True]\n",
        "lista_coches"
      ],
      "metadata": {
        "colab": {
          "base_uri": "https://localhost:8080/"
        },
        "id": "ETCT0nHuNFhZ",
        "outputId": "110a1f3d-6071-46cb-d47e-90acfc8f382e"
      },
      "execution_count": 14,
      "outputs": [
        {
          "output_type": "execute_result",
          "data": {
            "text/plain": [
              "['audi', 'negro', 2021, 2115454, True]"
            ]
          },
          "metadata": {},
          "execution_count": 14
        }
      ]
    },
    {
      "cell_type": "code",
      "source": [
        "lista_opcional = [\"hibrido\", \"v8\"]"
      ],
      "metadata": {
        "id": "qxaALCZPNa74"
      },
      "execution_count": 15,
      "outputs": []
    },
    {
      "cell_type": "code",
      "source": [
        "#con extend puedo agregarle a una lista valores de otra lista(atras-ultimo)\n",
        "lista_coches.extend(lista_opcional)\n",
        "lista_coches"
      ],
      "metadata": {
        "colab": {
          "base_uri": "https://localhost:8080/"
        },
        "id": "MDk6GxLpNq7I",
        "outputId": "bdd8ab41-ec02-454b-8eb3-bbdec495413b"
      },
      "execution_count": 16,
      "outputs": [
        {
          "output_type": "execute_result",
          "data": {
            "text/plain": [
              "['audi', 'negro', 2021, 2115454, True, 'hibrido', 'v8']"
            ]
          },
          "metadata": {},
          "execution_count": 16
        }
      ]
    },
    {
      "cell_type": "code",
      "source": [
        "lista_coches.append(2)\n",
        "lista_coches"
      ],
      "metadata": {
        "colab": {
          "base_uri": "https://localhost:8080/"
        },
        "id": "-5JxfpHjPH_F",
        "outputId": "94b364fa-68d1-4487-c6cc-3c43f9c1c283"
      },
      "execution_count": 17,
      "outputs": [
        {
          "output_type": "execute_result",
          "data": {
            "text/plain": [
              "['audi', 'negro', 2021, 2115454, True, 'hibrido', 'v8', 2]"
            ]
          },
          "metadata": {},
          "execution_count": 17
        }
      ]
    }
  ]
}