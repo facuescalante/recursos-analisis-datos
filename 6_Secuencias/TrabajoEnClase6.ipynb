{
  "nbformat": 4,
  "nbformat_minor": 0,
  "metadata": {
    "colab": {
      "provenance": [],
      "authorship_tag": "ABX9TyPP0zlPRfj5YOIoWsQGPPUA",
      "include_colab_link": true
    },
    "kernelspec": {
      "name": "python3",
      "display_name": "Python 3"
    },
    "language_info": {
      "name": "python"
    }
  },
  "cells": [
    {
      "cell_type": "markdown",
      "metadata": {
        "id": "view-in-github",
        "colab_type": "text"
      },
      "source": [
        "<a href=\"https://colab.research.google.com/github/facuescalante/recursos-analisis-datos/blob/main/6_Secuencias/TrabajoEnClase6.ipynb\" target=\"_parent\"><img src=\"https://colab.research.google.com/assets/colab-badge.svg\" alt=\"Open In Colab\"/></a>"
      ]
    },
    {
      "cell_type": "markdown",
      "source": [
        "# Clase 6"
      ],
      "metadata": {
        "id": "FUIr5Y39gqVg"
      }
    },
    {
      "cell_type": "markdown",
      "source": [
        "## while -mientras que-"
      ],
      "metadata": {
        "id": "LfXyNgckg4qV"
      }
    },
    {
      "cell_type": "markdown",
      "source": [
        "Demo"
      ],
      "metadata": {
        "id": "q6thwd2qiWCE"
      }
    },
    {
      "cell_type": "code",
      "source": [
        "if True:\n",
        "  print(\"Hola desde un if\")"
      ],
      "metadata": {
        "colab": {
          "base_uri": "https://localhost:8080/"
        },
        "id": "fy2DjT6Qg7w1",
        "outputId": "04335fc9-c966-45c7-b672-ae30b70a0db1"
      },
      "execution_count": 1,
      "outputs": [
        {
          "output_type": "stream",
          "name": "stdout",
          "text": [
            "Hola desde un if\n"
          ]
        }
      ]
    },
    {
      "cell_type": "markdown",
      "source": [
        "Ejercicio 1.1"
      ],
      "metadata": {
        "id": "3ZIzriQ2ib84"
      }
    },
    {
      "cell_type": "code",
      "source": [
        "password = \"trx123\"\n",
        "password_ingresada = input(\"Por favor, ingrese su contrasena: \")\n",
        "\n",
        "while (password != password_ingresada) :\n",
        "  print(\"La contrasena\", password_ingresada,\"es incorrecta..re intente por favor\")\n",
        "  password_ingresada = input(\"Ingrese su contrasena nuevamente: \")"
      ],
      "metadata": {
        "colab": {
          "base_uri": "https://localhost:8080/"
        },
        "id": "np7VdRCVioeq",
        "outputId": "b035b0b7-2092-4085-cb61-803fa79ec27e"
      },
      "execution_count": 2,
      "outputs": [
        {
          "name": "stdout",
          "output_type": "stream",
          "text": [
            "Por favor, ingrese su contrasena: trx123\n"
          ]
        }
      ]
    },
    {
      "cell_type": "markdown",
      "source": [
        "Ejercicio 1.2"
      ],
      "metadata": {
        "id": "9fuFUbepk1Xh"
      }
    },
    {
      "cell_type": "code",
      "source": [
        "numero_ciclos = 1\n",
        "\n",
        "while (numero_ciclos < 11) :\n",
        "  print(numero_ciclos)\n",
        "  numero_ciclos += 1"
      ],
      "metadata": {
        "colab": {
          "base_uri": "https://localhost:8080/"
        },
        "id": "zK3Vkftvk5tI",
        "outputId": "1bfe57e5-9a1c-4aab-886b-746e38f0c35f"
      },
      "execution_count": 3,
      "outputs": [
        {
          "output_type": "stream",
          "name": "stdout",
          "text": [
            "1\n",
            "2\n",
            "3\n",
            "4\n",
            "5\n",
            "6\n",
            "7\n",
            "8\n",
            "9\n",
            "10\n"
          ]
        }
      ]
    },
    {
      "cell_type": "markdown",
      "source": [
        "Ejercicio 1.3"
      ],
      "metadata": {
        "id": "9OgRa-GPlb5g"
      }
    },
    {
      "cell_type": "code",
      "source": [
        "username = \"facumax\"\n",
        "username_ingresado = input(\"Por favor ingrese su usuario : \")\n",
        "\n",
        "while (username != username_ingresado) :\n",
        "  print(\"Usuario no reconocido\")\n",
        "  username_ingresado = input(\"Re-ingrese su usuario : \")\n",
        "else :\n",
        "   print(\"Bienvenido ! \", username)"
      ],
      "metadata": {
        "colab": {
          "base_uri": "https://localhost:8080/"
        },
        "id": "zyhwL88qlelN",
        "outputId": "3106648d-fcff-443d-8cd1-a6aff0b1f8cc"
      },
      "execution_count": 4,
      "outputs": [
        {
          "output_type": "stream",
          "name": "stdout",
          "text": [
            "Por favor ingrese su usuario : facumax\n",
            "Bienvenido !  facumax\n"
          ]
        }
      ]
    },
    {
      "cell_type": "markdown",
      "source": [
        "Ejercicio 1.4"
      ],
      "metadata": {
        "id": "9lwK53TknK09"
      }
    },
    {
      "cell_type": "code",
      "source": [
        "datos_cargados = False #0 False\n",
        "\n",
        "while datos_cargados:\n",
        "  columna_analizar = input(\"Por favor ingrese la columna a analizar\")\n",
        "  print(\"Se esta prosesando la columna\", columna_analizar)\n",
        "else:\n",
        "  print(\"No se cargaron los datos\")"
      ],
      "metadata": {
        "colab": {
          "base_uri": "https://localhost:8080/"
        },
        "id": "GaLcGOsSnNbl",
        "outputId": "55cf01fd-5e9b-4e3c-e8be-588258dc4bed"
      },
      "execution_count": 5,
      "outputs": [
        {
          "output_type": "stream",
          "name": "stdout",
          "text": [
            "No se cargaron los datos\n"
          ]
        }
      ]
    },
    {
      "cell_type": "markdown",
      "source": [
        "Ejercicio 1.5"
      ],
      "metadata": {
        "id": "TlYm2lLaoNSR"
      }
    },
    {
      "cell_type": "code",
      "source": [],
      "metadata": {
        "id": "XvFzqCifoPUg"
      },
      "execution_count": 5,
      "outputs": []
    },
    {
      "cell_type": "markdown",
      "source": [
        "Ejercicio 1.6"
      ],
      "metadata": {
        "id": "0Iv1QjW1t93Z"
      }
    },
    {
      "cell_type": "code",
      "source": [
        "texto = \"este es el codigo de ejemplo\"\n",
        "numero_letra = 1\n",
        "\n",
        "for letra in texto :\n",
        "  mensaje = \"la letra nro {} tiene un valor {}\".format(numero_letra,letra)\n",
        "  print(mensaje)\n",
        "  numero_letra += 1"
      ],
      "metadata": {
        "colab": {
          "base_uri": "https://localhost:8080/"
        },
        "id": "WbJK6KnduAGS",
        "outputId": "f63ab6ec-9b2f-4bf1-92f4-1c352b39314f"
      },
      "execution_count": 6,
      "outputs": [
        {
          "output_type": "stream",
          "name": "stdout",
          "text": [
            "la letra nro 1 tiene un valor e\n",
            "la letra nro 2 tiene un valor s\n",
            "la letra nro 3 tiene un valor t\n",
            "la letra nro 4 tiene un valor e\n",
            "la letra nro 5 tiene un valor  \n",
            "la letra nro 6 tiene un valor e\n",
            "la letra nro 7 tiene un valor s\n",
            "la letra nro 8 tiene un valor  \n",
            "la letra nro 9 tiene un valor e\n",
            "la letra nro 10 tiene un valor l\n",
            "la letra nro 11 tiene un valor  \n",
            "la letra nro 12 tiene un valor c\n",
            "la letra nro 13 tiene un valor o\n",
            "la letra nro 14 tiene un valor d\n",
            "la letra nro 15 tiene un valor i\n",
            "la letra nro 16 tiene un valor g\n",
            "la letra nro 17 tiene un valor o\n",
            "la letra nro 18 tiene un valor  \n",
            "la letra nro 19 tiene un valor d\n",
            "la letra nro 20 tiene un valor e\n",
            "la letra nro 21 tiene un valor  \n",
            "la letra nro 22 tiene un valor e\n",
            "la letra nro 23 tiene un valor j\n",
            "la letra nro 24 tiene un valor e\n",
            "la letra nro 25 tiene un valor m\n",
            "la letra nro 26 tiene un valor p\n",
            "la letra nro 27 tiene un valor l\n",
            "la letra nro 28 tiene un valor o\n"
          ]
        }
      ]
    },
    {
      "cell_type": "markdown",
      "source": [
        "Ejercicio 1.7 --uno en uno--"
      ],
      "metadata": {
        "id": "NvpGa43lvWig"
      }
    },
    {
      "cell_type": "code",
      "source": [
        "for numero in range(1,5) :\n",
        "  print(numero)"
      ],
      "metadata": {
        "colab": {
          "base_uri": "https://localhost:8080/"
        },
        "id": "Ra90AxaLvawY",
        "outputId": "60416618-a29b-46ca-bc68-65ffba22c867"
      },
      "execution_count": 7,
      "outputs": [
        {
          "output_type": "stream",
          "name": "stdout",
          "text": [
            "1\n",
            "2\n",
            "3\n",
            "4\n"
          ]
        }
      ]
    },
    {
      "cell_type": "code",
      "source": [],
      "metadata": {
        "id": "FEPPjxsHwiGt"
      },
      "execution_count": 7,
      "outputs": []
    },
    {
      "cell_type": "markdown",
      "source": [
        "Ejercicio 1.8 --dos en dos--"
      ],
      "metadata": {
        "id": "K7QLhqT3wG5-"
      }
    },
    {
      "cell_type": "code",
      "source": [
        "for pares in range(2,15,2) :\n",
        "  print(pares)"
      ],
      "metadata": {
        "colab": {
          "base_uri": "https://localhost:8080/"
        },
        "id": "3NLQduhrwJEw",
        "outputId": "0e53bcd2-42a1-4ea8-bbd8-ceff720920de"
      },
      "execution_count": 8,
      "outputs": [
        {
          "output_type": "stream",
          "name": "stdout",
          "text": [
            "2\n",
            "4\n",
            "6\n",
            "8\n",
            "10\n",
            "12\n",
            "14\n"
          ]
        }
      ]
    },
    {
      "cell_type": "markdown",
      "source": [
        "Ejercicio 1.9"
      ],
      "metadata": {
        "id": "dpqreVmFG-iF"
      }
    },
    {
      "cell_type": "code",
      "source": [
        "for valor in range(12,-10,-2):\n",
        "  print(valor)"
      ],
      "metadata": {
        "colab": {
          "base_uri": "https://localhost:8080/"
        },
        "id": "WQ9Yoh8kHDOh",
        "outputId": "a7549527-80ab-4d87-9063-9c2d07846aae"
      },
      "execution_count": 9,
      "outputs": [
        {
          "output_type": "stream",
          "name": "stdout",
          "text": [
            "12\n",
            "10\n",
            "8\n",
            "6\n",
            "4\n",
            "2\n",
            "0\n",
            "-2\n",
            "-4\n",
            "-6\n",
            "-8\n"
          ]
        }
      ]
    },
    {
      "cell_type": "markdown",
      "source": [
        "# Coleccion de datos\n",
        "en python tenemos estos tipos de datos:\n",
        "-str\n",
        "-int\n",
        "-float\n",
        "-bool"
      ],
      "metadata": {
        "id": "iYoSaM_bxTmc"
      }
    },
    {
      "cell_type": "markdown",
      "source": [
        "# list\n",
        "permiten guardar diferentes tipos de datos, pueden ser variables repetidas, se pueden alterar los valores de la lista.(reodenar, agregar y quitar).\n",
        "las listas se definen con [] y sus valores se separan con ,\n"
      ],
      "metadata": {
        "id": "8ydkQH-Ly0vy"
      }
    },
    {
      "cell_type": "markdown",
      "source": [
        "**Ejercicio** 2.0\n",
        "creamos varios tipos de lista\n"
      ],
      "metadata": {
        "id": "nfJYBU-rKKwP"
      }
    },
    {
      "cell_type": "code",
      "source": [
        "lista_alumnos = [\"andres\", \"pedro\", \"maria\", \"jose\"]\n",
        "lista_notas = [7,8,10,7]\n",
        "lista_mixta = [\"andres\", True, 190,6.31, False, \"verde\"]"
      ],
      "metadata": {
        "id": "Jo5CC-fOH73D"
      },
      "execution_count": 10,
      "outputs": []
    },
    {
      "cell_type": "markdown",
      "source": [
        "**Ejercicio 2.1**\n",
        "\n",
        "Con las listas podemos utilizar las siguientes acciones\n",
        "\n",
        "* Append: Agrega un elemento al final de la lista, append()\n",
        "* Extend: Añade una lista a una lista preexistente, extend()\n",
        "* Insert: Agrega un elemento en el índice determinado, insert()\n",
        "* Pop: Elimina un elemento al final de la lista o en un índice específico, pop()\n",
        "* Remove: Elimina un elemento si consigue el elemento específico, remove()\n",
        "* Sort: Ordena la lista de menor a mayor, sort()\n",
        "* Reverse: Invierte el orden de la lista, reverse()"
      ],
      "metadata": {
        "id": "MFzguMKELJSt"
      }
    },
    {
      "cell_type": "code",
      "source": [
        "#accedemos a los valores por su indice\n",
        "lista_alumnos = [\"andres\", \"pedro\", \"maria\", \"jose\", \"mabel\"]\n",
        "lista_alumnos[0],lista_alumnos[4],lista_alumnos[-2],lista_alumnos[-1]\n"
      ],
      "metadata": {
        "colab": {
          "base_uri": "https://localhost:8080/"
        },
        "id": "PKJ7F1SCLONB",
        "outputId": "9600d195-255e-441e-f6e2-b0b3ab516185"
      },
      "execution_count": 11,
      "outputs": [
        {
          "output_type": "execute_result",
          "data": {
            "text/plain": [
              "('andres', 'mabel', 'jose', 'mabel')"
            ]
          },
          "metadata": {},
          "execution_count": 11
        }
      ]
    },
    {
      "cell_type": "code",
      "source": [
        "#utilizando el for\n",
        "for alumno in lista_alumnos:\n",
        "  print(alumno)"
      ],
      "metadata": {
        "colab": {
          "base_uri": "https://localhost:8080/"
        },
        "id": "neGECWhQMVC7",
        "outputId": "f5f37d4a-3651-410f-d85e-f36716a6c928"
      },
      "execution_count": 12,
      "outputs": [
        {
          "output_type": "stream",
          "name": "stdout",
          "text": [
            "andres\n",
            "pedro\n",
            "maria\n",
            "jose\n",
            "mabel\n"
          ]
        }
      ]
    },
    {
      "cell_type": "code",
      "source": [
        "#len() puedo obtener la cantidad de valores en mi lista\n",
        "len(lista_alumnos)"
      ],
      "metadata": {
        "colab": {
          "base_uri": "https://localhost:8080/"
        },
        "id": "EK18YOoBMv0x",
        "outputId": "afefde14-dba9-4953-a811-29bdd92691dc"
      },
      "execution_count": 13,
      "outputs": [
        {
          "output_type": "execute_result",
          "data": {
            "text/plain": [
              "5"
            ]
          },
          "metadata": {},
          "execution_count": 13
        }
      ]
    },
    {
      "cell_type": "code",
      "source": [
        "#creo otra lista\n",
        "lista_coches = [\"audi\", \"negro\", 2021, 2115454, True]\n",
        "lista_coches"
      ],
      "metadata": {
        "colab": {
          "base_uri": "https://localhost:8080/"
        },
        "id": "ETCT0nHuNFhZ",
        "outputId": "8b736fd7-5d65-4e2a-9e09-c86f48e2edc6"
      },
      "execution_count": 14,
      "outputs": [
        {
          "output_type": "execute_result",
          "data": {
            "text/plain": [
              "['audi', 'negro', 2021, 2115454, True]"
            ]
          },
          "metadata": {},
          "execution_count": 14
        }
      ]
    },
    {
      "cell_type": "code",
      "source": [
        "lista_opcional = [\"hibrido\", \"v8\"]"
      ],
      "metadata": {
        "id": "qxaALCZPNa74"
      },
      "execution_count": 15,
      "outputs": []
    },
    {
      "cell_type": "code",
      "source": [
        "#con extend puedo agregarle a una lista valores de otra lista(atras-ultimo)\n",
        "lista_coches.extend(lista_opcional)\n",
        "lista_coches"
      ],
      "metadata": {
        "colab": {
          "base_uri": "https://localhost:8080/"
        },
        "id": "MDk6GxLpNq7I",
        "outputId": "a2baae63-aed0-4bd1-d83a-06b61d242508"
      },
      "execution_count": 16,
      "outputs": [
        {
          "output_type": "execute_result",
          "data": {
            "text/plain": [
              "['audi', 'negro', 2021, 2115454, True, 'hibrido', 'v8']"
            ]
          },
          "metadata": {},
          "execution_count": 16
        }
      ]
    },
    {
      "cell_type": "code",
      "source": [
        "# Agregar un valor al final de la lista utilizando append\n",
        "lista_coches.append(2)\n",
        "lista_coches"
      ],
      "metadata": {
        "colab": {
          "base_uri": "https://localhost:8080/"
        },
        "id": "-5JxfpHjPH_F",
        "outputId": "2163636a-0e92-43ed-cc0e-6942a4e29d09"
      },
      "execution_count": 17,
      "outputs": [
        {
          "output_type": "execute_result",
          "data": {
            "text/plain": [
              "['audi', 'negro', 2021, 2115454, True, 'hibrido', 'v8', 2]"
            ]
          },
          "metadata": {},
          "execution_count": 17
        }
      ]
    },
    {
      "cell_type": "code",
      "source": [
        "# Insertar un elemento en una posición específica\n",
        "lista_opcional.insert(1, \"gt\")\n",
        "lista_opcional"
      ],
      "metadata": {
        "colab": {
          "base_uri": "https://localhost:8080/"
        },
        "id": "lnTiNM5J7eWA",
        "outputId": "6fb1eab3-3cae-457d-f2bd-f71f7c02c8fc"
      },
      "execution_count": 18,
      "outputs": [
        {
          "output_type": "execute_result",
          "data": {
            "text/plain": [
              "['hibrido', 'gt', 'v8']"
            ]
          },
          "metadata": {},
          "execution_count": 18
        }
      ]
    },
    {
      "cell_type": "code",
      "source": [
        "# Eliminar y devolver el último elemento de la lista de datos personales\n",
        "ultimo_dato = lista_coches.pop()\n",
        "print(\"el ultimo dato era: \", ultimo_dato)\n",
        "print(\"La lista quedo: \", lista_coches)"
      ],
      "metadata": {
        "colab": {
          "base_uri": "https://localhost:8080/"
        },
        "id": "lr8-z3qK702W",
        "outputId": "1dd7511f-e822-410f-aff7-2ac12b81c37e"
      },
      "execution_count": 19,
      "outputs": [
        {
          "output_type": "stream",
          "name": "stdout",
          "text": [
            "el ultimo dato era:  2\n",
            "La lista quedo:  ['audi', 'negro', 2021, 2115454, True, 'hibrido', 'v8']\n"
          ]
        }
      ]
    },
    {
      "cell_type": "code",
      "source": [
        "# Eliminar la primera ocurrencia de un elemento\n",
        "lista_coches.remove(\"v8\")\n",
        "lista_coches"
      ],
      "metadata": {
        "colab": {
          "base_uri": "https://localhost:8080/"
        },
        "id": "sosrBL3q8lWf",
        "outputId": "65620562-4673-42df-e110-b449b0b35ce9"
      },
      "execution_count": 20,
      "outputs": [
        {
          "output_type": "execute_result",
          "data": {
            "text/plain": [
              "['audi', 'negro', 2021, 2115454, True, 'hibrido']"
            ]
          },
          "metadata": {},
          "execution_count": 20
        }
      ]
    },
    {
      "cell_type": "code",
      "source": [
        "# Ordenar la lista de valores numéricos de forma ascendente\n",
        "lista_notas.sort()\n",
        "lista_notas"
      ],
      "metadata": {
        "colab": {
          "base_uri": "https://localhost:8080/"
        },
        "id": "EOizcROq9D80",
        "outputId": "a3e27714-e1e2-46a0-ca9b-30c37f23b370"
      },
      "execution_count": 21,
      "outputs": [
        {
          "output_type": "execute_result",
          "data": {
            "text/plain": [
              "[7, 7, 8, 10]"
            ]
          },
          "metadata": {},
          "execution_count": 21
        }
      ]
    },
    {
      "cell_type": "code",
      "source": [
        "# Revertir el orden de la lista de alumnos\n",
        "lista_alumnos.reverse()\n",
        "lista_alumnos"
      ],
      "metadata": {
        "colab": {
          "base_uri": "https://localhost:8080/"
        },
        "id": "6lToi-ad9R38",
        "outputId": "7ff22a59-d371-45d2-f83a-f1f4946bd0b4"
      },
      "execution_count": 22,
      "outputs": [
        {
          "output_type": "execute_result",
          "data": {
            "text/plain": [
              "['mabel', 'jose', 'maria', 'pedro', 'andres']"
            ]
          },
          "metadata": {},
          "execution_count": 22
        }
      ]
    },
    {
      "cell_type": "markdown",
      "source": [
        "# len()\n",
        "Una función muy util y que debemos tener en cuenta es la función len la cual devuelve el tamaño o cantidad de valores en esta"
      ],
      "metadata": {
        "id": "1ICjIMUs9nwX"
      }
    },
    {
      "cell_type": "markdown",
      "source": [
        "**Ejercicio 2.2**"
      ],
      "metadata": {
        "id": "43oyVeeGB32s"
      }
    },
    {
      "cell_type": "code",
      "source": [
        "lista_valores = [\"amoxidal\", \"azitromicina\", \"claritromicina\", \"levofloxacina\", 5.1]\n",
        "\n",
        "len(lista_valores)"
      ],
      "metadata": {
        "colab": {
          "base_uri": "https://localhost:8080/"
        },
        "id": "hCCRcEpE9zoX",
        "outputId": "abc4fd20-31f0-4b1b-b8ad-6e51dcea047c"
      },
      "execution_count": 23,
      "outputs": [
        {
          "output_type": "execute_result",
          "data": {
            "text/plain": [
              "5"
            ]
          },
          "metadata": {},
          "execution_count": 23
        }
      ]
    },
    {
      "cell_type": "markdown",
      "source": [
        "# Tuple\n",
        "Las listas se definen con () y los valores se separan por ,\n",
        "\n",
        "Las tuplas son muy parecidas a las listas, pero con una gran diferencia. Son inmutables, es decir, no pueden ser alteradas despues de su creación.\n",
        "\n",
        "Una caracteristica de las tuplas es que permiten valores duplicados"
      ],
      "metadata": {
        "id": "fKMVGaOe-QY-"
      }
    },
    {
      "cell_type": "markdown",
      "source": [
        "**Ejercico 2.3**"
      ],
      "metadata": {
        "id": "DDUeRBN2B8yr"
      }
    },
    {
      "cell_type": "code",
      "source": [
        "tupla_atb = (\"amoxicilina\", \"azitromicina\", \"claritromicina\", \"levofloxacina\")\n",
        "\n",
        "print(\"la 1era droga de la lista tiene indice 0 y es:\", tupla_atb[0])\n",
        "print(\"la 4era droga de la lista tiene indice 3 y es:\", tupla_atb[3])"
      ],
      "metadata": {
        "colab": {
          "base_uri": "https://localhost:8080/"
        },
        "id": "c8HV22rb-WK2",
        "outputId": "b16c8393-153b-40d2-b33b-a9dc58e75908"
      },
      "execution_count": 25,
      "outputs": [
        {
          "output_type": "stream",
          "name": "stdout",
          "text": [
            "la 1era droga de la lista tiene indice 0 y es: amoxicilina\n",
            "la 4era droga de la lista tiene indice 3 y es: levofloxacina\n"
          ]
        }
      ]
    },
    {
      "cell_type": "code",
      "source": [
        "type(tupla_atb)"
      ],
      "metadata": {
        "colab": {
          "base_uri": "https://localhost:8080/"
        },
        "id": "UVXBKd9f_icA",
        "outputId": "234d6a7f-98a3-49ae-d605-9dd1d2792962"
      },
      "execution_count": 26,
      "outputs": [
        {
          "output_type": "execute_result",
          "data": {
            "text/plain": [
              "tuple"
            ]
          },
          "metadata": {},
          "execution_count": 26
        }
      ]
    },
    {
      "cell_type": "markdown",
      "source": [
        "# Acciones con tuplas\n",
        "Con las tuplas podemos realizar las siguientes acciones:\n",
        "\n",
        "* Index: Devuelve el índice del elemento determinado, index()\n",
        "* Count: Identifica cuántas veces existe un elemento dentro de la tupla, count()\n"
      ],
      "metadata": {
        "id": "pu5y2fcN_2y0"
      }
    },
    {
      "cell_type": "markdown",
      "source": [
        "**Ejercico 2.4**"
      ],
      "metadata": {
        "id": "RYoXS7ASBsZ9"
      }
    },
    {
      "cell_type": "code",
      "source": [
        "tupla_aine = (\"diclofenac\",\"ibuprofeno\",\"ketorolac\",\"naproxeno\",\"diclofenac\")\n",
        "\n",
        "# Encontrar el índice de \"ketorolac\" en la tupla\n",
        "indice_ketorolac = tupla_aine.index(\"ketorolac\")\n",
        "print(\"El indice de 'ketorolac' es:\", indice_ketorolac)"
      ],
      "metadata": {
        "colab": {
          "base_uri": "https://localhost:8080/"
        },
        "id": "zkQQR4vFAA9e",
        "outputId": "d7d7882e-1a33-43fb-aa77-b26968f4ac47"
      },
      "execution_count": 28,
      "outputs": [
        {
          "output_type": "stream",
          "name": "stdout",
          "text": [
            "El indice de 'ketorolac' es: 2\n"
          ]
        }
      ]
    },
    {
      "cell_type": "code",
      "source": [
        "# Contar cuántas veces aparece \"diclofenac\" en la tupla\n",
        "cantidad_diclo = tupla_aine.count(\"diclofenac\")\n",
        "print(\"El numero de veces que 'diclofenac' aparece es:\", cantidad_diclo)"
      ],
      "metadata": {
        "colab": {
          "base_uri": "https://localhost:8080/"
        },
        "id": "yqvOdapbBJTk",
        "outputId": "4ced9d95-fe28-4193-9a00-776ae2090b4e"
      },
      "execution_count": 29,
      "outputs": [
        {
          "output_type": "stream",
          "name": "stdout",
          "text": [
            "El numero de veces que 'diclofenac' aparece es: 2\n"
          ]
        }
      ]
    },
    {
      "cell_type": "markdown",
      "source": [
        "# set\n",
        "Los set de datos son similares a las tuplas ya que no permiten reordenar los valores.\n",
        "\n",
        "Pero su principal diferencia es que no puede haber duplicados, en cambio, si permiten quitar y poner elementos"
      ],
      "metadata": {
        "id": "fldEmFuJCVK7"
      }
    },
    {
      "cell_type": "markdown",
      "source": [
        "**Ejercicio 2.5**\n",
        "\n",
        "El principal uso que vamos a darle a set es cuando tengamos muchos valores repetidos en una lista, y queramos tener un conjunto de datos con los valores únicos sin repetirse con el orden de aparición.\n",
        "\n",
        "Creemos una lista con valores numéricos entre los cuales tengamos números repetidos, con set creemos un \"set\" de números únicos."
      ],
      "metadata": {
        "id": "NBTSo6yXChUz"
      }
    },
    {
      "cell_type": "code",
      "source": [
        "lista_valores_repetidos = (87,31,2,2,3,3,1,5,4,3,23,23,12,9,8,99,11,56,26,23,71,15,124,8,1,3,1,9,49,1,5,1)\n",
        "lista_valores_repetidos"
      ],
      "metadata": {
        "colab": {
          "base_uri": "https://localhost:8080/"
        },
        "id": "vjXsh9jjCoJm",
        "outputId": "5250af89-7b4d-46b4-a31b-35be298c936c"
      },
      "execution_count": 30,
      "outputs": [
        {
          "output_type": "execute_result",
          "data": {
            "text/plain": [
              "(87,\n",
              " 31,\n",
              " 2,\n",
              " 2,\n",
              " 3,\n",
              " 3,\n",
              " 1,\n",
              " 5,\n",
              " 4,\n",
              " 3,\n",
              " 23,\n",
              " 23,\n",
              " 12,\n",
              " 9,\n",
              " 8,\n",
              " 99,\n",
              " 11,\n",
              " 56,\n",
              " 26,\n",
              " 23,\n",
              " 71,\n",
              " 15,\n",
              " 124,\n",
              " 8,\n",
              " 1,\n",
              " 3,\n",
              " 1,\n",
              " 9,\n",
              " 49,\n",
              " 1,\n",
              " 5,\n",
              " 1)"
            ]
          },
          "metadata": {},
          "execution_count": 30
        }
      ]
    },
    {
      "cell_type": "code",
      "source": [
        "# Con set convierto a mi lista a valores sin repetetidos\n",
        "valores_unicos = set(lista_valores_repetidos)\n",
        "\n",
        "print(\"Elementos unicos: \", valores_unicos)"
      ],
      "metadata": {
        "colab": {
          "base_uri": "https://localhost:8080/"
        },
        "id": "nuWi266qDBoZ",
        "outputId": "625c409f-def1-4a21-dc2f-1e071ee42b3d"
      },
      "execution_count": 31,
      "outputs": [
        {
          "output_type": "stream",
          "name": "stdout",
          "text": [
            "Elementos unicos:  {1, 2, 3, 4, 5, 8, 9, 11, 12, 15, 23, 26, 31, 49, 56, 71, 87, 99, 124}\n"
          ]
        }
      ]
    },
    {
      "cell_type": "code",
      "source": [
        "type(valores_unicos)"
      ],
      "metadata": {
        "colab": {
          "base_uri": "https://localhost:8080/"
        },
        "id": "iA-LM5mEDahA",
        "outputId": "2b40b9c0-5063-4ad2-9f97-3c53cfc08421"
      },
      "execution_count": 32,
      "outputs": [
        {
          "output_type": "execute_result",
          "data": {
            "text/plain": [
              "set"
            ]
          },
          "metadata": {},
          "execution_count": 32
        }
      ]
    },
    {
      "cell_type": "markdown",
      "source": [
        "# dict()\n",
        "Los diccionarios se definen con {} y los elementos se separan por , pero para separar la clave del valor usamos :\n",
        "\n",
        "Los diccionarios tienen la caracteristica de guardar valores con un sistema de clave valor, es decir, voy a almacenar información pero esta va a tener una clave (como un nombre interno)"
      ],
      "metadata": {
        "id": "xVbhtj6xDeiT"
      }
    },
    {
      "cell_type": "markdown",
      "source": [
        "**Ejercicio 2.6**\n",
        "\n",
        "Creemos un diccionario con informacion personal y veamos como acceder a un valor\n"
      ],
      "metadata": {
        "id": "sjNFVN-ODkrI"
      }
    },
    {
      "cell_type": "code",
      "source": [
        "info_alumno = {\n",
        "    \"nombre\" : \"Leonel\",\n",
        "    \"apellido\" : \"Messi\",\n",
        "    \"edad\" : 36,\n",
        "    \"es el 10\" : True,\n",
        "    \"es arquero\" : False\n",
        "}"
      ],
      "metadata": {
        "id": "y4vvDSSKD4bW"
      },
      "execution_count": 34,
      "outputs": []
    },
    {
      "cell_type": "code",
      "source": [
        "info_alumno"
      ],
      "metadata": {
        "colab": {
          "base_uri": "https://localhost:8080/"
        },
        "id": "xRzxFRbzElu_",
        "outputId": "ebb270bf-4981-4c53-c429-4d8e24c43b56"
      },
      "execution_count": 35,
      "outputs": [
        {
          "output_type": "execute_result",
          "data": {
            "text/plain": [
              "{'nombre': 'Leonel',\n",
              " 'apellido': 'Messi',\n",
              " 'edad': 36,\n",
              " 'es el 10': True,\n",
              " 'es arquero': False}"
            ]
          },
          "metadata": {},
          "execution_count": 35
        }
      ]
    },
    {
      "cell_type": "code",
      "source": [
        "type(info_alumno)"
      ],
      "metadata": {
        "colab": {
          "base_uri": "https://localhost:8080/"
        },
        "id": "Ajvz8juGEtTG",
        "outputId": "1c5bcb4e-70ae-47a3-cbf7-1fb4ceea6213"
      },
      "execution_count": 36,
      "outputs": [
        {
          "output_type": "execute_result",
          "data": {
            "text/plain": [
              "dict"
            ]
          },
          "metadata": {},
          "execution_count": 36
        }
      ]
    },
    {
      "cell_type": "markdown",
      "source": [
        "# Acciones con diccionarios\n",
        "\n",
        "* Get: Devuelve un elemento a través de su key, sino lo encuentra se le pueda dar un valor por default, get()\n",
        "* Keys: Devuelve todas las keys de un diccionario, keys()\n",
        "* Values: Devuelve todos los values de un diccionario, values()\n",
        "* Items: Devuelve todos los pares de key/values de un diccionario, items()\n",
        "* Pop: Elimina un elemento del diccionario a partir de su key, pop()\n",
        "* Clear: Elimina todos los elementos del diccionario, clear()"
      ],
      "metadata": {
        "id": "W0aAxfaUEyxL"
      }
    },
    {
      "cell_type": "markdown",
      "source": [
        "**Ejercicio 2.7**\n",
        "\n",
        "Con la lista creada anteriores probemos a usar las diferentes acciones disponibles"
      ],
      "metadata": {
        "id": "2I6Tn7pHFBbt"
      }
    },
    {
      "cell_type": "code",
      "source": [
        "# Ejemplo de uso de get()\n",
        "apellido_alumno = info_alumno.get(\"apellido\")\n",
        "print(\"Apellido:\", apellido_alumno)"
      ],
      "metadata": {
        "colab": {
          "base_uri": "https://localhost:8080/"
        },
        "id": "g4q8bLeYFLP5",
        "outputId": "25bca8fb-8ae2-4ecf-c2dc-6c2e4ffa876f"
      },
      "execution_count": 37,
      "outputs": [
        {
          "output_type": "stream",
          "name": "stdout",
          "text": [
            "Apellido: Messi\n"
          ]
        }
      ]
    },
    {
      "cell_type": "code",
      "source": [
        "# Ejemplo de uso de get() con valor por default\n",
        "celular_alumno = info_alumno.get(\"telefono\", \"No disponible\")\n",
        "print(\"Telefono:\" , celular_alumno)"
      ],
      "metadata": {
        "colab": {
          "base_uri": "https://localhost:8080/"
        },
        "id": "zUnVNxXqFllN",
        "outputId": "fcdfe4d5-34b8-4ed9-9c30-52917cd53501"
      },
      "execution_count": 38,
      "outputs": [
        {
          "output_type": "stream",
          "name": "stdout",
          "text": [
            "Telefono: No disponible\n"
          ]
        }
      ]
    },
    {
      "cell_type": "code",
      "source": [
        "# Ejemplo de uso de keys()\n",
        "keys_diccionario = info_alumno.keys()\n",
        "print(\"Keys:\", keys_diccionario)"
      ],
      "metadata": {
        "colab": {
          "base_uri": "https://localhost:8080/"
        },
        "id": "nrP1YtihGr1T",
        "outputId": "110901ba-eedd-4d8a-e93a-b1f894678713"
      },
      "execution_count": 39,
      "outputs": [
        {
          "output_type": "stream",
          "name": "stdout",
          "text": [
            "Keys: dict_keys(['nombre', 'apellido', 'edad', 'es el 10', 'es arquero'])\n"
          ]
        }
      ]
    },
    {
      "cell_type": "code",
      "source": [
        "# Ejemplo de uso de values()\n",
        "values_diccionario = info_alumno.values()\n",
        "print(\"Values:\", values_diccionario)"
      ],
      "metadata": {
        "colab": {
          "base_uri": "https://localhost:8080/"
        },
        "id": "j5I65eYeHD-C",
        "outputId": "6b3088b0-43d4-4e59-a75e-3e18af793506"
      },
      "execution_count": 40,
      "outputs": [
        {
          "output_type": "stream",
          "name": "stdout",
          "text": [
            "Values: dict_values(['Leonel', 'Messi', 36, True, False])\n"
          ]
        }
      ]
    },
    {
      "cell_type": "code",
      "source": [
        "# Ejemplo de uso de items()\n",
        "items_diccionario = info_alumno.items()\n",
        "print(\"Items:\", items_diccionario)"
      ],
      "metadata": {
        "colab": {
          "base_uri": "https://localhost:8080/"
        },
        "id": "rRfNyBl7HUES",
        "outputId": "5bffa679-019e-4993-8622-3f1757120acd"
      },
      "execution_count": 41,
      "outputs": [
        {
          "output_type": "stream",
          "name": "stdout",
          "text": [
            "Items: dict_items([('nombre', 'Leonel'), ('apellido', 'Messi'), ('edad', 36), ('es el 10', True), ('es arquero', False)])\n"
          ]
        }
      ]
    },
    {
      "cell_type": "code",
      "source": [
        "# Atención por elimina el valor relacionado con la key \"edad\"\n",
        "edad_persona = info_alumno.pop(\"edad\")\n",
        "print(\"Edad:\", edad_persona)\n",
        "print(\"Diccionario despues del pop:\" , info_alumno)"
      ],
      "metadata": {
        "colab": {
          "base_uri": "https://localhost:8080/"
        },
        "id": "PdJ_cV_HHiXW",
        "outputId": "0597419d-76b7-4f16-a8dc-4f33e47a0420"
      },
      "execution_count": 42,
      "outputs": [
        {
          "output_type": "stream",
          "name": "stdout",
          "text": [
            "Edad: 36\n",
            "Diccionario despues del pop: {'nombre': 'Leonel', 'apellido': 'Messi', 'es el 10': True, 'es arquero': False}\n"
          ]
        }
      ]
    },
    {
      "cell_type": "code",
      "source": [
        "# Ejemplo de uso de clear()\n",
        "info_alumno.clear()\n",
        "print(\"Diccionario despues del clear:\", info_alumno)"
      ],
      "metadata": {
        "colab": {
          "base_uri": "https://localhost:8080/"
        },
        "id": "xFJSa-w6IAOY",
        "outputId": "6bf76999-d3ae-4251-8d21-477ed4401842"
      },
      "execution_count": 43,
      "outputs": [
        {
          "output_type": "stream",
          "name": "stdout",
          "text": [
            "Diccionario despues del clear: {}\n"
          ]
        }
      ]
    }
  ]
}