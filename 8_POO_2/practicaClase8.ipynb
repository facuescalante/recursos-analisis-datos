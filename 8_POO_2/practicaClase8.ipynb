{
  "nbformat": 4,
  "nbformat_minor": 0,
  "metadata": {
    "colab": {
      "provenance": [],
      "authorship_tag": "ABX9TyMNnYhlpEa6o6xrjGxhlKnj",
      "include_colab_link": true
    },
    "kernelspec": {
      "name": "python3",
      "display_name": "Python 3"
    },
    "language_info": {
      "name": "python"
    }
  },
  "cells": [
    {
      "cell_type": "markdown",
      "metadata": {
        "id": "view-in-github",
        "colab_type": "text"
      },
      "source": [
        "<a href=\"https://colab.research.google.com/github/facuescalante/recursos-analisis-datos/blob/main/8_POO_2/practicaClase8.ipynb\" target=\"_parent\"><img src=\"https://colab.research.google.com/assets/colab-badge.svg\" alt=\"Open In Colab\"/></a>"
      ]
    },
    {
      "cell_type": "markdown",
      "source": [
        "# POO 2"
      ],
      "metadata": {
        "id": "P2G-7yc4IZCl"
      }
    },
    {
      "cell_type": "markdown",
      "source": [
        "## **Ejercicio 1.0**"
      ],
      "metadata": {
        "id": "GVRHY_ftM76B"
      }
    },
    {
      "cell_type": "code",
      "execution_count": 1,
      "metadata": {
        "id": "K8vvkdlXIPF0"
      },
      "outputs": [],
      "source": [
        "class ClienteBg:  #Creamos la clase\n",
        "  def __init__(self, nombre, numero_cuenta, saldo, tiene_tarjeta = False): #Inicializamos\n",
        "    self.__nombre = nombre #Protegemos la informacion haciendola privada\n",
        "    self.__numero_cuenta = numero_cuenta\n",
        "    self.__saldo = saldo\n",
        "    self.__tiene_tarjeta = tiene_tarjeta\n",
        "\n",
        "  def __str__(self):  #Definimos como queremos que se vea al inprimirla\n",
        "    return f\"Informacion Bancaria \\nTitular: {self.__nombre} \\nCuenta: {self.__numero_cuenta} \"\n",
        "\n",
        "  def retirarDinero(self, cantidad): #Creamos nuestra funcion para retirar dinero\n",
        "    if cantidad <= self.__saldo: #Con un if verificamos si hay sufiente dinero\n",
        "      self.__saldo = self.__saldo - cantidad  #Recalculamos el saldo\n",
        "      return f\"Usted retiro de su cuenta {cantidad} y aun le quedan {self.__saldo} \" #Imprimimos cuanto saco y cuanto le queda\n",
        "    else:\n",
        "      return f\"Fondos insuficientes\"      #En caso de no tener dinero suficiente imprimimos un mensaje"
      ]
    },
    {
      "cell_type": "code",
      "source": [
        "clienteGalicia = ClienteBg(\"Jeff\", \"5568787\", 1254545, True)\n",
        "print(clienteGalicia)"
      ],
      "metadata": {
        "colab": {
          "base_uri": "https://localhost:8080/"
        },
        "id": "ANLjU2c5MJmc",
        "outputId": "81972c32-0024-4ded-e1c4-8b85f35547d9"
      },
      "execution_count": 2,
      "outputs": [
        {
          "output_type": "stream",
          "name": "stdout",
          "text": [
            "Informacion Bancaria \n",
            "Titular: Jeff \n",
            "Cuenta: 5568787 \n"
          ]
        }
      ]
    },
    {
      "cell_type": "code",
      "source": [
        "clienteGalicia.retirarDinero(5000)"
      ],
      "metadata": {
        "colab": {
          "base_uri": "https://localhost:8080/",
          "height": 35
        },
        "id": "QNOsoYroMq3D",
        "outputId": "0b95de69-f3b8-43aa-d5b1-3dee37920b7a"
      },
      "execution_count": 3,
      "outputs": [
        {
          "output_type": "execute_result",
          "data": {
            "text/plain": [
              "'Usted retiro de su cuenta 5000 y aun le quedan 1249545 '"
            ],
            "application/vnd.google.colaboratory.intrinsic+json": {
              "type": "string"
            }
          },
          "metadata": {},
          "execution_count": 3
        }
      ]
    },
    {
      "cell_type": "code",
      "source": [
        "clienteGalicia.retirarDinero(25545254)"
      ],
      "metadata": {
        "colab": {
          "base_uri": "https://localhost:8080/",
          "height": 35
        },
        "id": "omYtKRZfM1h7",
        "outputId": "8a655e78-42b4-4a18-c026-368eb39c56b6"
      },
      "execution_count": 4,
      "outputs": [
        {
          "output_type": "execute_result",
          "data": {
            "text/plain": [
              "'Fondos insuficientes'"
            ],
            "application/vnd.google.colaboratory.intrinsic+json": {
              "type": "string"
            }
          },
          "metadata": {},
          "execution_count": 4
        }
      ]
    },
    {
      "cell_type": "markdown",
      "source": [
        "## **Ejercicio 1.1**\n",
        "\n",
        "Retomando el ejercicio anterior, vemos que al hacer todos los atributos privados ahora no se pueden editar de forma directa lo cual esta muy bien.\n",
        "\n",
        "Pero tenemos un inconveniente, que pasa si queremos ver el saldo o checkear si tiene o no tarjeta.\n",
        "\n",
        "Para ello se utilizan unos metodos creados por el usuario llamados:\n",
        "\n",
        "* getter -> retornar el valor de un atributo\n",
        "* setter -> editar el valor de un atributo\n",
        "Nota: getter y setter es una convencion utilizada para darle nombre a estos métodos; y no siempre vamos a definirlos para todos los atributos\n",
        "\n",
        "Copiamos de nuevo nuestra clase anterior y trabajamos sobre ella"
      ],
      "metadata": {
        "id": "tyOXUW7qNCAt"
      }
    },
    {
      "cell_type": "code",
      "execution_count": 5,
      "metadata": {
        "id": "u5_GzS_aNZKb"
      },
      "outputs": [],
      "source": [
        "class ClienteBg:\n",
        "  def __init__(self, nombre, numero_cuenta, saldo, tiene_tarjeta = False):\n",
        "    self.__nombre = nombre\n",
        "    self.__numero_cuenta = numero_cuenta\n",
        "    self.__saldo = saldo\n",
        "    self.__tiene_tarjeta = tiene_tarjeta\n",
        "\n",
        "  def __str__(self):  #\n",
        "    return f\"Informacion Bancaria \\nTitular: {self.__nombre} \\nCuenta: {self.__numero_cuenta} \"\n",
        "\n",
        "  def getTieneTarjeta(self): #Esta función se encarga de imprimir si tiene o no tarjeta\n",
        "    return f\"{self.__tiene_tarjeta}\"\n",
        "\n",
        "  def getSaldo(self): #Esta función se encarga de imprimir el saldo\n",
        "    return f\"{self.__saldo}\"\n",
        "\n",
        "  def consultarSaldo(self): #NO estamos obligados a usar el termino get podemos personalizarla si queremos\n",
        "    return f\"Su saldo es: {self.__saldo}\"\n",
        "\n",
        "  def setTieneTarjeta(self, estado_tarjeta): #Con este get ahora podriamos modificar el estado de tiene_tarjeta\n",
        "    self.__tiene_tarjeta = estado_tarjeta\n",
        "\n",
        "  def retirarDinero(self, cantidad):\n",
        "    if cantidad <= self.__saldo:\n",
        "      self.__saldo = self.__saldo - cantidad\n",
        "      return f\"Usted retiro de su cuenta {cantidad} y aun le quedan {self.__saldo} \"\n",
        "    else:\n",
        "      return f\"Fondos insuficientes\""
      ]
    },
    {
      "cell_type": "code",
      "source": [
        "cliente2Bbva = ClienteBg(\"Marcos\", 4545, 45000, False)\n",
        "print(cliente2Bbva)"
      ],
      "metadata": {
        "colab": {
          "base_uri": "https://localhost:8080/"
        },
        "id": "ntXsFR35PpuG",
        "outputId": "6e098f62-33b5-4048-ca22-22b98dfc9b62"
      },
      "execution_count": 6,
      "outputs": [
        {
          "output_type": "stream",
          "name": "stdout",
          "text": [
            "Informacion Bancaria \n",
            "Titular: Marcos \n",
            "Cuenta: 4545 \n"
          ]
        }
      ]
    },
    {
      "cell_type": "code",
      "source": [
        "cliente2Bbva.getTieneTarjeta() #Con el getter podemos ver si tiene tarjeta"
      ],
      "metadata": {
        "colab": {
          "base_uri": "https://localhost:8080/",
          "height": 35
        },
        "id": "iNlBIepbQNre",
        "outputId": "06f0cd43-0fce-4896-fd98-cb7cdbe171ed"
      },
      "execution_count": 7,
      "outputs": [
        {
          "output_type": "execute_result",
          "data": {
            "text/plain": [
              "'False'"
            ],
            "application/vnd.google.colaboratory.intrinsic+json": {
              "type": "string"
            }
          },
          "metadata": {},
          "execution_count": 7
        }
      ]
    },
    {
      "cell_type": "code",
      "source": [
        "cliente2Bbva.getSaldo()  #Con el getter podemos ver el saldo"
      ],
      "metadata": {
        "colab": {
          "base_uri": "https://localhost:8080/",
          "height": 35
        },
        "id": "leQaHg0sQUeN",
        "outputId": "172f84f5-e5fe-4d5a-e1c1-515bfacd91a9"
      },
      "execution_count": 8,
      "outputs": [
        {
          "output_type": "execute_result",
          "data": {
            "text/plain": [
              "'45000'"
            ],
            "application/vnd.google.colaboratory.intrinsic+json": {
              "type": "string"
            }
          },
          "metadata": {},
          "execution_count": 8
        }
      ]
    },
    {
      "cell_type": "code",
      "source": [
        "cliente2Bbva.consultarSaldo() #Pero tambien lo podemos hacer con consultar_saldo"
      ],
      "metadata": {
        "colab": {
          "base_uri": "https://localhost:8080/",
          "height": 35
        },
        "id": "MNzladQXQcHU",
        "outputId": "fc6d6ecf-e26d-492a-a8ac-258dcab2da38"
      },
      "execution_count": 9,
      "outputs": [
        {
          "output_type": "execute_result",
          "data": {
            "text/plain": [
              "'Su saldo es: 45000'"
            ],
            "application/vnd.google.colaboratory.intrinsic+json": {
              "type": "string"
            }
          },
          "metadata": {},
          "execution_count": 9
        }
      ]
    },
    {
      "cell_type": "code",
      "source": [
        "cliente2Bbva.setTieneTarjeta(True) #Con el setter podemos editar tiene_tarjeta\n",
        "cliente2Bbva.getTieneTarjeta()"
      ],
      "metadata": {
        "colab": {
          "base_uri": "https://localhost:8080/",
          "height": 35
        },
        "id": "_vWe9TysQide",
        "outputId": "733a5f78-0a44-4e18-871a-efe1994342e5"
      },
      "execution_count": 10,
      "outputs": [
        {
          "output_type": "execute_result",
          "data": {
            "text/plain": [
              "'True'"
            ],
            "application/vnd.google.colaboratory.intrinsic+json": {
              "type": "string"
            }
          },
          "metadata": {},
          "execution_count": 10
        }
      ]
    },
    {
      "cell_type": "markdown",
      "source": [
        "## **Ejercicio 1.2**\n",
        "\n",
        "Veamos un nuevo concepto de clases llamado Herencia.\n",
        "\n",
        "En Python se puede usar la herencia entre clases, la cual nos permite crear clases a partir de otras clases heredando sus metodos y atributos; pudiendo sobreescribirlos.\n",
        "\n",
        "La herencia de clases nos sirve para cuando tenemos una clase que ya está hecha y decidimos hacer una nueva clase que es similar pero con algunas diferencias o características adicionales. La nueva clase se llama \"clase hija\" o \"subclase\", y la clase original se llama \"clase padre\" o \"superclase\".\n",
        "\n",
        "Vamos a trabajar con una clase padre o superclase llamada Persona, cada persona tiene un nombre, apellido, dni, nacionalidad y domicilio. Haremos estos atributos privados; crearemos getters y setters segun creamos correspondientes."
      ],
      "metadata": {
        "id": "ysCOFjCLRDH7"
      }
    },
    {
      "cell_type": "code",
      "source": [
        "class Persona:\n",
        "  def __init__(self, nombre, apellido, dni, nacionalidad, domicilio):\n",
        "    self.__nombre = nombre\n",
        "    self.__apellido = apellido\n",
        "    self.__dni = dni\n",
        "    self.__nacionalidad = nacionalidad\n",
        "    self.__domicilio = domicilio\n",
        "\n",
        "  def __str__(self):\n",
        "    return f\"Nombre: {self.__nombre} \\nApellido: {self.__apellido} \"\n",
        "\n",
        "  def getNombre(self): #Me permite ver el nombre de la persona\n",
        "    return f\"{self.__nombre}\"\n",
        "\n",
        "  def getApellido(self):  #Me permite ver el apellido de la persona\n",
        "    return f\"{self.__apellido}\"\n",
        "\n",
        "  def getDni(self): #Me permite ver el dni de la persona\n",
        "    return f\"{self.__dni}\"\n",
        "\n",
        "  def getNacionalidad(self): #Me permite ver la nacionalidad de la persona\n",
        "    return f\"{self.__nacionalidad}\"\n",
        "\n",
        "  def getDomicilio(self):  #Me permite ver el domicilio de la persona\n",
        "    return f\"{self.__domicilio}\"\n",
        "\n",
        "  def setDomicilio(self, nuevo_domicilio):  #Me permite editar el domicilio de la persona\n",
        "    self.__domicilio = nuevo_domicilio"
      ],
      "metadata": {
        "id": "lPSBTm8ORMlr"
      },
      "execution_count": 11,
      "outputs": []
    },
    {
      "cell_type": "code",
      "source": [
        "persona1 = Persona(\"Peter\", \"Quill\", 25656621, \"EE.UU\", \"Planeta - Tierra\")\n",
        "print(persona1)"
      ],
      "metadata": {
        "colab": {
          "base_uri": "https://localhost:8080/"
        },
        "id": "zssLjqQeHwvB",
        "outputId": "8f9e124e-6306-49db-cd2f-d0d3698b9d7d"
      },
      "execution_count": 12,
      "outputs": [
        {
          "output_type": "stream",
          "name": "stdout",
          "text": [
            "Nombre: Peter \n",
            "Apellido: Quill \n"
          ]
        }
      ]
    },
    {
      "cell_type": "code",
      "source": [
        "persona1.getDni(),persona1.getNacionalidad(),persona1.getDomicilio()"
      ],
      "metadata": {
        "colab": {
          "base_uri": "https://localhost:8080/"
        },
        "id": "en5JXqtkJnRe",
        "outputId": "89a0d55b-120f-4e6f-f368-09dad6be1b8a"
      },
      "execution_count": 13,
      "outputs": [
        {
          "output_type": "execute_result",
          "data": {
            "text/plain": [
              "('25656621', 'EE.UU', 'Planeta - Tierra')"
            ]
          },
          "metadata": {},
          "execution_count": 13
        }
      ]
    },
    {
      "cell_type": "code",
      "source": [
        "persona1.setDomicilio(\"Planeta - Xandar\")\n",
        "persona1.getDomicilio()"
      ],
      "metadata": {
        "colab": {
          "base_uri": "https://localhost:8080/",
          "height": 35
        },
        "id": "BZc2GHiKJ4cI",
        "outputId": "8f8fc423-0705-4848-98e4-fc3c3c73cd11"
      },
      "execution_count": 14,
      "outputs": [
        {
          "output_type": "execute_result",
          "data": {
            "text/plain": [
              "'Planeta - Xandar'"
            ],
            "application/vnd.google.colaboratory.intrinsic+json": {
              "type": "string"
            }
          },
          "metadata": {},
          "execution_count": 14
        }
      ]
    },
    {
      "cell_type": "markdown",
      "source": [
        "Ahora tenemos que crear una clase llamada Guardian que tambien va a tener un nombre, apellido, dni, nacionalidad y domicilio. Pero tambien va a tener valores nuevos como cvu, cargo y estado_cobro (default False), ademas tenemos que definir un método depositarSueldo\n",
        "\n",
        "Como no queremos repetir el código que hicimos antes podemos usar herencia. Usando la clase Persona como padre y Guardian como hija.\n",
        "\n",
        "Nota: super() sirve para llamar a los métodos de la clase padre desde la clase hija."
      ],
      "metadata": {
        "id": "XNCYTxq0NOfz"
      }
    },
    {
      "cell_type": "code",
      "source": [
        "class Guardian(Persona):\n",
        "  def __init__(self, nombre, apellido, dni, nacionalidad, domicilio, cvu, cargo, estado_cobro = False):\n",
        "    super().__init__(nombre, apellido, dni, nacionalidad, domicilio)\n",
        "    self.__cvu = cvu #inicializar los atributos exclusivos de EmpleadoAlkemy\n",
        "    self.__cargo = cargo\n",
        "    self.__estado_cobro = estado_cobro\n",
        "\n",
        "  def __str__(self):\n",
        "   return f\"{self.getNombre()} {self.getApellido()} se desempeña como {self.__cargo}\"\n",
        "\n",
        "  #Agregar los nuevos getter y setter que podamos llegar a necesitar\n",
        "  def getCargo(self):\n",
        "    return f\"{self.__cargo}\"\n",
        "\n",
        "  def getEstadoCobro(self):\n",
        "    return f\"{self.__estado_cobro}\"\n",
        "\n",
        "  def setCargo(self, nuevo_cargo):\n",
        "    self.__cargo = nuevo_cargo\n",
        "\n",
        "  def setEstadoCobro(self, nuevo_estado_cobro):\n",
        "    self.__estado_cobro = nuevo_estado_cobro\n",
        "\n",
        "  def depositarSueldo(self): #Crear metodo depositarSueldo\n",
        "    if self.__estado_cobro:\n",
        "      return f\"A la cuenta {self.__cvu} de {self.getNombre()} {self.getApellido()} se acredito el sueldo de {self.__cargo} \"\n",
        "    else:\n",
        "      return f\"Usted no ha trabajado en el ultimo mes\""
      ],
      "metadata": {
        "id": "7V34Sd-zNP46"
      },
      "execution_count": 15,
      "outputs": []
    },
    {
      "cell_type": "code",
      "source": [
        "guardian1 = Guardian(\"Peter\", \"Quill\", 25656621, \"EE.UU\", \"Planeta - Tierra\", 9887887, \"piloto\", True)\n",
        "print(guardian1)"
      ],
      "metadata": {
        "colab": {
          "base_uri": "https://localhost:8080/"
        },
        "id": "tDDJukdVXPNw",
        "outputId": "f80d2718-1c74-45a6-d0f8-428da7ed218c"
      },
      "execution_count": 16,
      "outputs": [
        {
          "output_type": "stream",
          "name": "stdout",
          "text": [
            "Peter Quill se desempeña como piloto\n"
          ]
        }
      ]
    },
    {
      "cell_type": "code",
      "source": [
        "guardian1.getDni(),guardian1.getNacionalidad(),guardian1.getDomicilio()"
      ],
      "metadata": {
        "colab": {
          "base_uri": "https://localhost:8080/"
        },
        "id": "l1-YITkTcFm3",
        "outputId": "3c60c520-35d8-4bc7-a6c0-dc78c6d32619"
      },
      "execution_count": 17,
      "outputs": [
        {
          "output_type": "execute_result",
          "data": {
            "text/plain": [
              "('25656621', 'EE.UU', 'Planeta - Tierra')"
            ]
          },
          "metadata": {},
          "execution_count": 17
        }
      ]
    },
    {
      "cell_type": "code",
      "source": [
        "guardian1.setDomicilio(\"Planeta - Xandar\")\n",
        "guardian1.getDomicilio()"
      ],
      "metadata": {
        "colab": {
          "base_uri": "https://localhost:8080/",
          "height": 35
        },
        "id": "0UswPszGec6K",
        "outputId": "2be54535-005e-4b9e-b048-ad59d1cdc099"
      },
      "execution_count": 18,
      "outputs": [
        {
          "output_type": "execute_result",
          "data": {
            "text/plain": [
              "'Planeta - Xandar'"
            ],
            "application/vnd.google.colaboratory.intrinsic+json": {
              "type": "string"
            }
          },
          "metadata": {},
          "execution_count": 18
        }
      ]
    },
    {
      "cell_type": "code",
      "source": [
        "guardian1.depositarSueldo()"
      ],
      "metadata": {
        "colab": {
          "base_uri": "https://localhost:8080/",
          "height": 35
        },
        "id": "5hTJHCKXe10h",
        "outputId": "5d4afc5b-20d6-4f0b-fc90-f079ff50b65e"
      },
      "execution_count": 19,
      "outputs": [
        {
          "output_type": "execute_result",
          "data": {
            "text/plain": [
              "'A la cuenta 9887887 de Peter Quill se acredito el sueldo de piloto '"
            ],
            "application/vnd.google.colaboratory.intrinsic+json": {
              "type": "string"
            }
          },
          "metadata": {},
          "execution_count": 19
        }
      ]
    },
    {
      "cell_type": "code",
      "source": [
        "guardian1.setEstadoCobro(False)\n",
        "guardian1.getEstadoCobro()"
      ],
      "metadata": {
        "id": "wDdTsKY4jPKQ",
        "outputId": "86e5c242-d77e-4b18-e430-955a145d8670",
        "colab": {
          "base_uri": "https://localhost:8080/",
          "height": 35
        }
      },
      "execution_count": 21,
      "outputs": [
        {
          "output_type": "execute_result",
          "data": {
            "text/plain": [
              "'False'"
            ],
            "application/vnd.google.colaboratory.intrinsic+json": {
              "type": "string"
            }
          },
          "metadata": {},
          "execution_count": 21
        }
      ]
    },
    {
      "cell_type": "code",
      "source": [
        "guardian1.depositarSueldo()"
      ],
      "metadata": {
        "id": "Esffn_MjlPyt",
        "outputId": "839aa21c-1ebf-4215-e5e5-159e43a33e85",
        "colab": {
          "base_uri": "https://localhost:8080/",
          "height": 35
        }
      },
      "execution_count": 22,
      "outputs": [
        {
          "output_type": "execute_result",
          "data": {
            "text/plain": [
              "'Usted no ha trabajado en el ultimo mes'"
            ],
            "application/vnd.google.colaboratory.intrinsic+json": {
              "type": "string"
            }
          },
          "metadata": {},
          "execution_count": 22
        }
      ]
    },
    {
      "cell_type": "markdown",
      "source": [
        "¿Que pasaria si quisieramos crear una nueva clase llamada AlumnoGuardian?\n",
        "\n",
        "Cada alumno tambien va a tener un nombre, apellido, dni, nacionalidad y domicilio. Pero tambien tendriamos que tener en cuenta la comisión, su nota final y si pago la matricula.\n",
        "\n",
        "Cada alumno va a poder recibir un certificado el cual tiene que indicar sus datos, que fue lo que estudio y cual fue su nota. Pero solo aquellos que hayan terminado de cancelar la matricula podran acceder a su certificado"
      ],
      "metadata": {
        "id": "qckiu5sPl9nj"
      }
    },
    {
      "cell_type": "code",
      "source": [
        "class AlumnoGuardian(Persona):\n",
        "  def __init__(self, nombre, apellido, dni, nacionalidad, domicilio, nota_final, comision = \"Analisis de datos\", matricula_cancelada = False):\n",
        "    super().__init__(nombre, apellido, dni, nacionalidad, domicilio) #Llamos al __init__ de Persona\n",
        "    self.__nota_final = nota_final #Ahora inicializamos los atributos exclusivos de AlumnoAlkemy\n",
        "    self.__comision = comision\n",
        "    self.__matricula_cancelada = matricula_cancelada\n",
        "\n",
        "  def __str__(self):\n",
        "    return f\"{self.getNombre()} {self.getApellido()} estudia {self.__comision}\"\n",
        "\n",
        "  #agregar los nuevos getter y setter que podamos llegar a necesitar\n",
        "  def getNotaFinal(self):\n",
        "    return f\"{self.__nota_final}\"\n",
        "\n",
        "  def getComision(self):\n",
        "    return f\"{self.__comision}\"\n",
        "\n",
        "  def getMatriculaCancelada(self):\n",
        "    return f\"{self.__matricula_cancelada}\"\n",
        "\n",
        "  def setMatriculaCancelada(self, cambio_matricula):\n",
        "    self.__matricula_cancelada = cambio_matricula\n",
        "\n",
        "  def recibirCertificado(self):  #Crear metodo recibirCertificado\n",
        "    if self.__matricula_cancelada:\n",
        "      return f\"El alumno {self.getNombre()} {self.getApellido()} obtuvo una nota de {self.__nota_final} durante su cursada en {self.__comision}\"\n",
        "    else:\n",
        "      return F\"Por favor cancele deuda para matricularse\"\n"
      ],
      "metadata": {
        "id": "E1usnzVEl-sD"
      },
      "execution_count": 24,
      "outputs": []
    },
    {
      "cell_type": "code",
      "source": [
        "alumno89p13 = AlumnoGuardian(\"Rocket\",\"Raccoon\", 56545778, \"Halfworld\", \"desconocido\", 10)\n",
        "print(alumno89p13)"
      ],
      "metadata": {
        "id": "1R2Fn2XWpyTs",
        "outputId": "a72cc287-4d6e-4b1d-ea8f-caabc3893110",
        "colab": {
          "base_uri": "https://localhost:8080/"
        }
      },
      "execution_count": 25,
      "outputs": [
        {
          "output_type": "stream",
          "name": "stdout",
          "text": [
            "Rocket Raccoon estudia Analisis de datos\n"
          ]
        }
      ]
    },
    {
      "cell_type": "code",
      "source": [
        "alumno89p13.recibirCertificado()"
      ],
      "metadata": {
        "id": "PeuXHov2sybg",
        "outputId": "bcba2e15-41a3-4e04-a139-dbbbb615cd70",
        "colab": {
          "base_uri": "https://localhost:8080/",
          "height": 35
        }
      },
      "execution_count": 26,
      "outputs": [
        {
          "output_type": "execute_result",
          "data": {
            "text/plain": [
              "'Por favor cancele deuda para matricularse'"
            ],
            "application/vnd.google.colaboratory.intrinsic+json": {
              "type": "string"
            }
          },
          "metadata": {},
          "execution_count": 26
        }
      ]
    },
    {
      "cell_type": "code",
      "source": [
        "alumno89p13.setMatriculaCancelada(True)\n",
        "alumno89p13.getNombre(), alumno89p13.getApellido(), alumno89p13.getMatriculaCancelada()\n"
      ],
      "metadata": {
        "id": "JvJ7-YBotxgc",
        "outputId": "4ecb37ba-b5cf-4fbe-ec00-52232e9cad19",
        "colab": {
          "base_uri": "https://localhost:8080/"
        }
      },
      "execution_count": 27,
      "outputs": [
        {
          "output_type": "execute_result",
          "data": {
            "text/plain": [
              "('Rocket', 'Raccoon', 'True')"
            ]
          },
          "metadata": {},
          "execution_count": 27
        }
      ]
    },
    {
      "cell_type": "code",
      "source": [
        "alumno89p13.recibirCertificado()"
      ],
      "metadata": {
        "id": "yZQtkYHRuHxZ",
        "outputId": "2a01ecdb-0301-4777-dcb6-3655dcc851e2",
        "colab": {
          "base_uri": "https://localhost:8080/",
          "height": 35
        }
      },
      "execution_count": 28,
      "outputs": [
        {
          "output_type": "execute_result",
          "data": {
            "text/plain": [
              "'El alumno Rocket Raccoon obtuvo una nota de 10 durante su cursada en Analisis de datos'"
            ],
            "application/vnd.google.colaboratory.intrinsic+json": {
              "type": "string"
            }
          },
          "metadata": {},
          "execution_count": 28
        }
      ]
    },
    {
      "cell_type": "markdown",
      "source": [
        "## **Ejercicio 1.3**\n",
        "\n",
        "Creemos otro ejemplo y veamos que al trabajar con atributos publicos no es necesario tener que crear los getter y setter.\n",
        "\n",
        "Clase padre -> Animal\n",
        "\n",
        "* Atributos: clase, especie, tipo (public)\n",
        "* Metodo: emitir sonido (pass)\n",
        "\n",
        "Clase hija -> Perro\n",
        "\n",
        "* Atributos propios: nombre (private)\n",
        "* Metodos propios: darPata\n",
        "\n",
        "Clase hija -> Gallina\n",
        "\n",
        "* Atributos propios = huevos (default False)\n",
        "* Metodos propios: hacerTortilla (solo si huevos = True)"
      ],
      "metadata": {
        "id": "wQ40ptC2uYIH"
      }
    },
    {
      "cell_type": "code",
      "source": [
        "class Animal:\n",
        "  def __init__(self, clase, especie, tipo):\n",
        "    self.clase = clase #atributos publicos\n",
        "    self.especie = especie\n",
        "    self.tipo = tipo\n",
        "\n",
        "  def emitirSonido(self):\n",
        "    pass\n",
        "\n",
        "  def __str__(self):\n",
        "    return f\"Clase: {self.clase}, Especie: {self.especie}, Tipo: {self.tipo}\""
      ],
      "metadata": {
        "id": "PepkBm3EuqlG"
      },
      "execution_count": 41,
      "outputs": []
    },
    {
      "cell_type": "code",
      "source": [
        "mapache = Animal(\"Mamifero\", \"Carnivoro\", \"Salvaje\") #creacion de objeto\n",
        "print(mapache)"
      ],
      "metadata": {
        "id": "KqAtORXJyDw0",
        "outputId": "c69be92b-c6cd-47dd-b510-7580cd7fadd4",
        "colab": {
          "base_uri": "https://localhost:8080/"
        }
      },
      "execution_count": 42,
      "outputs": [
        {
          "output_type": "stream",
          "name": "stdout",
          "text": [
            "Clase: Mamifero, Especie: Carnivoro, Tipo: Salvaje\n"
          ]
        }
      ]
    },
    {
      "cell_type": "code",
      "source": [
        "mapache.emitirSonido() #Vemos que el pass hace que no ocurra nada cuando en un objeto de Animal llamamos a emitirSonido"
      ],
      "metadata": {
        "id": "ArNvxLU8zbdu"
      },
      "execution_count": 43,
      "outputs": []
    },
    {
      "cell_type": "code",
      "source": [
        "class Perro(Animal):\n",
        "  def __init__(self, clase, especie, tipo, nombre): #inicializamos\n",
        "    super().__init__(clase, especie, tipo)\n",
        "    self.__nombre = nombre #nombre privado\n",
        "\n",
        "  def __str__(self):\n",
        "    return f\"Nombre: {self.__nombre}, Clase: {self.clase}, Especie: {self.especie}, Tipo: {self.tipo}\"\n",
        "\n",
        "  def getNombre(self):\n",
        "    return F\"{self.__nombre}\"\n",
        "\n",
        "  def emitirSonido(self):\n",
        "    return \"Guau!guau!\"\n",
        "\n",
        "  def darLaPata(self):\n",
        "    return f\"{self.__nombre} da la patita.\""
      ],
      "metadata": {
        "id": "naCR6P7Rzp0p"
      },
      "execution_count": 44,
      "outputs": []
    },
    {
      "cell_type": "code",
      "source": [
        "perroAkita = Perro(\"Mamífero\",\"Canino\",\"Doméstico\", \"Hachi\")\n",
        "print(perroAkita)"
      ],
      "metadata": {
        "id": "SxCckjqr3CBr",
        "outputId": "85071a50-e005-40f6-ea7a-db0bb9a52037",
        "colab": {
          "base_uri": "https://localhost:8080/"
        }
      },
      "execution_count": 45,
      "outputs": [
        {
          "output_type": "stream",
          "name": "stdout",
          "text": [
            "Nombre: Hachi, Clase: Mamífero, Especie: Canino, Tipo: Doméstico\n"
          ]
        }
      ]
    },
    {
      "cell_type": "code",
      "source": [
        "perroAkita.getNombre()"
      ],
      "metadata": {
        "id": "gMgnuPzK3pJi",
        "outputId": "1bf1c913-8942-4eb7-fd2f-f214445bf17d",
        "colab": {
          "base_uri": "https://localhost:8080/",
          "height": 35
        }
      },
      "execution_count": 46,
      "outputs": [
        {
          "output_type": "execute_result",
          "data": {
            "text/plain": [
              "'Hachi'"
            ],
            "application/vnd.google.colaboratory.intrinsic+json": {
              "type": "string"
            }
          },
          "metadata": {},
          "execution_count": 46
        }
      ]
    },
    {
      "cell_type": "code",
      "source": [
        "perroAkita.darLaPata()"
      ],
      "metadata": {
        "id": "9PRi9L2H3vEz",
        "outputId": "e363a4c7-5899-4185-842c-a2a38fc719e6",
        "colab": {
          "base_uri": "https://localhost:8080/",
          "height": 35
        }
      },
      "execution_count": 47,
      "outputs": [
        {
          "output_type": "execute_result",
          "data": {
            "text/plain": [
              "'Hachi da la patita.'"
            ],
            "application/vnd.google.colaboratory.intrinsic+json": {
              "type": "string"
            }
          },
          "metadata": {},
          "execution_count": 47
        }
      ]
    },
    {
      "cell_type": "code",
      "source": [
        "perroAkita.emitirSonido()"
      ],
      "metadata": {
        "id": "2KQgU0S03zR7",
        "outputId": "08b80c60-0b64-4df0-f3ec-5a61fc53b2a5",
        "colab": {
          "base_uri": "https://localhost:8080/",
          "height": 35
        }
      },
      "execution_count": 48,
      "outputs": [
        {
          "output_type": "execute_result",
          "data": {
            "text/plain": [
              "'Guau!guau!'"
            ],
            "application/vnd.google.colaboratory.intrinsic+json": {
              "type": "string"
            }
          },
          "metadata": {},
          "execution_count": 48
        }
      ]
    },
    {
      "cell_type": "code",
      "source": [
        "class Gallina(Animal):\n",
        "  def __init__(self, clase, especie, tipo, huevo=False):\n",
        "    super().__init__(clase, especie, tipo)\n",
        "    self.huevo = huevo\n",
        "\n",
        "  def __str__(self):\n",
        "    return f\"Clase: {self.clase}, Especie: {self.especie}, Tipo: {self.tipo}, Puso un huevo hoy? {self.huevo}\"\n",
        "\n",
        "  def emitirSonido(self):\n",
        "    return \"quiquiriquí!!!\"\n",
        "\n",
        "  def prepTortilla(self):\n",
        "    if self.huevo:\n",
        "      print(\"hoy comemos tortilla!!!\")\n",
        "    else:\n",
        "      print(\"Como no hay huevos.. hoy toca sopita...😁\")"
      ],
      "metadata": {
        "id": "ffNgBadH4mSS"
      },
      "execution_count": 50,
      "outputs": []
    },
    {
      "cell_type": "code",
      "source": [
        "gallinacea = Gallina(\"Ave\", \"Gallina\", \"granja\", False)\n",
        "print(gallinacea)\n",
        "gallinacea.prepTortilla()"
      ],
      "metadata": {
        "id": "t2fWVhak6jVj",
        "outputId": "a94e8b23-a307-4334-f2d9-b11b2cad9471",
        "colab": {
          "base_uri": "https://localhost:8080/"
        }
      },
      "execution_count": 51,
      "outputs": [
        {
          "output_type": "stream",
          "name": "stdout",
          "text": [
            "Clase: Ave, Especie: Gallina, Tipo: granja, Puso un huevo hoy? False\n",
            "Como no hay huevos.. hoy toca sopita...😁\n"
          ]
        }
      ]
    },
    {
      "cell_type": "code",
      "source": [
        "gallinacea.huevo = True\n",
        "gallinacea.prepTortilla()"
      ],
      "metadata": {
        "id": "DoZuxdZ47NKT",
        "outputId": "593267cd-cbe6-4f5f-9172-d77276430c84",
        "colab": {
          "base_uri": "https://localhost:8080/"
        }
      },
      "execution_count": 52,
      "outputs": [
        {
          "output_type": "stream",
          "name": "stdout",
          "text": [
            "hoy comemos tortilla!!!\n"
          ]
        }
      ]
    },
    {
      "cell_type": "code",
      "source": [
        "gallinacea.emitirSonido()"
      ],
      "metadata": {
        "id": "Wo8ZcCV77qAL",
        "outputId": "8c05ff04-f28d-4dce-f6fe-6dc748882ebd",
        "colab": {
          "base_uri": "https://localhost:8080/",
          "height": 35
        }
      },
      "execution_count": 53,
      "outputs": [
        {
          "output_type": "execute_result",
          "data": {
            "text/plain": [
              "'quiquiriquí!!!'"
            ],
            "application/vnd.google.colaboratory.intrinsic+json": {
              "type": "string"
            }
          },
          "metadata": {},
          "execution_count": 53
        }
      ]
    },
    {
      "cell_type": "markdown",
      "source": [
        "## **Ejercicio 1.4**\n",
        "\n",
        "El poliformismo es muy util cuando tenemos varias clases con métodos iguales y tenemos que ejecutarlos.\n",
        "\n",
        "Veamos un ejemplo tenemos varios animales y todos hacen un sonido en particular."
      ],
      "metadata": {
        "id": "XgGR8RD08Did"
      }
    },
    {
      "cell_type": "code",
      "source": [
        "class Vaca(Animal):\n",
        "  def emitirSonido(self):\n",
        "    return \"Muuuu!!!\""
      ],
      "metadata": {
        "id": "cWlwEzbr8L7Z"
      },
      "execution_count": 55,
      "outputs": []
    },
    {
      "cell_type": "code",
      "source": [
        "class Cerdo(Animal):\n",
        "  def emitirSonido(self):\n",
        "    return \"Oinc!Oinc!\""
      ],
      "metadata": {
        "id": "7bIkIrLj8rL4"
      },
      "execution_count": 54,
      "outputs": []
    },
    {
      "cell_type": "code",
      "source": [
        "class Abeja(Animal):\n",
        "  def emitirSonido(self):\n",
        "    return \"Bzzzz\""
      ],
      "metadata": {
        "id": "o1tIjGDO92Ze"
      },
      "execution_count": 57,
      "outputs": []
    },
    {
      "cell_type": "code",
      "source": [
        "class Rana(Animal):\n",
        "  def emitirSonido(self):\n",
        "    return \"Croac\""
      ],
      "metadata": {
        "id": "kfLqSrD8-Ehi"
      },
      "execution_count": 56,
      "outputs": []
    },
    {
      "cell_type": "code",
      "source": [
        "vaquita = Vaca(\"Mamifero\",\"Bovino\", \"Granja\")\n",
        "porky = Cerdo(\"Mamifero\",\"Porcino\", \"Granja\")\n",
        "maya = Abeja(\"Insecto\",\"Apoidea\", \"Granja\")\n",
        "rene = Rana(\"Anfibio Anuro\",\"Ranidae\",\"Salvaje\")"
      ],
      "metadata": {
        "id": "9JsqrZQ3-mjt"
      },
      "execution_count": 58,
      "outputs": []
    },
    {
      "cell_type": "markdown",
      "source": [
        "La forma clasica para ver el sonido que hace cada uno seria:"
      ],
      "metadata": {
        "id": "4pxbZchOBfPz"
      }
    },
    {
      "cell_type": "code",
      "source": [
        "vaquita.emitirSonido()"
      ],
      "metadata": {
        "id": "yp8-WbgcAmFx",
        "outputId": "3084ba0b-bd9d-4091-8ff2-9ba6d5389124",
        "colab": {
          "base_uri": "https://localhost:8080/",
          "height": 35
        }
      },
      "execution_count": 59,
      "outputs": [
        {
          "output_type": "execute_result",
          "data": {
            "text/plain": [
              "'Muuuu!!!'"
            ],
            "application/vnd.google.colaboratory.intrinsic+json": {
              "type": "string"
            }
          },
          "metadata": {},
          "execution_count": 59
        }
      ]
    },
    {
      "cell_type": "code",
      "source": [
        "porky.emitirSonido()"
      ],
      "metadata": {
        "id": "iK7PpwVkAqhR",
        "outputId": "f18c30b9-f438-4d59-a9bc-d44fe09b8531",
        "colab": {
          "base_uri": "https://localhost:8080/",
          "height": 35
        }
      },
      "execution_count": 60,
      "outputs": [
        {
          "output_type": "execute_result",
          "data": {
            "text/plain": [
              "'Oinc!Oinc!'"
            ],
            "application/vnd.google.colaboratory.intrinsic+json": {
              "type": "string"
            }
          },
          "metadata": {},
          "execution_count": 60
        }
      ]
    },
    {
      "cell_type": "code",
      "source": [
        "maya.emitirSonido()"
      ],
      "metadata": {
        "id": "wXiwgY3AAtoB",
        "outputId": "a4c70882-92ca-451b-bb4a-1ce928249387",
        "colab": {
          "base_uri": "https://localhost:8080/",
          "height": 35
        }
      },
      "execution_count": 61,
      "outputs": [
        {
          "output_type": "execute_result",
          "data": {
            "text/plain": [
              "'Bzzzz'"
            ],
            "application/vnd.google.colaboratory.intrinsic+json": {
              "type": "string"
            }
          },
          "metadata": {},
          "execution_count": 61
        }
      ]
    },
    {
      "cell_type": "code",
      "source": [
        "rene.emitirSonido()"
      ],
      "metadata": {
        "id": "7Gz0znkQAwLp",
        "outputId": "3f49b89b-210a-4139-fd0a-021e344b065e",
        "colab": {
          "base_uri": "https://localhost:8080/",
          "height": 35
        }
      },
      "execution_count": 62,
      "outputs": [
        {
          "output_type": "execute_result",
          "data": {
            "text/plain": [
              "'Croac'"
            ],
            "application/vnd.google.colaboratory.intrinsic+json": {
              "type": "string"
            }
          },
          "metadata": {},
          "execution_count": 62
        }
      ]
    },
    {
      "cell_type": "markdown",
      "source": [
        "Pero podemos hacerlo de otra forma, la cual nos permita usar nuestras clases como parametros que llame al método hacerSonido"
      ],
      "metadata": {
        "id": "FuCKFrUNA2aQ"
      }
    },
    {
      "cell_type": "code",
      "source": [
        "# Función que interactúa con cualquier tipo de Animal\n",
        "def escucharSonido(animal):\n",
        "    print(animal.emitirSonido())"
      ],
      "metadata": {
        "id": "Jz7wIMjeA3fA"
      },
      "execution_count": 63,
      "outputs": []
    },
    {
      "cell_type": "code",
      "source": [
        "escucharSonido(perroAkita)"
      ],
      "metadata": {
        "id": "PiL2m_egBEzv",
        "outputId": "796d33c2-eaa7-46eb-b5a0-d7b74938f2e8",
        "colab": {
          "base_uri": "https://localhost:8080/"
        }
      },
      "execution_count": 64,
      "outputs": [
        {
          "output_type": "stream",
          "name": "stdout",
          "text": [
            "Guau!guau!\n"
          ]
        }
      ]
    },
    {
      "cell_type": "code",
      "source": [
        "escucharSonido(vaquita)"
      ],
      "metadata": {
        "id": "cBedbdCOBNhg",
        "outputId": "e3e67e79-50db-482a-ff69-a4604ac6d51b",
        "colab": {
          "base_uri": "https://localhost:8080/"
        }
      },
      "execution_count": 65,
      "outputs": [
        {
          "output_type": "stream",
          "name": "stdout",
          "text": [
            "Muuuu!!!\n"
          ]
        }
      ]
    },
    {
      "cell_type": "code",
      "source": [
        "escucharSonido(porky)"
      ],
      "metadata": {
        "id": "lRQs-8JuBQyi",
        "outputId": "dcf7047c-2299-4286-e5eb-e6c1060abe3f",
        "colab": {
          "base_uri": "https://localhost:8080/"
        }
      },
      "execution_count": 66,
      "outputs": [
        {
          "output_type": "stream",
          "name": "stdout",
          "text": [
            "Oinc!Oinc!\n"
          ]
        }
      ]
    },
    {
      "cell_type": "code",
      "source": [
        "escucharSonido(rene)"
      ],
      "metadata": {
        "id": "SUJUcXz-BUsX",
        "outputId": "95a07864-1498-4727-dba5-9fbe075a30e9",
        "colab": {
          "base_uri": "https://localhost:8080/"
        }
      },
      "execution_count": 67,
      "outputs": [
        {
          "output_type": "stream",
          "name": "stdout",
          "text": [
            "Croac\n"
          ]
        }
      ]
    },
    {
      "cell_type": "code",
      "source": [
        "escucharSonido(maya)"
      ],
      "metadata": {
        "id": "816mqh6MBYCA",
        "outputId": "656e42f4-5686-4a78-9d6e-ce40397eea8f",
        "colab": {
          "base_uri": "https://localhost:8080/"
        }
      },
      "execution_count": 68,
      "outputs": [
        {
          "output_type": "stream",
          "name": "stdout",
          "text": [
            "Bzzzz\n"
          ]
        }
      ]
    }
  ]
}