{
  "nbformat": 4,
  "nbformat_minor": 0,
  "metadata": {
    "colab": {
      "provenance": [],
      "authorship_tag": "ABX9TyOl5Rgw+j7xWCQZT+rwUO8W",
      "include_colab_link": true
    },
    "kernelspec": {
      "name": "python3",
      "display_name": "Python 3"
    },
    "language_info": {
      "name": "python"
    }
  },
  "cells": [
    {
      "cell_type": "markdown",
      "metadata": {
        "id": "view-in-github",
        "colab_type": "text"
      },
      "source": [
        "<a href=\"https://colab.research.google.com/github/facuescalante/recursos-analisis-datos/blob/main/8_POO_2/practicaClase8.ipynb\" target=\"_parent\"><img src=\"https://colab.research.google.com/assets/colab-badge.svg\" alt=\"Open In Colab\"/></a>"
      ]
    },
    {
      "cell_type": "markdown",
      "source": [
        "# POO 2"
      ],
      "metadata": {
        "id": "P2G-7yc4IZCl"
      }
    },
    {
      "cell_type": "markdown",
      "source": [
        "## **Ejercicio 1.0**"
      ],
      "metadata": {
        "id": "GVRHY_ftM76B"
      }
    },
    {
      "cell_type": "code",
      "execution_count": 2,
      "metadata": {
        "id": "K8vvkdlXIPF0"
      },
      "outputs": [],
      "source": [
        "class ClienteBg:  #Creamos la clase\n",
        "  def __init__(self, nombre, numero_cuenta, saldo, tiene_tarjeta = False): #Inicializamos\n",
        "    self.__nombre = nombre #Protegemos la informacion haciendola privada\n",
        "    self.__numero_cuenta = numero_cuenta\n",
        "    self.__saldo = saldo\n",
        "    self.__tiene_tarjeta = tiene_tarjeta\n",
        "\n",
        "  def __str__(self):  #Definimos como queremos que se vea al inprimirla\n",
        "    return f\"Informacion Bancaria \\nTitular: {self.__nombre} \\nCuenta: {self.__numero_cuenta} \"\n",
        "\n",
        "  def retirarDinero(self, cantidad): #Creamos nuestra funcion para retirar dinero\n",
        "    if cantidad <= self.__saldo: #Con un if verificamos si hay sufiente dinero\n",
        "      self.__saldo = self.__saldo - cantidad  #Recalculamos el saldo\n",
        "      return f\"Usted retiro de su cuenta {cantidad} y aun le quedan {self.__saldo} \" #Imprimimos cuanto saco y cuanto le queda\n",
        "    else:\n",
        "      return f\"Fondos insuficientes\"      #En caso de no tener dinero suficiente imprimimos un mensaje"
      ]
    },
    {
      "cell_type": "code",
      "source": [
        "clienteGalicia = ClienteBg(\"Jeff\", \"5568787\", 1254545, True)\n",
        "print(clienteGalicia)"
      ],
      "metadata": {
        "colab": {
          "base_uri": "https://localhost:8080/"
        },
        "id": "ANLjU2c5MJmc",
        "outputId": "5f971ccf-3ae0-409f-c507-7d48ad6fddd7"
      },
      "execution_count": 3,
      "outputs": [
        {
          "output_type": "stream",
          "name": "stdout",
          "text": [
            "Informacion Bancaria \n",
            "Titular: Jeff \n",
            "Cuenta: 5568787 \n"
          ]
        }
      ]
    },
    {
      "cell_type": "code",
      "source": [
        "clienteGalicia.retirarDinero(5000)"
      ],
      "metadata": {
        "colab": {
          "base_uri": "https://localhost:8080/",
          "height": 35
        },
        "id": "QNOsoYroMq3D",
        "outputId": "a44d207c-060f-4abc-9200-079a6f4f3238"
      },
      "execution_count": 4,
      "outputs": [
        {
          "output_type": "execute_result",
          "data": {
            "text/plain": [
              "'Usted retiro de su cuenta 5000 y aun le quedan 1249545 '"
            ],
            "application/vnd.google.colaboratory.intrinsic+json": {
              "type": "string"
            }
          },
          "metadata": {},
          "execution_count": 4
        }
      ]
    },
    {
      "cell_type": "code",
      "source": [
        "clienteGalicia.retirarDinero(25545254)"
      ],
      "metadata": {
        "colab": {
          "base_uri": "https://localhost:8080/",
          "height": 35
        },
        "id": "omYtKRZfM1h7",
        "outputId": "ba6c08d2-17ec-4019-dc0d-1f53ec6617b6"
      },
      "execution_count": 5,
      "outputs": [
        {
          "output_type": "execute_result",
          "data": {
            "text/plain": [
              "'Fondos insuficientes'"
            ],
            "application/vnd.google.colaboratory.intrinsic+json": {
              "type": "string"
            }
          },
          "metadata": {},
          "execution_count": 5
        }
      ]
    },
    {
      "cell_type": "markdown",
      "source": [
        "## **Ejercicio 1.1**\n",
        "\n",
        "Retomando el ejercicio anterior, vemos que al hacer todos los atributos privados ahora no se pueden editar de forma directa lo cual esta muy bien.\n",
        "\n",
        "Pero tenemos un inconveniente, que pasa si queremos ver el saldo o checkear si tiene o no tarjeta.\n",
        "\n",
        "Para ello se utilizan unos metodos creados por el usuario llamados:\n",
        "\n",
        "* getter -> retornar el valor de un atributo\n",
        "* setter -> editar el valor de un atributo\n",
        "Nota: getter y setter es una convencion utilizada para darle nombre a estos métodos; y no siempre vamos a definirlos para todos los atributos\n",
        "\n",
        "Copiamos de nuevo nuestra clase anterior y trabajamos sobre ella"
      ],
      "metadata": {
        "id": "tyOXUW7qNCAt"
      }
    },
    {
      "cell_type": "code",
      "execution_count": 6,
      "metadata": {
        "id": "u5_GzS_aNZKb"
      },
      "outputs": [],
      "source": [
        "class ClienteBg:\n",
        "  def __init__(self, nombre, numero_cuenta, saldo, tiene_tarjeta = False):\n",
        "    self.__nombre = nombre\n",
        "    self.__numero_cuenta = numero_cuenta\n",
        "    self.__saldo = saldo\n",
        "    self.__tiene_tarjeta = tiene_tarjeta\n",
        "\n",
        "  def __str__(self):  #\n",
        "    return f\"Informacion Bancaria \\nTitular: {self.__nombre} \\nCuenta: {self.__numero_cuenta} \"\n",
        "\n",
        "  def getTieneTarjeta(self): #Esta función se encarga de imprimir si tiene o no tarjeta\n",
        "    return f\"{self.__tiene_tarjeta}\"\n",
        "\n",
        "  def getSaldo(self): #Esta función se encarga de imprimir el saldo\n",
        "    return f\"{self.__saldo}\"\n",
        "\n",
        "  def consultarSaldo(self): #NO estamos obligados a usar el termino get podemos personalizarla si queremos\n",
        "    return f\"Su saldo es: {self.__saldo}\"\n",
        "\n",
        "  def setTieneTarjeta(self, estado_tarjeta): #Con este get ahora podriamos modificar el estado de tiene_tarjeta\n",
        "    self.__tiene_tarjeta = estado_tarjeta\n",
        "\n",
        "  def retirarDinero(self, cantidad):\n",
        "    if cantidad <= self.__saldo:\n",
        "      self.__saldo = self.__saldo - cantidad\n",
        "      return f\"Usted retiro de su cuenta {cantidad} y aun le quedan {self.__saldo} \"\n",
        "    else:\n",
        "      return f\"Fondos insuficientes\""
      ]
    },
    {
      "cell_type": "code",
      "source": [
        "cliente2Bbva = ClienteBg(\"Marcos\", 4545, 45000, False)\n",
        "print(cliente2Bbva)"
      ],
      "metadata": {
        "colab": {
          "base_uri": "https://localhost:8080/"
        },
        "id": "ntXsFR35PpuG",
        "outputId": "9cac1dea-4837-46d3-a3ed-5788c4dc8daa"
      },
      "execution_count": 7,
      "outputs": [
        {
          "output_type": "stream",
          "name": "stdout",
          "text": [
            "Informacion Bancaria \n",
            "Titular: Marcos \n",
            "Cuenta: 4545 \n"
          ]
        }
      ]
    },
    {
      "cell_type": "code",
      "source": [
        "cliente2Bbva.getTieneTarjeta() #Con el getter podemos ver si tiene tarjeta"
      ],
      "metadata": {
        "colab": {
          "base_uri": "https://localhost:8080/",
          "height": 35
        },
        "id": "iNlBIepbQNre",
        "outputId": "edc8dc8e-c8fb-43fc-8745-a87f0770806a"
      },
      "execution_count": 8,
      "outputs": [
        {
          "output_type": "execute_result",
          "data": {
            "text/plain": [
              "'False'"
            ],
            "application/vnd.google.colaboratory.intrinsic+json": {
              "type": "string"
            }
          },
          "metadata": {},
          "execution_count": 8
        }
      ]
    },
    {
      "cell_type": "code",
      "source": [
        "cliente2Bbva.getSaldo()  #Con el getter podemos ver el saldo"
      ],
      "metadata": {
        "colab": {
          "base_uri": "https://localhost:8080/",
          "height": 35
        },
        "id": "leQaHg0sQUeN",
        "outputId": "9bba1943-f1fb-49fd-84e2-fc16820c4786"
      },
      "execution_count": 9,
      "outputs": [
        {
          "output_type": "execute_result",
          "data": {
            "text/plain": [
              "'45000'"
            ],
            "application/vnd.google.colaboratory.intrinsic+json": {
              "type": "string"
            }
          },
          "metadata": {},
          "execution_count": 9
        }
      ]
    },
    {
      "cell_type": "code",
      "source": [
        "cliente2Bbva.consultarSaldo() #Pero tambien lo podemos hacer con consultar_saldo"
      ],
      "metadata": {
        "colab": {
          "base_uri": "https://localhost:8080/",
          "height": 35
        },
        "id": "MNzladQXQcHU",
        "outputId": "730ab330-8557-464c-9353-59a67de381cb"
      },
      "execution_count": 10,
      "outputs": [
        {
          "output_type": "execute_result",
          "data": {
            "text/plain": [
              "'Su saldo es: 45000'"
            ],
            "application/vnd.google.colaboratory.intrinsic+json": {
              "type": "string"
            }
          },
          "metadata": {},
          "execution_count": 10
        }
      ]
    },
    {
      "cell_type": "code",
      "source": [
        "cliente2Bbva.setTieneTarjeta(True) #Con el setter podemos editar tiene_tarjeta\n",
        "cliente2Bbva.getTieneTarjeta()"
      ],
      "metadata": {
        "colab": {
          "base_uri": "https://localhost:8080/",
          "height": 35
        },
        "id": "_vWe9TysQide",
        "outputId": "96788fe3-b4f8-4b60-a79b-fc5cef649292"
      },
      "execution_count": 11,
      "outputs": [
        {
          "output_type": "execute_result",
          "data": {
            "text/plain": [
              "'True'"
            ],
            "application/vnd.google.colaboratory.intrinsic+json": {
              "type": "string"
            }
          },
          "metadata": {},
          "execution_count": 11
        }
      ]
    },
    {
      "cell_type": "markdown",
      "source": [
        "## **Ejercicio 1.2**\n",
        "\n",
        "Veamos un nuevo concepto de clases llamado Herencia.\n",
        "\n",
        "En Python se puede usar la herencia entre clases, la cual nos permite crear clases a partir de otras clases heredando sus metodos y atributos; pudiendo sobreescribirlos.\n",
        "\n",
        "La herencia de clases nos sirve para cuando tenemos una clase que ya está hecha y decidimos hacer una nueva clase que es similar pero con algunas diferencias o características adicionales. La nueva clase se llama \"clase hija\" o \"subclase\", y la clase original se llama \"clase padre\" o \"superclase\".\n",
        "\n",
        "Vamos a trabajar con una clase padre o superclase llamada Persona, cada persona tiene un nombre, apellido, dni, nacionalidad y domicilio. Haremos estos atributos privados; crearemos getters y setters segun creamos correspondientes."
      ],
      "metadata": {
        "id": "ysCOFjCLRDH7"
      }
    },
    {
      "cell_type": "code",
      "source": [],
      "metadata": {
        "id": "lPSBTm8ORMlr"
      },
      "execution_count": null,
      "outputs": []
    }
  ]
}