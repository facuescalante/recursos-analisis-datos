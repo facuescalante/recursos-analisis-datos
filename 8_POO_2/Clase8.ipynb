{
  "nbformat": 4,
  "nbformat_minor": 0,
  "metadata": {
    "colab": {
      "provenance": [],
      "authorship_tag": "ABX9TyNbsWNf5unAsy52ToKMz4pX",
      "include_colab_link": true
    },
    "kernelspec": {
      "name": "python3",
      "display_name": "Python 3"
    },
    "language_info": {
      "name": "python"
    }
  },
  "cells": [
    {
      "cell_type": "markdown",
      "metadata": {
        "id": "view-in-github",
        "colab_type": "text"
      },
      "source": [
        "<a href=\"https://colab.research.google.com/github/Andresmup/recursos-analisis-datos/blob/dev/8_POO_2/Clase8.ipynb\" target=\"_parent\"><img src=\"https://colab.research.google.com/assets/colab-badge.svg\" alt=\"Open In Colab\"/></a>"
      ]
    },
    {
      "cell_type": "markdown",
      "source": [
        "# CLASE 8"
      ],
      "metadata": {
        "id": "TiYOf0A9W4F8"
      }
    },
    {
      "cell_type": "markdown",
      "source": [
        "## PROGRAMACIÓN ORIENTADA A OBJETOS 2"
      ],
      "metadata": {
        "id": "wI6oP4bEW7Km"
      }
    },
    {
      "cell_type": "markdown",
      "source": [
        "### Ejercicio 1.0\n",
        "\n",
        "Repasemos lo que vimos la clase pasada.\n",
        "\n",
        "Crearemos una clase ClienteBanco la cual tendra un nombre (priv), numero_cuenta(priv), saldo(priv), tiene_tarjeta(priv) default False.\n",
        "\n",
        "Ademas vamos a incluir un método llamado retirarDinero el cual tomara un numero y en función de si tiene o no el saldo suficiente nos dejara o no realizar la operación."
      ],
      "metadata": {
        "id": "s-jmVTh_W_GC"
      }
    },
    {
      "cell_type": "code",
      "execution_count": 1,
      "metadata": {
        "id": "qFp2eugeVW2B"
      },
      "outputs": [],
      "source": [
        "class ClienteBanco: #Creamos la clase\n",
        "  def __init__(self, nombre, numero_cuenta, saldo, tiene_tarjeta = False): #Inicializamos\n",
        "    self.__nombre = nombre #Protegemos la informacion haciendola privada\n",
        "    self.__numero_cuenta = numero_cuenta\n",
        "    self.__saldo = saldo\n",
        "    self.__tiene_tarjeta = tiene_tarjeta\n",
        "\n",
        "  def __str__(self): #Definimos como queremos que se vea al inprimirla\n",
        "    return f\"Informacion Bancaria \\nTitular: {self.__nombre} \\nCuenta: {self.__numero_cuenta}\"\n",
        "\n",
        "  def retirarDinero(self, cantidad): #Creamos nuestra funcion para retirar dinero\n",
        "    if cantidad <= self.__saldo: #Con un if verificamos si hay sufiente dinero\n",
        "      self.__saldo = self.__saldo - cantidad #Recalculamos el saldo\n",
        "      return f\"Usted retiro de su cuenta {cantidad} y le quedaron {self.__saldo}\" #Imprimimos cuanto saco y cuanto le queda\n",
        "    else:\n",
        "      return f\"Fondos insuficientes\" #En caso de no tener dinero suficiente imprimimos un mensaje"
      ]
    },
    {
      "cell_type": "code",
      "source": [
        "cliente1 = ClienteBanco(\"Andres\", 1111, 200000, True)\n",
        "print(cliente1)"
      ],
      "metadata": {
        "colab": {
          "base_uri": "https://localhost:8080/"
        },
        "id": "yT0JXmTCaZmq",
        "outputId": "51d7eadd-a2e9-410d-b44e-8ed92301157b"
      },
      "execution_count": 2,
      "outputs": [
        {
          "output_type": "stream",
          "name": "stdout",
          "text": [
            "Informacion Bancaria \n",
            "Titular: Andres \n",
            "Cuenta: 1111\n"
          ]
        }
      ]
    },
    {
      "cell_type": "code",
      "source": [
        "cliente1.retirarDinero(10000)"
      ],
      "metadata": {
        "colab": {
          "base_uri": "https://localhost:8080/",
          "height": 35
        },
        "id": "9Qqn8X4Pampd",
        "outputId": "ab8aa09d-3063-45aa-b896-7f21961ffcf5"
      },
      "execution_count": 3,
      "outputs": [
        {
          "output_type": "execute_result",
          "data": {
            "text/plain": [
              "'Usted retiro de su cuenta 10000 y le quedaron 190000'"
            ],
            "application/vnd.google.colaboratory.intrinsic+json": {
              "type": "string"
            }
          },
          "metadata": {},
          "execution_count": 3
        }
      ]
    },
    {
      "cell_type": "code",
      "source": [
        "cliente1.retirarDinero(666666)"
      ],
      "metadata": {
        "colab": {
          "base_uri": "https://localhost:8080/",
          "height": 35
        },
        "id": "wUSEGGlaatuY",
        "outputId": "2f870ef3-3e72-4869-9ab8-baf5a03fb1f8"
      },
      "execution_count": 4,
      "outputs": [
        {
          "output_type": "execute_result",
          "data": {
            "text/plain": [
              "'Fondos insuficientes'"
            ],
            "application/vnd.google.colaboratory.intrinsic+json": {
              "type": "string"
            }
          },
          "metadata": {},
          "execution_count": 4
        }
      ]
    },
    {
      "cell_type": "markdown",
      "source": [
        "Ejercicio 1.1\n",
        "\n",
        "Retomando el ejercicio anterior, vemos que al hacer todos los atributos privados ahora no se pueden editar de forma directa lo cual esta muy bien.\n",
        "\n",
        "Pero tenemos un inconveniente, que pasa si queremos ver el saldo o checkear si tiene o no tarjeta.\n",
        "\n",
        "Para ello se utilizan unos metodos creados por el usuario llamados:\n",
        "\n",
        "- getter -> retornar el valor de un atributo\n",
        "- setter -> editar el valor de un atributo\n",
        "\n",
        "Nota: getter y setter es una convencion utilizada para darle nombre a estos métodos; y no siempre vamos a definirlos para todos los atributos\n",
        "\n",
        "Copiamos de nuevo nuestra clase anterior y trabajamos sobre ella"
      ],
      "metadata": {
        "id": "cT7UwEMob9Bl"
      }
    },
    {
      "cell_type": "code",
      "source": [
        "class ClienteBanco:\n",
        "  def __init__(self, nombre, numero_cuenta, saldo, tiene_tarjeta = False):\n",
        "    self.__nombre = nombre\n",
        "    self.__numero_cuenta = numero_cuenta\n",
        "    self.__saldo = saldo\n",
        "    self.__tiene_tarjeta = tiene_tarjeta\n",
        "\n",
        "  def __str__(self):\n",
        "    return f\"Informacion Bancaria \\nTitular: {self.__nombre} \\nCuenta: {self.__numero_cuenta}\"\n",
        "\n",
        "  def getTieneTarjeta(self): #Esta función se encarga de imprimir si tiene o no tarjeta\n",
        "    return f\"{self.__tiene_tarjeta}\"\n",
        "\n",
        "  def getSaldo(self): #Esta función se encarga de imprimir el saldo\n",
        "    return f\"{self.__saldo}\"\n",
        "\n",
        "  def consultarSaldo(self): #NO estamos obligados a usar el termino get podemos personalizarla si queremos\n",
        "    return f\"Su saldo es: {self.__saldo}\"\n",
        "\n",
        "  def setTieneTarjeta(self, estado_tarjeta): #Con este get ahora podriamos modificar el estado de tiene_tarjeta\n",
        "    self.__tiene_tarjeta = estado_tarjeta\n",
        "\n",
        "  def retirarDinero(self, cantidad):\n",
        "    if cantidad <= self.__saldo:\n",
        "      self.__saldo = self.__saldo - cantidad\n",
        "      return f\"Usted retiro de su cuenta {cantidad} y le quedaron {self.__saldo}\"\n",
        "    else:\n",
        "      return f\"Fondos insuficientes\""
      ],
      "metadata": {
        "id": "BBFxac0ob8mf"
      },
      "execution_count": 5,
      "outputs": []
    },
    {
      "cell_type": "code",
      "source": [
        "cliente2 = ClienteBanco(\"Pablo\", 7766, 500000, False)\n",
        "print(cliente2)"
      ],
      "metadata": {
        "colab": {
          "base_uri": "https://localhost:8080/"
        },
        "id": "A1TBXZmTd_sa",
        "outputId": "64840070-f687-4828-f227-6466b2ee9ce5"
      },
      "execution_count": 6,
      "outputs": [
        {
          "output_type": "stream",
          "name": "stdout",
          "text": [
            "Informacion Bancaria \n",
            "Titular: Pablo \n",
            "Cuenta: 7766\n"
          ]
        }
      ]
    },
    {
      "cell_type": "code",
      "source": [
        "cliente2.getTieneTarjeta() #Con el getter podemos ver si tiene tarjeta"
      ],
      "metadata": {
        "colab": {
          "base_uri": "https://localhost:8080/",
          "height": 35
        },
        "id": "ySFhQm3-eIXt",
        "outputId": "ece0bd88-fe4f-4a1f-8278-c555fb034e16"
      },
      "execution_count": 7,
      "outputs": [
        {
          "output_type": "execute_result",
          "data": {
            "text/plain": [
              "'False'"
            ],
            "application/vnd.google.colaboratory.intrinsic+json": {
              "type": "string"
            }
          },
          "metadata": {},
          "execution_count": 7
        }
      ]
    },
    {
      "cell_type": "code",
      "source": [
        "cliente2.getSaldo() #Con el getter podemos ver el saldo"
      ],
      "metadata": {
        "colab": {
          "base_uri": "https://localhost:8080/",
          "height": 35
        },
        "id": "70bYAMupeSqc",
        "outputId": "effe2428-eeaa-40f7-c090-bc6d74d42147"
      },
      "execution_count": 8,
      "outputs": [
        {
          "output_type": "execute_result",
          "data": {
            "text/plain": [
              "'500000'"
            ],
            "application/vnd.google.colaboratory.intrinsic+json": {
              "type": "string"
            }
          },
          "metadata": {},
          "execution_count": 8
        }
      ]
    },
    {
      "cell_type": "code",
      "source": [
        "cliente2.consultarSaldo() #Pero tambien lo podemos hacer con consultar_saldo"
      ],
      "metadata": {
        "colab": {
          "base_uri": "https://localhost:8080/",
          "height": 35
        },
        "id": "KSrMjnoEeY7D",
        "outputId": "8ef84470-c59a-4124-ccaf-6a40916da2f9"
      },
      "execution_count": 9,
      "outputs": [
        {
          "output_type": "execute_result",
          "data": {
            "text/plain": [
              "'Su saldo es: 500000'"
            ],
            "application/vnd.google.colaboratory.intrinsic+json": {
              "type": "string"
            }
          },
          "metadata": {},
          "execution_count": 9
        }
      ]
    },
    {
      "cell_type": "code",
      "source": [
        "cliente2.setTieneTarjeta(True) #Con el setter podemos editar tiene_tarjeta\n",
        "cliente2.getTieneTarjeta()"
      ],
      "metadata": {
        "colab": {
          "base_uri": "https://localhost:8080/",
          "height": 35
        },
        "id": "J_mNWDuGeloJ",
        "outputId": "d327cc10-7350-4e76-ef63-204dc91dfdac"
      },
      "execution_count": 10,
      "outputs": [
        {
          "output_type": "execute_result",
          "data": {
            "text/plain": [
              "'True'"
            ],
            "application/vnd.google.colaboratory.intrinsic+json": {
              "type": "string"
            }
          },
          "metadata": {},
          "execution_count": 10
        }
      ]
    },
    {
      "cell_type": "markdown",
      "source": [
        "### Ejercicio 1.2\n",
        "\n",
        "Veamos un nuevo concepto de clases llamado Herencia.\n",
        "\n",
        "En Python se puede usar la herencia entre clases, la cual nos permite crear clases a partir de otras clases heredando sus metodos y atributos; pudiendo sobreescribirlos.\n",
        "\n",
        "La herencia de clases nos sirve para cuando tenemos una clase que ya está hecha y decidimos hacer una nueva clase que es similar pero con algunas diferencias o características adicionales. La nueva clase se llama \"clase hija\" o \"subclase\", y la clase original se llama \"clase padre\" o \"superclase\".\n",
        "\n",
        "Vamos a trabajar con una clase padre o superclase llamada Persona, cada persona tiene un nombre, apellido, dni, nacionalidad y domicilio. Haremos estos atributos privados; crearemos getters y setters segun creamos correspondientes."
      ],
      "metadata": {
        "id": "8KnVFymTipie"
      }
    },
    {
      "cell_type": "code",
      "source": [
        "class Persona:\n",
        "  def __init__(self, nombre, apellido, dni, nacionalidad, domicilio):\n",
        "    self.__nombre = nombre\n",
        "    self.__apellido = apellido\n",
        "    self.__dni = dni\n",
        "    self.__nacionalidad = nacionalidad\n",
        "    self.__domicilio = domicilio\n",
        "\n",
        "  def __str__(self):\n",
        "    return f\"Nombre: {self.__nombre} \\nApellido: {self.__apellido}\"\n",
        "\n",
        "  def getNombre(self): #Me permite ver el nombre de la persona\n",
        "    return f\"{self.__nombre}\"\n",
        "\n",
        "  def getApellido(self): #Me permite ver el apellido de la persona\n",
        "    return f\"{self.__apellido}\"\n",
        "\n",
        "  def getDni(self): #Me permite ver el dni de la persona\n",
        "    return f\"{self.__dni}\"\n",
        "\n",
        "  def getNacionalidad(self): #Me permite ver la nacionalidad de la persona\n",
        "    return f\"{self.__nacionalidad}\"\n",
        "\n",
        "  def getDomicilio(self): #Me permite ver el domicilio de la persona\n",
        "    return f\"{self.__domicilio}\"\n",
        "\n",
        "  def setDomicilio(self, nuevo_domicilio): #Me permite editar el domicilio de la persona\n",
        "    self.__domicilio = nuevo_domicilio"
      ],
      "metadata": {
        "id": "drqxKDfgj3av"
      },
      "execution_count": 11,
      "outputs": []
    },
    {
      "cell_type": "code",
      "source": [
        "persona1 = Persona(\"Andres\", \"Muñoz\", 11111, \"Argentina\", \"Mendoza\")\n",
        "print(persona1)"
      ],
      "metadata": {
        "colab": {
          "base_uri": "https://localhost:8080/"
        },
        "id": "lqTXF5ucmgKZ",
        "outputId": "5b4b3ada-ffec-4d18-a50c-3dfccb662b32"
      },
      "execution_count": 12,
      "outputs": [
        {
          "output_type": "stream",
          "name": "stdout",
          "text": [
            "Nombre: Andres \n",
            "Apellido: Muñoz\n"
          ]
        }
      ]
    },
    {
      "cell_type": "code",
      "source": [
        "persona1.getDni(), persona1.getNacionalidad(), persona1.getDomicilio()"
      ],
      "metadata": {
        "colab": {
          "base_uri": "https://localhost:8080/"
        },
        "id": "fbrKvv-HmsgE",
        "outputId": "a4de1e21-b73d-448c-af18-cbff04e55675"
      },
      "execution_count": 13,
      "outputs": [
        {
          "output_type": "execute_result",
          "data": {
            "text/plain": [
              "('11111', 'Argentina', 'Mendoza')"
            ]
          },
          "metadata": {},
          "execution_count": 13
        }
      ]
    },
    {
      "cell_type": "code",
      "source": [
        "persona1.setDomicilio(\"Las Heras - Mendoza\")\n",
        "persona1.getDomicilio()"
      ],
      "metadata": {
        "colab": {
          "base_uri": "https://localhost:8080/",
          "height": 35
        },
        "id": "XS0c2gU9nRXx",
        "outputId": "56e9409d-3a4d-4af7-dc2c-40ab31ef73c4"
      },
      "execution_count": 14,
      "outputs": [
        {
          "output_type": "execute_result",
          "data": {
            "text/plain": [
              "'Las Heras - Mendoza'"
            ],
            "application/vnd.google.colaboratory.intrinsic+json": {
              "type": "string"
            }
          },
          "metadata": {},
          "execution_count": 14
        }
      ]
    },
    {
      "cell_type": "markdown",
      "source": [
        "Ahora tenemos que crear una clase llamada EmpleadoAlkemy que tambien va a tener un nombre, apellido, dni, nacionalidad y domicilio. Pero tambien va a tener valores nuevos como cvu, cargo y estado_cobro (default False), ademas tenemos que definir un método depositarSueldo\n",
        "\n",
        "Como no queremos repetir el código que hicimos antes podemos usar herencia. Usando la clase Persona como padre y EmpleadoAlkemy como hija.\n",
        "\n",
        "Nota: `super()` sirve para llamar a los métodos de la clase padre desde la clase hija.\n",
        "\n"
      ],
      "metadata": {
        "id": "-qKjGfaAnszG"
      }
    },
    {
      "cell_type": "code",
      "source": [
        "class EmpleadoAlkemy(Persona): #Necesito definir la clase Persona como parametro\n",
        "  def __init__(self, nombre, apellido, dni, nacionalidad, domicilio, cvu, cargo, estado_cobro = False): #Inicializamos\n",
        "    super().__init__(nombre, apellido, dni, nacionalidad, domicilio) #Llamos al __init__ de Persona\n",
        "    self.__cvu = cvu #Ahora inicializamos los atributos exclusivos de EmpleadoAlkemy\n",
        "    self.__cargo = cargo\n",
        "    self.__estado_cobro = estado_cobro\n",
        "\n",
        "  \"\"\" Revisemos que pasaria si ejecutamos esto\n",
        "  def __str__(self):\n",
        "    return f\"{self.__nombre} {self.__apellido} se desempeña como {self.__cargo}\"\n",
        "  \"\"\"\n",
        "  def __str__(self):\n",
        "    return f\"{self.getNombre()} {self.getApellido()} se desempeña como {self.__cargo}\"\n",
        "\n",
        "  #Vamos a agregar los nuevos getter y setter que podamos llegar a necesitar\n",
        "  def getCargo(self):\n",
        "    return f\"{self.__cargo}\"\n",
        "\n",
        "  def getEstadoCobro (self):\n",
        "    return f\"{self.__estado_cobro}\"\n",
        "\n",
        "  def setCargo(self, nuevo_cargo):\n",
        "    self.__cargo = nuevo_cargo\n",
        "\n",
        "  def setEstadoCobro (self, nuevo_estado_cobro):\n",
        "    self.__estado_cobro = nuevo_estado_cobro\n",
        "\n",
        "  def depositarSueldo(self): #Creamos nuestro metodo depositarSueldo\n",
        "    if self.__estado_cobro:\n",
        "      return f\"A la cuenta {self.__cvu} de {self.getNombre()} {self.getApellido()} se le deposito el sueldo de {self.__cargo}\"\n",
        "    else:\n",
        "      return f\"Usted no ha trabajado el ultimo mes\""
      ],
      "metadata": {
        "id": "gABXTd_0oUDN"
      },
      "execution_count": 15,
      "outputs": []
    },
    {
      "cell_type": "code",
      "source": [
        "empleado1 = EmpleadoAlkemy(\"Andres\", \"Muñoz\", 123123, \"Arg\", \"Mendoza\",999999, \"profesor\", True)\n",
        "print(empleado1)"
      ],
      "metadata": {
        "colab": {
          "base_uri": "https://localhost:8080/"
        },
        "id": "maGGawO3tDgh",
        "outputId": "d9b05c4a-95ac-452c-a8c4-3e662b067671"
      },
      "execution_count": 16,
      "outputs": [
        {
          "output_type": "stream",
          "name": "stdout",
          "text": [
            "Andres Muñoz se desempeña como profesor\n"
          ]
        }
      ]
    },
    {
      "cell_type": "code",
      "source": [
        "empleado1.getDni(), empleado1.getNacionalidad(), empleado1.getDomicilio()"
      ],
      "metadata": {
        "colab": {
          "base_uri": "https://localhost:8080/"
        },
        "id": "CSnek3ZQudg6",
        "outputId": "1e1583a8-e00a-49fc-a330-d3d96fa5cf59"
      },
      "execution_count": 17,
      "outputs": [
        {
          "output_type": "execute_result",
          "data": {
            "text/plain": [
              "('123123', 'Arg', 'Mendoza')"
            ]
          },
          "metadata": {},
          "execution_count": 17
        }
      ]
    },
    {
      "cell_type": "code",
      "source": [
        "empleado1.setDomicilio(\"Las Heras - Mendoza\")\n",
        "empleado1.getDomicilio()"
      ],
      "metadata": {
        "colab": {
          "base_uri": "https://localhost:8080/",
          "height": 35
        },
        "id": "rUx7-hU2unuf",
        "outputId": "4dd5fa09-0cf9-4779-d305-2c144b295956"
      },
      "execution_count": 18,
      "outputs": [
        {
          "output_type": "execute_result",
          "data": {
            "text/plain": [
              "'Las Heras - Mendoza'"
            ],
            "application/vnd.google.colaboratory.intrinsic+json": {
              "type": "string"
            }
          },
          "metadata": {},
          "execution_count": 18
        }
      ]
    },
    {
      "cell_type": "code",
      "source": [
        "empleado1.depositarSueldo()"
      ],
      "metadata": {
        "colab": {
          "base_uri": "https://localhost:8080/",
          "height": 35
        },
        "id": "KNWvUzmouq1B",
        "outputId": "c1136046-38b3-4218-c32e-f1d2b7f4065a"
      },
      "execution_count": 19,
      "outputs": [
        {
          "output_type": "execute_result",
          "data": {
            "text/plain": [
              "'A la cuenta 999999 de Andres Muñoz se le deposito el sueldo de profesor'"
            ],
            "application/vnd.google.colaboratory.intrinsic+json": {
              "type": "string"
            }
          },
          "metadata": {},
          "execution_count": 19
        }
      ]
    },
    {
      "cell_type": "code",
      "source": [
        "empleado1.setEstadoCobro(False)\n",
        "empleado1.getEstadoCobro()"
      ],
      "metadata": {
        "colab": {
          "base_uri": "https://localhost:8080/",
          "height": 35
        },
        "id": "LHS-RZgzu6jb",
        "outputId": "d43128f4-3562-41f0-d6b1-04c563aa9c7c"
      },
      "execution_count": 20,
      "outputs": [
        {
          "output_type": "execute_result",
          "data": {
            "text/plain": [
              "'False'"
            ],
            "application/vnd.google.colaboratory.intrinsic+json": {
              "type": "string"
            }
          },
          "metadata": {},
          "execution_count": 20
        }
      ]
    },
    {
      "cell_type": "code",
      "source": [
        "empleado1.depositarSueldo()"
      ],
      "metadata": {
        "colab": {
          "base_uri": "https://localhost:8080/",
          "height": 35
        },
        "id": "gH1EXUFuFfji",
        "outputId": "6dbd00c8-aca7-4630-bb40-56b59c85d282"
      },
      "execution_count": 21,
      "outputs": [
        {
          "output_type": "execute_result",
          "data": {
            "text/plain": [
              "'Usted no ha trabajado el ultimo mes'"
            ],
            "application/vnd.google.colaboratory.intrinsic+json": {
              "type": "string"
            }
          },
          "metadata": {},
          "execution_count": 21
        }
      ]
    },
    {
      "cell_type": "markdown",
      "source": [
        "¿Que pasaria si quisieramos crear una nueva clase llamada AlumnoAlkemy?\n",
        "\n",
        "Cada alumno tambien va a tener un nombre, apellido, dni, nacionalidad y domicilio. Pero tambien tendriamos que tener en cuenta la comisión, su nota final y si pago la matricula.\n",
        "\n",
        "Cada alumno va a poder recibir un certificado el cual tiene que indicar sus datos, que fue lo que estudio y cual fue su nota. Pero solo aquellos que hayan terminado de cancelar la matricula podran acceder a su certificado"
      ],
      "metadata": {
        "id": "pP3CUAXLF_AM"
      }
    },
    {
      "cell_type": "code",
      "source": [
        "class AlumnoAlkemy(Persona): #Necesito definir la clase Persona como parametro\n",
        "  def __init__(self, nombre, apellido, dni, nacionalidad, domicilio, nota_final, comision = \"Analisis datos\", matricula_cancelada = False): #Inicializamos\n",
        "    super().__init__(nombre, apellido, dni, nacionalidad, domicilio) #Llamos al __init__ de Persona\n",
        "    self.__nota_final = nota_final #Ahora inicializamos los atributos exclusivos de AlumnoAlkemy\n",
        "    self.__comision = comision\n",
        "    self.__matricula_cancelada = matricula_cancelada\n",
        "\n",
        "  def __str__(self):\n",
        "    return f\"{self.getNombre()} {self.getApellido()} estudia {self.__comision}\"\n",
        "\n",
        "  #Vamos a agregar los nuevos getter y setter que podamos llegar a necesitar\n",
        "  def getNotaFinal(self):\n",
        "    return f\"{self.__nota_final}\"\n",
        "\n",
        "  def getComision (self):\n",
        "    return f\"{self.__comision}\"\n",
        "\n",
        "  def getMatriculaCancelada (self):\n",
        "    return f\"{self.__matricula_cancelada}\"\n",
        "\n",
        "  def setMatriculaCancelada(self, cambio_matricula):\n",
        "    self.__matricula_cancelada = cambio_matricula\n",
        "\n",
        "\n",
        "  def recibirCertificado(self): #Creamos nuestro metodo recibirCertificado\n",
        "    if self.__matricula_cancelada:\n",
        "      return f\"El alumno {self.getNombre()} {self.getApellido()} obtuvo una nota de {self.__nota_final} durante su cursada en {self.__comision}\"\n",
        "    else:\n",
        "      return f\"Por favor cancele su matricula\""
      ],
      "metadata": {
        "id": "oBOjCmM5G8jj"
      },
      "execution_count": 22,
      "outputs": []
    },
    {
      "cell_type": "code",
      "source": [
        "alumno1 =  AlumnoAlkemy(\"Andres\", \"Muñoz\", 555555, \"Arg\", \"Mendoza\", 8 )\n",
        "print(alumno1)"
      ],
      "metadata": {
        "colab": {
          "base_uri": "https://localhost:8080/"
        },
        "id": "6x9WdaRKIaNS",
        "outputId": "aa3def70-17d6-401f-83ca-5a831af73ffe"
      },
      "execution_count": 23,
      "outputs": [
        {
          "output_type": "stream",
          "name": "stdout",
          "text": [
            "Andres Muñoz estudia Analisis datos\n"
          ]
        }
      ]
    },
    {
      "cell_type": "code",
      "source": [
        "alumno1.recibirCertificado()"
      ],
      "metadata": {
        "colab": {
          "base_uri": "https://localhost:8080/",
          "height": 35
        },
        "id": "HS45Dax_IrmW",
        "outputId": "b0e1aacb-519e-4b6f-9ab4-bbde1010a480"
      },
      "execution_count": 24,
      "outputs": [
        {
          "output_type": "execute_result",
          "data": {
            "text/plain": [
              "'Por favor cancele su matricula'"
            ],
            "application/vnd.google.colaboratory.intrinsic+json": {
              "type": "string"
            }
          },
          "metadata": {},
          "execution_count": 24
        }
      ]
    },
    {
      "cell_type": "code",
      "source": [
        "alumno1.setMatriculaCancelada(True)\n",
        "alumno1.getNombre(), alumno1.getApellido(), alumno1.getMatriculaCancelada()"
      ],
      "metadata": {
        "colab": {
          "base_uri": "https://localhost:8080/"
        },
        "id": "6zCj6WIlI1uz",
        "outputId": "48110106-f360-4b99-9064-f5ba0113beb0"
      },
      "execution_count": 25,
      "outputs": [
        {
          "output_type": "execute_result",
          "data": {
            "text/plain": [
              "('Andres', 'Muñoz', 'True')"
            ]
          },
          "metadata": {},
          "execution_count": 25
        }
      ]
    },
    {
      "cell_type": "code",
      "source": [
        "alumno1.recibirCertificado()"
      ],
      "metadata": {
        "colab": {
          "base_uri": "https://localhost:8080/",
          "height": 35
        },
        "id": "72dcbDM6JMh8",
        "outputId": "6cc485a1-6f39-4c84-f35f-2df80f56951c"
      },
      "execution_count": 26,
      "outputs": [
        {
          "output_type": "execute_result",
          "data": {
            "text/plain": [
              "'El alumno Andres Muñoz obtuvo una nota de 8 durante su cursada en Analisis datos'"
            ],
            "application/vnd.google.colaboratory.intrinsic+json": {
              "type": "string"
            }
          },
          "metadata": {},
          "execution_count": 26
        }
      ]
    },
    {
      "cell_type": "markdown",
      "source": [
        "### Ejercicio 1.3\n",
        "\n",
        "Creemos otro ejemplo y veamos que al trabajar con atributos publicos no es necesario tener que crear los getter y setter.\n",
        "\n",
        "Clase padre -> Animal\n",
        "- Atributos: clase, especie, tipo (public)\n",
        "- Metodo: emitir sonido (pass)\n",
        "\n",
        "Clase hija -> Perro\n",
        "- Atributos propios: nombre (private)\n",
        "- Metodos propios: darPata\n",
        "\n",
        "Clase hija -> Gallina\n",
        "- Atributos propios = huevos (default False)\n",
        "- Metodos propios: hacerTortilla (solo si huevos = True)\n"
      ],
      "metadata": {
        "id": "54Bx6zgMJzRh"
      }
    },
    {
      "cell_type": "code",
      "source": [
        "class Animal: #Clase Padre\n",
        "  def __init__(self, clase, especie, tipo): #Inicializacion\n",
        "    self.clase = clase #Atributos publicos\n",
        "    self.especie = especie\n",
        "    self.tipo = tipo\n",
        "\n",
        "  def emitirSonido(self):\n",
        "    pass\n",
        "\n",
        "  def __str__(self):\n",
        "    return f\"Clase: {self.clase}, Especie: {self.especie}, Tipo: {self.tipo}\""
      ],
      "metadata": {
        "id": "FdJ-SxPrJy0T"
      },
      "execution_count": 27,
      "outputs": []
    },
    {
      "cell_type": "code",
      "source": [
        "raton = Animal(\"Mamifero\",\"Roedor\",\"Salvaje\") #Creamos un objeto a partir de la clase animal\n",
        "print(raton)"
      ],
      "metadata": {
        "colab": {
          "base_uri": "https://localhost:8080/"
        },
        "id": "J5458qrZK4Z-",
        "outputId": "ce9d0372-aa5a-447f-f5ac-c965ffdb91d8"
      },
      "execution_count": 28,
      "outputs": [
        {
          "output_type": "stream",
          "name": "stdout",
          "text": [
            "Clase: Mamifero, Especie: Roedor, Tipo: Salvaje\n"
          ]
        }
      ]
    },
    {
      "cell_type": "code",
      "source": [
        "raton.emitirSonido() #Vemos que el pass hace que no ocurra nada cuando en un objeto de Animal llamamos a emitirSonido"
      ],
      "metadata": {
        "id": "_RYRu_UHPQN8"
      },
      "execution_count": 29,
      "outputs": []
    },
    {
      "cell_type": "code",
      "source": [
        "class Perro(Animal): #Clase hija\n",
        "  def __init__(self, clase, especie, tipo, nombre): #Inicializamos\n",
        "    super().__init__(clase, especie, tipo)\n",
        "    self.__nombre = nombre #El nombre es privado\n",
        "\n",
        "  def __str__(self):\n",
        "    return f\"Nombre: {self.__nombre}, Clase: {self.clase}, Especie: {self.especie}, Tipo: {self.tipo}\"\n",
        "\n",
        "  def getNombre(self):\n",
        "    return f\"{self.__nombre}\"\n",
        "\n",
        "  def emitirSonido(self):\n",
        "    return \"¡Guau guau!\"\n",
        "\n",
        "  def darLaPata(self):\n",
        "    return f\"{self.__nombre} da la pata.\""
      ],
      "metadata": {
        "id": "f3ZMrdJoLBA5"
      },
      "execution_count": 30,
      "outputs": []
    },
    {
      "cell_type": "code",
      "source": [
        "perro = Perro(\"Mamífero\", \"Canino\", \"Doméstico\", \"Fatiga\")\n",
        "print(perro)"
      ],
      "metadata": {
        "colab": {
          "base_uri": "https://localhost:8080/"
        },
        "id": "ayrMFjWfLo7l",
        "outputId": "ecbea64d-9dde-46e0-8afa-b9dccddd0b97"
      },
      "execution_count": 31,
      "outputs": [
        {
          "output_type": "stream",
          "name": "stdout",
          "text": [
            "Nombre: Fatiga, Clase: Mamífero, Especie: Canino, Tipo: Doméstico\n"
          ]
        }
      ]
    },
    {
      "cell_type": "code",
      "source": [
        "perro.getNombre()"
      ],
      "metadata": {
        "colab": {
          "base_uri": "https://localhost:8080/",
          "height": 35
        },
        "id": "cF1dfGfoLqdE",
        "outputId": "17158fe0-4c40-45b7-8697-025f10f5ea82"
      },
      "execution_count": 32,
      "outputs": [
        {
          "output_type": "execute_result",
          "data": {
            "text/plain": [
              "'Fatiga'"
            ],
            "application/vnd.google.colaboratory.intrinsic+json": {
              "type": "string"
            }
          },
          "metadata": {},
          "execution_count": 32
        }
      ]
    },
    {
      "cell_type": "code",
      "source": [
        "perro.darLaPata()"
      ],
      "metadata": {
        "colab": {
          "base_uri": "https://localhost:8080/",
          "height": 35
        },
        "id": "1tNCVZn8Lt-L",
        "outputId": "e12e61de-a70e-410b-e97e-4fa56662afbf"
      },
      "execution_count": 33,
      "outputs": [
        {
          "output_type": "execute_result",
          "data": {
            "text/plain": [
              "'Fatiga da la pata.'"
            ],
            "application/vnd.google.colaboratory.intrinsic+json": {
              "type": "string"
            }
          },
          "metadata": {},
          "execution_count": 33
        }
      ]
    },
    {
      "cell_type": "code",
      "source": [
        "perro.emitirSonido()"
      ],
      "metadata": {
        "colab": {
          "base_uri": "https://localhost:8080/",
          "height": 35
        },
        "id": "RXUpkbsjPcuS",
        "outputId": "e27801bf-f3df-4d94-d358-4ca93d05f4f9"
      },
      "execution_count": 34,
      "outputs": [
        {
          "output_type": "execute_result",
          "data": {
            "text/plain": [
              "'¡Guau guau!'"
            ],
            "application/vnd.google.colaboratory.intrinsic+json": {
              "type": "string"
            }
          },
          "metadata": {},
          "execution_count": 34
        }
      ]
    },
    {
      "cell_type": "code",
      "source": [
        "class Gallina(Animal):\n",
        "  def __init__(self, clase, especie, tipo, huevos=False):\n",
        "    super().__init__(clase, especie, tipo)\n",
        "    self.huevos = huevos\n",
        "\n",
        "  def __str__(self):\n",
        "    return f\"Clase: {self.clase}, Especie: {self.especie}, Tipo: {self.tipo}, ¿Puso un huevo hoy?: {self.huevos}\"\n",
        "\n",
        "  def emitirSonido(self):\n",
        "    return \"¡Pok pok pok!\"\n",
        "\n",
        "  def hacerTortilla(self):\n",
        "    if self.huevos:\n",
        "      print(\"Ya puso un huevo puede hacer una tortilla\")\n",
        "    else:\n",
        "      print(\"Aun no puso un huevo\")"
      ],
      "metadata": {
        "id": "ytJHCNHpL2t2"
      },
      "execution_count": 35,
      "outputs": []
    },
    {
      "cell_type": "code",
      "source": [
        "gallina = Gallina(\"Ave\", \"Gallina\", \"Granja\", False)\n",
        "print(gallina)\n",
        "gallina.hacerTortilla()"
      ],
      "metadata": {
        "colab": {
          "base_uri": "https://localhost:8080/"
        },
        "id": "NHzw3xmpMBt3",
        "outputId": "015f4fd9-e446-4a9c-96c7-00c161a65547"
      },
      "execution_count": 36,
      "outputs": [
        {
          "output_type": "stream",
          "name": "stdout",
          "text": [
            "Clase: Ave, Especie: Gallina, Tipo: Granja, ¿Puso un huevo hoy?: False\n",
            "Aun no puso un huevo\n"
          ]
        }
      ]
    },
    {
      "cell_type": "code",
      "source": [
        "gallina.huevo = True\n",
        "gallina.hacerTortilla()"
      ],
      "metadata": {
        "colab": {
          "base_uri": "https://localhost:8080/"
        },
        "id": "LrYBFCk2MHgp",
        "outputId": "2019f329-4179-4940-8863-843c43a6aa9e"
      },
      "execution_count": 37,
      "outputs": [
        {
          "output_type": "stream",
          "name": "stdout",
          "text": [
            "Aun no puso un huevo\n"
          ]
        }
      ]
    },
    {
      "cell_type": "code",
      "source": [
        "gallina.emitirSonido()"
      ],
      "metadata": {
        "colab": {
          "base_uri": "https://localhost:8080/",
          "height": 35
        },
        "id": "WcAqdHZZPicb",
        "outputId": "3d4e0e8b-2a67-44fa-d0cc-ce73775b4219"
      },
      "execution_count": 38,
      "outputs": [
        {
          "output_type": "execute_result",
          "data": {
            "text/plain": [
              "'¡Pok pok pok!'"
            ],
            "application/vnd.google.colaboratory.intrinsic+json": {
              "type": "string"
            }
          },
          "metadata": {},
          "execution_count": 38
        }
      ]
    },
    {
      "cell_type": "markdown",
      "source": [
        "### Ejercicio 1.4\n",
        "\n",
        "El poliformismo es muy util cuando tenemos varias clases con métodos iguales y tenemos que ejecutarlos.\n",
        "\n",
        "Veamos un ejemplo tenemos varios animales y todos hacen un sonido en particular."
      ],
      "metadata": {
        "id": "cJJ9eDGcMT5j"
      }
    },
    {
      "cell_type": "code",
      "source": [
        "class Vaca(Animal):\n",
        "    def emitirSonido(self):\n",
        "        return \"¡Muu!\""
      ],
      "metadata": {
        "id": "PLZ1Fz9jNKEz"
      },
      "execution_count": 39,
      "outputs": []
    },
    {
      "cell_type": "code",
      "source": [
        "class Cerdo(Animal):\n",
        "    def emitirSonido(self):\n",
        "        return \"¡Oink!\""
      ],
      "metadata": {
        "id": "01GI-U3RNLZn"
      },
      "execution_count": 40,
      "outputs": []
    },
    {
      "cell_type": "code",
      "source": [
        "class Oveja(Animal):\n",
        "    def emitirSonido(self):\n",
        "        return \"¡Beee!\""
      ],
      "metadata": {
        "id": "VtzgOEvMNLtJ"
      },
      "execution_count": 41,
      "outputs": []
    },
    {
      "cell_type": "code",
      "source": [
        "class Gallo(Animal):\n",
        "    def emitirSonido(self):\n",
        "        return \"¡Qui qui ri qui qui ri!\""
      ],
      "metadata": {
        "id": "ZUWZl4gANRXV"
      },
      "execution_count": 42,
      "outputs": []
    },
    {
      "cell_type": "code",
      "source": [
        "vaca = Vaca(\"Mamifero\", \"Bobino\", \"Granja\")\n",
        "cerdo = Cerdo(\"Mamifero\", \"Porcino\", \"Granja\")\n",
        "oveja = Oveja(\"Mamifero\", \"Equino\", \"Granja\")\n",
        "gallo = Gallo(\"Ave\", \"Pollo\", \"Granja\")"
      ],
      "metadata": {
        "id": "P33GvfGUNtzS"
      },
      "execution_count": 43,
      "outputs": []
    },
    {
      "cell_type": "markdown",
      "source": [
        "La forma clasica para ver el sonido que hace cada uno seria:"
      ],
      "metadata": {
        "id": "eCovxY-1NnDL"
      }
    },
    {
      "cell_type": "code",
      "source": [
        "vaca.emitirSonido()"
      ],
      "metadata": {
        "colab": {
          "base_uri": "https://localhost:8080/",
          "height": 35
        },
        "id": "wU_v2ezROqIf",
        "outputId": "5621e0d2-9b3d-4f7f-ba59-ed07070a9d79"
      },
      "execution_count": 44,
      "outputs": [
        {
          "output_type": "execute_result",
          "data": {
            "text/plain": [
              "'¡Muu!'"
            ],
            "application/vnd.google.colaboratory.intrinsic+json": {
              "type": "string"
            }
          },
          "metadata": {},
          "execution_count": 44
        }
      ]
    },
    {
      "cell_type": "code",
      "source": [
        "cerdo.emitirSonido()"
      ],
      "metadata": {
        "colab": {
          "base_uri": "https://localhost:8080/",
          "height": 35
        },
        "id": "X0EuhAIbOliO",
        "outputId": "a242f52f-df42-43a0-ffaf-98550c763fcc"
      },
      "execution_count": 45,
      "outputs": [
        {
          "output_type": "execute_result",
          "data": {
            "text/plain": [
              "'¡Oink!'"
            ],
            "application/vnd.google.colaboratory.intrinsic+json": {
              "type": "string"
            }
          },
          "metadata": {},
          "execution_count": 45
        }
      ]
    },
    {
      "cell_type": "code",
      "source": [
        "oveja.emitirSonido()"
      ],
      "metadata": {
        "colab": {
          "base_uri": "https://localhost:8080/",
          "height": 35
        },
        "id": "j0SHvxrGOoql",
        "outputId": "fb002051-d54f-4fc5-d75b-353cafe06d04"
      },
      "execution_count": 46,
      "outputs": [
        {
          "output_type": "execute_result",
          "data": {
            "text/plain": [
              "'¡Beee!'"
            ],
            "application/vnd.google.colaboratory.intrinsic+json": {
              "type": "string"
            }
          },
          "metadata": {},
          "execution_count": 46
        }
      ]
    },
    {
      "cell_type": "code",
      "source": [
        "gallo.emitirSonido()"
      ],
      "metadata": {
        "colab": {
          "base_uri": "https://localhost:8080/",
          "height": 35
        },
        "id": "3EFy1nLzNlXA",
        "outputId": "5324e3fa-e297-418e-d8db-b8afcb062e4f"
      },
      "execution_count": 47,
      "outputs": [
        {
          "output_type": "execute_result",
          "data": {
            "text/plain": [
              "'¡Qui qui ri qui qui ri!'"
            ],
            "application/vnd.google.colaboratory.intrinsic+json": {
              "type": "string"
            }
          },
          "metadata": {},
          "execution_count": 47
        }
      ]
    },
    {
      "cell_type": "markdown",
      "source": [
        "Pero podemos hacerlo de otra forma, la cual nos permita usar nuestras clases como parametros que llame al método hacerSonido"
      ],
      "metadata": {
        "id": "Gp1myRmkOsAe"
      }
    },
    {
      "cell_type": "code",
      "source": [
        "# Función que interactúa con cualquier tipo de Animal\n",
        "def escucharSonido(animal):\n",
        "    print(animal.emitirSonido())"
      ],
      "metadata": {
        "id": "QDXwzezAO3bP"
      },
      "execution_count": 48,
      "outputs": []
    },
    {
      "cell_type": "code",
      "source": [
        "escucharSonido(perro)"
      ],
      "metadata": {
        "colab": {
          "base_uri": "https://localhost:8080/"
        },
        "id": "ei7IA80gPryS",
        "outputId": "17c3255b-5f44-4bdd-dd41-a802e1ba36a2"
      },
      "execution_count": 49,
      "outputs": [
        {
          "output_type": "stream",
          "name": "stdout",
          "text": [
            "¡Guau guau!\n"
          ]
        }
      ]
    },
    {
      "cell_type": "code",
      "source": [
        "escucharSonido(vaca)"
      ],
      "metadata": {
        "colab": {
          "base_uri": "https://localhost:8080/"
        },
        "id": "5nzNXQjFP17a",
        "outputId": "125ef641-adb4-411f-dcdb-278b78259c20"
      },
      "execution_count": 50,
      "outputs": [
        {
          "output_type": "stream",
          "name": "stdout",
          "text": [
            "¡Muu!\n"
          ]
        }
      ]
    },
    {
      "cell_type": "code",
      "source": [
        "escucharSonido(cerdo)"
      ],
      "metadata": {
        "colab": {
          "base_uri": "https://localhost:8080/"
        },
        "id": "iaxRYzepP3KD",
        "outputId": "7288b74c-0a47-4489-c0a4-b6cb0ae5fdbe"
      },
      "execution_count": 51,
      "outputs": [
        {
          "output_type": "stream",
          "name": "stdout",
          "text": [
            "¡Oink!\n"
          ]
        }
      ]
    },
    {
      "cell_type": "code",
      "source": [
        "escucharSonido(gallo)"
      ],
      "metadata": {
        "colab": {
          "base_uri": "https://localhost:8080/"
        },
        "id": "Q_LSKOrkP-NV",
        "outputId": "9bc3b1ed-9f4a-4fef-80f7-bb6c28c8aec5"
      },
      "execution_count": 52,
      "outputs": [
        {
          "output_type": "stream",
          "name": "stdout",
          "text": [
            "¡Qui qui ri qui qui ri!\n"
          ]
        }
      ]
    }
  ]
}