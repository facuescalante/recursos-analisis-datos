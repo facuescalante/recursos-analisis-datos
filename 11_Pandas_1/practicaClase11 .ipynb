{
 "cells": [
  {
   "cell_type": "markdown",
   "metadata": {
    "id": "rT45_BRUqRTc"
   },
   "source": [
    "# Pandas\n",
    "\n",
    "## Ejercicio 1.0 - Instalacion y ejecucion\n",
    "\n",
    "Pandas nos permite trabajar con datos estructurados. Esta libreria sirve para trabajar con tablas.\n",
    "dentro de la libreria tenemos:\n",
    "* Series: son columnas con informacion\n",
    "* Dataframe: varias series agrupadas\n",
    "las funciones y metodos son compatibles entre Series y Dataframes.Nos permite leer informacion..."
   ]
  },
  {
   "cell_type": "code",
   "execution_count": 19,
   "metadata": {
    "colab": {
     "base_uri": "https://localhost:8080/"
    },
    "id": "yCXwr3ATqKbB",
    "outputId": "d80c1dfe-5e1a-4c29-a5af-b15db0b96883"
   },
   "outputs": [
    {
     "name": "stdout",
     "output_type": "stream",
     "text": [
      "Requirement already satisfied: pandas==2.2.2 in /usr/local/python/3.10.13/lib/python3.10/site-packages (2.2.2)\n",
      "Requirement already satisfied: numpy>=1.22.4 in /home/codespace/.local/lib/python3.10/site-packages (from pandas==2.2.2) (1.26.4)\n",
      "Requirement already satisfied: python-dateutil>=2.8.2 in /home/codespace/.local/lib/python3.10/site-packages (from pandas==2.2.2) (2.9.0.post0)\n",
      "Requirement already satisfied: pytz>=2020.1 in /home/codespace/.local/lib/python3.10/site-packages (from pandas==2.2.2) (2024.1)\n",
      "Requirement already satisfied: tzdata>=2022.7 in /home/codespace/.local/lib/python3.10/site-packages (from pandas==2.2.2) (2024.1)\n",
      "Requirement already satisfied: six>=1.5 in /home/codespace/.local/lib/python3.10/site-packages (from python-dateutil>=2.8.2->pandas==2.2.2) (1.16.0)\n"
     ]
    }
   ],
   "source": [
    "!pip install pandas==2.2.2\n"
   ]
  },
  {
   "cell_type": "code",
   "execution_count": 17,
   "metadata": {
    "id": "G2UdrEi0rgUI"
   },
   "outputs": [],
   "source": [
    "import numpy as np"
   ]
  },
  {
   "cell_type": "code",
   "execution_count": 18,
   "metadata": {
    "id": "62I4vA7Ps_4P"
   },
   "outputs": [],
   "source": [
    "import pandas as pd"
   ]
  },
  {
   "cell_type": "markdown",
   "metadata": {
    "id": "OypWvK-QtOMB"
   },
   "source": [
    "## Ejercicio 1.1\n",
    "\n",
    "En una serie vamos a priorizar el tipo de informacion que tenemos.\n",
    "\n",
    "como crear una **serie**?"
   ]
  },
  {
   "cell_type": "code",
   "execution_count": 4,
   "metadata": {
    "colab": {
     "base_uri": "https://localhost:8080/"
    },
    "id": "febsobUruPLL",
    "outputId": "2f20c1a5-8f04-4110-d2f1-9c9ccb0e0105"
   },
   "outputs": [
    {
     "data": {
      "text/plain": [
       "0    4\n",
       "1    5\n",
       "2    3\n",
       "dtype: int64"
      ]
     },
     "execution_count": 4,
     "metadata": {},
     "output_type": "execute_result"
    }
   ],
   "source": [
    "lista_numerica = [4,5,3]\n",
    "serie_numerica = pd.Series(lista_numerica)\n",
    "serie_numerica"
   ]
  },
  {
   "cell_type": "code",
   "execution_count": 5,
   "metadata": {
    "colab": {
     "base_uri": "https://localhost:8080/"
    },
    "id": "AcD0fMcru7yi",
    "outputId": "424f2fd2-8908-452b-8497-222c3ff645d7"
   },
   "outputs": [
    {
     "data": {
      "text/plain": [
       "0     jose\n",
       "1    pedro\n",
       "2    maria\n",
       "dtype: object"
      ]
     },
     "execution_count": 5,
     "metadata": {},
     "output_type": "execute_result"
    }
   ],
   "source": [
    "lista_nombres = [\"jose\",\"pedro\",\"maria\"]\n",
    "serie_nombre = pd.Series(lista_nombres)\n",
    "serie_nombre"
   ]
  },
  {
   "cell_type": "code",
   "execution_count": 6,
   "metadata": {
    "colab": {
     "base_uri": "https://localhost:8080/"
    },
    "id": "bAyN--j-vUOb",
    "outputId": "b1fd0658-c657-4af2-c15a-649bb97e3eda"
   },
   "outputs": [
    {
     "data": {
      "text/plain": [
       "0    False\n",
       "1     True\n",
       "2    False\n",
       "dtype: bool"
      ]
     },
     "execution_count": 6,
     "metadata": {},
     "output_type": "execute_result"
    }
   ],
   "source": [
    "lista_booleano = [False, True, False]\n",
    "serie_booleano = pd.Series(lista_booleano)\n",
    "serie_booleano"
   ]
  },
  {
   "cell_type": "code",
   "execution_count": 7,
   "metadata": {
    "colab": {
     "base_uri": "https://localhost:8080/"
    },
    "id": "2qp9-gjFvrCB",
    "outputId": "41581cc3-2b8c-4caa-816f-86a1c03f8cc0"
   },
   "outputs": [
    {
     "data": {
      "text/plain": [
       "0    7\n",
       "1    8\n",
       "2    9\n",
       "dtype: int64"
      ]
     },
     "execution_count": 7,
     "metadata": {},
     "output_type": "execute_result"
    }
   ],
   "source": [
    "array = np.array([7,8,9])\n",
    "serie_array = pd.Series(array)\n",
    "serie_array"
   ]
  },
  {
   "cell_type": "markdown",
   "metadata": {
    "id": "ht4V9JMewKEF"
   },
   "source": [
    "## Ejercicio 1.2\n",
    "\n",
    "Podemos indicar que tipo de dato queremos:"
   ]
  },
  {
   "cell_type": "code",
   "execution_count": 8,
   "metadata": {
    "colab": {
     "base_uri": "https://localhost:8080/"
    },
    "id": "jjrHw7ngwYPw",
    "outputId": "de719835-a613-4a33-e7cd-ab7778460a4d"
   },
   "outputs": [
    {
     "data": {
      "text/plain": [
       "0     verde\n",
       "1    blanco\n",
       "2      rojo\n",
       "dtype: string"
      ]
     },
     "execution_count": 8,
     "metadata": {},
     "output_type": "execute_result"
    }
   ],
   "source": [
    "serie_colores = pd.Series([\"verde\",\"blanco\",\"rojo\"], dtype=\"string\" )\n",
    "serie_colores"
   ]
  },
  {
   "cell_type": "code",
   "execution_count": 9,
   "metadata": {
    "colab": {
     "base_uri": "https://localhost:8080/"
    },
    "id": "8ftgTZKRw-eH",
    "outputId": "97cf8793-7240-4a8d-b6d0-d227d540053e"
   },
   "outputs": [
    {
     "data": {
      "text/plain": [
       "0    12456852\n",
       "1    24928635\n",
       "2    48425698\n",
       "dtype: string"
      ]
     },
     "execution_count": 9,
     "metadata": {},
     "output_type": "execute_result"
    }
   ],
   "source": [
    "serie_dni = pd.Series([12456852,24928635,48425698], dtype=\"string\")\n",
    "serie_dni"
   ]
  },
  {
   "cell_type": "markdown",
   "metadata": {
    "id": "Ie8xUQ0_xlbG"
   },
   "source": [
    "## Ejercicio 1.3\n",
    "\n",
    "En una serie puedo indicar los indices de las filas que tengo"
   ]
  },
  {
   "cell_type": "code",
   "execution_count": 10,
   "metadata": {
    "colab": {
     "base_uri": "https://localhost:8080/"
    },
    "id": "2odWi3FHxysi",
    "outputId": "3c785884-bd02-43ee-de07-37f1251d0e24"
   },
   "outputs": [
    {
     "data": {
      "text/plain": [
       "sebastian    22\n",
       "carlos       19\n",
       "jorge        50\n",
       "yanina       42\n",
       "marina       33\n",
       "dtype: int64"
      ]
     },
     "execution_count": 10,
     "metadata": {},
     "output_type": "execute_result"
    }
   ],
   "source": [
    "lista_alumnos = [\"sebastian\",\"carlos\",\"jorge\",\"yanina\",\"marina\"]\n",
    "edad_alumnos = [22,19,50,42,33]\n",
    "\n",
    "serie_edad = pd.Series(edad_alumnos,index=lista_alumnos)\n",
    "serie_edad"
   ]
  },
  {
   "cell_type": "markdown",
   "metadata": {
    "id": "m6nMPl8xzVU6"
   },
   "source": [
    "## Ejercicio 1.4\n",
    "\n"
   ]
  },
  {
   "cell_type": "code",
   "execution_count": 11,
   "metadata": {
    "colab": {
     "base_uri": "https://localhost:8080/"
    },
    "id": "68yStgHmzaCo",
    "outputId": "baa2939d-1a3c-4179-ff28-435c0f329cfa"
   },
   "outputs": [
    {
     "data": {
      "text/plain": [
       "{'mario': 7.4, 'jorge': 8.0, 'miguel': 7.5, 'carlos': 7.1}"
      ]
     },
     "execution_count": 11,
     "metadata": {},
     "output_type": "execute_result"
    }
   ],
   "source": [
    "diccionario_promedio = {\n",
    "    \"mario\": 7.4,\n",
    "    \"jorge\": 8.0,\n",
    "    \"miguel\": 7.5,\n",
    "    \"carlos\":7.1\n",
    "}\n",
    "diccionario_promedio"
   ]
  },
  {
   "cell_type": "markdown",
   "metadata": {
    "id": "2FEwMze_0x1G"
   },
   "source": [
    "## Ejercicio 1.5\n",
    "\n",
    "....."
   ]
  },
  {
   "cell_type": "code",
   "execution_count": 12,
   "metadata": {
    "colab": {
     "base_uri": "https://localhost:8080/"
    },
    "id": "h3X3OK810g7I",
    "outputId": "f7d208bb-2cb1-4964-dba9-554f35c8d0af"
   },
   "outputs": [
    {
     "data": {
      "text/plain": [
       "mario     7.4\n",
       "jorge     8.0\n",
       "miguel    7.5\n",
       "carlos    7.1\n",
       "dtype: float64"
      ]
     },
     "execution_count": 12,
     "metadata": {},
     "output_type": "execute_result"
    }
   ],
   "source": [
    "diccionario_promedio = {\n",
    "    \"mario\": 7.4,\n",
    "    \"jorge\": 8.0,\n",
    "    \"miguel\": 7.5,\n",
    "    \"carlos\":7.1\n",
    "}\n",
    "promedio_alumnos = pd.Series(diccionario_promedio)\n",
    "promedio_alumnos"
   ]
  },
  {
   "cell_type": "markdown",
   "metadata": {
    "id": "B8pNTCl606Yf"
   },
   "source": [
    "## Ejercicio 1.6"
   ]
  },
  {
   "cell_type": "code",
   "execution_count": 13,
   "metadata": {
    "id": "8Jt6sQi-08_f"
   },
   "outputs": [],
   "source": [
    "indice = [\"bs as\",\"la pampa\",\"santa fe\",\"corrientes\",\"chaco\"]\n",
    "\n",
    "serie_provincias = pd.Series(indice)"
   ]
  },
  {
   "cell_type": "code",
   "execution_count": 14,
   "metadata": {},
   "outputs": [
    {
     "data": {
      "text/plain": [
       "0         bs as\n",
       "1      la pampa\n",
       "2      santa fe\n",
       "3    corrientes\n",
       "4         chaco\n",
       "dtype: object"
      ]
     },
     "execution_count": 14,
     "metadata": {},
     "output_type": "execute_result"
    }
   ],
   "source": [
    "serie_provincias"
   ]
  },
  {
   "cell_type": "markdown",
   "metadata": {
    "id": "dKSraxep3zOK"
   },
   "source": [
    "## Ejercicio 1.7\n",
    "\n",
    "como manejamos indices en las series"
   ]
  },
  {
   "cell_type": "code",
   "execution_count": 15,
   "metadata": {
    "colab": {
     "base_uri": "https://localhost:8080/"
    },
    "id": "TlbZwTM_37-S",
    "outputId": "855e1dac-baa5-4ee9-8ad5-c7ea48b50f63"
   },
   "outputs": [
    {
     "data": {
      "text/plain": [
       "0         bs as\n",
       "1      la pampa\n",
       "2      santa fe\n",
       "3    corrientes\n",
       "4         chaco\n",
       "dtype: object"
      ]
     },
     "execution_count": 15,
     "metadata": {},
     "output_type": "execute_result"
    }
   ],
   "source": [
    "serie_provincias"
   ]
  }
 ],
 "metadata": {
  "colab": {
   "provenance": []
  },
  "kernelspec": {
   "display_name": "Python 3 (ipykernel)",
   "language": "python",
   "name": "python3"
  },
  "language_info": {
   "codemirror_mode": {
    "name": "ipython",
    "version": 3
   },
   "file_extension": ".py",
   "mimetype": "text/x-python",
   "name": "python",
   "nbconvert_exporter": "python",
   "pygments_lexer": "ipython3",
   "version": "3.10.13"
  }
 },
 "nbformat": 4,
 "nbformat_minor": 4
}
