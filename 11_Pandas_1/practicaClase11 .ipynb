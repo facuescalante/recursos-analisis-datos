{
  "cells": [
    {
      "cell_type": "markdown",
      "metadata": {
        "id": "rT45_BRUqRTc"
      },
      "source": [
        "# Pandas\n",
        "\n",
        "## Ejercicio 1.0 - Instalacion y ejecucion\n",
        "\n",
        "Pandas nos permite trabajar con datos estructurados. Esta libreria sirve para trabajar con tablas.\n",
        "dentro de la libreria tenemos:\n",
        "* Series: son columnas con informacion\n",
        "* Dataframe: varias series agrupadas\n",
        "las funciones y metodos son compatibles entre Series y Dataframes.Nos permite leer informacion...\n",
        "\n",
        "Con pandas podemos leer y escribir fácilmente ficheros en formato CSV, Excel y bases de datos SQL."
      ]
    },
    {
      "cell_type": "code",
      "execution_count": 1,
      "metadata": {
        "colab": {
          "base_uri": "https://localhost:8080/"
        },
        "id": "yCXwr3ATqKbB",
        "outputId": "5e90b75c-ac0e-4223-a877-8dc4b355f9d5"
      },
      "outputs": [
        {
          "output_type": "stream",
          "name": "stdout",
          "text": [
            "Collecting pandas==2.2.2\n",
            "  Downloading pandas-2.2.2-cp310-cp310-manylinux_2_17_x86_64.manylinux2014_x86_64.whl (13.0 MB)\n",
            "\u001b[2K     \u001b[90m━━━━━━━━━━━━━━━━━━━━━━━━━━━━━━━━━━━━━━━━\u001b[0m \u001b[32m13.0/13.0 MB\u001b[0m \u001b[31m44.1 MB/s\u001b[0m eta \u001b[36m0:00:00\u001b[0m\n",
            "\u001b[?25hRequirement already satisfied: numpy>=1.22.4 in /usr/local/lib/python3.10/dist-packages (from pandas==2.2.2) (1.25.2)\n",
            "Requirement already satisfied: python-dateutil>=2.8.2 in /usr/local/lib/python3.10/dist-packages (from pandas==2.2.2) (2.8.2)\n",
            "Requirement already satisfied: pytz>=2020.1 in /usr/local/lib/python3.10/dist-packages (from pandas==2.2.2) (2023.4)\n",
            "Requirement already satisfied: tzdata>=2022.7 in /usr/local/lib/python3.10/dist-packages (from pandas==2.2.2) (2024.1)\n",
            "Requirement already satisfied: six>=1.5 in /usr/local/lib/python3.10/dist-packages (from python-dateutil>=2.8.2->pandas==2.2.2) (1.16.0)\n",
            "Installing collected packages: pandas\n",
            "  Attempting uninstall: pandas\n",
            "    Found existing installation: pandas 2.0.3\n",
            "    Uninstalling pandas-2.0.3:\n",
            "      Successfully uninstalled pandas-2.0.3\n",
            "\u001b[31mERROR: pip's dependency resolver does not currently take into account all the packages that are installed. This behaviour is the source of the following dependency conflicts.\n",
            "google-colab 1.0.0 requires pandas==2.0.3, but you have pandas 2.2.2 which is incompatible.\u001b[0m\u001b[31m\n",
            "\u001b[0mSuccessfully installed pandas-2.2.2\n"
          ]
        }
      ],
      "source": [
        "!pip install pandas==2.2.2\n"
      ]
    },
    {
      "cell_type": "code",
      "execution_count": 2,
      "metadata": {
        "id": "G2UdrEi0rgUI"
      },
      "outputs": [],
      "source": [
        "import numpy as np"
      ]
    },
    {
      "cell_type": "code",
      "execution_count": 3,
      "metadata": {
        "id": "62I4vA7Ps_4P"
      },
      "outputs": [],
      "source": [
        "import pandas as pd"
      ]
    },
    {
      "cell_type": "markdown",
      "metadata": {
        "id": "OypWvK-QtOMB"
      },
      "source": [
        "## Ejercicio 1.1\n",
        "\n",
        "En una serie vamos a priorizar el tipo de informacion que tenemos.\n",
        "\n",
        "como crear una **serie**?"
      ]
    },
    {
      "cell_type": "code",
      "execution_count": 4,
      "metadata": {
        "colab": {
          "base_uri": "https://localhost:8080/"
        },
        "id": "febsobUruPLL",
        "outputId": "15c0b016-70fa-489e-aab6-1feb7ea4762e"
      },
      "outputs": [
        {
          "output_type": "execute_result",
          "data": {
            "text/plain": [
              "0    4\n",
              "1    5\n",
              "2    3\n",
              "dtype: int64"
            ]
          },
          "metadata": {},
          "execution_count": 4
        }
      ],
      "source": [
        "lista_numerica = [4,5,3]\n",
        "serie_numerica = pd.Series(lista_numerica)\n",
        "serie_numerica"
      ]
    },
    {
      "cell_type": "code",
      "execution_count": 5,
      "metadata": {
        "colab": {
          "base_uri": "https://localhost:8080/"
        },
        "id": "AcD0fMcru7yi",
        "outputId": "c321d64b-b8e6-42b5-c2bc-28069021296d"
      },
      "outputs": [
        {
          "output_type": "execute_result",
          "data": {
            "text/plain": [
              "0     jose\n",
              "1    pedro\n",
              "2    maria\n",
              "dtype: object"
            ]
          },
          "metadata": {},
          "execution_count": 5
        }
      ],
      "source": [
        "lista_nombres = [\"jose\",\"pedro\",\"maria\"]\n",
        "serie_nombre = pd.Series(lista_nombres)\n",
        "serie_nombre"
      ]
    },
    {
      "cell_type": "code",
      "execution_count": 6,
      "metadata": {
        "colab": {
          "base_uri": "https://localhost:8080/"
        },
        "id": "bAyN--j-vUOb",
        "outputId": "be14f19e-add7-4158-e8df-43cd727ab967"
      },
      "outputs": [
        {
          "output_type": "execute_result",
          "data": {
            "text/plain": [
              "0    False\n",
              "1     True\n",
              "2    False\n",
              "dtype: bool"
            ]
          },
          "metadata": {},
          "execution_count": 6
        }
      ],
      "source": [
        "lista_booleano = [False, True, False]\n",
        "serie_booleano = pd.Series(lista_booleano)\n",
        "serie_booleano"
      ]
    },
    {
      "cell_type": "code",
      "execution_count": 7,
      "metadata": {
        "colab": {
          "base_uri": "https://localhost:8080/"
        },
        "id": "2qp9-gjFvrCB",
        "outputId": "fc9213fe-7037-4935-aac0-f5a2af63d10a"
      },
      "outputs": [
        {
          "output_type": "execute_result",
          "data": {
            "text/plain": [
              "0    7\n",
              "1    8\n",
              "2    9\n",
              "dtype: int64"
            ]
          },
          "metadata": {},
          "execution_count": 7
        }
      ],
      "source": [
        "array = np.array([7,8,9])\n",
        "serie_array = pd.Series(array)\n",
        "serie_array"
      ]
    },
    {
      "cell_type": "markdown",
      "metadata": {
        "id": "ht4V9JMewKEF"
      },
      "source": [
        "## Ejercicio 1.2\n",
        "\n",
        "Podemos indicar que tipo de dato queremos:"
      ]
    },
    {
      "cell_type": "code",
      "execution_count": 8,
      "metadata": {
        "colab": {
          "base_uri": "https://localhost:8080/"
        },
        "id": "jjrHw7ngwYPw",
        "outputId": "5eb75c6a-febc-4db6-c8d3-de65d97d7a5c"
      },
      "outputs": [
        {
          "output_type": "execute_result",
          "data": {
            "text/plain": [
              "0     verde\n",
              "1    blanco\n",
              "2      rojo\n",
              "dtype: string"
            ]
          },
          "metadata": {},
          "execution_count": 8
        }
      ],
      "source": [
        "serie_colores = pd.Series([\"verde\",\"blanco\",\"rojo\"], dtype=\"string\" )\n",
        "serie_colores"
      ]
    },
    {
      "cell_type": "code",
      "execution_count": 9,
      "metadata": {
        "colab": {
          "base_uri": "https://localhost:8080/"
        },
        "id": "8ftgTZKRw-eH",
        "outputId": "dfba5456-6d3a-4b83-b3c1-03e65eda6343"
      },
      "outputs": [
        {
          "output_type": "execute_result",
          "data": {
            "text/plain": [
              "0    12456852\n",
              "1    24928635\n",
              "2    48425698\n",
              "dtype: string"
            ]
          },
          "metadata": {},
          "execution_count": 9
        }
      ],
      "source": [
        "serie_dni = pd.Series([12456852,24928635,48425698], dtype=\"string\")\n",
        "serie_dni"
      ]
    },
    {
      "cell_type": "markdown",
      "metadata": {
        "id": "Ie8xUQ0_xlbG"
      },
      "source": [
        "## Ejercicio 1.3\n",
        "\n",
        "En una serie puedo indicar los indices de las filas que tengo"
      ]
    },
    {
      "cell_type": "code",
      "execution_count": 10,
      "metadata": {
        "colab": {
          "base_uri": "https://localhost:8080/"
        },
        "id": "2odWi3FHxysi",
        "outputId": "19a009d2-1352-4566-c0ca-045b27ad9da3"
      },
      "outputs": [
        {
          "output_type": "execute_result",
          "data": {
            "text/plain": [
              "sebastian    22\n",
              "carlos       19\n",
              "jorge        50\n",
              "yanina       42\n",
              "marina       33\n",
              "dtype: int64"
            ]
          },
          "metadata": {},
          "execution_count": 10
        }
      ],
      "source": [
        "lista_alumnos = [\"sebastian\",\"carlos\",\"jorge\",\"yanina\",\"marina\"]\n",
        "edad_alumnos = [22,19,50,42,33]\n",
        "\n",
        "serie_edad = pd.Series(edad_alumnos,index=lista_alumnos)\n",
        "serie_edad"
      ]
    },
    {
      "cell_type": "markdown",
      "metadata": {
        "id": "m6nMPl8xzVU6"
      },
      "source": [
        "## Ejercicio 1.4\n",
        "\n"
      ]
    },
    {
      "cell_type": "code",
      "execution_count": 11,
      "metadata": {
        "colab": {
          "base_uri": "https://localhost:8080/"
        },
        "id": "68yStgHmzaCo",
        "outputId": "9a76aabc-d5a8-45ab-8009-2150c30952f7"
      },
      "outputs": [
        {
          "output_type": "execute_result",
          "data": {
            "text/plain": [
              "{'mario': 7.4, 'jorge': 8.0, 'miguel': 7.5, 'carlos': 7.1}"
            ]
          },
          "metadata": {},
          "execution_count": 11
        }
      ],
      "source": [
        "diccionario_promedio = {\n",
        "    \"mario\": 7.4,\n",
        "    \"jorge\": 8.0,\n",
        "    \"miguel\": 7.5,\n",
        "    \"carlos\":7.1\n",
        "}\n",
        "diccionario_promedio"
      ]
    },
    {
      "cell_type": "markdown",
      "metadata": {
        "id": "2FEwMze_0x1G"
      },
      "source": [
        "## Ejercicio 1.5\n",
        "\n",
        "Otra opcion es utilizar un diccionario para cargar datos en una serie"
      ]
    },
    {
      "cell_type": "code",
      "execution_count": 12,
      "metadata": {
        "colab": {
          "base_uri": "https://localhost:8080/"
        },
        "id": "h3X3OK810g7I",
        "outputId": "4d979408-15aa-42f5-f855-f57a7cdb7337"
      },
      "outputs": [
        {
          "output_type": "execute_result",
          "data": {
            "text/plain": [
              "mario     7.4\n",
              "jorge     8.0\n",
              "miguel    7.5\n",
              "carlos    7.1\n",
              "dtype: float64"
            ]
          },
          "metadata": {},
          "execution_count": 12
        }
      ],
      "source": [
        "diccionario_promedio = {\n",
        "    \"mario\": 7.4,\n",
        "    \"jorge\": 8.0,\n",
        "    \"miguel\": 7.5,\n",
        "    \"carlos\":7.1\n",
        "}\n",
        "promedio_alumnos = pd.Series(diccionario_promedio)\n",
        "promedio_alumnos"
      ]
    },
    {
      "cell_type": "markdown",
      "metadata": {
        "id": "B8pNTCl606Yf"
      },
      "source": [
        "## Ejercicio 1.6\n",
        "\n",
        "Utilizando numpy junto con pandas podemos crear una serie en base a un array con numeros aleatorios"
      ]
    },
    {
      "cell_type": "code",
      "source": [
        "rng = np.random.default_rng()"
      ],
      "metadata": {
        "id": "H1RQvEalRbmh"
      },
      "execution_count": 16,
      "outputs": []
    },
    {
      "cell_type": "code",
      "execution_count": 18,
      "metadata": {
        "id": "8Jt6sQi-08_f"
      },
      "outputs": [],
      "source": [
        "array_enteros_aleatorios = rng.integers(1,101,5) #Array con 10 elementos integer aleatorios entre 0 y 100\n",
        "indice = [\"bs as\",\"la pampa\",\"santa fe\",\"corrientes\",\"chaco\"]\n",
        "\n",
        "serie_provincias = pd.Series( array_enteros_aleatorios, indice)"
      ]
    },
    {
      "cell_type": "code",
      "execution_count": 19,
      "metadata": {
        "id": "9prAtZwMPjxt",
        "outputId": "beb267f6-b4b5-492a-fb68-ac8e2321b1ed",
        "colab": {
          "base_uri": "https://localhost:8080/"
        }
      },
      "outputs": [
        {
          "output_type": "execute_result",
          "data": {
            "text/plain": [
              "bs as         48\n",
              "la pampa      74\n",
              "santa fe      84\n",
              "corrientes    35\n",
              "chaco         93\n",
              "dtype: int64"
            ]
          },
          "metadata": {},
          "execution_count": 19
        }
      ],
      "source": [
        "serie_provincias"
      ]
    },
    {
      "cell_type": "markdown",
      "metadata": {
        "id": "dKSraxep3zOK"
      },
      "source": [
        "## Ejercicio 1.7\n",
        "\n",
        "En las series podemos acceder a los valores y al indice usando tanto la posicion como el indice, o aplicando una condicion.\n",
        "Como manejamos indices en las series"
      ]
    },
    {
      "cell_type": "code",
      "execution_count": 20,
      "metadata": {
        "colab": {
          "base_uri": "https://localhost:8080/"
        },
        "id": "TlbZwTM_37-S",
        "outputId": "84544625-088f-43ad-deea-b1fe842a3ff9"
      },
      "outputs": [
        {
          "output_type": "execute_result",
          "data": {
            "text/plain": [
              "bs as         48\n",
              "la pampa      74\n",
              "santa fe      84\n",
              "corrientes    35\n",
              "chaco         93\n",
              "dtype: int64"
            ]
          },
          "metadata": {},
          "execution_count": 20
        }
      ],
      "source": [
        "serie_provincias"
      ]
    },
    {
      "cell_type": "code",
      "source": [
        "serie_provincias.index[0], serie_provincias.iloc[0]"
      ],
      "metadata": {
        "id": "i3KrWP62SrTm",
        "outputId": "295f5eed-76bc-4f7e-9439-a90ac435b72a",
        "colab": {
          "base_uri": "https://localhost:8080/"
        }
      },
      "execution_count": 21,
      "outputs": [
        {
          "output_type": "execute_result",
          "data": {
            "text/plain": [
              "('bs as', 48)"
            ]
          },
          "metadata": {},
          "execution_count": 21
        }
      ]
    },
    {
      "cell_type": "code",
      "source": [
        "serie_provincias.index[3], serie_provincias.iloc[3]"
      ],
      "metadata": {
        "id": "Sn30JrAoTlPE",
        "outputId": "153069eb-b37c-4ebb-c498-5edf93fbecfc",
        "colab": {
          "base_uri": "https://localhost:8080/"
        }
      },
      "execution_count": 22,
      "outputs": [
        {
          "output_type": "execute_result",
          "data": {
            "text/plain": [
              "('corrientes', 35)"
            ]
          },
          "metadata": {},
          "execution_count": 22
        }
      ]
    },
    {
      "cell_type": "code",
      "source": [
        "serie_provincias.index[-1], serie_provincias.iloc[-1]"
      ],
      "metadata": {
        "id": "mZvGQzfWTp_c",
        "outputId": "89b723bf-7edf-40ae-f9fd-386bd4d3cdcf",
        "colab": {
          "base_uri": "https://localhost:8080/"
        }
      },
      "execution_count": 23,
      "outputs": [
        {
          "output_type": "execute_result",
          "data": {
            "text/plain": [
              "('chaco', 93)"
            ]
          },
          "metadata": {},
          "execution_count": 23
        }
      ]
    },
    {
      "cell_type": "code",
      "source": [
        "serie_provincias.iloc[1:4]"
      ],
      "metadata": {
        "id": "rGwjii0ETz1z",
        "outputId": "7d27eb4f-a351-4208-9302-e1598ba86ec5",
        "colab": {
          "base_uri": "https://localhost:8080/"
        }
      },
      "execution_count": 24,
      "outputs": [
        {
          "output_type": "execute_result",
          "data": {
            "text/plain": [
              "la pampa      74\n",
              "santa fe      84\n",
              "corrientes    35\n",
              "dtype: int64"
            ]
          },
          "metadata": {},
          "execution_count": 24
        }
      ]
    },
    {
      "cell_type": "code",
      "source": [
        "serie_provincias.iloc[:3]"
      ],
      "metadata": {
        "id": "eseI6ZbaT9MI",
        "outputId": "7492a23b-19f8-4030-8957-04b0fb155ced",
        "colab": {
          "base_uri": "https://localhost:8080/"
        }
      },
      "execution_count": 25,
      "outputs": [
        {
          "output_type": "execute_result",
          "data": {
            "text/plain": [
              "bs as       48\n",
              "la pampa    74\n",
              "santa fe    84\n",
              "dtype: int64"
            ]
          },
          "metadata": {},
          "execution_count": 25
        }
      ]
    },
    {
      "cell_type": "code",
      "source": [
        "serie_provincias.iloc[-4:]"
      ],
      "metadata": {
        "id": "QZVjui1hUFMP",
        "outputId": "fb88a302-98e9-4888-ec80-062f19bad119",
        "colab": {
          "base_uri": "https://localhost:8080/"
        }
      },
      "execution_count": 26,
      "outputs": [
        {
          "output_type": "execute_result",
          "data": {
            "text/plain": [
              "la pampa      74\n",
              "santa fe      84\n",
              "corrientes    35\n",
              "chaco         93\n",
              "dtype: int64"
            ]
          },
          "metadata": {},
          "execution_count": 26
        }
      ]
    },
    {
      "cell_type": "code",
      "source": [
        "serie_provincias[serie_provincias > 50] #Solo obtenemos los valores > 50"
      ],
      "metadata": {
        "id": "0w0ktgkuUMoT",
        "outputId": "3c1dd361-e508-4fb7-e087-c0d99cd1131c",
        "colab": {
          "base_uri": "https://localhost:8080/"
        }
      },
      "execution_count": 27,
      "outputs": [
        {
          "output_type": "execute_result",
          "data": {
            "text/plain": [
              "la pampa    74\n",
              "santa fe    84\n",
              "chaco       93\n",
              "dtype: int64"
            ]
          },
          "metadata": {},
          "execution_count": 27
        }
      ]
    },
    {
      "cell_type": "code",
      "source": [
        "serie_provincias[serie_provincias == 35] #Solo obtenemos los valores = 35"
      ],
      "metadata": {
        "id": "1sxrGd6NUbE6",
        "outputId": "dfa5011e-51bf-4b7e-cbc4-1d63f199eb24",
        "colab": {
          "base_uri": "https://localhost:8080/"
        }
      },
      "execution_count": 28,
      "outputs": [
        {
          "output_type": "execute_result",
          "data": {
            "text/plain": [
              "corrientes    35\n",
              "dtype: int64"
            ]
          },
          "metadata": {},
          "execution_count": 28
        }
      ]
    },
    {
      "cell_type": "code",
      "source": [
        "serie_provincias[(serie_provincias > 15) & (serie_provincias < 65)] #Solo obtenemos los valores entre >15 y <65"
      ],
      "metadata": {
        "id": "q1flRgfmUjnZ",
        "outputId": "93ff1dae-6c68-4b8a-f20b-f42f537eea69",
        "colab": {
          "base_uri": "https://localhost:8080/"
        }
      },
      "execution_count": 30,
      "outputs": [
        {
          "output_type": "execute_result",
          "data": {
            "text/plain": [
              "bs as         48\n",
              "corrientes    35\n",
              "dtype: int64"
            ]
          },
          "metadata": {},
          "execution_count": 30
        }
      ]
    },
    {
      "cell_type": "code",
      "source": [
        "serie_provincias[\"la pampa\"] #Podemos acceder a un valor usando el indice"
      ],
      "metadata": {
        "id": "bSngfTOfU4FD",
        "outputId": "b367acc6-fa8c-4463-9f28-5fc3ce4ca860",
        "colab": {
          "base_uri": "https://localhost:8080/"
        }
      },
      "execution_count": 34,
      "outputs": [
        {
          "output_type": "execute_result",
          "data": {
            "text/plain": [
              "74"
            ]
          },
          "metadata": {},
          "execution_count": 34
        }
      ]
    },
    {
      "cell_type": "code",
      "source": [
        "serie_provincias[[\"la pampa\",\"chaco\",\"bs as\"]] #O a multiples pasando una tupla con los indices"
      ],
      "metadata": {
        "id": "PJfiYCEDVHHf",
        "outputId": "6b63b39f-360f-4275-f0a6-9ee8f03527e3",
        "colab": {
          "base_uri": "https://localhost:8080/"
        }
      },
      "execution_count": 33,
      "outputs": [
        {
          "output_type": "execute_result",
          "data": {
            "text/plain": [
              "la pampa    74\n",
              "chaco       93\n",
              "bs as       48\n",
              "dtype: int64"
            ]
          },
          "metadata": {},
          "execution_count": 33
        }
      ]
    },
    {
      "cell_type": "markdown",
      "source": [
        "## Ejercicio 1.8\n",
        "\n",
        "En pandas contamos con una amplia gama de funciones y metodos que nos permiten realizar calculos\n",
        "\n"
      ],
      "metadata": {
        "id": "JFr_626_VfMJ"
      }
    },
    {
      "cell_type": "code",
      "source": [
        "serie_provincias"
      ],
      "metadata": {
        "id": "YryJbavUVquI",
        "outputId": "63a36ad4-f1ec-4ebb-c7fa-0cbb43d2ba90",
        "colab": {
          "base_uri": "https://localhost:8080/"
        }
      },
      "execution_count": 35,
      "outputs": [
        {
          "output_type": "execute_result",
          "data": {
            "text/plain": [
              "bs as         48\n",
              "la pampa      74\n",
              "santa fe      84\n",
              "corrientes    35\n",
              "chaco         93\n",
              "dtype: int64"
            ]
          },
          "metadata": {},
          "execution_count": 35
        }
      ]
    },
    {
      "cell_type": "code",
      "source": [
        "serie_provincias.count()  #Para contar elementos usamos"
      ],
      "metadata": {
        "id": "TnGk2hszVsa6",
        "outputId": "6e4356b1-8f48-4514-c062-a6efe8483e68",
        "colab": {
          "base_uri": "https://localhost:8080/"
        }
      },
      "execution_count": 36,
      "outputs": [
        {
          "output_type": "execute_result",
          "data": {
            "text/plain": [
              "5"
            ]
          },
          "metadata": {},
          "execution_count": 36
        }
      ]
    },
    {
      "cell_type": "code",
      "source": [
        "serie_provincias.sum() #Con sum podemos usar los valores de una serie"
      ],
      "metadata": {
        "id": "mMAQfoGQVxD3",
        "outputId": "a802baec-0049-4814-ea5c-7463b842dd62",
        "colab": {
          "base_uri": "https://localhost:8080/"
        }
      },
      "execution_count": 37,
      "outputs": [
        {
          "output_type": "execute_result",
          "data": {
            "text/plain": [
              "334"
            ]
          },
          "metadata": {},
          "execution_count": 37
        }
      ]
    },
    {
      "cell_type": "code",
      "source": [
        "serie_provincias.min() #Nos devuelve el valor minimo"
      ],
      "metadata": {
        "id": "kOxCwmYNV3k3",
        "outputId": "7f4bcd57-a6bc-4880-c892-fd9ca1a2a414",
        "colab": {
          "base_uri": "https://localhost:8080/"
        }
      },
      "execution_count": 38,
      "outputs": [
        {
          "output_type": "execute_result",
          "data": {
            "text/plain": [
              "35"
            ]
          },
          "metadata": {},
          "execution_count": 38
        }
      ]
    },
    {
      "cell_type": "code",
      "source": [
        "serie_provincias.max()  #Nos devuelve el valor maximo"
      ],
      "metadata": {
        "id": "l25-eRxJV9u7",
        "outputId": "6ac2c048-943f-45e9-f72c-be2767565423",
        "colab": {
          "base_uri": "https://localhost:8080/"
        }
      },
      "execution_count": 39,
      "outputs": [
        {
          "output_type": "execute_result",
          "data": {
            "text/plain": [
              "93"
            ]
          },
          "metadata": {},
          "execution_count": 39
        }
      ]
    },
    {
      "cell_type": "code",
      "source": [
        "serie_provincias.mean() #Calcula el promedio"
      ],
      "metadata": {
        "id": "nbNXhy_WWFFa",
        "outputId": "4dbafb05-dc0e-44f0-a9f5-a488d9819ccc",
        "colab": {
          "base_uri": "https://localhost:8080/"
        }
      },
      "execution_count": 40,
      "outputs": [
        {
          "output_type": "execute_result",
          "data": {
            "text/plain": [
              "66.8"
            ]
          },
          "metadata": {},
          "execution_count": 40
        }
      ]
    },
    {
      "cell_type": "code",
      "source": [
        "serie_provincias.var() #Retorna la varianza"
      ],
      "metadata": {
        "id": "NlBQfPwSWLQT",
        "outputId": "76c39f7a-cc91-40b3-f67f-5f1da1b8a690",
        "colab": {
          "base_uri": "https://localhost:8080/"
        }
      },
      "execution_count": 41,
      "outputs": [
        {
          "output_type": "execute_result",
          "data": {
            "text/plain": [
              "599.6999999999999"
            ]
          },
          "metadata": {},
          "execution_count": 41
        }
      ]
    },
    {
      "cell_type": "markdown",
      "source": [
        "La varianza es una medida estadística que representa la dispersión o variabilidad de un conjunto de datos. Indica cuánto se alejan los valores individuales del promedio (o media) del conjunto de datos.\n",
        "\n",
        "La varianza se calcula como el promedio de las diferencias al cuadrado entre cada valor individual y la media del conjunto de datos."
      ],
      "metadata": {
        "id": "Pm504Ja2WoLI"
      }
    },
    {
      "cell_type": "code",
      "source": [
        "serie_provincias.std() #Calcula el desviacion tipica"
      ],
      "metadata": {
        "id": "ok3x8xIhWS3u",
        "outputId": "6a8ddcb4-89c0-4a36-c5d3-90daeef7f5ed",
        "colab": {
          "base_uri": "https://localhost:8080/"
        }
      },
      "execution_count": 42,
      "outputs": [
        {
          "output_type": "execute_result",
          "data": {
            "text/plain": [
              "24.48877293781785"
            ]
          },
          "metadata": {},
          "execution_count": 42
        }
      ]
    },
    {
      "cell_type": "markdown",
      "source": [
        "La desviación típica, también conocida como desviación estándar, es una medida estadística que cuantifica la cantidad de variación o dispersión de un conjunto de valores. Una desviación estándar baja indica que los valores tienden a estar cerca de la media (o valor esperado) del conjunto, mientras que una desviación estándar alta indica que los valores están dispersos en un rango más amplio.\n",
        "\n",
        "La desviación estándar se calcula como la raíz cuadrada de la varianza."
      ],
      "metadata": {
        "id": "BO-nh7QfXHsO"
      }
    },
    {
      "cell_type": "code",
      "source": [
        "serie_provincias.describe()  #Crea un mini resumen con estadisticas para la serie numerica"
      ],
      "metadata": {
        "id": "VBpZjCFDW00t",
        "outputId": "042df712-cf58-4952-dd84-9a7dc13849bb",
        "colab": {
          "base_uri": "https://localhost:8080/"
        }
      },
      "execution_count": 43,
      "outputs": [
        {
          "output_type": "execute_result",
          "data": {
            "text/plain": [
              "count     5.000000\n",
              "mean     66.800000\n",
              "std      24.488773\n",
              "min      35.000000\n",
              "25%      48.000000\n",
              "50%      74.000000\n",
              "75%      84.000000\n",
              "max      93.000000\n",
              "dtype: float64"
            ]
          },
          "metadata": {},
          "execution_count": 43
        }
      ]
    },
    {
      "cell_type": "code",
      "source": [
        "serie_provincias.sort_values() #Ordena la serie en base a los valores"
      ],
      "metadata": {
        "id": "NOjDWryaXQBz",
        "outputId": "bee48867-cab9-4639-d8a3-1791428771ce",
        "colab": {
          "base_uri": "https://localhost:8080/"
        }
      },
      "execution_count": 44,
      "outputs": [
        {
          "output_type": "execute_result",
          "data": {
            "text/plain": [
              "corrientes    35\n",
              "bs as         48\n",
              "la pampa      74\n",
              "santa fe      84\n",
              "chaco         93\n",
              "dtype: int64"
            ]
          },
          "metadata": {},
          "execution_count": 44
        }
      ]
    },
    {
      "cell_type": "code",
      "source": [
        "serie_provincias.sort_values(ascending= False) #Asi se ordena de manera descendente"
      ],
      "metadata": {
        "id": "zzeb_xFwXYb-",
        "outputId": "aa17b726-98cb-4401-d77e-1b3f25c87923",
        "colab": {
          "base_uri": "https://localhost:8080/"
        }
      },
      "execution_count": 45,
      "outputs": [
        {
          "output_type": "execute_result",
          "data": {
            "text/plain": [
              "chaco         93\n",
              "santa fe      84\n",
              "la pampa      74\n",
              "bs as         48\n",
              "corrientes    35\n",
              "dtype: int64"
            ]
          },
          "metadata": {},
          "execution_count": 45
        }
      ]
    },
    {
      "cell_type": "code",
      "source": [
        "#Creamos una serie con categorias\n",
        "index=[\"mendoza\", \"bsas\", \"cordoba\", \"san luis\", \"catamarca\", \"san juan\", \"la pampa\", \"entre rios\", \"caba\", \"misiones\"]\n",
        "regiones = pd.Series([\"oeste\", \"este\", \"centro\", \"oeste\",\"oeste\",\"oeste\",\"centro\",\"este\",\"este\",\"norte\"], index)\n",
        "regiones"
      ],
      "metadata": {
        "id": "YXgcAgWKXkfx",
        "outputId": "a78cde43-f128-434c-e7a7-69fe1f028f53",
        "colab": {
          "base_uri": "https://localhost:8080/"
        }
      },
      "execution_count": 46,
      "outputs": [
        {
          "output_type": "execute_result",
          "data": {
            "text/plain": [
              "mendoza        oeste\n",
              "bsas            este\n",
              "cordoba       centro\n",
              "san luis       oeste\n",
              "catamarca      oeste\n",
              "san juan       oeste\n",
              "la pampa      centro\n",
              "entre rios      este\n",
              "caba            este\n",
              "misiones       norte\n",
              "dtype: object"
            ]
          },
          "metadata": {},
          "execution_count": 46
        }
      ]
    },
    {
      "cell_type": "code",
      "source": [
        "regiones.value_counts()  #Podemos ver cuantas veces se repite cada categoria, ES CASE SENSITIVE"
      ],
      "metadata": {
        "id": "6NR2NFDtX891",
        "outputId": "179b0707-4dce-461c-a42b-8cb47caeec45",
        "colab": {
          "base_uri": "https://localhost:8080/"
        }
      },
      "execution_count": 48,
      "outputs": [
        {
          "output_type": "execute_result",
          "data": {
            "text/plain": [
              "oeste     4\n",
              "este      3\n",
              "centro    2\n",
              "norte     1\n",
              "Name: count, dtype: int64"
            ]
          },
          "metadata": {},
          "execution_count": 48
        }
      ]
    },
    {
      "cell_type": "code",
      "source": [
        "regiones.describe() #Crea un mini resumen para la serie categorica"
      ],
      "metadata": {
        "id": "mGpFjOowXx3W",
        "outputId": "0670a6ea-c9d3-46a6-e3b6-964b6ad6fdb8",
        "colab": {
          "base_uri": "https://localhost:8080/"
        }
      },
      "execution_count": 47,
      "outputs": [
        {
          "output_type": "execute_result",
          "data": {
            "text/plain": [
              "count        10\n",
              "unique        4\n",
              "top       oeste\n",
              "freq          4\n",
              "dtype: object"
            ]
          },
          "metadata": {},
          "execution_count": 47
        }
      ]
    },
    {
      "cell_type": "markdown",
      "source": [
        "## Ejercicio 1.9\n",
        "\n",
        "Una de las ventajas de la libreria pandas es que permite utilizar fechas.\n",
        "\n",
        "Veamos como utilizar la funcion date_range"
      ],
      "metadata": {
        "id": "T5MIo1kUYLTQ"
      }
    },
    {
      "cell_type": "code",
      "source": [
        "pd.date_range(start='2024-04-01', end='2024-04-14') #Asi seguimos la estructura AAAA-MM-DD"
      ],
      "metadata": {
        "id": "Qgx7OCx_X6r3",
        "outputId": "023f017a-c8b2-401f-eee4-2f4691032e2b",
        "colab": {
          "base_uri": "https://localhost:8080/"
        }
      },
      "execution_count": 55,
      "outputs": [
        {
          "output_type": "execute_result",
          "data": {
            "text/plain": [
              "DatetimeIndex(['2024-04-01', '2024-04-02', '2024-04-03', '2024-04-04',\n",
              "               '2024-04-05', '2024-04-06', '2024-04-07', '2024-04-08',\n",
              "               '2024-04-09', '2024-04-10', '2024-04-11', '2024-04-12',\n",
              "               '2024-04-13', '2024-04-14'],\n",
              "              dtype='datetime64[ns]', freq='D')"
            ]
          },
          "metadata": {},
          "execution_count": 55
        }
      ]
    },
    {
      "cell_type": "code",
      "source": [
        "pd.date_range(start='04-01-2024', end='04-10-2024') #Asi seguimos la estructura MM/DD/AAAA"
      ],
      "metadata": {
        "id": "TRcuKTi8YmfR",
        "outputId": "9436b6e1-a39d-4f7a-a702-f33dacc6ef15",
        "colab": {
          "base_uri": "https://localhost:8080/"
        }
      },
      "execution_count": 56,
      "outputs": [
        {
          "output_type": "execute_result",
          "data": {
            "text/plain": [
              "DatetimeIndex(['2024-04-01', '2024-04-02', '2024-04-03', '2024-04-04',\n",
              "               '2024-04-05', '2024-04-06', '2024-04-07', '2024-04-08',\n",
              "               '2024-04-09', '2024-04-10'],\n",
              "              dtype='datetime64[ns]', freq='D')"
            ]
          },
          "metadata": {},
          "execution_count": 56
        }
      ]
    },
    {
      "cell_type": "code",
      "source": [
        "#Podemos utilizar diferentes frecuencias\n",
        "pd.date_range(start='2011', end='2024', freq= 'YE') #Separa cada valor por el ultimo dia del año"
      ],
      "metadata": {
        "id": "RB_XZ5AoY_3I",
        "outputId": "2db6fe8a-70eb-4991-81ac-8a65092081d2",
        "colab": {
          "base_uri": "https://localhost:8080/"
        }
      },
      "execution_count": 57,
      "outputs": [
        {
          "output_type": "execute_result",
          "data": {
            "text/plain": [
              "DatetimeIndex(['2011-12-31', '2012-12-31', '2013-12-31', '2014-12-31',\n",
              "               '2015-12-31', '2016-12-31', '2017-12-31', '2018-12-31',\n",
              "               '2019-12-31', '2020-12-31', '2021-12-31', '2022-12-31',\n",
              "               '2023-12-31'],\n",
              "              dtype='datetime64[ns]', freq='YE-DEC')"
            ]
          },
          "metadata": {},
          "execution_count": 57
        }
      ]
    },
    {
      "cell_type": "code",
      "source": [
        "pd.date_range(start='2022', end='2023', freq='ME') #Separa cada valor por el ultimo dia del mes"
      ],
      "metadata": {
        "id": "QbKHQH_xZjJM",
        "outputId": "e99571d3-a7f9-4e7e-825a-5b78b107e0dc",
        "colab": {
          "base_uri": "https://localhost:8080/"
        }
      },
      "execution_count": 58,
      "outputs": [
        {
          "output_type": "execute_result",
          "data": {
            "text/plain": [
              "DatetimeIndex(['2022-01-31', '2022-02-28', '2022-03-31', '2022-04-30',\n",
              "               '2022-05-31', '2022-06-30', '2022-07-31', '2022-08-31',\n",
              "               '2022-09-30', '2022-10-31', '2022-11-30', '2022-12-31'],\n",
              "              dtype='datetime64[ns]', freq='ME')"
            ]
          },
          "metadata": {},
          "execution_count": 58
        }
      ]
    },
    {
      "cell_type": "code",
      "source": [
        "pd.date_range(start='2023/02', end='2023/05', freq= 'W') #Separa cada valor por el ultimo dia de la semana"
      ],
      "metadata": {
        "id": "jl9G3a0BZ6vR",
        "outputId": "b4f7ee2b-7f9d-416e-d6e9-3adcd97ea4c2",
        "colab": {
          "base_uri": "https://localhost:8080/"
        }
      },
      "execution_count": 60,
      "outputs": [
        {
          "output_type": "execute_result",
          "data": {
            "text/plain": [
              "DatetimeIndex(['2023-02-05', '2023-02-12', '2023-02-19', '2023-02-26',\n",
              "               '2023-03-05', '2023-03-12', '2023-03-19', '2023-03-26',\n",
              "               '2023-04-02', '2023-04-09', '2023-04-16', '2023-04-23',\n",
              "               '2023-04-30'],\n",
              "              dtype='datetime64[ns]', freq='W-SUN')"
            ]
          },
          "metadata": {},
          "execution_count": 60
        }
      ]
    },
    {
      "cell_type": "code",
      "source": [
        "pd.date_range(start='2023/10', end='2023/11', freq= 'D') #Separa cada valor por dia"
      ],
      "metadata": {
        "id": "uKeZl5OUaZrG",
        "outputId": "94ef8102-c05c-4b08-9264-7c259a1c05ab",
        "colab": {
          "base_uri": "https://localhost:8080/"
        }
      },
      "execution_count": 62,
      "outputs": [
        {
          "output_type": "execute_result",
          "data": {
            "text/plain": [
              "DatetimeIndex(['2023-10-01', '2023-10-02', '2023-10-03', '2023-10-04',\n",
              "               '2023-10-05', '2023-10-06', '2023-10-07', '2023-10-08',\n",
              "               '2023-10-09', '2023-10-10', '2023-10-11', '2023-10-12',\n",
              "               '2023-10-13', '2023-10-14', '2023-10-15', '2023-10-16',\n",
              "               '2023-10-17', '2023-10-18', '2023-10-19', '2023-10-20',\n",
              "               '2023-10-21', '2023-10-22', '2023-10-23', '2023-10-24',\n",
              "               '2023-10-25', '2023-10-26', '2023-10-27', '2023-10-28',\n",
              "               '2023-10-29', '2023-10-30', '2023-10-31', '2023-11-01'],\n",
              "              dtype='datetime64[ns]', freq='D')"
            ]
          },
          "metadata": {},
          "execution_count": 62
        }
      ]
    },
    {
      "cell_type": "code",
      "source": [
        "#Otra opcion es usar la cantidad de periodes que queremos\n",
        "\n",
        "pd.date_range(start='2023/02', end='2024/04', periods= 3)  #Divide lo que hay entre 2023 y 2024 en 3 periodos iguales"
      ],
      "metadata": {
        "id": "5WdYsyA6avVI",
        "outputId": "9eb1fe03-bcd3-4725-8dca-e02f28d4fa7f",
        "colab": {
          "base_uri": "https://localhost:8080/"
        }
      },
      "execution_count": 64,
      "outputs": [
        {
          "output_type": "execute_result",
          "data": {
            "text/plain": [
              "DatetimeIndex(['2023-02-01 00:00:00', '2023-09-01 12:00:00',\n",
              "               '2024-04-01 00:00:00'],\n",
              "              dtype='datetime64[ns]', freq=None)"
            ]
          },
          "metadata": {},
          "execution_count": 64
        }
      ]
    },
    {
      "cell_type": "code",
      "source": [
        "pd.date_range(start='2023/03', end='2024/04', periods= 6) #Divide lo que hay entre marzo del 2023 y abril del 2024 en 6 periodos iguales"
      ],
      "metadata": {
        "id": "cs8y9qZub0Ze",
        "outputId": "e9207346-8ee5-47d8-e619-08b6fd1326e9",
        "colab": {
          "base_uri": "https://localhost:8080/"
        }
      },
      "execution_count": 66,
      "outputs": [
        {
          "output_type": "execute_result",
          "data": {
            "text/plain": [
              "DatetimeIndex(['2023-03-01 00:00:00', '2023-05-19 09:36:00',\n",
              "               '2023-08-06 19:12:00', '2023-10-25 04:48:00',\n",
              "               '2024-01-12 14:24:00', '2024-04-01 00:00:00'],\n",
              "              dtype='datetime64[ns]', freq=None)"
            ]
          },
          "metadata": {},
          "execution_count": 66
        }
      ]
    },
    {
      "cell_type": "markdown",
      "source": [
        "## Ejercicio 2.0\n",
        "\n",
        "Ya vimos como podemos crear fechas, estas son muy utiles para los indices ya que nos permiten transforma nuestra serie en una serie temporal."
      ],
      "metadata": {
        "id": "smdbtgjtcyuU"
      }
    },
    {
      "cell_type": "code",
      "source": [
        "dias_febrero = pd.date_range(start='2024/02/01', end='2024/03/01', freq= 'D')"
      ],
      "metadata": {
        "id": "UAybMK7Tcm51"
      },
      "execution_count": 67,
      "outputs": []
    },
    {
      "cell_type": "code",
      "source": [
        "cantidad_cargas_sube_febrero = pd.Series(rng.integers(1,101, len(dias_febrero)), index= dias_febrero)\n",
        "cantidad_cargas_sube_febrero"
      ],
      "metadata": {
        "id": "EqM25TwldQRh",
        "outputId": "98545966-9283-4a4f-f9c6-fddc5ef07557",
        "colab": {
          "base_uri": "https://localhost:8080/"
        }
      },
      "execution_count": 68,
      "outputs": [
        {
          "output_type": "execute_result",
          "data": {
            "text/plain": [
              "2024-02-01     5\n",
              "2024-02-02    13\n",
              "2024-02-03    23\n",
              "2024-02-04     7\n",
              "2024-02-05    42\n",
              "2024-02-06    69\n",
              "2024-02-07    78\n",
              "2024-02-08     9\n",
              "2024-02-09    50\n",
              "2024-02-10    25\n",
              "2024-02-11    13\n",
              "2024-02-12     6\n",
              "2024-02-13    74\n",
              "2024-02-14    55\n",
              "2024-02-15    71\n",
              "2024-02-16    94\n",
              "2024-02-17    38\n",
              "2024-02-18    70\n",
              "2024-02-19    89\n",
              "2024-02-20    78\n",
              "2024-02-21    12\n",
              "2024-02-22    82\n",
              "2024-02-23     1\n",
              "2024-02-24     1\n",
              "2024-02-25    73\n",
              "2024-02-26    14\n",
              "2024-02-27    41\n",
              "2024-02-28    88\n",
              "2024-02-29    35\n",
              "2024-03-01     9\n",
              "Freq: D, dtype: int64"
            ]
          },
          "metadata": {},
          "execution_count": 68
        }
      ]
    },
    {
      "cell_type": "code",
      "source": [
        "cantidad_cargas_sube_febrero.describe()"
      ],
      "metadata": {
        "id": "pscojwVNeKw6",
        "outputId": "9c4d773b-6eb2-4f69-9dc5-66d63d75a860",
        "colab": {
          "base_uri": "https://localhost:8080/"
        }
      },
      "execution_count": 69,
      "outputs": [
        {
          "output_type": "execute_result",
          "data": {
            "text/plain": [
              "count    30.000000\n",
              "mean     42.166667\n",
              "std      31.788182\n",
              "min       1.000000\n",
              "25%      12.250000\n",
              "50%      39.500000\n",
              "75%      72.500000\n",
              "max      94.000000\n",
              "dtype: float64"
            ]
          },
          "metadata": {},
          "execution_count": 69
        }
      ]
    },
    {
      "cell_type": "code",
      "source": [],
      "metadata": {
        "id": "M4qV1NYCeOgM"
      },
      "execution_count": null,
      "outputs": []
    }
  ],
  "metadata": {
    "colab": {
      "provenance": []
    },
    "kernelspec": {
      "display_name": "Python 3 (ipykernel)",
      "language": "python",
      "name": "python3"
    },
    "language_info": {
      "codemirror_mode": {
        "name": "ipython",
        "version": 3
      },
      "file_extension": ".py",
      "mimetype": "text/x-python",
      "name": "python",
      "nbconvert_exporter": "python",
      "pygments_lexer": "ipython3",
      "version": "3.10.13"
    }
  },
  "nbformat": 4,
  "nbformat_minor": 0
}