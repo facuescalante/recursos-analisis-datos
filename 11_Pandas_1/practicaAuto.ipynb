{
 "cells": [
  {
   "cell_type": "markdown",
   "id": "93871e23-149e-4141-ab71-954cd054c292",
   "metadata": {},
   "source": [
    "# DataFrames"
   ]
  },
  {
   "cell_type": "code",
   "execution_count": 1,
   "id": "a828bedc-29f8-435b-bad6-6dc923199f50",
   "metadata": {},
   "outputs": [],
   "source": [
    "import pandas as pd"
   ]
  },
  {
   "cell_type": "markdown",
   "id": "fbec2e19-ac77-45aa-8385-5e307187c92b",
   "metadata": {},
   "source": [
    "## Ejercicio 1.0"
   ]
  },
  {
   "cell_type": "code",
   "execution_count": 2,
   "id": "e4a123f4-f897-4e80-acbd-81b4e91bcc89",
   "metadata": {},
   "outputs": [
    {
     "data": {
      "text/plain": [
       "[22, 18, 55, 26, 33, 45, 54, 18, 22]"
      ]
     },
     "execution_count": 2,
     "metadata": {},
     "output_type": "execute_result"
    }
   ],
   "source": [
    "edades = [22,18,55,26,33,45,54,18,22]\n",
    "edades"
   ]
  },
  {
   "cell_type": "code",
   "execution_count": 3,
   "id": "9d496c14-771c-4c61-a9c1-2ea9ad48eb3e",
   "metadata": {},
   "outputs": [],
   "source": [
    "serie_edades = pd.Series(edades)"
   ]
  },
  {
   "cell_type": "code",
   "execution_count": 4,
   "id": "76ce34d8-e842-4455-8bc3-a1780b77a7f8",
   "metadata": {},
   "outputs": [
    {
     "data": {
      "text/plain": [
       "0    22\n",
       "1    18\n",
       "2    55\n",
       "3    26\n",
       "4    33\n",
       "5    45\n",
       "6    54\n",
       "7    18\n",
       "8    22\n",
       "dtype: int64"
      ]
     },
     "execution_count": 4,
     "metadata": {},
     "output_type": "execute_result"
    }
   ],
   "source": [
    "serie_edades"
   ]
  },
  {
   "cell_type": "markdown",
   "id": "d9bf2a7b-b165-4af2-9300-df22746333e9",
   "metadata": {},
   "source": [
    "## Ejercicio 1.1\n",
    "\n",
    "obtener los primeros 5 registros utilizando head"
   ]
  },
  {
   "cell_type": "code",
   "execution_count": 5,
   "id": "861f86bf-8d82-4fd9-a5e6-11701d9975d8",
   "metadata": {},
   "outputs": [
    {
     "data": {
      "text/plain": [
       "0    22\n",
       "1    18\n",
       "2    55\n",
       "3    26\n",
       "4    33\n",
       "dtype: int64"
      ]
     },
     "execution_count": 5,
     "metadata": {},
     "output_type": "execute_result"
    }
   ],
   "source": [
    "serie_edades.head(5)"
   ]
  },
  {
   "cell_type": "markdown",
   "id": "946b1e86-dd43-4194-9650-2007b29ff7ae",
   "metadata": {},
   "source": [
    "Obtener los ultimos 3 registros utilizando tail"
   ]
  },
  {
   "cell_type": "code",
   "execution_count": 6,
   "id": "5affadd8-db28-4e76-bdcf-35144e5df592",
   "metadata": {},
   "outputs": [
    {
     "data": {
      "text/plain": [
       "6    54\n",
       "7    18\n",
       "8    22\n",
       "dtype: int64"
      ]
     },
     "execution_count": 6,
     "metadata": {},
     "output_type": "execute_result"
    }
   ],
   "source": [
    "serie_edades.tail(3)"
   ]
  },
  {
   "cell_type": "markdown",
   "id": "75a32dd0-56e7-4c91-b4bf-0228c71c96a6",
   "metadata": {},
   "source": [
    "Obtener el valor maximo de la serie"
   ]
  },
  {
   "cell_type": "code",
   "execution_count": 7,
   "id": "68dbd656-07e8-4f4e-93fe-fcdea71b6b75",
   "metadata": {},
   "outputs": [
    {
     "data": {
      "text/plain": [
       "55"
      ]
     },
     "execution_count": 7,
     "metadata": {},
     "output_type": "execute_result"
    }
   ],
   "source": [
    "serie_edades.max()\n",
    "\n"
   ]
  },
  {
   "cell_type": "markdown",
   "id": "089f02d9-ac48-464a-a46a-fc1abf347131",
   "metadata": {},
   "source": [
    "Obtener el valor minimo de la serie"
   ]
  },
  {
   "cell_type": "code",
   "execution_count": 8,
   "id": "56e2fc86-3209-4d8a-8afc-f344fa661967",
   "metadata": {},
   "outputs": [
    {
     "data": {
      "text/plain": [
       "18"
      ]
     },
     "execution_count": 8,
     "metadata": {},
     "output_type": "execute_result"
    }
   ],
   "source": [
    "serie_edades.min()"
   ]
  },
  {
   "cell_type": "markdown",
   "id": "9b2cf339-3399-49d3-a8c4-3660d03cd6a6",
   "metadata": {},
   "source": [
    "Obtener valor promedio"
   ]
  },
  {
   "cell_type": "code",
   "execution_count": 9,
   "id": "9e02ae5b-1d32-455c-bfa5-5465e4891c44",
   "metadata": {},
   "outputs": [
    {
     "data": {
      "text/plain": [
       "32.55555555555556"
      ]
     },
     "execution_count": 9,
     "metadata": {},
     "output_type": "execute_result"
    }
   ],
   "source": [
    "serie_edades.mean()"
   ]
  },
  {
   "cell_type": "markdown",
   "id": "17c8d582-ad3f-404c-b958-092a7a0d65a3",
   "metadata": {},
   "source": [
    "## Ejercicio 1.2\n",
    "\n",
    "Obtener el segundo valor de la serie"
   ]
  },
  {
   "cell_type": "code",
   "execution_count": 10,
   "id": "a27d21d2-9180-4dc8-8bb2-358366e3e5f9",
   "metadata": {},
   "outputs": [
    {
     "data": {
      "text/plain": [
       "18"
      ]
     },
     "execution_count": 10,
     "metadata": {},
     "output_type": "execute_result"
    }
   ],
   "source": [
    "serie_edades[1]"
   ]
  },
  {
   "cell_type": "code",
   "execution_count": 11,
   "id": "0ad5bea6-1373-4dfa-ada8-3966f6237c16",
   "metadata": {},
   "outputs": [
    {
     "data": {
      "text/plain": [
       "0    22\n",
       "1    18\n",
       "2    55\n",
       "3    26\n",
       "4    33\n",
       "5    45\n",
       "6    54\n",
       "7    18\n",
       "8    22\n",
       "dtype: int64"
      ]
     },
     "execution_count": 11,
     "metadata": {},
     "output_type": "execute_result"
    }
   ],
   "source": [
    "serie_edades"
   ]
  },
  {
   "cell_type": "markdown",
   "id": "83410a58-9d6f-4a81-bb59-71db2d5faee9",
   "metadata": {},
   "source": [
    "Otra variante con get"
   ]
  },
  {
   "cell_type": "code",
   "execution_count": 12,
   "id": "7ed838d6-a7bb-446a-ad7c-e68a047d201e",
   "metadata": {},
   "outputs": [
    {
     "data": {
      "text/plain": [
       "55"
      ]
     },
     "execution_count": 12,
     "metadata": {},
     "output_type": "execute_result"
    }
   ],
   "source": [
    "serie_edades.get(2)"
   ]
  },
  {
   "cell_type": "markdown",
   "id": "11fe3b6d-62b3-4b14-94b4-8079074362f9",
   "metadata": {},
   "source": [
    "## Ejercicio 1.3\n",
    "\n",
    "Obtengo los registros que tengan un valor == 22"
   ]
  },
  {
   "cell_type": "code",
   "execution_count": 13,
   "id": "a89217c5-f664-4707-84c6-d4482c46ba29",
   "metadata": {},
   "outputs": [
    {
     "data": {
      "text/plain": [
       "0    22\n",
       "1    18\n",
       "2    55\n",
       "3    26\n",
       "4    33\n",
       "5    45\n",
       "6    54\n",
       "7    18\n",
       "8    22\n",
       "dtype: int64"
      ]
     },
     "execution_count": 13,
     "metadata": {},
     "output_type": "execute_result"
    }
   ],
   "source": [
    "serie_edades"
   ]
  },
  {
   "cell_type": "code",
   "execution_count": 14,
   "id": "bcb7c56d-5f17-433f-a452-97c2c0b5e343",
   "metadata": {},
   "outputs": [
    {
     "data": {
      "text/plain": [
       "0     True\n",
       "1    False\n",
       "2    False\n",
       "3    False\n",
       "4    False\n",
       "5    False\n",
       "6    False\n",
       "7    False\n",
       "8     True\n",
       "dtype: bool"
      ]
     },
     "execution_count": 14,
     "metadata": {},
     "output_type": "execute_result"
    }
   ],
   "source": [
    "serie_edades==22"
   ]
  },
  {
   "cell_type": "code",
   "execution_count": 15,
   "id": "3c76a786-263d-4e1b-980b-739821c5809b",
   "metadata": {},
   "outputs": [
    {
     "data": {
      "text/plain": [
       "0    22\n",
       "8    22\n",
       "dtype: int64"
      ]
     },
     "execution_count": 15,
     "metadata": {},
     "output_type": "execute_result"
    }
   ],
   "source": [
    "serie_edades[serie_edades==22]"
   ]
  },
  {
   "cell_type": "markdown",
   "id": "0e2004a0-1e97-41dc-937f-629a246d4f16",
   "metadata": {},
   "source": [
    "## Ejercicio 1.4\n",
    "\n",
    "Creo una segunda serie utilizando los siguientes datos"
   ]
  },
  {
   "cell_type": "code",
   "execution_count": 16,
   "id": "3250ac36-d566-4b33-9d62-fa8441a2c471",
   "metadata": {},
   "outputs": [],
   "source": [
    "edades2 = [33,66,55,22,12,47,43,25,28]"
   ]
  },
  {
   "cell_type": "code",
   "execution_count": 17,
   "id": "1dd85afc-e738-48a6-88a6-ec36006beddb",
   "metadata": {},
   "outputs": [],
   "source": [
    "serie_edades2 = pd.Series(edades2)"
   ]
  },
  {
   "cell_type": "code",
   "execution_count": 18,
   "id": "9a25cec2-52c7-4004-9648-4d83c59278e1",
   "metadata": {},
   "outputs": [
    {
     "data": {
      "text/plain": [
       "0    33\n",
       "1    66\n",
       "2    55\n",
       "3    22\n",
       "4    12\n",
       "5    47\n",
       "6    43\n",
       "7    25\n",
       "8    28\n",
       "dtype: int64"
      ]
     },
     "execution_count": 18,
     "metadata": {},
     "output_type": "execute_result"
    }
   ],
   "source": [
    "serie_edades2 "
   ]
  },
  {
   "cell_type": "markdown",
   "id": "93946d7f-c771-4e21-a363-0f9f72e52ebd",
   "metadata": {},
   "source": [
    "Sumar ambas series\n"
   ]
  },
  {
   "cell_type": "code",
   "execution_count": 19,
   "id": "05091d87-00f2-47f6-9e15-2bf38b017503",
   "metadata": {},
   "outputs": [
    {
     "data": {
      "text/plain": [
       "0     55\n",
       "1     84\n",
       "2    110\n",
       "3     48\n",
       "4     45\n",
       "5     92\n",
       "6     97\n",
       "7     43\n",
       "8     50\n",
       "dtype: int64"
      ]
     },
     "execution_count": 19,
     "metadata": {},
     "output_type": "execute_result"
    }
   ],
   "source": [
    "serie_edades + serie_edades2\n"
   ]
  },
  {
   "cell_type": "code",
   "execution_count": 20,
   "id": "ca632567-5f1f-4fdd-976c-127bb6cc8bc7",
   "metadata": {},
   "outputs": [
    {
     "data": {
      "text/plain": [
       "[22, 18, 55, 26, 33, 45, 54, 18, 22, 33, 66, 55, 22, 12, 47, 43, 25, 28]"
      ]
     },
     "execution_count": 20,
     "metadata": {},
     "output_type": "execute_result"
    }
   ],
   "source": [
    "edades + edades2\n"
   ]
  },
  {
   "cell_type": "code",
   "execution_count": 21,
   "id": "e75d1314-606e-4b0d-aa7c-51f405bcb19b",
   "metadata": {},
   "outputs": [],
   "source": [
    "edades3 = [2]"
   ]
  },
  {
   "cell_type": "code",
   "execution_count": 24,
   "id": "fb5a51c2-99c8-4994-87d7-dd16a3c4cdaa",
   "metadata": {},
   "outputs": [],
   "source": [
    "serie_edades3 = pd.Series(edades3)"
   ]
  },
  {
   "cell_type": "code",
   "execution_count": 25,
   "id": "42cde9d8-ecc2-4420-b527-6adc1efbabf9",
   "metadata": {},
   "outputs": [
    {
     "data": {
      "text/plain": [
       "0    2\n",
       "dtype: int64"
      ]
     },
     "execution_count": 25,
     "metadata": {},
     "output_type": "execute_result"
    }
   ],
   "source": [
    "serie_edades3"
   ]
  },
  {
   "cell_type": "markdown",
   "id": "d5f47b99-46aa-4d62-b375-760afec3a24b",
   "metadata": {
    "editable": true,
    "slideshow": {
     "slide_type": ""
    },
    "tags": []
   },
   "source": [
    "serie_edades3 + serie_edades2"
   ]
  },
  {
   "cell_type": "markdown",
   "id": "c9fcf8e9-9677-45e1-84db-b6cb18f65b6d",
   "metadata": {},
   "source": [
    "## Ejercicio 1.5\n",
    "\n",
    "Reordenar la serie anterior ordenando los indices con **sort_index()**"
   ]
  },
  {
   "cell_type": "code",
   "execution_count": 28,
   "id": "cb8055b9-051d-41d5-bbfe-55e5a62434b0",
   "metadata": {},
   "outputs": [
    {
     "data": {
      "text/plain": [
       "8    28\n",
       "7    25\n",
       "6    43\n",
       "5    47\n",
       "4    12\n",
       "3    22\n",
       "2    55\n",
       "1    66\n",
       "0    33\n",
       "dtype: int64"
      ]
     },
     "execution_count": 28,
     "metadata": {},
     "output_type": "execute_result"
    }
   ],
   "source": [
    "serie_edades2 = serie_edades2.sort_index(ascending=False)\n",
    "serie_edades2"
   ]
  },
  {
   "cell_type": "code",
   "execution_count": null,
   "id": "bb8084b7-8b18-4c35-9a56-5b7685deb622",
   "metadata": {},
   "outputs": [],
   "source": []
  }
 ],
 "metadata": {
  "kernelspec": {
   "display_name": "Python 3 (ipykernel)",
   "language": "python",
   "name": "python3"
  },
  "language_info": {
   "codemirror_mode": {
    "name": "ipython",
    "version": 3
   },
   "file_extension": ".py",
   "mimetype": "text/x-python",
   "name": "python",
   "nbconvert_exporter": "python",
   "pygments_lexer": "ipython3",
   "version": "3.11.7"
  }
 },
 "nbformat": 4,
 "nbformat_minor": 5
}
