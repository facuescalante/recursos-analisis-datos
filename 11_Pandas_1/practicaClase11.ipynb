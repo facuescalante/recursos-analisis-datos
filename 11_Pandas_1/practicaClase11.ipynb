{
  "nbformat": 4,
  "nbformat_minor": 0,
  "metadata": {
    "colab": {
      "provenance": [],
      "authorship_tag": "ABX9TyPGQ3LAL0oIzjoEKNxGMdQh",
      "include_colab_link": true
    },
    "kernelspec": {
      "name": "python3",
      "display_name": "Python 3"
    },
    "language_info": {
      "name": "python"
    }
  },
  "cells": [
    {
      "cell_type": "markdown",
      "metadata": {
        "id": "view-in-github",
        "colab_type": "text"
      },
      "source": [
        "<a href=\"https://colab.research.google.com/github/facuescalante/recursos-analisis-datos/blob/main/11_Pandas_1/practicaClase11.ipynb\" target=\"_parent\"><img src=\"https://colab.research.google.com/assets/colab-badge.svg\" alt=\"Open In Colab\"/></a>"
      ]
    },
    {
      "cell_type": "markdown",
      "source": [
        "# Pandas\n",
        "\n",
        "## Ejercicio 1.0 - Instalacion y ejecucion\n",
        "\n",
        "Pandas nos permite trabajar con datos estructurados. Esta libreria sirve para trabajar con tablas.\n",
        "dentro de la libreria tenemos:\n",
        "* Series: son columnas con informacion\n",
        "* Dataframe: varias series agrupadas\n",
        "las funciones y metodos son compatibles entre Series y Dataframes.Nos permite leer informacion..."
      ],
      "metadata": {
        "id": "rT45_BRUqRTc"
      }
    },
    {
      "cell_type": "code",
      "execution_count": 2,
      "metadata": {
        "colab": {
          "base_uri": "https://localhost:8080/"
        },
        "id": "yCXwr3ATqKbB",
        "outputId": "d80c1dfe-5e1a-4c29-a5af-b15db0b96883"
      },
      "outputs": [
        {
          "output_type": "stream",
          "name": "stdout",
          "text": [
            "Collecting pandas==2.2.2\n",
            "  Downloading pandas-2.2.2-cp310-cp310-manylinux_2_17_x86_64.manylinux2014_x86_64.whl (13.0 MB)\n",
            "\u001b[2K     \u001b[90m━━━━━━━━━━━━━━━━━━━━━━━━━━━━━━━━━━━━━━━━\u001b[0m \u001b[32m13.0/13.0 MB\u001b[0m \u001b[31m45.3 MB/s\u001b[0m eta \u001b[36m0:00:00\u001b[0m\n",
            "\u001b[?25hRequirement already satisfied: numpy>=1.22.4 in /usr/local/lib/python3.10/dist-packages (from pandas==2.2.2) (1.25.2)\n",
            "Requirement already satisfied: python-dateutil>=2.8.2 in /usr/local/lib/python3.10/dist-packages (from pandas==2.2.2) (2.8.2)\n",
            "Requirement already satisfied: pytz>=2020.1 in /usr/local/lib/python3.10/dist-packages (from pandas==2.2.2) (2023.4)\n",
            "Requirement already satisfied: tzdata>=2022.7 in /usr/local/lib/python3.10/dist-packages (from pandas==2.2.2) (2024.1)\n",
            "Requirement already satisfied: six>=1.5 in /usr/local/lib/python3.10/dist-packages (from python-dateutil>=2.8.2->pandas==2.2.2) (1.16.0)\n",
            "Installing collected packages: pandas\n",
            "  Attempting uninstall: pandas\n",
            "    Found existing installation: pandas 2.0.3\n",
            "    Uninstalling pandas-2.0.3:\n",
            "      Successfully uninstalled pandas-2.0.3\n",
            "\u001b[31mERROR: pip's dependency resolver does not currently take into account all the packages that are installed. This behaviour is the source of the following dependency conflicts.\n",
            "google-colab 1.0.0 requires pandas==2.0.3, but you have pandas 2.2.2 which is incompatible.\u001b[0m\u001b[31m\n",
            "\u001b[0mSuccessfully installed pandas-2.2.2\n"
          ]
        }
      ],
      "source": [
        "!pip install pandas==2.2.2\n"
      ]
    },
    {
      "cell_type": "code",
      "source": [
        "import numpy as np"
      ],
      "metadata": {
        "id": "G2UdrEi0rgUI"
      },
      "execution_count": 4,
      "outputs": []
    },
    {
      "cell_type": "code",
      "source": [
        "import pandas as pd"
      ],
      "metadata": {
        "id": "62I4vA7Ps_4P"
      },
      "execution_count": 5,
      "outputs": []
    },
    {
      "cell_type": "markdown",
      "source": [
        "## Ejercicio 1.1\n",
        "\n",
        "En una serie vamos a priorizar el tipo de informacion que tenemos.\n",
        "\n",
        "como crear ubna serie?"
      ],
      "metadata": {
        "id": "OypWvK-QtOMB"
      }
    },
    {
      "cell_type": "code",
      "source": [
        "lista_numerica = [4,5,3]\n",
        "serie_numerica = pd.Series(lista_numerica)\n",
        "serie_numerica"
      ],
      "metadata": {
        "colab": {
          "base_uri": "https://localhost:8080/"
        },
        "id": "febsobUruPLL",
        "outputId": "2f20c1a5-8f04-4110-d2f1-9c9ccb0e0105"
      },
      "execution_count": 8,
      "outputs": [
        {
          "output_type": "execute_result",
          "data": {
            "text/plain": [
              "0    4\n",
              "1    5\n",
              "2    3\n",
              "dtype: int64"
            ]
          },
          "metadata": {},
          "execution_count": 8
        }
      ]
    },
    {
      "cell_type": "code",
      "source": [
        "lista_nombres = [\"jose\",\"pedro\",\"maria\"]\n",
        "serie_nombre = pd.Series(lista_nombres)\n",
        "serie_nombre"
      ],
      "metadata": {
        "colab": {
          "base_uri": "https://localhost:8080/"
        },
        "id": "AcD0fMcru7yi",
        "outputId": "424f2fd2-8908-452b-8497-222c3ff645d7"
      },
      "execution_count": 9,
      "outputs": [
        {
          "output_type": "execute_result",
          "data": {
            "text/plain": [
              "0     jose\n",
              "1    pedro\n",
              "2    maria\n",
              "dtype: object"
            ]
          },
          "metadata": {},
          "execution_count": 9
        }
      ]
    },
    {
      "cell_type": "code",
      "source": [
        "lista_booleano = [False, True, False]\n",
        "serie_booleano = pd.Series(lista_booleano)\n",
        "serie_booleano"
      ],
      "metadata": {
        "colab": {
          "base_uri": "https://localhost:8080/"
        },
        "id": "bAyN--j-vUOb",
        "outputId": "b1fd0658-c657-4af2-c15a-649bb97e3eda"
      },
      "execution_count": 10,
      "outputs": [
        {
          "output_type": "execute_result",
          "data": {
            "text/plain": [
              "0    False\n",
              "1     True\n",
              "2    False\n",
              "dtype: bool"
            ]
          },
          "metadata": {},
          "execution_count": 10
        }
      ]
    },
    {
      "cell_type": "code",
      "source": [
        "array = np.array([7,8,9])\n",
        "serie_array = pd.Series(array)\n",
        "serie_array"
      ],
      "metadata": {
        "colab": {
          "base_uri": "https://localhost:8080/"
        },
        "id": "2qp9-gjFvrCB",
        "outputId": "41581cc3-2b8c-4caa-816f-86a1c03f8cc0"
      },
      "execution_count": 11,
      "outputs": [
        {
          "output_type": "execute_result",
          "data": {
            "text/plain": [
              "0    7\n",
              "1    8\n",
              "2    9\n",
              "dtype: int64"
            ]
          },
          "metadata": {},
          "execution_count": 11
        }
      ]
    },
    {
      "cell_type": "markdown",
      "source": [
        "## Ejercicio 1.2\n",
        "\n",
        "Podemos indicar que tipo de dato queremos:"
      ],
      "metadata": {
        "id": "ht4V9JMewKEF"
      }
    },
    {
      "cell_type": "code",
      "source": [
        "serie_colores = pd.Series([\"verde\",\"blanco\",\"rojo\"], dtype=\"string\" )\n",
        "serie_colores"
      ],
      "metadata": {
        "colab": {
          "base_uri": "https://localhost:8080/"
        },
        "id": "jjrHw7ngwYPw",
        "outputId": "de719835-a613-4a33-e7cd-ab7778460a4d"
      },
      "execution_count": 12,
      "outputs": [
        {
          "output_type": "execute_result",
          "data": {
            "text/plain": [
              "0     verde\n",
              "1    blanco\n",
              "2      rojo\n",
              "dtype: string"
            ]
          },
          "metadata": {},
          "execution_count": 12
        }
      ]
    },
    {
      "cell_type": "code",
      "source": [
        "serie_dni = pd.Series([12456852,24928635,48425698], dtype=\"string\")\n",
        "serie_dni"
      ],
      "metadata": {
        "colab": {
          "base_uri": "https://localhost:8080/"
        },
        "id": "8ftgTZKRw-eH",
        "outputId": "97cf8793-7240-4a8d-b6d0-d227d540053e"
      },
      "execution_count": 13,
      "outputs": [
        {
          "output_type": "execute_result",
          "data": {
            "text/plain": [
              "0    12456852\n",
              "1    24928635\n",
              "2    48425698\n",
              "dtype: string"
            ]
          },
          "metadata": {},
          "execution_count": 13
        }
      ]
    },
    {
      "cell_type": "markdown",
      "source": [
        "## Ejercicio 1.3\n",
        "\n",
        "En una serie puedo indicar los indices d elas filas que tengo"
      ],
      "metadata": {
        "id": "Ie8xUQ0_xlbG"
      }
    },
    {
      "cell_type": "code",
      "source": [
        "lista_alumnos = [\"sebastian\",\"carlos\",\"jorge\",\"yanina\",\"marina\"]\n",
        "edad_alumnos = [22,19,50,42,33]\n",
        "\n",
        "serie_edad = pd.Series(edad_alumnos,index=lista_alumnos)\n",
        "serie_edad"
      ],
      "metadata": {
        "colab": {
          "base_uri": "https://localhost:8080/"
        },
        "id": "2odWi3FHxysi",
        "outputId": "3c785884-bd02-43ee-de07-37f1251d0e24"
      },
      "execution_count": 14,
      "outputs": [
        {
          "output_type": "execute_result",
          "data": {
            "text/plain": [
              "sebastian    22\n",
              "carlos       19\n",
              "jorge        50\n",
              "yanina       42\n",
              "marina       33\n",
              "dtype: int64"
            ]
          },
          "metadata": {},
          "execution_count": 14
        }
      ]
    },
    {
      "cell_type": "markdown",
      "source": [
        "## Ejercicio 1.4\n",
        "\n"
      ],
      "metadata": {
        "id": "m6nMPl8xzVU6"
      }
    },
    {
      "cell_type": "code",
      "source": [
        "diccionario_promedio = {\n",
        "    \"mario\": 7.4,\n",
        "    \"jorge\": 8.0,\n",
        "    \"miguel\": 7.5,\n",
        "    \"carlos\":7.1\n",
        "}\n",
        "diccionario_promedio"
      ],
      "metadata": {
        "colab": {
          "base_uri": "https://localhost:8080/"
        },
        "id": "68yStgHmzaCo",
        "outputId": "baa2939d-1a3c-4179-ff28-435c0f329cfa"
      },
      "execution_count": 15,
      "outputs": [
        {
          "output_type": "execute_result",
          "data": {
            "text/plain": [
              "{'mario': 7.4, 'jorge': 8.0, 'miguel': 7.5, 'carlos': 7.1}"
            ]
          },
          "metadata": {},
          "execution_count": 15
        }
      ]
    },
    {
      "cell_type": "markdown",
      "source": [
        "## Ejercicio 1.4\n",
        "\n",
        "....."
      ],
      "metadata": {
        "id": "2FEwMze_0x1G"
      }
    },
    {
      "cell_type": "code",
      "source": [
        "diccionario_promedio = {\n",
        "    \"mario\": 7.4,\n",
        "    \"jorge\": 8.0,\n",
        "    \"miguel\": 7.5,\n",
        "    \"carlos\":7.1\n",
        "}\n",
        "promedio_alumnos = pd.Series(diccionario_promedio)\n",
        "promedio_alumnos"
      ],
      "metadata": {
        "colab": {
          "base_uri": "https://localhost:8080/"
        },
        "id": "h3X3OK810g7I",
        "outputId": "f7d208bb-2cb1-4964-dba9-554f35c8d0af"
      },
      "execution_count": 16,
      "outputs": [
        {
          "output_type": "execute_result",
          "data": {
            "text/plain": [
              "mario     7.4\n",
              "jorge     8.0\n",
              "miguel    7.5\n",
              "carlos    7.1\n",
              "dtype: float64"
            ]
          },
          "metadata": {},
          "execution_count": 16
        }
      ]
    },
    {
      "cell_type": "markdown",
      "source": [
        "## Ejercicio 1.5"
      ],
      "metadata": {
        "id": "B8pNTCl606Yf"
      }
    },
    {
      "cell_type": "code",
      "source": [
        "indice = [\"bs as\",\"la pampa\",\"santa fe\",\"corrientes\",\"chaco\"]\n",
        "\n",
        "serie_provincias = pd.Series(index=indice)"
      ],
      "metadata": {
        "id": "8Jt6sQi-08_f"
      },
      "execution_count": 20,
      "outputs": []
    },
    {
      "cell_type": "markdown",
      "source": [
        "## Ejercicio 1.7\n",
        "\n",
        "como manejamos indices en las series"
      ],
      "metadata": {
        "id": "dKSraxep3zOK"
      }
    },
    {
      "cell_type": "code",
      "source": [
        "serie_provincias"
      ],
      "metadata": {
        "colab": {
          "base_uri": "https://localhost:8080/"
        },
        "id": "TlbZwTM_37-S",
        "outputId": "855e1dac-baa5-4ee9-8ad5-c7ea48b50f63"
      },
      "execution_count": 21,
      "outputs": [
        {
          "output_type": "execute_result",
          "data": {
            "text/plain": [
              "bs as        NaN\n",
              "la pampa     NaN\n",
              "santa fe     NaN\n",
              "corrientes   NaN\n",
              "chaco        NaN\n",
              "dtype: float64"
            ]
          },
          "metadata": {},
          "execution_count": 21
        }
      ]
    }
  ]
}