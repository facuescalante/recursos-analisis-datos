{
 "cells": [
  {
   "cell_type": "markdown",
   "id": "42195923-7e21-4d9b-a7fb-180e1b0b3495",
   "metadata": {},
   "source": [
    "# PROYECTO FINAL - Análisis de datos "
   ]
  },
  {
   "cell_type": "markdown",
   "id": "8af58668-c775-4195-b7a9-84617b7c4f43",
   "metadata": {},
   "source": [
    "## Setup\n",
    "\n",
    "Instalacion e importacion de librerias inherentes al proyecto"
   ]
  },
  {
   "cell_type": "code",
   "execution_count": 1,
   "id": "b6f91721-4933-47e0-9148-8b1b05791097",
   "metadata": {
    "scrolled": true
   },
   "outputs": [
    {
     "name": "stdout",
     "output_type": "stream",
     "text": [
      "Requirement already satisfied: pandas==2.2.2 in c:\\python312\\lib\\site-packages (2.2.2)\n",
      "Requirement already satisfied: numpy>=1.26.0 in c:\\python312\\lib\\site-packages (from pandas==2.2.2) (1.26.4)\n",
      "Requirement already satisfied: python-dateutil>=2.8.2 in c:\\users\\olga\\appdata\\roaming\\python\\python312\\site-packages (from pandas==2.2.2) (2.8.2)\n",
      "Requirement already satisfied: pytz>=2020.1 in c:\\python312\\lib\\site-packages (from pandas==2.2.2) (2024.1)\n",
      "Requirement already satisfied: tzdata>=2022.7 in c:\\python312\\lib\\site-packages (from pandas==2.2.2) (2024.1)\n",
      "Requirement already satisfied: six>=1.5 in c:\\users\\olga\\appdata\\roaming\\python\\python312\\site-packages (from python-dateutil>=2.8.2->pandas==2.2.2) (1.16.0)\n"
     ]
    }
   ],
   "source": [
    "!pip install pandas==2.2.2"
   ]
  },
  {
   "cell_type": "code",
   "execution_count": 2,
   "id": "6eba5a08-5646-40c7-bf9f-09082aa06d4c",
   "metadata": {},
   "outputs": [],
   "source": [
    "import pandas as pd\n",
    "import os"
   ]
  },
  {
   "cell_type": "markdown",
   "id": "610aa682-4abd-4866-b533-b996ad1610fd",
   "metadata": {},
   "source": [
    "## IMPORTO DATASETS ORIGINALES\n",
    "\n",
    "Cargo los csv que contienen la informacion para realizar el proyecto\n",
    "\n",
    "### 1: Orders"
   ]
  },
  {
   "cell_type": "code",
   "execution_count": 3,
   "id": "a6b7b7a7-7779-4176-8d27-c08357c2ce16",
   "metadata": {},
   "outputs": [
    {
     "data": {
      "text/html": [
       "<div>\n",
       "<style scoped>\n",
       "    .dataframe tbody tr th:only-of-type {\n",
       "        vertical-align: middle;\n",
       "    }\n",
       "\n",
       "    .dataframe tbody tr th {\n",
       "        vertical-align: top;\n",
       "    }\n",
       "\n",
       "    .dataframe thead th {\n",
       "        text-align: right;\n",
       "    }\n",
       "</style>\n",
       "<table border=\"1\" class=\"dataframe\">\n",
       "  <thead>\n",
       "    <tr style=\"text-align: right;\">\n",
       "      <th></th>\n",
       "      <th>order_id</th>\n",
       "      <th>customer_id</th>\n",
       "      <th>order_status</th>\n",
       "      <th>order_purchase_timestamp</th>\n",
       "      <th>order_approved_at</th>\n",
       "      <th>order_delivered_carrier_date</th>\n",
       "      <th>order_delivered_customer_date</th>\n",
       "      <th>order_estimated_delivery_date</th>\n",
       "    </tr>\n",
       "  </thead>\n",
       "  <tbody>\n",
       "    <tr>\n",
       "      <th>0</th>\n",
       "      <td>e481f51cbdc54678b7cc49136f2d6af7</td>\n",
       "      <td>9ef432eb6251297304e76186b10a928d</td>\n",
       "      <td>delivered</td>\n",
       "      <td>2017-10-02 10:56:33</td>\n",
       "      <td>2017-10-02 11:07:15</td>\n",
       "      <td>2017-10-04 19:55:00</td>\n",
       "      <td>2017-10-10 21:25:13</td>\n",
       "      <td>2017-10-18 00:00:00</td>\n",
       "    </tr>\n",
       "    <tr>\n",
       "      <th>1</th>\n",
       "      <td>53cdb2fc8bc7dce0b6741e2150273451</td>\n",
       "      <td>b0830fb4747a6c6d20dea0b8c802d7ef</td>\n",
       "      <td>delivered</td>\n",
       "      <td>2018-07-24 20:41:37</td>\n",
       "      <td>2018-07-26 03:24:27</td>\n",
       "      <td>2018-07-26 14:31:00</td>\n",
       "      <td>2018-08-07 15:27:45</td>\n",
       "      <td>2018-08-13 00:00:00</td>\n",
       "    </tr>\n",
       "    <tr>\n",
       "      <th>2</th>\n",
       "      <td>47770eb9100c2d0c44946d9cf07ec65d</td>\n",
       "      <td>41ce2a54c0b03bf3443c3d931a367089</td>\n",
       "      <td>delivered</td>\n",
       "      <td>2018-08-08 08:38:49</td>\n",
       "      <td>2018-08-08 08:55:23</td>\n",
       "      <td>2018-08-08 13:50:00</td>\n",
       "      <td>2018-08-17 18:06:29</td>\n",
       "      <td>2018-09-04 00:00:00</td>\n",
       "    </tr>\n",
       "    <tr>\n",
       "      <th>3</th>\n",
       "      <td>949d5b44dbf5de918fe9c16f97b45f8a</td>\n",
       "      <td>f88197465ea7920adcdbec7375364d82</td>\n",
       "      <td>delivered</td>\n",
       "      <td>2017-11-18 19:28:06</td>\n",
       "      <td>2017-11-18 19:45:59</td>\n",
       "      <td>2017-11-22 13:39:59</td>\n",
       "      <td>2017-12-02 00:28:42</td>\n",
       "      <td>2017-12-15 00:00:00</td>\n",
       "    </tr>\n",
       "    <tr>\n",
       "      <th>4</th>\n",
       "      <td>ad21c59c0840e6cb83a9ceb5573f8159</td>\n",
       "      <td>8ab97904e6daea8866dbdbc4fb7aad2c</td>\n",
       "      <td>delivered</td>\n",
       "      <td>2018-02-13 21:18:39</td>\n",
       "      <td>2018-02-13 22:20:29</td>\n",
       "      <td>2018-02-14 19:46:34</td>\n",
       "      <td>2018-02-16 18:17:02</td>\n",
       "      <td>2018-02-26 00:00:00</td>\n",
       "    </tr>\n",
       "  </tbody>\n",
       "</table>\n",
       "</div>"
      ],
      "text/plain": [
       "                           order_id                       customer_id  \\\n",
       "0  e481f51cbdc54678b7cc49136f2d6af7  9ef432eb6251297304e76186b10a928d   \n",
       "1  53cdb2fc8bc7dce0b6741e2150273451  b0830fb4747a6c6d20dea0b8c802d7ef   \n",
       "2  47770eb9100c2d0c44946d9cf07ec65d  41ce2a54c0b03bf3443c3d931a367089   \n",
       "3  949d5b44dbf5de918fe9c16f97b45f8a  f88197465ea7920adcdbec7375364d82   \n",
       "4  ad21c59c0840e6cb83a9ceb5573f8159  8ab97904e6daea8866dbdbc4fb7aad2c   \n",
       "\n",
       "  order_status order_purchase_timestamp    order_approved_at  \\\n",
       "0    delivered      2017-10-02 10:56:33  2017-10-02 11:07:15   \n",
       "1    delivered      2018-07-24 20:41:37  2018-07-26 03:24:27   \n",
       "2    delivered      2018-08-08 08:38:49  2018-08-08 08:55:23   \n",
       "3    delivered      2017-11-18 19:28:06  2017-11-18 19:45:59   \n",
       "4    delivered      2018-02-13 21:18:39  2018-02-13 22:20:29   \n",
       "\n",
       "  order_delivered_carrier_date order_delivered_customer_date  \\\n",
       "0          2017-10-04 19:55:00           2017-10-10 21:25:13   \n",
       "1          2018-07-26 14:31:00           2018-08-07 15:27:45   \n",
       "2          2018-08-08 13:50:00           2018-08-17 18:06:29   \n",
       "3          2017-11-22 13:39:59           2017-12-02 00:28:42   \n",
       "4          2018-02-14 19:46:34           2018-02-16 18:17:02   \n",
       "\n",
       "  order_estimated_delivery_date  \n",
       "0           2017-10-18 00:00:00  \n",
       "1           2018-08-13 00:00:00  \n",
       "2           2018-09-04 00:00:00  \n",
       "3           2017-12-15 00:00:00  \n",
       "4           2018-02-26 00:00:00  "
      ]
     },
     "execution_count": 3,
     "metadata": {},
     "output_type": "execute_result"
    }
   ],
   "source": [
    "#Importo datasets como DataFrame y veo las primeras 5 filas\n",
    "df_orders = pd.read_csv(\"https://raw.githubusercontent.com/facuescalante/recursos-analisis-datos/main/14_Datasets_Originales/ecommerce_orders_dataset.csv\")\n",
    "df_orders.head()"
   ]
  },
  {
   "cell_type": "markdown",
   "id": "c204a694-daf3-45ed-ac0f-4d4f84069dd5",
   "metadata": {},
   "source": [
    "### 2: Order items"
   ]
  },
  {
   "cell_type": "code",
   "execution_count": 4,
   "id": "c63a34e9-e1b8-4e5a-8897-c25ba24aca7d",
   "metadata": {},
   "outputs": [
    {
     "data": {
      "text/html": [
       "<div>\n",
       "<style scoped>\n",
       "    .dataframe tbody tr th:only-of-type {\n",
       "        vertical-align: middle;\n",
       "    }\n",
       "\n",
       "    .dataframe tbody tr th {\n",
       "        vertical-align: top;\n",
       "    }\n",
       "\n",
       "    .dataframe thead th {\n",
       "        text-align: right;\n",
       "    }\n",
       "</style>\n",
       "<table border=\"1\" class=\"dataframe\">\n",
       "  <thead>\n",
       "    <tr style=\"text-align: right;\">\n",
       "      <th></th>\n",
       "      <th>order_id</th>\n",
       "      <th>order_item_id</th>\n",
       "      <th>product_id</th>\n",
       "      <th>seller_id</th>\n",
       "      <th>shipping_limit_date</th>\n",
       "      <th>price</th>\n",
       "      <th>freight_value</th>\n",
       "    </tr>\n",
       "  </thead>\n",
       "  <tbody>\n",
       "    <tr>\n",
       "      <th>0</th>\n",
       "      <td>00010242fe8c5a6d1ba2dd792cb16214</td>\n",
       "      <td>1</td>\n",
       "      <td>4244733e06e7ecb4970a6e2683c13e61</td>\n",
       "      <td>48436dade18ac8b2bce089ec2a041202</td>\n",
       "      <td>2017-09-19 09:45:35</td>\n",
       "      <td>58.90</td>\n",
       "      <td>13.29</td>\n",
       "    </tr>\n",
       "    <tr>\n",
       "      <th>1</th>\n",
       "      <td>00018f77f2f0320c557190d7a144bdd3</td>\n",
       "      <td>1</td>\n",
       "      <td>e5f2d52b802189ee658865ca93d83a8f</td>\n",
       "      <td>dd7ddc04e1b6c2c614352b383efe2d36</td>\n",
       "      <td>2017-05-03 11:05:13</td>\n",
       "      <td>239.90</td>\n",
       "      <td>19.93</td>\n",
       "    </tr>\n",
       "    <tr>\n",
       "      <th>2</th>\n",
       "      <td>000229ec398224ef6ca0657da4fc703e</td>\n",
       "      <td>1</td>\n",
       "      <td>c777355d18b72b67abbeef9df44fd0fd</td>\n",
       "      <td>5b51032eddd242adc84c38acab88f23d</td>\n",
       "      <td>2018-01-18 14:48:30</td>\n",
       "      <td>199.00</td>\n",
       "      <td>17.87</td>\n",
       "    </tr>\n",
       "    <tr>\n",
       "      <th>3</th>\n",
       "      <td>00024acbcdf0a6daa1e931b038114c75</td>\n",
       "      <td>1</td>\n",
       "      <td>7634da152a4610f1595efa32f14722fc</td>\n",
       "      <td>9d7a1d34a5052409006425275ba1c2b4</td>\n",
       "      <td>2018-08-15 10:10:18</td>\n",
       "      <td>12.99</td>\n",
       "      <td>12.79</td>\n",
       "    </tr>\n",
       "    <tr>\n",
       "      <th>4</th>\n",
       "      <td>00042b26cf59d7ce69dfabb4e55b4fd9</td>\n",
       "      <td>1</td>\n",
       "      <td>ac6c3623068f30de03045865e4e10089</td>\n",
       "      <td>df560393f3a51e74553ab94004ba5c87</td>\n",
       "      <td>2017-02-13 13:57:51</td>\n",
       "      <td>199.90</td>\n",
       "      <td>18.14</td>\n",
       "    </tr>\n",
       "  </tbody>\n",
       "</table>\n",
       "</div>"
      ],
      "text/plain": [
       "                           order_id  order_item_id  \\\n",
       "0  00010242fe8c5a6d1ba2dd792cb16214              1   \n",
       "1  00018f77f2f0320c557190d7a144bdd3              1   \n",
       "2  000229ec398224ef6ca0657da4fc703e              1   \n",
       "3  00024acbcdf0a6daa1e931b038114c75              1   \n",
       "4  00042b26cf59d7ce69dfabb4e55b4fd9              1   \n",
       "\n",
       "                         product_id                         seller_id  \\\n",
       "0  4244733e06e7ecb4970a6e2683c13e61  48436dade18ac8b2bce089ec2a041202   \n",
       "1  e5f2d52b802189ee658865ca93d83a8f  dd7ddc04e1b6c2c614352b383efe2d36   \n",
       "2  c777355d18b72b67abbeef9df44fd0fd  5b51032eddd242adc84c38acab88f23d   \n",
       "3  7634da152a4610f1595efa32f14722fc  9d7a1d34a5052409006425275ba1c2b4   \n",
       "4  ac6c3623068f30de03045865e4e10089  df560393f3a51e74553ab94004ba5c87   \n",
       "\n",
       "   shipping_limit_date   price  freight_value  \n",
       "0  2017-09-19 09:45:35   58.90          13.29  \n",
       "1  2017-05-03 11:05:13  239.90          19.93  \n",
       "2  2018-01-18 14:48:30  199.00          17.87  \n",
       "3  2018-08-15 10:10:18   12.99          12.79  \n",
       "4  2017-02-13 13:57:51  199.90          18.14  "
      ]
     },
     "execution_count": 4,
     "metadata": {},
     "output_type": "execute_result"
    }
   ],
   "source": [
    "#Importo datasets como DataFrame y veo las primeras 5 filas\n",
    "df_order_items = pd.read_csv(\"https://raw.githubusercontent.com/facuescalante/recursos-analisis-datos/main/14_Datasets_Originales/ecommerce_order_items_dataset.csv\")\n",
    "df_order_items.head()"
   ]
  },
  {
   "cell_type": "markdown",
   "id": "b1ea669c-4840-4a3c-942a-3d82980a95ec",
   "metadata": {},
   "source": [
    "### 3: Products"
   ]
  },
  {
   "cell_type": "code",
   "execution_count": 5,
   "id": "93984391-0f82-4904-9789-7befb156953b",
   "metadata": {},
   "outputs": [
    {
     "data": {
      "text/html": [
       "<div>\n",
       "<style scoped>\n",
       "    .dataframe tbody tr th:only-of-type {\n",
       "        vertical-align: middle;\n",
       "    }\n",
       "\n",
       "    .dataframe tbody tr th {\n",
       "        vertical-align: top;\n",
       "    }\n",
       "\n",
       "    .dataframe thead th {\n",
       "        text-align: right;\n",
       "    }\n",
       "</style>\n",
       "<table border=\"1\" class=\"dataframe\">\n",
       "  <thead>\n",
       "    <tr style=\"text-align: right;\">\n",
       "      <th></th>\n",
       "      <th>product_id</th>\n",
       "      <th>product_category_name</th>\n",
       "      <th>product_name_lenght</th>\n",
       "      <th>product_description_lenght</th>\n",
       "      <th>product_photos_qty</th>\n",
       "      <th>product_weight_g</th>\n",
       "      <th>product_length_cm</th>\n",
       "      <th>product_height_cm</th>\n",
       "      <th>product_width_cm</th>\n",
       "    </tr>\n",
       "  </thead>\n",
       "  <tbody>\n",
       "    <tr>\n",
       "      <th>0</th>\n",
       "      <td>1e9e8ef04dbcff4541ed26657ea517e5</td>\n",
       "      <td>perfumaria</td>\n",
       "      <td>40.0</td>\n",
       "      <td>287.0</td>\n",
       "      <td>1.0</td>\n",
       "      <td>225.0</td>\n",
       "      <td>16.0</td>\n",
       "      <td>10.0</td>\n",
       "      <td>14.0</td>\n",
       "    </tr>\n",
       "    <tr>\n",
       "      <th>1</th>\n",
       "      <td>3aa071139cb16b67ca9e5dea641aaa2f</td>\n",
       "      <td>artes</td>\n",
       "      <td>44.0</td>\n",
       "      <td>276.0</td>\n",
       "      <td>1.0</td>\n",
       "      <td>1000.0</td>\n",
       "      <td>30.0</td>\n",
       "      <td>18.0</td>\n",
       "      <td>20.0</td>\n",
       "    </tr>\n",
       "    <tr>\n",
       "      <th>2</th>\n",
       "      <td>96bd76ec8810374ed1b65e291975717f</td>\n",
       "      <td>esporte_lazer</td>\n",
       "      <td>46.0</td>\n",
       "      <td>250.0</td>\n",
       "      <td>1.0</td>\n",
       "      <td>154.0</td>\n",
       "      <td>18.0</td>\n",
       "      <td>9.0</td>\n",
       "      <td>15.0</td>\n",
       "    </tr>\n",
       "    <tr>\n",
       "      <th>3</th>\n",
       "      <td>cef67bcfe19066a932b7673e239eb23d</td>\n",
       "      <td>bebes</td>\n",
       "      <td>27.0</td>\n",
       "      <td>261.0</td>\n",
       "      <td>1.0</td>\n",
       "      <td>371.0</td>\n",
       "      <td>26.0</td>\n",
       "      <td>4.0</td>\n",
       "      <td>26.0</td>\n",
       "    </tr>\n",
       "    <tr>\n",
       "      <th>4</th>\n",
       "      <td>9dc1a7de274444849c219cff195d0b71</td>\n",
       "      <td>utilidades_domesticas</td>\n",
       "      <td>37.0</td>\n",
       "      <td>402.0</td>\n",
       "      <td>4.0</td>\n",
       "      <td>625.0</td>\n",
       "      <td>20.0</td>\n",
       "      <td>17.0</td>\n",
       "      <td>13.0</td>\n",
       "    </tr>\n",
       "  </tbody>\n",
       "</table>\n",
       "</div>"
      ],
      "text/plain": [
       "                         product_id  product_category_name  \\\n",
       "0  1e9e8ef04dbcff4541ed26657ea517e5             perfumaria   \n",
       "1  3aa071139cb16b67ca9e5dea641aaa2f                  artes   \n",
       "2  96bd76ec8810374ed1b65e291975717f          esporte_lazer   \n",
       "3  cef67bcfe19066a932b7673e239eb23d                  bebes   \n",
       "4  9dc1a7de274444849c219cff195d0b71  utilidades_domesticas   \n",
       "\n",
       "   product_name_lenght  product_description_lenght  product_photos_qty  \\\n",
       "0                 40.0                       287.0                 1.0   \n",
       "1                 44.0                       276.0                 1.0   \n",
       "2                 46.0                       250.0                 1.0   \n",
       "3                 27.0                       261.0                 1.0   \n",
       "4                 37.0                       402.0                 4.0   \n",
       "\n",
       "   product_weight_g  product_length_cm  product_height_cm  product_width_cm  \n",
       "0             225.0               16.0               10.0              14.0  \n",
       "1            1000.0               30.0               18.0              20.0  \n",
       "2             154.0               18.0                9.0              15.0  \n",
       "3             371.0               26.0                4.0              26.0  \n",
       "4             625.0               20.0               17.0              13.0  "
      ]
     },
     "execution_count": 5,
     "metadata": {},
     "output_type": "execute_result"
    }
   ],
   "source": [
    "#Importo datasets como DataFrame y veo las primeras 5 filas\n",
    "df_products = pd.read_csv(\"https://raw.githubusercontent.com/facuescalante/recursos-analisis-datos/main/14_Datasets_Originales/ecommerce_products_dataset.csv\")\n",
    "df_products.head()"
   ]
  },
  {
   "cell_type": "markdown",
   "id": "0588fdda-9941-41ad-aff8-229feaa5ac6e",
   "metadata": {},
   "source": [
    "### 4: Customers"
   ]
  },
  {
   "cell_type": "code",
   "execution_count": 6,
   "id": "e9e88c9e-c0f7-40c1-98d2-c77ca0f4a1f0",
   "metadata": {},
   "outputs": [
    {
     "data": {
      "text/html": [
       "<div>\n",
       "<style scoped>\n",
       "    .dataframe tbody tr th:only-of-type {\n",
       "        vertical-align: middle;\n",
       "    }\n",
       "\n",
       "    .dataframe tbody tr th {\n",
       "        vertical-align: top;\n",
       "    }\n",
       "\n",
       "    .dataframe thead th {\n",
       "        text-align: right;\n",
       "    }\n",
       "</style>\n",
       "<table border=\"1\" class=\"dataframe\">\n",
       "  <thead>\n",
       "    <tr style=\"text-align: right;\">\n",
       "      <th></th>\n",
       "      <th>customer_id</th>\n",
       "      <th>customer_unique_id</th>\n",
       "      <th>customer_zip_code_prefix</th>\n",
       "      <th>customer_city</th>\n",
       "      <th>customer_state</th>\n",
       "    </tr>\n",
       "  </thead>\n",
       "  <tbody>\n",
       "    <tr>\n",
       "      <th>0</th>\n",
       "      <td>06b8999e2fba1a1fbc88172c00ba8bc7</td>\n",
       "      <td>861eff4711a542e4b93843c6dd7febb0</td>\n",
       "      <td>14409</td>\n",
       "      <td>franca</td>\n",
       "      <td>SP</td>\n",
       "    </tr>\n",
       "    <tr>\n",
       "      <th>1</th>\n",
       "      <td>18955e83d337fd6b2def6b18a428ac77</td>\n",
       "      <td>290c77bc529b7ac935b93aa66c333dc3</td>\n",
       "      <td>9790</td>\n",
       "      <td>sao bernardo do campo</td>\n",
       "      <td>SP</td>\n",
       "    </tr>\n",
       "    <tr>\n",
       "      <th>2</th>\n",
       "      <td>4e7b3e00288586ebd08712fdd0374a03</td>\n",
       "      <td>060e732b5b29e8181a18229c7b0b2b5e</td>\n",
       "      <td>1151</td>\n",
       "      <td>sao paulo</td>\n",
       "      <td>SP</td>\n",
       "    </tr>\n",
       "    <tr>\n",
       "      <th>3</th>\n",
       "      <td>b2b6027bc5c5109e529d4dc6358b12c3</td>\n",
       "      <td>259dac757896d24d7702b9acbbff3f3c</td>\n",
       "      <td>8775</td>\n",
       "      <td>mogi das cruzes</td>\n",
       "      <td>SP</td>\n",
       "    </tr>\n",
       "    <tr>\n",
       "      <th>4</th>\n",
       "      <td>4f2d8ab171c80ec8364f7c12e35b23ad</td>\n",
       "      <td>345ecd01c38d18a9036ed96c73b8d066</td>\n",
       "      <td>13056</td>\n",
       "      <td>campinas</td>\n",
       "      <td>SP</td>\n",
       "    </tr>\n",
       "  </tbody>\n",
       "</table>\n",
       "</div>"
      ],
      "text/plain": [
       "                        customer_id                customer_unique_id  \\\n",
       "0  06b8999e2fba1a1fbc88172c00ba8bc7  861eff4711a542e4b93843c6dd7febb0   \n",
       "1  18955e83d337fd6b2def6b18a428ac77  290c77bc529b7ac935b93aa66c333dc3   \n",
       "2  4e7b3e00288586ebd08712fdd0374a03  060e732b5b29e8181a18229c7b0b2b5e   \n",
       "3  b2b6027bc5c5109e529d4dc6358b12c3  259dac757896d24d7702b9acbbff3f3c   \n",
       "4  4f2d8ab171c80ec8364f7c12e35b23ad  345ecd01c38d18a9036ed96c73b8d066   \n",
       "\n",
       "   customer_zip_code_prefix          customer_city customer_state  \n",
       "0                     14409                 franca             SP  \n",
       "1                      9790  sao bernardo do campo             SP  \n",
       "2                      1151              sao paulo             SP  \n",
       "3                      8775        mogi das cruzes             SP  \n",
       "4                     13056               campinas             SP  "
      ]
     },
     "execution_count": 6,
     "metadata": {},
     "output_type": "execute_result"
    }
   ],
   "source": [
    "#Importo datasets como DataFrame y veo las primeras 5 filas\n",
    "df_customers = pd.read_csv(\"https://raw.githubusercontent.com/facuescalante/recursos-analisis-datos/main/14_Datasets_Originales/ecommerce_customers_dataset.csv\")\n",
    "df_customers.head()"
   ]
  },
  {
   "cell_type": "markdown",
   "id": "bac90846-c8d8-4bcd-8ef7-25aed7c15b07",
   "metadata": {},
   "source": [
    "### 5: Payments"
   ]
  },
  {
   "cell_type": "code",
   "execution_count": 7,
   "id": "91b6a3d0-f014-4146-ab12-5f93ebd50e02",
   "metadata": {},
   "outputs": [
    {
     "data": {
      "text/html": [
       "<div>\n",
       "<style scoped>\n",
       "    .dataframe tbody tr th:only-of-type {\n",
       "        vertical-align: middle;\n",
       "    }\n",
       "\n",
       "    .dataframe tbody tr th {\n",
       "        vertical-align: top;\n",
       "    }\n",
       "\n",
       "    .dataframe thead th {\n",
       "        text-align: right;\n",
       "    }\n",
       "</style>\n",
       "<table border=\"1\" class=\"dataframe\">\n",
       "  <thead>\n",
       "    <tr style=\"text-align: right;\">\n",
       "      <th></th>\n",
       "      <th>order_id</th>\n",
       "      <th>payment_sequential</th>\n",
       "      <th>payment_type</th>\n",
       "      <th>payment_installments</th>\n",
       "      <th>payment_value</th>\n",
       "    </tr>\n",
       "  </thead>\n",
       "  <tbody>\n",
       "    <tr>\n",
       "      <th>0</th>\n",
       "      <td>b81ef226f3fe1789b1e8b2acac839d17</td>\n",
       "      <td>1</td>\n",
       "      <td>credit_card</td>\n",
       "      <td>8</td>\n",
       "      <td>99.33</td>\n",
       "    </tr>\n",
       "    <tr>\n",
       "      <th>1</th>\n",
       "      <td>a9810da82917af2d9aefd1278f1dcfa0</td>\n",
       "      <td>1</td>\n",
       "      <td>credit_card</td>\n",
       "      <td>1</td>\n",
       "      <td>24.39</td>\n",
       "    </tr>\n",
       "    <tr>\n",
       "      <th>2</th>\n",
       "      <td>25e8ea4e93396b6fa0d3dd708e76c1bd</td>\n",
       "      <td>1</td>\n",
       "      <td>credit_card</td>\n",
       "      <td>1</td>\n",
       "      <td>65.71</td>\n",
       "    </tr>\n",
       "    <tr>\n",
       "      <th>3</th>\n",
       "      <td>ba78997921bbcdc1373bb41e913ab953</td>\n",
       "      <td>1</td>\n",
       "      <td>credit_card</td>\n",
       "      <td>8</td>\n",
       "      <td>107.78</td>\n",
       "    </tr>\n",
       "    <tr>\n",
       "      <th>4</th>\n",
       "      <td>42fdf880ba16b47b59251dd489d4441a</td>\n",
       "      <td>1</td>\n",
       "      <td>credit_card</td>\n",
       "      <td>2</td>\n",
       "      <td>128.45</td>\n",
       "    </tr>\n",
       "  </tbody>\n",
       "</table>\n",
       "</div>"
      ],
      "text/plain": [
       "                           order_id  payment_sequential payment_type  \\\n",
       "0  b81ef226f3fe1789b1e8b2acac839d17                   1  credit_card   \n",
       "1  a9810da82917af2d9aefd1278f1dcfa0                   1  credit_card   \n",
       "2  25e8ea4e93396b6fa0d3dd708e76c1bd                   1  credit_card   \n",
       "3  ba78997921bbcdc1373bb41e913ab953                   1  credit_card   \n",
       "4  42fdf880ba16b47b59251dd489d4441a                   1  credit_card   \n",
       "\n",
       "   payment_installments  payment_value  \n",
       "0                     8          99.33  \n",
       "1                     1          24.39  \n",
       "2                     1          65.71  \n",
       "3                     8         107.78  \n",
       "4                     2         128.45  "
      ]
     },
     "execution_count": 7,
     "metadata": {},
     "output_type": "execute_result"
    }
   ],
   "source": [
    "#Importo datasets como DataFrame y veo las primeras 5 filas\n",
    "df_order_payments = pd.read_csv(\"https://raw.githubusercontent.com/facuescalante/recursos-analisis-datos/main/14_Datasets_Originales/ecommerce_order_payments_dataset.csv\")\n",
    "df_order_payments.head()"
   ]
  },
  {
   "cell_type": "markdown",
   "id": "6c016d84-3dca-464a-9905-6c7322e4fff4",
   "metadata": {},
   "source": [
    "## DATOS del DATAFRAME\n",
    "\n",
    "Analizo como se componen cada uno de los DataFrame para saber :\n",
    "\n",
    "* tamaño\n",
    "* tipo de dato\n",
    "* cantidad de nulos\n",
    "\n",
    "### Funcion dataDataFrame\n",
    "\n",
    "Defino una funcion para reutilizar varias veces, que me indica el tamaño, tipo de dato, cantidad de nulos y si hay duplicados."
   ]
  },
  {
   "cell_type": "code",
   "execution_count": 8,
   "id": "8f1f6fc2-578d-4d46-8896-0852d7edeed2",
   "metadata": {},
   "outputs": [],
   "source": [
    "def dataDataFrame(df):\n",
    "    print(\"--------\")\n",
    "    print(\"Tamaño del DataFrame\")\n",
    "    print(df.shape)\n",
    "    print(\"--------\")\n",
    "    print(\"--------\")\n",
    "    print(\"Tipo de datos\")\n",
    "    print(df.info())\n",
    "    print(\"--------\")\n",
    "    print(\"--------\")\n",
    "    print(\"Cantidad de nulos\")\n",
    "    print(df.isnull().sum())\n",
    "    print(\"--------\")\n",
    "    print(\"--------\")\n",
    "    print(\"Cantidad de duplicados\")\n",
    "    print(df.duplicated().sum())\n",
    "    "
   ]
  },
  {
   "cell_type": "markdown",
   "id": "88218915-d820-407b-a681-adc624b15c6c",
   "metadata": {},
   "source": [
    "### Orders"
   ]
  },
  {
   "cell_type": "code",
   "execution_count": 9,
   "id": "ba4ac31d-42da-4336-8f44-5343c1a0ca3e",
   "metadata": {},
   "outputs": [
    {
     "name": "stdout",
     "output_type": "stream",
     "text": [
      "--------\n",
      "Tamaño del DataFrame\n",
      "(99441, 8)\n",
      "--------\n",
      "--------\n",
      "Tipo de datos\n",
      "<class 'pandas.core.frame.DataFrame'>\n",
      "RangeIndex: 99441 entries, 0 to 99440\n",
      "Data columns (total 8 columns):\n",
      " #   Column                         Non-Null Count  Dtype \n",
      "---  ------                         --------------  ----- \n",
      " 0   order_id                       99441 non-null  object\n",
      " 1   customer_id                    99441 non-null  object\n",
      " 2   order_status                   99441 non-null  object\n",
      " 3   order_purchase_timestamp       99441 non-null  object\n",
      " 4   order_approved_at              99281 non-null  object\n",
      " 5   order_delivered_carrier_date   97658 non-null  object\n",
      " 6   order_delivered_customer_date  96476 non-null  object\n",
      " 7   order_estimated_delivery_date  99441 non-null  object\n",
      "dtypes: object(8)\n",
      "memory usage: 6.1+ MB\n",
      "None\n",
      "--------\n",
      "--------\n",
      "Cantidad de nulos\n",
      "order_id                            0\n",
      "customer_id                         0\n",
      "order_status                        0\n",
      "order_purchase_timestamp            0\n",
      "order_approved_at                 160\n",
      "order_delivered_carrier_date     1783\n",
      "order_delivered_customer_date    2965\n",
      "order_estimated_delivery_date       0\n",
      "dtype: int64\n",
      "--------\n",
      "--------\n",
      "Cantidad de duplicados\n",
      "0\n"
     ]
    }
   ],
   "source": [
    "dataDataFrame(df_orders)"
   ]
  },
  {
   "cell_type": "markdown",
   "id": "aa24b121-6ad1-4cf6-be6b-a59a57e508db",
   "metadata": {},
   "source": [
    "### Order items"
   ]
  },
  {
   "cell_type": "code",
   "execution_count": 10,
   "id": "837868ac-2f7a-4f9f-beca-15464df51aa4",
   "metadata": {},
   "outputs": [
    {
     "name": "stdout",
     "output_type": "stream",
     "text": [
      "--------\n",
      "Tamaño del DataFrame\n",
      "(112650, 7)\n",
      "--------\n",
      "--------\n",
      "Tipo de datos\n",
      "<class 'pandas.core.frame.DataFrame'>\n",
      "RangeIndex: 112650 entries, 0 to 112649\n",
      "Data columns (total 7 columns):\n",
      " #   Column               Non-Null Count   Dtype  \n",
      "---  ------               --------------   -----  \n",
      " 0   order_id             112650 non-null  object \n",
      " 1   order_item_id        112650 non-null  int64  \n",
      " 2   product_id           112650 non-null  object \n",
      " 3   seller_id            112650 non-null  object \n",
      " 4   shipping_limit_date  112650 non-null  object \n",
      " 5   price                112650 non-null  float64\n",
      " 6   freight_value        112650 non-null  float64\n",
      "dtypes: float64(2), int64(1), object(4)\n",
      "memory usage: 6.0+ MB\n",
      "None\n",
      "--------\n",
      "--------\n",
      "Cantidad de nulos\n",
      "order_id               0\n",
      "order_item_id          0\n",
      "product_id             0\n",
      "seller_id              0\n",
      "shipping_limit_date    0\n",
      "price                  0\n",
      "freight_value          0\n",
      "dtype: int64\n",
      "--------\n",
      "--------\n",
      "Cantidad de duplicados\n",
      "0\n"
     ]
    }
   ],
   "source": [
    "dataDataFrame(df_order_items)"
   ]
  },
  {
   "cell_type": "markdown",
   "id": "8a514f6a-91b4-4109-9aba-8fad0dddbed2",
   "metadata": {},
   "source": [
    "### Products"
   ]
  },
  {
   "cell_type": "code",
   "execution_count": 11,
   "id": "e0841a5b-f7b8-43cc-8a14-7c1c887265de",
   "metadata": {},
   "outputs": [
    {
     "name": "stdout",
     "output_type": "stream",
     "text": [
      "--------\n",
      "Tamaño del DataFrame\n",
      "(32951, 9)\n",
      "--------\n",
      "--------\n",
      "Tipo de datos\n",
      "<class 'pandas.core.frame.DataFrame'>\n",
      "RangeIndex: 32951 entries, 0 to 32950\n",
      "Data columns (total 9 columns):\n",
      " #   Column                      Non-Null Count  Dtype  \n",
      "---  ------                      --------------  -----  \n",
      " 0   product_id                  32951 non-null  object \n",
      " 1   product_category_name       32341 non-null  object \n",
      " 2   product_name_lenght         32341 non-null  float64\n",
      " 3   product_description_lenght  32341 non-null  float64\n",
      " 4   product_photos_qty          32341 non-null  float64\n",
      " 5   product_weight_g            32949 non-null  float64\n",
      " 6   product_length_cm           32949 non-null  float64\n",
      " 7   product_height_cm           32949 non-null  float64\n",
      " 8   product_width_cm            32949 non-null  float64\n",
      "dtypes: float64(7), object(2)\n",
      "memory usage: 2.3+ MB\n",
      "None\n",
      "--------\n",
      "--------\n",
      "Cantidad de nulos\n",
      "product_id                      0\n",
      "product_category_name         610\n",
      "product_name_lenght           610\n",
      "product_description_lenght    610\n",
      "product_photos_qty            610\n",
      "product_weight_g                2\n",
      "product_length_cm               2\n",
      "product_height_cm               2\n",
      "product_width_cm                2\n",
      "dtype: int64\n",
      "--------\n",
      "--------\n",
      "Cantidad de duplicados\n",
      "0\n"
     ]
    }
   ],
   "source": [
    "dataDataFrame(df_products)"
   ]
  },
  {
   "cell_type": "markdown",
   "id": "618d5b52-d147-47ae-b782-da2e1555df5e",
   "metadata": {},
   "source": [
    "### Customers"
   ]
  },
  {
   "cell_type": "code",
   "execution_count": 12,
   "id": "68195409-73b6-46d3-917b-e24e9a694d6b",
   "metadata": {},
   "outputs": [
    {
     "name": "stdout",
     "output_type": "stream",
     "text": [
      "--------\n",
      "Tamaño del DataFrame\n",
      "(99441, 5)\n",
      "--------\n",
      "--------\n",
      "Tipo de datos\n",
      "<class 'pandas.core.frame.DataFrame'>\n",
      "RangeIndex: 99441 entries, 0 to 99440\n",
      "Data columns (total 5 columns):\n",
      " #   Column                    Non-Null Count  Dtype \n",
      "---  ------                    --------------  ----- \n",
      " 0   customer_id               99441 non-null  object\n",
      " 1   customer_unique_id        99441 non-null  object\n",
      " 2   customer_zip_code_prefix  99441 non-null  int64 \n",
      " 3   customer_city             99441 non-null  object\n",
      " 4   customer_state            99441 non-null  object\n",
      "dtypes: int64(1), object(4)\n",
      "memory usage: 3.8+ MB\n",
      "None\n",
      "--------\n",
      "--------\n",
      "Cantidad de nulos\n",
      "customer_id                 0\n",
      "customer_unique_id          0\n",
      "customer_zip_code_prefix    0\n",
      "customer_city               0\n",
      "customer_state              0\n",
      "dtype: int64\n",
      "--------\n",
      "--------\n",
      "Cantidad de duplicados\n",
      "0\n"
     ]
    }
   ],
   "source": [
    "dataDataFrame(df_customers)"
   ]
  },
  {
   "cell_type": "markdown",
   "id": "ced2586b-db8d-44a2-9ec3-b9accbf046e7",
   "metadata": {},
   "source": [
    "### Payments"
   ]
  },
  {
   "cell_type": "code",
   "execution_count": 13,
   "id": "01acd427-5e30-40f1-a995-dacf4ecf9982",
   "metadata": {},
   "outputs": [
    {
     "name": "stdout",
     "output_type": "stream",
     "text": [
      "--------\n",
      "Tamaño del DataFrame\n",
      "(103886, 5)\n",
      "--------\n",
      "--------\n",
      "Tipo de datos\n",
      "<class 'pandas.core.frame.DataFrame'>\n",
      "RangeIndex: 103886 entries, 0 to 103885\n",
      "Data columns (total 5 columns):\n",
      " #   Column                Non-Null Count   Dtype  \n",
      "---  ------                --------------   -----  \n",
      " 0   order_id              103886 non-null  object \n",
      " 1   payment_sequential    103886 non-null  int64  \n",
      " 2   payment_type          103886 non-null  object \n",
      " 3   payment_installments  103886 non-null  int64  \n",
      " 4   payment_value         103886 non-null  float64\n",
      "dtypes: float64(1), int64(2), object(2)\n",
      "memory usage: 4.0+ MB\n",
      "None\n",
      "--------\n",
      "--------\n",
      "Cantidad de nulos\n",
      "order_id                0\n",
      "payment_sequential      0\n",
      "payment_type            0\n",
      "payment_installments    0\n",
      "payment_value           0\n",
      "dtype: int64\n",
      "--------\n",
      "--------\n",
      "Cantidad de duplicados\n",
      "0\n"
     ]
    }
   ],
   "source": [
    "dataDataFrame(df_order_payments)"
   ]
  },
  {
   "cell_type": "markdown",
   "id": "93e5c292-0ef2-4c6e-9df0-40ee6e83ff6d",
   "metadata": {},
   "source": [
    "## TRANSFORMACION de DATAFRAMES\n",
    "\n",
    "Para que el analisis no tenga incomvenientes a futuro es importante transformar los tipos de datos y asegurar se homogeneidad.\n",
    "\n",
    "En aquellos DataFrames que haya nulos y la proporcion sea baja, es preferible eliminar dichas filas.\n",
    "\n",
    "### Funcion transfFecha\n",
    "\n",
    "Defino una funcion para transformar fechas"
   ]
  },
  {
   "cell_type": "code",
   "execution_count": 14,
   "id": "f7397953-6142-4eb6-ac49-12c6af2dd08e",
   "metadata": {},
   "outputs": [],
   "source": [
    "def transFecha(df, columna_fechas):\n",
    "    df[columna_fechas] = df[columna_fechas].apply(pd.to_datetime)\n",
    "    return df"
   ]
  },
  {
   "cell_type": "markdown",
   "id": "c38cb8bc-eeb2-4e8c-aa75-f4de7d98ce32",
   "metadata": {},
   "source": [
    "### Funcion transfString\n",
    "\n",
    "Defino una funcion para transformar strings"
   ]
  },
  {
   "cell_type": "code",
   "execution_count": 15,
   "id": "37e37c49-937c-4e47-998f-c4c1c1a10be5",
   "metadata": {},
   "outputs": [],
   "source": [
    "def transfString(df, columna_string):\n",
    "    for columna in columna_string:\n",
    "        df[columna] = df[columna].astype(\"string\")\n",
    "    return df    "
   ]
  },
  {
   "cell_type": "markdown",
   "id": "5da5c65f-dc87-462c-8a40-40f10f94b1d7",
   "metadata": {},
   "source": [
    "### Funcion convertMayuscula\n",
    "\n",
    "Defino una funcion para convertir a mayusculas"
   ]
  },
  {
   "cell_type": "code",
   "execution_count": 16,
   "id": "6f1fa334-f533-449d-b244-56ff6f251e8b",
   "metadata": {},
   "outputs": [],
   "source": [
    "def convertMayuscula(df, columna):\n",
    "    df[columna] = df[columna].str.upper()\n",
    "    return df"
   ]
  },
  {
   "cell_type": "markdown",
   "id": "f2df983e-e83e-4738-839d-bd3748a34dc8",
   "metadata": {},
   "source": [
    "### Funcion convertMinuscula\n",
    "\n",
    "Defino una funcion para convertir a minusculas"
   ]
  },
  {
   "cell_type": "code",
   "execution_count": 17,
   "id": "a4b09baa-a788-4fa4-9d44-0eeb2a34c670",
   "metadata": {},
   "outputs": [],
   "source": [
    "def convertMinuscula(df, columna):\n",
    "    df[columna] = df[columna].str.lower()\n",
    "    return df"
   ]
  },
  {
   "cell_type": "markdown",
   "id": "bce3ea03-b231-4705-9d34-09c66bbfee2b",
   "metadata": {},
   "source": [
    "### Orders"
   ]
  },
  {
   "cell_type": "code",
   "execution_count": 18,
   "id": "c0250858-7ad4-4205-b7ab-84054a39e327",
   "metadata": {},
   "outputs": [
    {
     "name": "stdout",
     "output_type": "stream",
     "text": [
      "order_id                         0.000000\n",
      "customer_id                      0.000000\n",
      "order_status                     0.000000\n",
      "order_purchase_timestamp         0.000000\n",
      "order_approved_at                0.160899\n",
      "order_delivered_carrier_date     1.793023\n",
      "order_delivered_customer_date    2.981668\n",
      "order_estimated_delivery_date    0.000000\n",
      "dtype: float64\n"
     ]
    }
   ],
   "source": [
    "#Porcentaje de nulos por columna\n",
    "null_porcent_orders = (df_orders.isnull().sum() / len(df_orders)) * 100\n",
    "\n",
    "print(null_porcent_orders)"
   ]
  },
  {
   "cell_type": "code",
   "execution_count": 19,
   "id": "53311f75-0f94-4d97-bd0f-25a51b382a62",
   "metadata": {},
   "outputs": [
    {
     "data": {
      "text/plain": [
       "order_id                         0\n",
       "customer_id                      0\n",
       "order_status                     0\n",
       "order_purchase_timestamp         0\n",
       "order_approved_at                0\n",
       "order_delivered_carrier_date     0\n",
       "order_delivered_customer_date    0\n",
       "order_estimated_delivery_date    0\n",
       "dtype: int64"
      ]
     },
     "execution_count": 19,
     "metadata": {},
     "output_type": "execute_result"
    }
   ],
   "source": [
    "#Filtro las columnas con menos del 10% de nulos\n",
    "columnas_orders = null_porcent_orders[null_porcent_orders <= 10].index\n",
    "\n",
    "#Elimino las filas con nulos solo en las columnas seleccionadas\n",
    "df_orders.dropna(subset=columnas_orders, inplace=True)\n",
    "\n",
    "#Veo cantidad de nulos\n",
    "df_orders.isnull().sum()"
   ]
  },
  {
   "cell_type": "code",
   "execution_count": 20,
   "id": "c709801c-b68f-46a6-b97b-704c01f2a989",
   "metadata": {},
   "outputs": [],
   "source": [
    "#Listo las columnas que contienen fechas\n",
    "columnas_fecha_orders = ['order_purchase_timestamp', 'order_approved_at',\n",
    "                          'order_delivered_carrier_date', 'order_delivered_customer_date',\n",
    "                          'order_estimated_delivery_date']\n",
    "\n",
    "#Aplico funcion transfFecha\n",
    "df_orders = transFecha(df_orders, columnas_fecha_orders)"
   ]
  },
  {
   "cell_type": "code",
   "execution_count": 21,
   "id": "7f136e8a-bac6-4909-9dbf-48b9eafff4f5",
   "metadata": {},
   "outputs": [],
   "source": [
    "#Listo las columnas a transformar en string \n",
    "columnas_string_orders = [\"order_id\",\"customer_id\",\"order_status\"]\n",
    "\n",
    "#Aplico funcion transfString\n",
    "df_orders = transfString(df_orders, columnas_string_orders)"
   ]
  },
  {
   "cell_type": "code",
   "execution_count": 22,
   "id": "a88d94e5-459d-412e-9ff6-8b2ac7c4cf06",
   "metadata": {},
   "outputs": [
    {
     "name": "stdout",
     "output_type": "stream",
     "text": [
      "<class 'pandas.core.frame.DataFrame'>\n",
      "Index: 96461 entries, 0 to 99440\n",
      "Data columns (total 8 columns):\n",
      " #   Column                         Non-Null Count  Dtype         \n",
      "---  ------                         --------------  -----         \n",
      " 0   order_id                       96461 non-null  string        \n",
      " 1   customer_id                    96461 non-null  string        \n",
      " 2   order_status                   96461 non-null  string        \n",
      " 3   order_purchase_timestamp       96461 non-null  datetime64[ns]\n",
      " 4   order_approved_at              96461 non-null  datetime64[ns]\n",
      " 5   order_delivered_carrier_date   96461 non-null  datetime64[ns]\n",
      " 6   order_delivered_customer_date  96461 non-null  datetime64[ns]\n",
      " 7   order_estimated_delivery_date  96461 non-null  datetime64[ns]\n",
      "dtypes: datetime64[ns](5), string(3)\n",
      "memory usage: 6.6 MB\n"
     ]
    }
   ],
   "source": [
    "#Consulto que los tipos de datos sean correctos\n",
    "df_orders.info()"
   ]
  },
  {
   "cell_type": "code",
   "execution_count": 23,
   "id": "dbecc603-dbc0-4df9-ba75-74035d84bc9b",
   "metadata": {},
   "outputs": [],
   "source": [
    "#Aplico conversion a minusculas\n",
    "df_orders = convertMinuscula(df_orders, \"order_status\")"
   ]
  },
  {
   "cell_type": "markdown",
   "id": "b3a2b6d8-1520-4ae3-b79f-36da4a99fec5",
   "metadata": {},
   "source": [
    "### Order items"
   ]
  },
  {
   "cell_type": "code",
   "execution_count": 24,
   "id": "946e7b21-d117-496d-85bb-27df395d8b65",
   "metadata": {},
   "outputs": [],
   "source": [
    "#Listo las columnas que contienen fechas\n",
    "columnas_fechas_orderItems = ['shipping_limit_date']\n",
    "\n",
    "#Aplico funcion tranfFecha\n",
    "df_order_items = transFecha(df_order_items, columnas_fechas_orderItems)"
   ]
  },
  {
   "cell_type": "code",
   "execution_count": 25,
   "id": "2f721fae-4d16-4992-8cbc-98354aad61a1",
   "metadata": {},
   "outputs": [],
   "source": [
    "#Listo las columnas a transformar en string \n",
    "columnas_string_orderItems = [\"order_id\",\"order_item_id\",\"product_id\",\"seller_id\"]\n",
    "\n",
    "#Aplico funcion transfString\n",
    "df_order_items = transfString(df_order_items, columnas_string_orderItems)"
   ]
  },
  {
   "cell_type": "code",
   "execution_count": 26,
   "id": "b4261269-13a8-4ddb-b5a9-f73333003da8",
   "metadata": {},
   "outputs": [
    {
     "name": "stdout",
     "output_type": "stream",
     "text": [
      "<class 'pandas.core.frame.DataFrame'>\n",
      "RangeIndex: 112650 entries, 0 to 112649\n",
      "Data columns (total 7 columns):\n",
      " #   Column               Non-Null Count   Dtype         \n",
      "---  ------               --------------   -----         \n",
      " 0   order_id             112650 non-null  string        \n",
      " 1   order_item_id        112650 non-null  string        \n",
      " 2   product_id           112650 non-null  string        \n",
      " 3   seller_id            112650 non-null  string        \n",
      " 4   shipping_limit_date  112650 non-null  datetime64[ns]\n",
      " 5   price                112650 non-null  float64       \n",
      " 6   freight_value        112650 non-null  float64       \n",
      "dtypes: datetime64[ns](1), float64(2), string(4)\n",
      "memory usage: 6.0 MB\n"
     ]
    }
   ],
   "source": [
    "#Consulto que los tipos de datos sean correctos\n",
    "df_order_items.info()"
   ]
  },
  {
   "cell_type": "markdown",
   "id": "73600891-5db0-4186-bade-9931d2833e35",
   "metadata": {},
   "source": [
    "### Products"
   ]
  },
  {
   "cell_type": "code",
   "execution_count": 27,
   "id": "86aa9b63-7825-4342-9db0-add13faf7876",
   "metadata": {},
   "outputs": [
    {
     "name": "stdout",
     "output_type": "stream",
     "text": [
      "product_id                    0.000000\n",
      "product_category_name         1.851234\n",
      "product_name_lenght           1.851234\n",
      "product_description_lenght    1.851234\n",
      "product_photos_qty            1.851234\n",
      "product_weight_g              0.006070\n",
      "product_length_cm             0.006070\n",
      "product_height_cm             0.006070\n",
      "product_width_cm              0.006070\n",
      "dtype: float64\n"
     ]
    }
   ],
   "source": [
    "#Porcentaje de nulos en cada columna\n",
    "null_porcent_products = (df_products.isnull().sum() / len(df_products)) * 100\n",
    "\n",
    "print(null_porcent_products)"
   ]
  },
  {
   "cell_type": "code",
   "execution_count": 28,
   "id": "be9937a5-8a3b-46a2-b648-9e96ba1b81c7",
   "metadata": {},
   "outputs": [
    {
     "data": {
      "text/plain": [
       "product_id                    0\n",
       "product_category_name         0\n",
       "product_name_lenght           0\n",
       "product_description_lenght    0\n",
       "product_photos_qty            0\n",
       "product_weight_g              0\n",
       "product_length_cm             0\n",
       "product_height_cm             0\n",
       "product_width_cm              0\n",
       "dtype: int64"
      ]
     },
     "execution_count": 28,
     "metadata": {},
     "output_type": "execute_result"
    }
   ],
   "source": [
    "#Filtro las columnas con menos del 10% de nulos\n",
    "columnas_products = null_porcent_products[null_porcent_products <= 10].index\n",
    "\n",
    "#Elimino las filas con nulos solo en las columnas seleccionadas\n",
    "df_products.dropna(subset=columnas_products, inplace=True)\n",
    "\n",
    "#Veo cantidad de nulos\n",
    "df_products.isnull().sum()"
   ]
  },
  {
   "cell_type": "code",
   "execution_count": 29,
   "id": "30c1eac7-5f0f-4edb-9c49-0f16ff26edfa",
   "metadata": {},
   "outputs": [],
   "source": [
    "#Listo las columnas a transformar en string \n",
    "columnas_string_products = [\"product_id\",\"product_category_name\"]\n",
    "\n",
    "#Aplico funcion transfString\n",
    "df_products = transfString(df_products, columnas_string_products)"
   ]
  },
  {
   "cell_type": "code",
   "execution_count": 30,
   "id": "e1e9ee86-8c4d-4ed1-81df-44b1e9bb909d",
   "metadata": {},
   "outputs": [
    {
     "name": "stdout",
     "output_type": "stream",
     "text": [
      "<class 'pandas.core.frame.DataFrame'>\n",
      "Index: 32340 entries, 0 to 32950\n",
      "Data columns (total 9 columns):\n",
      " #   Column                      Non-Null Count  Dtype  \n",
      "---  ------                      --------------  -----  \n",
      " 0   product_id                  32340 non-null  string \n",
      " 1   product_category_name       32340 non-null  string \n",
      " 2   product_name_lenght         32340 non-null  float64\n",
      " 3   product_description_lenght  32340 non-null  float64\n",
      " 4   product_photos_qty          32340 non-null  float64\n",
      " 5   product_weight_g            32340 non-null  float64\n",
      " 6   product_length_cm           32340 non-null  float64\n",
      " 7   product_height_cm           32340 non-null  float64\n",
      " 8   product_width_cm            32340 non-null  float64\n",
      "dtypes: float64(7), string(2)\n",
      "memory usage: 2.5 MB\n"
     ]
    }
   ],
   "source": [
    "#Consulto que los tipos de datos sean correctos\n",
    "df_products.info()"
   ]
  },
  {
   "cell_type": "code",
   "execution_count": 31,
   "id": "d2983cc7-5c15-4e27-b5c1-f0d5b6133527",
   "metadata": {},
   "outputs": [],
   "source": [
    "#Aplico conversion a minusculas\n",
    "df_products = convertMinuscula(df_products, \"product_category_name\")"
   ]
  },
  {
   "cell_type": "code",
   "execution_count": 32,
   "id": "92b72a02-0bd4-4ac7-a425-ba239e4acc5e",
   "metadata": {},
   "outputs": [
    {
     "data": {
      "text/html": [
       "<div>\n",
       "<style scoped>\n",
       "    .dataframe tbody tr th:only-of-type {\n",
       "        vertical-align: middle;\n",
       "    }\n",
       "\n",
       "    .dataframe tbody tr th {\n",
       "        vertical-align: top;\n",
       "    }\n",
       "\n",
       "    .dataframe thead th {\n",
       "        text-align: right;\n",
       "    }\n",
       "</style>\n",
       "<table border=\"1\" class=\"dataframe\">\n",
       "  <thead>\n",
       "    <tr style=\"text-align: right;\">\n",
       "      <th></th>\n",
       "      <th>product_id</th>\n",
       "      <th>product_category_name</th>\n",
       "      <th>product_name_lenght</th>\n",
       "      <th>product_description_lenght</th>\n",
       "      <th>product_photos_qty</th>\n",
       "      <th>product_weight_g</th>\n",
       "      <th>product_length_cm</th>\n",
       "      <th>product_height_cm</th>\n",
       "      <th>product_width_cm</th>\n",
       "    </tr>\n",
       "  </thead>\n",
       "  <tbody>\n",
       "    <tr>\n",
       "      <th>0</th>\n",
       "      <td>1e9e8ef04dbcff4541ed26657ea517e5</td>\n",
       "      <td>perfumaria</td>\n",
       "      <td>40.0</td>\n",
       "      <td>287.0</td>\n",
       "      <td>1.0</td>\n",
       "      <td>225.0</td>\n",
       "      <td>16.0</td>\n",
       "      <td>10.0</td>\n",
       "      <td>14.0</td>\n",
       "    </tr>\n",
       "    <tr>\n",
       "      <th>1</th>\n",
       "      <td>3aa071139cb16b67ca9e5dea641aaa2f</td>\n",
       "      <td>artes</td>\n",
       "      <td>44.0</td>\n",
       "      <td>276.0</td>\n",
       "      <td>1.0</td>\n",
       "      <td>1000.0</td>\n",
       "      <td>30.0</td>\n",
       "      <td>18.0</td>\n",
       "      <td>20.0</td>\n",
       "    </tr>\n",
       "    <tr>\n",
       "      <th>2</th>\n",
       "      <td>96bd76ec8810374ed1b65e291975717f</td>\n",
       "      <td>esporte_lazer</td>\n",
       "      <td>46.0</td>\n",
       "      <td>250.0</td>\n",
       "      <td>1.0</td>\n",
       "      <td>154.0</td>\n",
       "      <td>18.0</td>\n",
       "      <td>9.0</td>\n",
       "      <td>15.0</td>\n",
       "    </tr>\n",
       "    <tr>\n",
       "      <th>3</th>\n",
       "      <td>cef67bcfe19066a932b7673e239eb23d</td>\n",
       "      <td>bebes</td>\n",
       "      <td>27.0</td>\n",
       "      <td>261.0</td>\n",
       "      <td>1.0</td>\n",
       "      <td>371.0</td>\n",
       "      <td>26.0</td>\n",
       "      <td>4.0</td>\n",
       "      <td>26.0</td>\n",
       "    </tr>\n",
       "    <tr>\n",
       "      <th>4</th>\n",
       "      <td>9dc1a7de274444849c219cff195d0b71</td>\n",
       "      <td>utilidades_domesticas</td>\n",
       "      <td>37.0</td>\n",
       "      <td>402.0</td>\n",
       "      <td>4.0</td>\n",
       "      <td>625.0</td>\n",
       "      <td>20.0</td>\n",
       "      <td>17.0</td>\n",
       "      <td>13.0</td>\n",
       "    </tr>\n",
       "  </tbody>\n",
       "</table>\n",
       "</div>"
      ],
      "text/plain": [
       "                         product_id  product_category_name  \\\n",
       "0  1e9e8ef04dbcff4541ed26657ea517e5             perfumaria   \n",
       "1  3aa071139cb16b67ca9e5dea641aaa2f                  artes   \n",
       "2  96bd76ec8810374ed1b65e291975717f          esporte_lazer   \n",
       "3  cef67bcfe19066a932b7673e239eb23d                  bebes   \n",
       "4  9dc1a7de274444849c219cff195d0b71  utilidades_domesticas   \n",
       "\n",
       "   product_name_lenght  product_description_lenght  product_photos_qty  \\\n",
       "0                 40.0                       287.0                 1.0   \n",
       "1                 44.0                       276.0                 1.0   \n",
       "2                 46.0                       250.0                 1.0   \n",
       "3                 27.0                       261.0                 1.0   \n",
       "4                 37.0                       402.0                 4.0   \n",
       "\n",
       "   product_weight_g  product_length_cm  product_height_cm  product_width_cm  \n",
       "0             225.0               16.0               10.0              14.0  \n",
       "1            1000.0               30.0               18.0              20.0  \n",
       "2             154.0               18.0                9.0              15.0  \n",
       "3             371.0               26.0                4.0              26.0  \n",
       "4             625.0               20.0               17.0              13.0  "
      ]
     },
     "execution_count": 32,
     "metadata": {},
     "output_type": "execute_result"
    }
   ],
   "source": [
    "df_products.head(5)"
   ]
  },
  {
   "cell_type": "markdown",
   "id": "ad6d9bd4-857d-429a-9450-2f1b8881a8d2",
   "metadata": {},
   "source": [
    "### Customers "
   ]
  },
  {
   "cell_type": "code",
   "execution_count": 33,
   "id": "3ea8cc71-68fa-44cb-84b4-80bea859be3a",
   "metadata": {},
   "outputs": [],
   "source": [
    "#Listo las columnas a transformar en string\n",
    "columnas_string_customers = [\"customer_id\",\"customer_unique_id\",\"customer_zip_code_prefix\",\"customer_city\",\"customer_state\"]\n",
    "\n",
    "#Aplico funcion transfString\n",
    "df_customers = transfString(df_customers, columnas_string_customers)"
   ]
  },
  {
   "cell_type": "code",
   "execution_count": 34,
   "id": "4ae647f5-0c4b-418b-98e8-ccfb05263abb",
   "metadata": {},
   "outputs": [
    {
     "name": "stdout",
     "output_type": "stream",
     "text": [
      "<class 'pandas.core.frame.DataFrame'>\n",
      "RangeIndex: 99441 entries, 0 to 99440\n",
      "Data columns (total 5 columns):\n",
      " #   Column                    Non-Null Count  Dtype \n",
      "---  ------                    --------------  ----- \n",
      " 0   customer_id               99441 non-null  string\n",
      " 1   customer_unique_id        99441 non-null  string\n",
      " 2   customer_zip_code_prefix  99441 non-null  string\n",
      " 3   customer_city             99441 non-null  string\n",
      " 4   customer_state            99441 non-null  string\n",
      "dtypes: string(5)\n",
      "memory usage: 3.8 MB\n"
     ]
    }
   ],
   "source": [
    "#Consulto que los tipos de datos sean correctos\n",
    "df_customers.info()"
   ]
  },
  {
   "cell_type": "code",
   "execution_count": 35,
   "id": "07f8ac97-b84a-4eb6-bdd8-9832b84a1560",
   "metadata": {},
   "outputs": [],
   "source": [
    "#Aplico conversion a minusculas\n",
    "df_customers = convertMinuscula(df_customers, \"customer_city\")"
   ]
  },
  {
   "cell_type": "code",
   "execution_count": 36,
   "id": "ada969dc-c1bc-4974-87c9-c7d55cc815c8",
   "metadata": {},
   "outputs": [],
   "source": [
    "#Aplico conversion a mayusculas\n",
    "df_customers = convertMayuscula(df_customers, \"customer_state\")"
   ]
  },
  {
   "cell_type": "markdown",
   "id": "a267cd62-91f4-42d0-a34f-c8ea31aec958",
   "metadata": {},
   "source": [
    "### Payments"
   ]
  },
  {
   "cell_type": "code",
   "execution_count": 37,
   "id": "e64607ae-25fc-4d02-a45b-0efd3956fe25",
   "metadata": {},
   "outputs": [],
   "source": [
    "#Listo las columnas a transformar en string \n",
    "columnas_string_order_payments = [\"order_id\",\"payment_type\"]\n",
    "\n",
    "#Aplico funcion transfString\n",
    "df_order_payments = transfString(df_order_payments, columnas_string_order_payments)"
   ]
  },
  {
   "cell_type": "code",
   "execution_count": 38,
   "id": "9d73719f-ebe1-4e95-acbc-5baf8f7c643a",
   "metadata": {},
   "outputs": [],
   "source": [
    "#Aplico conversion a minusculas\n",
    "df_order_payments = convertMinuscula(df_order_payments, \"payment_type\")"
   ]
  },
  {
   "cell_type": "markdown",
   "id": "71f74d32-29bd-49fc-843f-882adcea24b6",
   "metadata": {},
   "source": [
    "## ANALISIS de DATAFRAMES\n",
    "\n",
    "Luego de tranformar los DataFrames hago un análisis de los datos que contienen, para poder extraer información relevante (insights).\n",
    "\n",
    "### Funcion analisisDataFrame"
   ]
  },
  {
   "cell_type": "code",
   "execution_count": 39,
   "id": "bf728f6a-6095-4061-acc9-964f90baa1c8",
   "metadata": {},
   "outputs": [],
   "source": [
    "#Defino una funcion para obtener insights relevantes\n",
    "def analisisDataFrame(df): #Como parametro uso los dataframes\n",
    "    print(\"--------\")\n",
    "    print(\"Analisis de variables cuantitativas\")\n",
    "    columnas_numericas = df.select_dtypes(include=['int', 'float']).columns\n",
    "    if not columnas_numericas.empty:\n",
    "        print(df[columnas_numericas].describe())\n",
    "    print(\"--------\")\n",
    "    print(\"--------\")\n",
    "    print(\"Analisis de variables cualitativas\")\n",
    "    columnas_string = df.select_dtypes(include=['string']).columns\n",
    "    if not columnas_string.empty:\n",
    "        print(df[columnas_string].describe())"
   ]
  },
  {
   "cell_type": "markdown",
   "id": "e7396282-056f-4771-833e-f1f03d72343b",
   "metadata": {},
   "source": [
    "### Orders"
   ]
  },
  {
   "cell_type": "code",
   "execution_count": 40,
   "id": "73f1f180-1dd1-4e0b-83db-129e6cd53de2",
   "metadata": {},
   "outputs": [
    {
     "name": "stdout",
     "output_type": "stream",
     "text": [
      "--------\n",
      "Analisis de variables cuantitativas\n",
      "--------\n",
      "--------\n",
      "Analisis de variables cualitativas\n",
      "                                order_id                       customer_id  \\\n",
      "count                              96461                             96461   \n",
      "unique                             96461                             96461   \n",
      "top     e481f51cbdc54678b7cc49136f2d6af7  9ef432eb6251297304e76186b10a928d   \n",
      "freq                                   1                                 1   \n",
      "\n",
      "       order_status  \n",
      "count         96461  \n",
      "unique            2  \n",
      "top       delivered  \n",
      "freq          96455  \n"
     ]
    }
   ],
   "source": [
    "#Aplico funcion\n",
    "analisisDataFrame(df_orders)"
   ]
  },
  {
   "cell_type": "code",
   "execution_count": 41,
   "id": "4068f82f-b99e-4750-a867-ecd9a4e7e852",
   "metadata": {},
   "outputs": [
    {
     "data": {
      "text/plain": [
       "order_status\n",
       "delivered    96455\n",
       "canceled         6\n",
       "Name: count, dtype: Int64"
      ]
     },
     "execution_count": 41,
     "metadata": {},
     "output_type": "execute_result"
    }
   ],
   "source": [
    "#Observo el estado de los envios\n",
    "df_orders[\"order_status\"].value_counts()"
   ]
  },
  {
   "cell_type": "markdown",
   "id": "127ac38b-8223-493c-80cb-67c4cfd26c51",
   "metadata": {},
   "source": [
    "Se puede observar que la gran mayoría de los pedidos han sido entregados (delivered) y solo una pequeña cantidad ha sido cancelada (canceled).\n"
   ]
  },
  {
   "cell_type": "code",
   "execution_count": 42,
   "id": "64a95c1c-dea7-497b-aab5-58d9b18dd90b",
   "metadata": {},
   "outputs": [
    {
     "data": {
      "text/plain": [
       "99.9937798695846"
      ]
     },
     "execution_count": 42,
     "metadata": {},
     "output_type": "execute_result"
    }
   ],
   "source": [
    "#Observo el porcentaje de pedidos entregados\n",
    "porcentaje_entregado = (df_orders['order_status'] == 'delivered').mean() * 100\n",
    "porcentaje_entregado"
   ]
  },
  {
   "cell_type": "markdown",
   "id": "35488270-b597-41bd-b224-adedebf7ea67",
   "metadata": {},
   "source": [
    "La eficiencia del proceso de entrega es optima. "
   ]
  },
  {
   "cell_type": "code",
   "execution_count": 43,
   "id": "55de137c-058d-4063-b74c-7e355216ed82",
   "metadata": {},
   "outputs": [
    {
     "data": {
      "text/plain": [
       "0.006220130415401043"
      ]
     },
     "execution_count": 43,
     "metadata": {},
     "output_type": "execute_result"
    }
   ],
   "source": [
    "#observo el porcentaje de pedidos cancelados\n",
    "porcentaje_cancelado = (df_orders['order_status'] == 'canceled').mean() * 100\n",
    "porcentaje_cancelado"
   ]
  },
  {
   "cell_type": "markdown",
   "id": "a8b8dd2e-5c92-4d55-b237-1a9f5860fd94",
   "metadata": {},
   "source": [
    "### Orders items"
   ]
  },
  {
   "cell_type": "code",
   "execution_count": 44,
   "id": "b8bc8f5d-1599-4211-8006-1d45c34dcada",
   "metadata": {},
   "outputs": [
    {
     "name": "stdout",
     "output_type": "stream",
     "text": [
      "--------\n",
      "Analisis de variables cuantitativas\n",
      "               price  freight_value\n",
      "count  112650.000000  112650.000000\n",
      "mean      120.653739      19.990320\n",
      "std       183.633928      15.806405\n",
      "min         0.850000       0.000000\n",
      "25%        39.900000      13.080000\n",
      "50%        74.990000      16.260000\n",
      "75%       134.900000      21.150000\n",
      "max      6735.000000     409.680000\n",
      "--------\n",
      "--------\n",
      "Analisis de variables cualitativas\n",
      "                                order_id order_item_id  \\\n",
      "count                             112650        112650   \n",
      "unique                             98666            21   \n",
      "top     8272b63d03f5f79c56e9e4120aec44ef             1   \n",
      "freq                                  21         98666   \n",
      "\n",
      "                              product_id                         seller_id  \n",
      "count                             112650                            112650  \n",
      "unique                             32951                              3095  \n",
      "top     aca2eb7d00ea1a7b8ebd4e68314663af  6560211a19b47992c3666cc44a7e94c0  \n",
      "freq                                 527                              2033  \n"
     ]
    }
   ],
   "source": [
    "#Aplico funcion\n",
    "analisisDataFrame(df_order_items)"
   ]
  },
  {
   "cell_type": "markdown",
   "id": "44cdccdd-007f-4688-ac62-4f778e1fdd9b",
   "metadata": {},
   "source": [
    "El promedio de los precios de los productos es de 120 reales, pero este valor está influenciado por algunos productos que son significativamente más caros. La mayoría de los productos (75%) tienen un precio de 134 reales o menos, y la mediana del precio de los productos es de 75 reales. Esto sugiere que la mayoría de los pedidos se realizan para productos que son relativamente baratos, con solo una pequeña proporción de productos más caros que elevan el promedio."
   ]
  },
  {
   "cell_type": "markdown",
   "id": "348cba32-825a-49ff-ac66-b142aef572f2",
   "metadata": {},
   "source": [
    "### Products"
   ]
  },
  {
   "cell_type": "code",
   "execution_count": 45,
   "id": "0c18aa12-c3c8-4654-85a0-1748c0b2154a",
   "metadata": {},
   "outputs": [
    {
     "name": "stdout",
     "output_type": "stream",
     "text": [
      "--------\n",
      "Analisis de variables cuantitativas\n",
      "       product_name_lenght  product_description_lenght  product_photos_qty  \\\n",
      "count         32340.000000                32340.000000        32340.000000   \n",
      "mean             48.476592                  771.492393            2.188961   \n",
      "std              10.245699                  635.124831            1.736787   \n",
      "min               5.000000                    4.000000            1.000000   \n",
      "25%              42.000000                  339.000000            1.000000   \n",
      "50%              51.000000                  595.000000            1.000000   \n",
      "75%              57.000000                  972.000000            3.000000   \n",
      "max              76.000000                 3992.000000           20.000000   \n",
      "\n",
      "       product_weight_g  product_length_cm  product_height_cm  \\\n",
      "count      32340.000000       32340.000000       32340.000000   \n",
      "mean        2276.956586          30.854545          16.958813   \n",
      "std         4279.291845          16.955965          13.636115   \n",
      "min            0.000000           7.000000           2.000000   \n",
      "25%          300.000000          18.000000           8.000000   \n",
      "50%          700.000000          25.000000          13.000000   \n",
      "75%         1900.000000          38.000000          21.000000   \n",
      "max        40425.000000         105.000000         105.000000   \n",
      "\n",
      "       product_width_cm  \n",
      "count      32340.000000  \n",
      "mean          23.208596  \n",
      "std           12.078762  \n",
      "min            6.000000  \n",
      "25%           15.000000  \n",
      "50%           20.000000  \n",
      "75%           30.000000  \n",
      "max          118.000000  \n",
      "--------\n",
      "--------\n",
      "Analisis de variables cualitativas\n",
      "                              product_id product_category_name\n",
      "count                              32340                 32340\n",
      "unique                             32340                    73\n",
      "top     1e9e8ef04dbcff4541ed26657ea517e5       cama_mesa_banho\n",
      "freq                                   1                  3029\n"
     ]
    }
   ],
   "source": [
    "#Aplico funcion\n",
    "analisisDataFrame(df_products)"
   ]
  },
  {
   "cell_type": "code",
   "execution_count": 46,
   "id": "a30f0f8b-f469-4179-ba3e-80026b59ab96",
   "metadata": {},
   "outputs": [
    {
     "data": {
      "text/plain": [
       "product_category_name\n",
       "cama_mesa_banho                  3029\n",
       "esporte_lazer                    2867\n",
       "moveis_decoracao                 2657\n",
       "beleza_saude                     2444\n",
       "utilidades_domesticas            2335\n",
       "                                 ... \n",
       "fashion_roupa_infanto_juvenil       5\n",
       "casa_conforto_2                     5\n",
       "pc_gamer                            3\n",
       "seguros_e_servicos                  2\n",
       "cds_dvds_musicais                   1\n",
       "Name: count, Length: 73, dtype: Int64"
      ]
     },
     "execution_count": 46,
     "metadata": {},
     "output_type": "execute_result"
    }
   ],
   "source": [
    "#Analizo la columna category\n",
    "df_products[\"product_category_name\"].value_counts()"
   ]
  },
  {
   "cell_type": "markdown",
   "id": "cb0aadd6-2234-4a80-976f-91fa9fc103a6",
   "metadata": {},
   "source": [
    "La categoria mas popular o esencial para los compradores es la \"ropa de cama-mesa-bano\", seguida de cerca por deporte-ocio, muebles-decoracion y por ultimo belleza y salud. "
   ]
  },
  {
   "cell_type": "markdown",
   "id": "7b27f2d7-02c4-47ed-b410-fbcf36939904",
   "metadata": {},
   "source": [
    "### Customers"
   ]
  },
  {
   "cell_type": "code",
   "execution_count": 47,
   "id": "f06572eb-8f84-41a3-88d6-385fb178bb05",
   "metadata": {},
   "outputs": [
    {
     "name": "stdout",
     "output_type": "stream",
     "text": [
      "--------\n",
      "Analisis de variables cuantitativas\n",
      "--------\n",
      "--------\n",
      "Analisis de variables cualitativas\n",
      "                             customer_id                customer_unique_id  \\\n",
      "count                              99441                             99441   \n",
      "unique                             99441                             96096   \n",
      "top     06b8999e2fba1a1fbc88172c00ba8bc7  8d50f5eadf50201ccdcedfb9e2ac8455   \n",
      "freq                                   1                                17   \n",
      "\n",
      "       customer_zip_code_prefix customer_city customer_state  \n",
      "count                     99441         99441          99441  \n",
      "unique                    14994          4119             27  \n",
      "top                       22790     sao paulo             SP  \n",
      "freq                        142         15540          41746  \n"
     ]
    }
   ],
   "source": [
    "#Aplico funcion\n",
    "analisisDataFrame(df_customers)"
   ]
  },
  {
   "cell_type": "code",
   "execution_count": 48,
   "id": "fab7f4dd-751d-45d9-af5a-0a366a10d052",
   "metadata": {},
   "outputs": [
    {
     "data": {
      "text/plain": [
       "customer_state\n",
       "SP    41746\n",
       "RJ    12852\n",
       "MG    11635\n",
       "RS     5466\n",
       "PR     5045\n",
       "SC     3637\n",
       "BA     3380\n",
       "DF     2140\n",
       "ES     2033\n",
       "GO     2020\n",
       "PE     1652\n",
       "CE     1336\n",
       "PA      975\n",
       "MT      907\n",
       "MA      747\n",
       "MS      715\n",
       "PB      536\n",
       "PI      495\n",
       "RN      485\n",
       "AL      413\n",
       "SE      350\n",
       "TO      280\n",
       "RO      253\n",
       "AM      148\n",
       "AC       81\n",
       "AP       68\n",
       "RR       46\n",
       "Name: count, dtype: Int64"
      ]
     },
     "execution_count": 48,
     "metadata": {},
     "output_type": "execute_result"
    }
   ],
   "source": [
    "#Realizo analisis por regiones de los compradores\n",
    "df_customers[\"customer_state\"].value_counts()"
   ]
  },
  {
   "cell_type": "markdown",
   "id": "2c67d862-8299-428b-b742-c478b0e9bec7",
   "metadata": {},
   "source": [
    "SP (São Paulo) es el estado con la mayor cantidad de clientes, con un total de 41,746.\n",
    "RJ (Rio de Janeiro) y MG (Minas Gerais) siguen a São Paulo con 12,852 y 11,635 clientes respectivamente.\n",
    "Los estados con menos clientes son AC (Acre), AP (Amapá) y RR (Roraima) con 81, 68 y 46 clientes respectivamente.\n",
    "Esto sugiere que la mayoría de los clientes se encuentran en los estados de São Paulo, Rio de Janeiro y Minas Gerais. "
   ]
  },
  {
   "cell_type": "markdown",
   "id": "cd8a5ca0-4fce-4b0c-9b57-2bf8e1febba0",
   "metadata": {},
   "source": [
    "### Payments"
   ]
  },
  {
   "cell_type": "code",
   "execution_count": 49,
   "id": "7416f5b0-21a4-4dc3-8426-4baef9ca05e9",
   "metadata": {},
   "outputs": [
    {
     "name": "stdout",
     "output_type": "stream",
     "text": [
      "--------\n",
      "Analisis de variables cuantitativas\n",
      "       payment_sequential  payment_installments  payment_value\n",
      "count       103886.000000         103886.000000  103886.000000\n",
      "mean             1.092679              2.853349     154.100380\n",
      "std              0.706584              2.687051     217.494064\n",
      "min              1.000000              0.000000       0.000000\n",
      "25%              1.000000              1.000000      56.790000\n",
      "50%              1.000000              1.000000     100.000000\n",
      "75%              1.000000              4.000000     171.837500\n",
      "max             29.000000             24.000000   13664.080000\n",
      "--------\n",
      "--------\n",
      "Analisis de variables cualitativas\n",
      "                                order_id payment_type\n",
      "count                             103886       103886\n",
      "unique                             99440            5\n",
      "top     fa65dad1b0e818e3ccc5cb0e39231352  credit_card\n",
      "freq                                  29        76795\n"
     ]
    }
   ],
   "source": [
    "#Aplico funcion\n",
    "analisisDataFrame(df_order_payments)"
   ]
  },
  {
   "cell_type": "code",
   "execution_count": 50,
   "id": "f600d7cd-2ef5-4f99-a1b3-7add5cc63d99",
   "metadata": {},
   "outputs": [
    {
     "data": {
      "text/plain": [
       "payment_type\n",
       "credit_card    76795\n",
       "boleto         19784\n",
       "voucher         5775\n",
       "debit_card      1529\n",
       "not_defined        3\n",
       "Name: count, dtype: Int64"
      ]
     },
     "execution_count": 50,
     "metadata": {},
     "output_type": "execute_result"
    }
   ],
   "source": [
    "#Observo tipos de pago\n",
    "df_order_payments[\"payment_type\"].value_counts()"
   ]
  },
  {
   "cell_type": "markdown",
   "id": "19c772a5-2dc4-4b95-8e9c-60f060b1f5cf",
   "metadata": {},
   "source": [
    "La mayoría de los clientes prefieren pagar con tarjeta de crédito. Los métodos de pago como boleto y vale también son bastante populares, mientras que la tarjeta de débito y los métodos no definidos son menos comunes."
   ]
  },
  {
   "cell_type": "markdown",
   "id": "a77b8231-63b6-4365-99b7-8da370a51cb4",
   "metadata": {},
   "source": [
    "## NUEVOS DATAFRAMES\n",
    "\n",
    "A partir de los dataset originales y despues de trabajar con las columnas que los componen genero dos nuevos DataFrames que exporto a csv para poder utilizarlos y generar un reporte con visualizaciones."
   ]
  },
  {
   "cell_type": "code",
   "execution_count": 51,
   "id": "1c974c48-647a-4b72-8907-89734b6bdaa9",
   "metadata": {},
   "outputs": [],
   "source": [
    "#Creo la carpeta 'dataset_generados'\n",
    "if not os.path.exists('dataset_generadosPf'):\n",
    "    os.makedirs('dataset_generadosPf')"
   ]
  },
  {
   "cell_type": "markdown",
   "id": "1540d309-a72b-4e18-a6ee-7255eb46f863",
   "metadata": {},
   "source": [
    "### Orders - Order payments"
   ]
  },
  {
   "cell_type": "code",
   "execution_count": 52,
   "id": "a10d9494-d1d3-472f-bc97-0d50f9293965",
   "metadata": {},
   "outputs": [
    {
     "data": {
      "text/html": [
       "<div>\n",
       "<style scoped>\n",
       "    .dataframe tbody tr th:only-of-type {\n",
       "        vertical-align: middle;\n",
       "    }\n",
       "\n",
       "    .dataframe tbody tr th {\n",
       "        vertical-align: top;\n",
       "    }\n",
       "\n",
       "    .dataframe thead th {\n",
       "        text-align: right;\n",
       "    }\n",
       "</style>\n",
       "<table border=\"1\" class=\"dataframe\">\n",
       "  <thead>\n",
       "    <tr style=\"text-align: right;\">\n",
       "      <th></th>\n",
       "      <th>order_id</th>\n",
       "      <th>customer_id</th>\n",
       "      <th>order_status</th>\n",
       "      <th>order_purchase_timestamp</th>\n",
       "      <th>order_approved_at</th>\n",
       "      <th>order_delivered_carrier_date</th>\n",
       "      <th>order_delivered_customer_date</th>\n",
       "      <th>order_estimated_delivery_date</th>\n",
       "      <th>payment_sequential</th>\n",
       "      <th>payment_type</th>\n",
       "      <th>payment_installments</th>\n",
       "      <th>payment_value</th>\n",
       "    </tr>\n",
       "  </thead>\n",
       "  <tbody>\n",
       "    <tr>\n",
       "      <th>0</th>\n",
       "      <td>e481f51cbdc54678b7cc49136f2d6af7</td>\n",
       "      <td>9ef432eb6251297304e76186b10a928d</td>\n",
       "      <td>delivered</td>\n",
       "      <td>2017-10-02 10:56:33</td>\n",
       "      <td>2017-10-02 11:07:15</td>\n",
       "      <td>2017-10-04 19:55:00</td>\n",
       "      <td>2017-10-10 21:25:13</td>\n",
       "      <td>2017-10-18</td>\n",
       "      <td>1</td>\n",
       "      <td>credit_card</td>\n",
       "      <td>1</td>\n",
       "      <td>18.12</td>\n",
       "    </tr>\n",
       "    <tr>\n",
       "      <th>1</th>\n",
       "      <td>e481f51cbdc54678b7cc49136f2d6af7</td>\n",
       "      <td>9ef432eb6251297304e76186b10a928d</td>\n",
       "      <td>delivered</td>\n",
       "      <td>2017-10-02 10:56:33</td>\n",
       "      <td>2017-10-02 11:07:15</td>\n",
       "      <td>2017-10-04 19:55:00</td>\n",
       "      <td>2017-10-10 21:25:13</td>\n",
       "      <td>2017-10-18</td>\n",
       "      <td>3</td>\n",
       "      <td>voucher</td>\n",
       "      <td>1</td>\n",
       "      <td>2.00</td>\n",
       "    </tr>\n",
       "    <tr>\n",
       "      <th>2</th>\n",
       "      <td>e481f51cbdc54678b7cc49136f2d6af7</td>\n",
       "      <td>9ef432eb6251297304e76186b10a928d</td>\n",
       "      <td>delivered</td>\n",
       "      <td>2017-10-02 10:56:33</td>\n",
       "      <td>2017-10-02 11:07:15</td>\n",
       "      <td>2017-10-04 19:55:00</td>\n",
       "      <td>2017-10-10 21:25:13</td>\n",
       "      <td>2017-10-18</td>\n",
       "      <td>2</td>\n",
       "      <td>voucher</td>\n",
       "      <td>1</td>\n",
       "      <td>18.59</td>\n",
       "    </tr>\n",
       "    <tr>\n",
       "      <th>3</th>\n",
       "      <td>53cdb2fc8bc7dce0b6741e2150273451</td>\n",
       "      <td>b0830fb4747a6c6d20dea0b8c802d7ef</td>\n",
       "      <td>delivered</td>\n",
       "      <td>2018-07-24 20:41:37</td>\n",
       "      <td>2018-07-26 03:24:27</td>\n",
       "      <td>2018-07-26 14:31:00</td>\n",
       "      <td>2018-08-07 15:27:45</td>\n",
       "      <td>2018-08-13</td>\n",
       "      <td>1</td>\n",
       "      <td>boleto</td>\n",
       "      <td>1</td>\n",
       "      <td>141.46</td>\n",
       "    </tr>\n",
       "    <tr>\n",
       "      <th>4</th>\n",
       "      <td>47770eb9100c2d0c44946d9cf07ec65d</td>\n",
       "      <td>41ce2a54c0b03bf3443c3d931a367089</td>\n",
       "      <td>delivered</td>\n",
       "      <td>2018-08-08 08:38:49</td>\n",
       "      <td>2018-08-08 08:55:23</td>\n",
       "      <td>2018-08-08 13:50:00</td>\n",
       "      <td>2018-08-17 18:06:29</td>\n",
       "      <td>2018-09-04</td>\n",
       "      <td>1</td>\n",
       "      <td>credit_card</td>\n",
       "      <td>3</td>\n",
       "      <td>179.12</td>\n",
       "    </tr>\n",
       "  </tbody>\n",
       "</table>\n",
       "</div>"
      ],
      "text/plain": [
       "                           order_id                       customer_id  \\\n",
       "0  e481f51cbdc54678b7cc49136f2d6af7  9ef432eb6251297304e76186b10a928d   \n",
       "1  e481f51cbdc54678b7cc49136f2d6af7  9ef432eb6251297304e76186b10a928d   \n",
       "2  e481f51cbdc54678b7cc49136f2d6af7  9ef432eb6251297304e76186b10a928d   \n",
       "3  53cdb2fc8bc7dce0b6741e2150273451  b0830fb4747a6c6d20dea0b8c802d7ef   \n",
       "4  47770eb9100c2d0c44946d9cf07ec65d  41ce2a54c0b03bf3443c3d931a367089   \n",
       "\n",
       "  order_status order_purchase_timestamp   order_approved_at  \\\n",
       "0    delivered      2017-10-02 10:56:33 2017-10-02 11:07:15   \n",
       "1    delivered      2017-10-02 10:56:33 2017-10-02 11:07:15   \n",
       "2    delivered      2017-10-02 10:56:33 2017-10-02 11:07:15   \n",
       "3    delivered      2018-07-24 20:41:37 2018-07-26 03:24:27   \n",
       "4    delivered      2018-08-08 08:38:49 2018-08-08 08:55:23   \n",
       "\n",
       "  order_delivered_carrier_date order_delivered_customer_date  \\\n",
       "0          2017-10-04 19:55:00           2017-10-10 21:25:13   \n",
       "1          2017-10-04 19:55:00           2017-10-10 21:25:13   \n",
       "2          2017-10-04 19:55:00           2017-10-10 21:25:13   \n",
       "3          2018-07-26 14:31:00           2018-08-07 15:27:45   \n",
       "4          2018-08-08 13:50:00           2018-08-17 18:06:29   \n",
       "\n",
       "  order_estimated_delivery_date  payment_sequential payment_type  \\\n",
       "0                    2017-10-18                   1  credit_card   \n",
       "1                    2017-10-18                   3      voucher   \n",
       "2                    2017-10-18                   2      voucher   \n",
       "3                    2018-08-13                   1       boleto   \n",
       "4                    2018-09-04                   1  credit_card   \n",
       "\n",
       "   payment_installments  payment_value  \n",
       "0                     1          18.12  \n",
       "1                     1           2.00  \n",
       "2                     1          18.59  \n",
       "3                     1         141.46  \n",
       "4                     3         179.12  "
      ]
     },
     "execution_count": 52,
     "metadata": {},
     "output_type": "execute_result"
    }
   ],
   "source": [
    "#Realizo un merge\n",
    "df_merge_orders_payments = pd.merge(df_orders, df_order_payments, how= \"inner\", on= \"order_id\")\n",
    "df_merge_orders_payments.head()"
   ]
  },
  {
   "cell_type": "code",
   "execution_count": 53,
   "id": "9157eb29-3e75-4a6a-a0e1-0623668f427e",
   "metadata": {},
   "outputs": [
    {
     "data": {
      "text/html": [
       "<div>\n",
       "<style scoped>\n",
       "    .dataframe tbody tr th:only-of-type {\n",
       "        vertical-align: middle;\n",
       "    }\n",
       "\n",
       "    .dataframe tbody tr th {\n",
       "        vertical-align: top;\n",
       "    }\n",
       "\n",
       "    .dataframe thead th {\n",
       "        text-align: right;\n",
       "    }\n",
       "</style>\n",
       "<table border=\"1\" class=\"dataframe\">\n",
       "  <thead>\n",
       "    <tr style=\"text-align: right;\">\n",
       "      <th></th>\n",
       "      <th>order_id</th>\n",
       "      <th>order_status</th>\n",
       "      <th>order_purchase_timestamp</th>\n",
       "      <th>payment_sequential</th>\n",
       "      <th>payment_type</th>\n",
       "      <th>payment_installments</th>\n",
       "      <th>payment_value</th>\n",
       "    </tr>\n",
       "  </thead>\n",
       "  <tbody>\n",
       "    <tr>\n",
       "      <th>0</th>\n",
       "      <td>e481f51cbdc54678b7cc49136f2d6af7</td>\n",
       "      <td>delivered</td>\n",
       "      <td>2017-10-02 10:56:33</td>\n",
       "      <td>1</td>\n",
       "      <td>credit_card</td>\n",
       "      <td>1</td>\n",
       "      <td>18.12</td>\n",
       "    </tr>\n",
       "    <tr>\n",
       "      <th>1</th>\n",
       "      <td>e481f51cbdc54678b7cc49136f2d6af7</td>\n",
       "      <td>delivered</td>\n",
       "      <td>2017-10-02 10:56:33</td>\n",
       "      <td>3</td>\n",
       "      <td>voucher</td>\n",
       "      <td>1</td>\n",
       "      <td>2.00</td>\n",
       "    </tr>\n",
       "    <tr>\n",
       "      <th>2</th>\n",
       "      <td>e481f51cbdc54678b7cc49136f2d6af7</td>\n",
       "      <td>delivered</td>\n",
       "      <td>2017-10-02 10:56:33</td>\n",
       "      <td>2</td>\n",
       "      <td>voucher</td>\n",
       "      <td>1</td>\n",
       "      <td>18.59</td>\n",
       "    </tr>\n",
       "    <tr>\n",
       "      <th>3</th>\n",
       "      <td>53cdb2fc8bc7dce0b6741e2150273451</td>\n",
       "      <td>delivered</td>\n",
       "      <td>2018-07-24 20:41:37</td>\n",
       "      <td>1</td>\n",
       "      <td>boleto</td>\n",
       "      <td>1</td>\n",
       "      <td>141.46</td>\n",
       "    </tr>\n",
       "    <tr>\n",
       "      <th>4</th>\n",
       "      <td>47770eb9100c2d0c44946d9cf07ec65d</td>\n",
       "      <td>delivered</td>\n",
       "      <td>2018-08-08 08:38:49</td>\n",
       "      <td>1</td>\n",
       "      <td>credit_card</td>\n",
       "      <td>3</td>\n",
       "      <td>179.12</td>\n",
       "    </tr>\n",
       "  </tbody>\n",
       "</table>\n",
       "</div>"
      ],
      "text/plain": [
       "                           order_id order_status order_purchase_timestamp  \\\n",
       "0  e481f51cbdc54678b7cc49136f2d6af7    delivered      2017-10-02 10:56:33   \n",
       "1  e481f51cbdc54678b7cc49136f2d6af7    delivered      2017-10-02 10:56:33   \n",
       "2  e481f51cbdc54678b7cc49136f2d6af7    delivered      2017-10-02 10:56:33   \n",
       "3  53cdb2fc8bc7dce0b6741e2150273451    delivered      2018-07-24 20:41:37   \n",
       "4  47770eb9100c2d0c44946d9cf07ec65d    delivered      2018-08-08 08:38:49   \n",
       "\n",
       "   payment_sequential payment_type  payment_installments  payment_value  \n",
       "0                   1  credit_card                     1          18.12  \n",
       "1                   3      voucher                     1           2.00  \n",
       "2                   2      voucher                     1          18.59  \n",
       "3                   1       boleto                     1         141.46  \n",
       "4                   1  credit_card                     3         179.12  "
      ]
     },
     "execution_count": 53,
     "metadata": {},
     "output_type": "execute_result"
    }
   ],
   "source": [
    "#Simplifico la información quitando aquellas columnas que no uso de cara al analisis visual\n",
    "df_merge_orders_payments.drop(['customer_id','order_approved_at','order_delivered_carrier_date','order_delivered_customer_date','order_estimated_delivery_date'], axis=1, inplace=True) #Indico el nombre de las columnas que voy a mantener los cambios\n",
    "df_merge_orders_payments.head()"
   ]
  },
  {
   "cell_type": "code",
   "execution_count": 54,
   "id": "6f77681f-4166-4ee8-ba58-b3158a125882",
   "metadata": {},
   "outputs": [],
   "source": [
    "#Exporto como csv el dataframe\n",
    "df_merge_orders_payments.to_csv(\"dataset_generadosPf/orders_payments.csv\")"
   ]
  },
  {
   "cell_type": "markdown",
   "id": "b1d223d5-e607-45d8-b70f-b8ceb8b18ba2",
   "metadata": {},
   "source": [
    "### Order items - Products"
   ]
  },
  {
   "cell_type": "code",
   "execution_count": 55,
   "id": "4b963234-7be2-44d0-8860-c5e9d409f81b",
   "metadata": {},
   "outputs": [
    {
     "data": {
      "text/html": [
       "<div>\n",
       "<style scoped>\n",
       "    .dataframe tbody tr th:only-of-type {\n",
       "        vertical-align: middle;\n",
       "    }\n",
       "\n",
       "    .dataframe tbody tr th {\n",
       "        vertical-align: top;\n",
       "    }\n",
       "\n",
       "    .dataframe thead th {\n",
       "        text-align: right;\n",
       "    }\n",
       "</style>\n",
       "<table border=\"1\" class=\"dataframe\">\n",
       "  <thead>\n",
       "    <tr style=\"text-align: right;\">\n",
       "      <th></th>\n",
       "      <th>order_id</th>\n",
       "      <th>order_item_id</th>\n",
       "      <th>product_id</th>\n",
       "      <th>seller_id</th>\n",
       "      <th>shipping_limit_date</th>\n",
       "      <th>price</th>\n",
       "      <th>freight_value</th>\n",
       "      <th>product_category_name</th>\n",
       "      <th>product_name_lenght</th>\n",
       "      <th>product_description_lenght</th>\n",
       "      <th>product_photos_qty</th>\n",
       "      <th>product_weight_g</th>\n",
       "      <th>product_length_cm</th>\n",
       "      <th>product_height_cm</th>\n",
       "      <th>product_width_cm</th>\n",
       "    </tr>\n",
       "  </thead>\n",
       "  <tbody>\n",
       "    <tr>\n",
       "      <th>0</th>\n",
       "      <td>00010242fe8c5a6d1ba2dd792cb16214</td>\n",
       "      <td>1</td>\n",
       "      <td>4244733e06e7ecb4970a6e2683c13e61</td>\n",
       "      <td>48436dade18ac8b2bce089ec2a041202</td>\n",
       "      <td>2017-09-19 09:45:35</td>\n",
       "      <td>58.9</td>\n",
       "      <td>13.29</td>\n",
       "      <td>cool_stuff</td>\n",
       "      <td>58.0</td>\n",
       "      <td>598.0</td>\n",
       "      <td>4.0</td>\n",
       "      <td>650.0</td>\n",
       "      <td>28.0</td>\n",
       "      <td>9.0</td>\n",
       "      <td>14.0</td>\n",
       "    </tr>\n",
       "    <tr>\n",
       "      <th>1</th>\n",
       "      <td>130898c0987d1801452a8ed92a670612</td>\n",
       "      <td>1</td>\n",
       "      <td>4244733e06e7ecb4970a6e2683c13e61</td>\n",
       "      <td>48436dade18ac8b2bce089ec2a041202</td>\n",
       "      <td>2017-07-05 02:44:11</td>\n",
       "      <td>55.9</td>\n",
       "      <td>17.96</td>\n",
       "      <td>cool_stuff</td>\n",
       "      <td>58.0</td>\n",
       "      <td>598.0</td>\n",
       "      <td>4.0</td>\n",
       "      <td>650.0</td>\n",
       "      <td>28.0</td>\n",
       "      <td>9.0</td>\n",
       "      <td>14.0</td>\n",
       "    </tr>\n",
       "    <tr>\n",
       "      <th>2</th>\n",
       "      <td>532ed5e14e24ae1f0d735b91524b98b9</td>\n",
       "      <td>1</td>\n",
       "      <td>4244733e06e7ecb4970a6e2683c13e61</td>\n",
       "      <td>48436dade18ac8b2bce089ec2a041202</td>\n",
       "      <td>2018-05-23 10:56:25</td>\n",
       "      <td>64.9</td>\n",
       "      <td>18.33</td>\n",
       "      <td>cool_stuff</td>\n",
       "      <td>58.0</td>\n",
       "      <td>598.0</td>\n",
       "      <td>4.0</td>\n",
       "      <td>650.0</td>\n",
       "      <td>28.0</td>\n",
       "      <td>9.0</td>\n",
       "      <td>14.0</td>\n",
       "    </tr>\n",
       "    <tr>\n",
       "      <th>3</th>\n",
       "      <td>6f8c31653edb8c83e1a739408b5ff750</td>\n",
       "      <td>1</td>\n",
       "      <td>4244733e06e7ecb4970a6e2683c13e61</td>\n",
       "      <td>48436dade18ac8b2bce089ec2a041202</td>\n",
       "      <td>2017-08-07 18:55:08</td>\n",
       "      <td>58.9</td>\n",
       "      <td>16.17</td>\n",
       "      <td>cool_stuff</td>\n",
       "      <td>58.0</td>\n",
       "      <td>598.0</td>\n",
       "      <td>4.0</td>\n",
       "      <td>650.0</td>\n",
       "      <td>28.0</td>\n",
       "      <td>9.0</td>\n",
       "      <td>14.0</td>\n",
       "    </tr>\n",
       "    <tr>\n",
       "      <th>4</th>\n",
       "      <td>7d19f4ef4d04461989632411b7e588b9</td>\n",
       "      <td>1</td>\n",
       "      <td>4244733e06e7ecb4970a6e2683c13e61</td>\n",
       "      <td>48436dade18ac8b2bce089ec2a041202</td>\n",
       "      <td>2017-08-16 22:05:11</td>\n",
       "      <td>58.9</td>\n",
       "      <td>13.29</td>\n",
       "      <td>cool_stuff</td>\n",
       "      <td>58.0</td>\n",
       "      <td>598.0</td>\n",
       "      <td>4.0</td>\n",
       "      <td>650.0</td>\n",
       "      <td>28.0</td>\n",
       "      <td>9.0</td>\n",
       "      <td>14.0</td>\n",
       "    </tr>\n",
       "  </tbody>\n",
       "</table>\n",
       "</div>"
      ],
      "text/plain": [
       "                           order_id order_item_id  \\\n",
       "0  00010242fe8c5a6d1ba2dd792cb16214             1   \n",
       "1  130898c0987d1801452a8ed92a670612             1   \n",
       "2  532ed5e14e24ae1f0d735b91524b98b9             1   \n",
       "3  6f8c31653edb8c83e1a739408b5ff750             1   \n",
       "4  7d19f4ef4d04461989632411b7e588b9             1   \n",
       "\n",
       "                         product_id                         seller_id  \\\n",
       "0  4244733e06e7ecb4970a6e2683c13e61  48436dade18ac8b2bce089ec2a041202   \n",
       "1  4244733e06e7ecb4970a6e2683c13e61  48436dade18ac8b2bce089ec2a041202   \n",
       "2  4244733e06e7ecb4970a6e2683c13e61  48436dade18ac8b2bce089ec2a041202   \n",
       "3  4244733e06e7ecb4970a6e2683c13e61  48436dade18ac8b2bce089ec2a041202   \n",
       "4  4244733e06e7ecb4970a6e2683c13e61  48436dade18ac8b2bce089ec2a041202   \n",
       "\n",
       "  shipping_limit_date  price  freight_value product_category_name  \\\n",
       "0 2017-09-19 09:45:35   58.9          13.29            cool_stuff   \n",
       "1 2017-07-05 02:44:11   55.9          17.96            cool_stuff   \n",
       "2 2018-05-23 10:56:25   64.9          18.33            cool_stuff   \n",
       "3 2017-08-07 18:55:08   58.9          16.17            cool_stuff   \n",
       "4 2017-08-16 22:05:11   58.9          13.29            cool_stuff   \n",
       "\n",
       "   product_name_lenght  product_description_lenght  product_photos_qty  \\\n",
       "0                 58.0                       598.0                 4.0   \n",
       "1                 58.0                       598.0                 4.0   \n",
       "2                 58.0                       598.0                 4.0   \n",
       "3                 58.0                       598.0                 4.0   \n",
       "4                 58.0                       598.0                 4.0   \n",
       "\n",
       "   product_weight_g  product_length_cm  product_height_cm  product_width_cm  \n",
       "0             650.0               28.0                9.0              14.0  \n",
       "1             650.0               28.0                9.0              14.0  \n",
       "2             650.0               28.0                9.0              14.0  \n",
       "3             650.0               28.0                9.0              14.0  \n",
       "4             650.0               28.0                9.0              14.0  "
      ]
     },
     "execution_count": 55,
     "metadata": {},
     "output_type": "execute_result"
    }
   ],
   "source": [
    "#Realizo un merge\n",
    "df_merge_order_items_products = pd.merge(df_order_items, df_products, how = \"inner\", on= \"product_id\")\n",
    "df_merge_order_items_products.head()"
   ]
  },
  {
   "cell_type": "code",
   "execution_count": 56,
   "id": "b38ac10a-52c9-45cd-972b-999b5057af1f",
   "metadata": {},
   "outputs": [
    {
     "data": {
      "text/html": [
       "<div>\n",
       "<style scoped>\n",
       "    .dataframe tbody tr th:only-of-type {\n",
       "        vertical-align: middle;\n",
       "    }\n",
       "\n",
       "    .dataframe tbody tr th {\n",
       "        vertical-align: top;\n",
       "    }\n",
       "\n",
       "    .dataframe thead th {\n",
       "        text-align: right;\n",
       "    }\n",
       "</style>\n",
       "<table border=\"1\" class=\"dataframe\">\n",
       "  <thead>\n",
       "    <tr style=\"text-align: right;\">\n",
       "      <th></th>\n",
       "      <th>order_id</th>\n",
       "      <th>order_item_id</th>\n",
       "      <th>price</th>\n",
       "      <th>freight_value</th>\n",
       "      <th>product_category_name</th>\n",
       "      <th>product_name_lenght</th>\n",
       "      <th>product_description_lenght</th>\n",
       "      <th>product_photos_qty</th>\n",
       "      <th>product_weight_g</th>\n",
       "      <th>product_length_cm</th>\n",
       "      <th>product_height_cm</th>\n",
       "      <th>product_width_cm</th>\n",
       "    </tr>\n",
       "  </thead>\n",
       "  <tbody>\n",
       "    <tr>\n",
       "      <th>0</th>\n",
       "      <td>00010242fe8c5a6d1ba2dd792cb16214</td>\n",
       "      <td>1</td>\n",
       "      <td>58.9</td>\n",
       "      <td>13.29</td>\n",
       "      <td>cool_stuff</td>\n",
       "      <td>58.0</td>\n",
       "      <td>598.0</td>\n",
       "      <td>4.0</td>\n",
       "      <td>650.0</td>\n",
       "      <td>28.0</td>\n",
       "      <td>9.0</td>\n",
       "      <td>14.0</td>\n",
       "    </tr>\n",
       "    <tr>\n",
       "      <th>1</th>\n",
       "      <td>130898c0987d1801452a8ed92a670612</td>\n",
       "      <td>1</td>\n",
       "      <td>55.9</td>\n",
       "      <td>17.96</td>\n",
       "      <td>cool_stuff</td>\n",
       "      <td>58.0</td>\n",
       "      <td>598.0</td>\n",
       "      <td>4.0</td>\n",
       "      <td>650.0</td>\n",
       "      <td>28.0</td>\n",
       "      <td>9.0</td>\n",
       "      <td>14.0</td>\n",
       "    </tr>\n",
       "    <tr>\n",
       "      <th>2</th>\n",
       "      <td>532ed5e14e24ae1f0d735b91524b98b9</td>\n",
       "      <td>1</td>\n",
       "      <td>64.9</td>\n",
       "      <td>18.33</td>\n",
       "      <td>cool_stuff</td>\n",
       "      <td>58.0</td>\n",
       "      <td>598.0</td>\n",
       "      <td>4.0</td>\n",
       "      <td>650.0</td>\n",
       "      <td>28.0</td>\n",
       "      <td>9.0</td>\n",
       "      <td>14.0</td>\n",
       "    </tr>\n",
       "    <tr>\n",
       "      <th>3</th>\n",
       "      <td>6f8c31653edb8c83e1a739408b5ff750</td>\n",
       "      <td>1</td>\n",
       "      <td>58.9</td>\n",
       "      <td>16.17</td>\n",
       "      <td>cool_stuff</td>\n",
       "      <td>58.0</td>\n",
       "      <td>598.0</td>\n",
       "      <td>4.0</td>\n",
       "      <td>650.0</td>\n",
       "      <td>28.0</td>\n",
       "      <td>9.0</td>\n",
       "      <td>14.0</td>\n",
       "    </tr>\n",
       "  </tbody>\n",
       "</table>\n",
       "</div>"
      ],
      "text/plain": [
       "                           order_id order_item_id  price  freight_value  \\\n",
       "0  00010242fe8c5a6d1ba2dd792cb16214             1   58.9          13.29   \n",
       "1  130898c0987d1801452a8ed92a670612             1   55.9          17.96   \n",
       "2  532ed5e14e24ae1f0d735b91524b98b9             1   64.9          18.33   \n",
       "3  6f8c31653edb8c83e1a739408b5ff750             1   58.9          16.17   \n",
       "\n",
       "  product_category_name  product_name_lenght  product_description_lenght  \\\n",
       "0            cool_stuff                 58.0                       598.0   \n",
       "1            cool_stuff                 58.0                       598.0   \n",
       "2            cool_stuff                 58.0                       598.0   \n",
       "3            cool_stuff                 58.0                       598.0   \n",
       "\n",
       "   product_photos_qty  product_weight_g  product_length_cm  product_height_cm  \\\n",
       "0                 4.0             650.0               28.0                9.0   \n",
       "1                 4.0             650.0               28.0                9.0   \n",
       "2                 4.0             650.0               28.0                9.0   \n",
       "3                 4.0             650.0               28.0                9.0   \n",
       "\n",
       "   product_width_cm  \n",
       "0              14.0  \n",
       "1              14.0  \n",
       "2              14.0  \n",
       "3              14.0  "
      ]
     },
     "execution_count": 56,
     "metadata": {},
     "output_type": "execute_result"
    }
   ],
   "source": [
    "#Simplifico la información quitando aquellas columnas que no uso de cara al analisis visual\n",
    "df_merge_order_items_products.drop(['product_id','seller_id','shipping_limit_date'], axis=1, inplace=True) #Indico el nombre de las columnas que voy a mantener los cambios\n",
    "df_merge_order_items_products.head(4)"
   ]
  },
  {
   "cell_type": "code",
   "execution_count": 57,
   "id": "0ae9a9df-4ed3-460e-8f01-740c0419ecdf",
   "metadata": {},
   "outputs": [],
   "source": [
    "#Exporto como csv el dataframe\n",
    "df_merge_order_items_products.to_csv(\"dataset_generadosPf/order_items_products.csv\")"
   ]
  },
  {
   "cell_type": "markdown",
   "id": "81701726-eb20-49ad-9f68-7b04b3853ea1",
   "metadata": {},
   "source": [
    "### Orders - Customers"
   ]
  },
  {
   "cell_type": "code",
   "execution_count": 60,
   "id": "24fc056a-3165-4443-8ed8-c0284f7d0dd8",
   "metadata": {},
   "outputs": [
    {
     "data": {
      "text/html": [
       "<div>\n",
       "<style scoped>\n",
       "    .dataframe tbody tr th:only-of-type {\n",
       "        vertical-align: middle;\n",
       "    }\n",
       "\n",
       "    .dataframe tbody tr th {\n",
       "        vertical-align: top;\n",
       "    }\n",
       "\n",
       "    .dataframe thead th {\n",
       "        text-align: right;\n",
       "    }\n",
       "</style>\n",
       "<table border=\"1\" class=\"dataframe\">\n",
       "  <thead>\n",
       "    <tr style=\"text-align: right;\">\n",
       "      <th></th>\n",
       "      <th>order_id</th>\n",
       "      <th>customer_id</th>\n",
       "      <th>order_status</th>\n",
       "      <th>order_purchase_timestamp</th>\n",
       "      <th>order_approved_at</th>\n",
       "      <th>order_delivered_carrier_date</th>\n",
       "      <th>order_delivered_customer_date</th>\n",
       "      <th>order_estimated_delivery_date</th>\n",
       "      <th>customer_unique_id</th>\n",
       "      <th>customer_zip_code_prefix</th>\n",
       "      <th>customer_city</th>\n",
       "      <th>customer_state</th>\n",
       "    </tr>\n",
       "  </thead>\n",
       "  <tbody>\n",
       "    <tr>\n",
       "      <th>0</th>\n",
       "      <td>e481f51cbdc54678b7cc49136f2d6af7</td>\n",
       "      <td>9ef432eb6251297304e76186b10a928d</td>\n",
       "      <td>delivered</td>\n",
       "      <td>2017-10-02 10:56:33</td>\n",
       "      <td>2017-10-02 11:07:15</td>\n",
       "      <td>2017-10-04 19:55:00</td>\n",
       "      <td>2017-10-10 21:25:13</td>\n",
       "      <td>2017-10-18</td>\n",
       "      <td>7c396fd4830fd04220f754e42b4e5bff</td>\n",
       "      <td>3149</td>\n",
       "      <td>sao paulo</td>\n",
       "      <td>SP</td>\n",
       "    </tr>\n",
       "    <tr>\n",
       "      <th>1</th>\n",
       "      <td>53cdb2fc8bc7dce0b6741e2150273451</td>\n",
       "      <td>b0830fb4747a6c6d20dea0b8c802d7ef</td>\n",
       "      <td>delivered</td>\n",
       "      <td>2018-07-24 20:41:37</td>\n",
       "      <td>2018-07-26 03:24:27</td>\n",
       "      <td>2018-07-26 14:31:00</td>\n",
       "      <td>2018-08-07 15:27:45</td>\n",
       "      <td>2018-08-13</td>\n",
       "      <td>af07308b275d755c9edb36a90c618231</td>\n",
       "      <td>47813</td>\n",
       "      <td>barreiras</td>\n",
       "      <td>BA</td>\n",
       "    </tr>\n",
       "    <tr>\n",
       "      <th>2</th>\n",
       "      <td>47770eb9100c2d0c44946d9cf07ec65d</td>\n",
       "      <td>41ce2a54c0b03bf3443c3d931a367089</td>\n",
       "      <td>delivered</td>\n",
       "      <td>2018-08-08 08:38:49</td>\n",
       "      <td>2018-08-08 08:55:23</td>\n",
       "      <td>2018-08-08 13:50:00</td>\n",
       "      <td>2018-08-17 18:06:29</td>\n",
       "      <td>2018-09-04</td>\n",
       "      <td>3a653a41f6f9fc3d2a113cf8398680e8</td>\n",
       "      <td>75265</td>\n",
       "      <td>vianopolis</td>\n",
       "      <td>GO</td>\n",
       "    </tr>\n",
       "    <tr>\n",
       "      <th>3</th>\n",
       "      <td>949d5b44dbf5de918fe9c16f97b45f8a</td>\n",
       "      <td>f88197465ea7920adcdbec7375364d82</td>\n",
       "      <td>delivered</td>\n",
       "      <td>2017-11-18 19:28:06</td>\n",
       "      <td>2017-11-18 19:45:59</td>\n",
       "      <td>2017-11-22 13:39:59</td>\n",
       "      <td>2017-12-02 00:28:42</td>\n",
       "      <td>2017-12-15</td>\n",
       "      <td>7c142cf63193a1473d2e66489a9ae977</td>\n",
       "      <td>59296</td>\n",
       "      <td>sao goncalo do amarante</td>\n",
       "      <td>RN</td>\n",
       "    </tr>\n",
       "    <tr>\n",
       "      <th>4</th>\n",
       "      <td>ad21c59c0840e6cb83a9ceb5573f8159</td>\n",
       "      <td>8ab97904e6daea8866dbdbc4fb7aad2c</td>\n",
       "      <td>delivered</td>\n",
       "      <td>2018-02-13 21:18:39</td>\n",
       "      <td>2018-02-13 22:20:29</td>\n",
       "      <td>2018-02-14 19:46:34</td>\n",
       "      <td>2018-02-16 18:17:02</td>\n",
       "      <td>2018-02-26</td>\n",
       "      <td>72632f0f9dd73dfee390c9b22eb56dd6</td>\n",
       "      <td>9195</td>\n",
       "      <td>santo andre</td>\n",
       "      <td>SP</td>\n",
       "    </tr>\n",
       "  </tbody>\n",
       "</table>\n",
       "</div>"
      ],
      "text/plain": [
       "                           order_id                       customer_id  \\\n",
       "0  e481f51cbdc54678b7cc49136f2d6af7  9ef432eb6251297304e76186b10a928d   \n",
       "1  53cdb2fc8bc7dce0b6741e2150273451  b0830fb4747a6c6d20dea0b8c802d7ef   \n",
       "2  47770eb9100c2d0c44946d9cf07ec65d  41ce2a54c0b03bf3443c3d931a367089   \n",
       "3  949d5b44dbf5de918fe9c16f97b45f8a  f88197465ea7920adcdbec7375364d82   \n",
       "4  ad21c59c0840e6cb83a9ceb5573f8159  8ab97904e6daea8866dbdbc4fb7aad2c   \n",
       "\n",
       "  order_status order_purchase_timestamp   order_approved_at  \\\n",
       "0    delivered      2017-10-02 10:56:33 2017-10-02 11:07:15   \n",
       "1    delivered      2018-07-24 20:41:37 2018-07-26 03:24:27   \n",
       "2    delivered      2018-08-08 08:38:49 2018-08-08 08:55:23   \n",
       "3    delivered      2017-11-18 19:28:06 2017-11-18 19:45:59   \n",
       "4    delivered      2018-02-13 21:18:39 2018-02-13 22:20:29   \n",
       "\n",
       "  order_delivered_carrier_date order_delivered_customer_date  \\\n",
       "0          2017-10-04 19:55:00           2017-10-10 21:25:13   \n",
       "1          2018-07-26 14:31:00           2018-08-07 15:27:45   \n",
       "2          2018-08-08 13:50:00           2018-08-17 18:06:29   \n",
       "3          2017-11-22 13:39:59           2017-12-02 00:28:42   \n",
       "4          2018-02-14 19:46:34           2018-02-16 18:17:02   \n",
       "\n",
       "  order_estimated_delivery_date                customer_unique_id  \\\n",
       "0                    2017-10-18  7c396fd4830fd04220f754e42b4e5bff   \n",
       "1                    2018-08-13  af07308b275d755c9edb36a90c618231   \n",
       "2                    2018-09-04  3a653a41f6f9fc3d2a113cf8398680e8   \n",
       "3                    2017-12-15  7c142cf63193a1473d2e66489a9ae977   \n",
       "4                    2018-02-26  72632f0f9dd73dfee390c9b22eb56dd6   \n",
       "\n",
       "  customer_zip_code_prefix            customer_city customer_state  \n",
       "0                     3149                sao paulo             SP  \n",
       "1                    47813                barreiras             BA  \n",
       "2                    75265               vianopolis             GO  \n",
       "3                    59296  sao goncalo do amarante             RN  \n",
       "4                     9195              santo andre             SP  "
      ]
     },
     "execution_count": 60,
     "metadata": {},
     "output_type": "execute_result"
    }
   ],
   "source": [
    "#Realizo un merge\n",
    "df_merge_orders_customers = pd.merge(df_orders, df_customers, how = \"inner\", on= \"customer_id\")\n",
    "df_merge_orders_customers.head()"
   ]
  },
  {
   "cell_type": "code",
   "execution_count": 61,
   "id": "855aadfc-b042-42a8-a9e0-57790f5d7cb1",
   "metadata": {},
   "outputs": [],
   "source": [
    "#Exporto como csv el dataframe\n",
    "df_merge_orders_customers.to_csv(\"dataset_generadosPf/orders_customers.csv\")"
   ]
  },
  {
   "cell_type": "code",
   "execution_count": null,
   "id": "5647eb64-0763-4028-b1f1-2bb1799a2c33",
   "metadata": {},
   "outputs": [],
   "source": []
  }
 ],
 "metadata": {
  "kernelspec": {
   "display_name": "Python 3 (ipykernel)",
   "language": "python",
   "name": "python3"
  },
  "language_info": {
   "codemirror_mode": {
    "name": "ipython",
    "version": 3
   },
   "file_extension": ".py",
   "mimetype": "text/x-python",
   "name": "python",
   "nbconvert_exporter": "python",
   "pygments_lexer": "ipython3",
   "version": "3.11.7"
  }
 },
 "nbformat": 4,
 "nbformat_minor": 5
}
