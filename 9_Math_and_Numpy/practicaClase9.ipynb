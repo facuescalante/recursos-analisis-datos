{
 "cells": [
  {
   "cell_type": "markdown",
   "id": "348187de-a324-4701-8ce0-a1988a378ced",
   "metadata": {},
   "source": [
    "## INSTALAR MÓDULOS\n",
    "A la hora de trabajar con módulos es posible que no los tengamos instalados ya que muchos son creados por la comunidad o simplemente no estan incluidos con los archivos base de python.\n",
    "\n",
    "Para ello podemos usar pip:\n",
    "\n",
    "En la terminal (local): pip install <nombre_modulo>\n",
    "En colab ejecutar en una celda: !pip install <nombre_modulo>\n",
    "## MATH\n",
    "El módulo math en Python se utiliza para realizar operaciones matemáticas más avanzadas que las disponibles en el conjunto de funciones y permite utilizar constantes matemáticas básicas para manejar problemas más complejos que requieren operaciones matemáticas avanzadas..\n",
    "\n",
    "Incluye funciones para:\n",
    "\n",
    "Realizar cálculos trigonométricos\n",
    "Operaciones de álgebra lineal\n",
    "Funciones exponenciales y logarítmicas"
   ]
  },
  {
   "cell_type": "markdown",
   "id": "a5565900-2e1f-41b0-917b-8d4cab5be576",
   "metadata": {},
   "source": [
    "# Ejercicio 1.0\n",
    "Importar el módulo math"
   ]
  },
  {
   "cell_type": "code",
   "execution_count": 1,
   "id": "2221baf7-db85-43ae-8fb8-e5e5b57f9471",
   "metadata": {},
   "outputs": [],
   "source": [
    "import math\n"
   ]
  },
  {
   "cell_type": "code",
   "execution_count": 2,
   "id": "15165a87-c42d-4016-81ef-582cb7195738",
   "metadata": {},
   "outputs": [
    {
     "name": "stdin",
     "output_type": "stream",
     "text": [
      "Ingrese el radio del circulo:  4\n"
     ]
    },
    {
     "name": "stdout",
     "output_type": "stream",
     "text": [
      "El area del circulo es :  50.26548245743669\n"
     ]
    }
   ],
   "source": [
    "radio = float(input(\"Ingrese el radio del circulo: \"))\n",
    "area = math.pi * radio ** 2\n",
    "print(\"El area del circulo es : \", area)\n"
   ]
  },
  {
   "cell_type": "markdown",
   "id": "c2cb7e76-5e8d-4d34-9b33-81ec3c65c4a0",
   "metadata": {},
   "source": [
    "# Ejercicio 1.2\n",
    "Calculadora de Hipotenusa"
   ]
  },
  {
   "cell_type": "code",
   "execution_count": 3,
   "id": "27031911-4552-4b2e-b5f3-5bf60f201ae3",
   "metadata": {},
   "outputs": [
    {
     "name": "stdin",
     "output_type": "stream",
     "text": [
      "Ingrese longitud del primer cateto:  4\n",
      "Ingrese longitud del segundo cateto:  5\n"
     ]
    },
    {
     "name": "stdout",
     "output_type": "stream",
     "text": [
      "La longitud de la hipotenusa de este triangulo es:  6.4031242374328485\n"
     ]
    }
   ],
   "source": [
    "catet1 = float(input(\"Ingrese longitud del primer cateto: \"))\n",
    "catet2 = float(input(\"Ingrese longitud del segundo cateto: \"))\n",
    "hipote = math.sqrt(catet1 ** 2 + catet2 ** 2)\n",
    "print(\"La longitud de la hipotenusa de este triangulo es: \", hipote)"
   ]
  },
  {
   "cell_type": "markdown",
   "id": "abe643ef-bed8-4045-9c2f-92e94d959ed8",
   "metadata": {},
   "source": [
    "## Ejercicio 1.3\n",
    "Calculadora seno, coseno, tangente"
   ]
  },
  {
   "cell_type": "code",
   "execution_count": 4,
   "id": "044166e3-248f-483a-a2ee-8acf4cf03f92",
   "metadata": {},
   "outputs": [
    {
     "name": "stdin",
     "output_type": "stream",
     "text": [
      "Ingrese el angulo en grados:  30\n"
     ]
    },
    {
     "name": "stdout",
     "output_type": "stream",
     "text": [
      "Seno:  0.49999999999999994\n",
      "Coseno:  0.8660254037844387\n",
      "Tangente:  0.5773502691896257\n"
     ]
    }
   ],
   "source": [
    "angulo_grad = float(input(\"Ingrese el angulo en grados: \"))\n",
    "angulo_radian = math.radians(angulo_grad)\n",
    "\n",
    "seno = math.sin(angulo_radian)\n",
    "coseno = math.cos(angulo_radian)\n",
    "tangente = math.tan(angulo_radian)\n",
    "\n",
    "print(\"Seno: \", seno)\n",
    "print(\"Coseno: \", coseno)\n",
    "print(\"Tangente: \", tangente)"
   ]
  },
  {
   "cell_type": "markdown",
   "id": "9fa2c8b4-0661-4b03-a00a-09ab243e637f",
   "metadata": {},
   "source": [
    "## Ejercicio 1.4\n",
    "Cálculo de Potencias"
   ]
  },
  {
   "cell_type": "code",
   "execution_count": 5,
   "id": "84963911-0a22-43f6-a5cb-b2e5138c8074",
   "metadata": {},
   "outputs": [
    {
     "name": "stdin",
     "output_type": "stream",
     "text": [
      "Ingrese la base: 8\n",
      "Ingrese el exponente: 2\n"
     ]
    },
    {
     "name": "stdout",
     "output_type": "stream",
     "text": [
      "El resultado de 8.0 elevado a la 2.0 es: 64.0\n"
     ]
    }
   ],
   "source": [
    "base = float(input(\"Ingrese la base:\"))\n",
    "exponent = float(input(\"Ingrese el exponente:\"))\n",
    "result = math.pow(base, exponent)\n",
    "print(\"El resultado de\", base, \"elevado a la\", exponent, \"es:\", result)"
   ]
  },
  {
   "cell_type": "markdown",
   "id": "6f7c689e-b411-4b2a-8536-946317d0597b",
   "metadata": {},
   "source": [
    "## Ejercicio 1.5\n",
    "Área de un Triángulo (fórmula de Herón)"
   ]
  },
  {
   "cell_type": "code",
   "execution_count": 7,
   "id": "65415fef-ba2e-48b3-9d4f-09bf42d15a7b",
   "metadata": {},
   "outputs": [
    {
     "name": "stdout",
     "output_type": "stream",
     "text": [
      "El area del triangulo es: 20.33316256758894\n"
     ]
    }
   ],
   "source": [
    "lado1 = 6\n",
    "lado2 = 7\n",
    "lado3 = 8\n",
    "\n",
    "s = (lado1 + lado2 + lado3) / 2\n",
    "\n",
    "area = math.sqrt(s * (s - lado1) * (s - lado2) * (s - lado3))\n",
    "print(\"El area del triangulo es:\", area)"
   ]
  },
  {
   "cell_type": "markdown",
   "id": "ffd47b52-aa98-4819-b33b-ae18937cd7af",
   "metadata": {},
   "source": [
    "## Ejercicio 1.6\r\n",
    "Suma de una Serie Infinita (π/4 = 1 - 1/3 + 1/5 - 1/7 + 1/9 - ...)"
   ]
  },
  {
   "cell_type": "code",
   "execution_count": 20,
   "id": "a42f5b90-b784-4c2c-80a4-fcd910065f1b",
   "metadata": {},
   "outputs": [
    {
     "name": "stdout",
     "output_type": "stream",
     "text": [
      "El valor aproximado del numero pi es: 3.1425916543395442\n"
     ]
    }
   ],
   "source": [
    "suma = 0 \n",
    "caracter = 1001\n",
    "\n",
    "for i in range(caracter):\n",
    "    suma += (-1) ** i / (2 * i + 1)\n",
    "\n",
    "pi = 4 * suma\n",
    "print(\"El valor aproximado del numero pi es :\", pi)"
   ]
  },
  {
   "cell_type": "markdown",
   "id": "dcf44f6d-869f-43d9-ac4c-5f5ec143ad56",
   "metadata": {},
   "source": [
    "## NUMPY\r\n",
    "NumPy es una biblioteca de Python que ayuda a trabajar con matrices y arreglos multidimensionales.\r\n",
    "\r\n",
    "Con NumPy se puede realizar* :\r\n",
    "\r\n",
    "Multiplicación de matrices/arreg* leos\r\n",
    "Inversión de matrices/arre* gleos\r\n",
    "Cálculo de funciones trigonomé* tricas\r\n",
    "Procesamiento d* e datos\r\n",
    "Mmanipulación de matrices grandes de manera rápida y e\n",
    "  ficiente.\r\n",
    "En resumen NumPy se usa para trabajar con datos numéricos en Python."
   ]
  },
  {
   "cell_type": "markdown",
   "id": "d9ccc7fe-d626-4bf8-bfec-7a5ebad6207c",
   "metadata": {},
   "source": [
    "## Ejercicio 2.0\r\n",
    "Importar Numpy pero usando el alias np"
   ]
  },
  {
   "cell_type": "code",
   "execution_count": 11,
   "id": "215617ed-9a00-4594-b592-d2b73df962e6",
   "metadata": {},
   "outputs": [],
   "source": [
    "import numpy as np"
   ]
  },
  {
   "cell_type": "markdown",
   "id": "d9b5605b-ac48-4e20-818a-757ea3c15f48",
   "metadata": {},
   "source": [
    "## Ejercicio 2.1\r\n",
    "Veamos las operaciones basicas con arrays"
   ]
  },
  {
   "cell_type": "code",
   "execution_count": 12,
   "id": "a4ccbd7b-9798-4986-9cd8-882d9937c099",
   "metadata": {},
   "outputs": [
    {
     "name": "stdout",
     "output_type": "stream",
     "text": [
      "Suma: [ 3  7 11 15]\n",
      "Resta: [-1 -1 -1 -1]\n",
      "Multiplicacion: [ 2 12 30 56]\n",
      "Divicion: [0.5        0.75       0.83333333 0.875     ]\n"
     ]
    }
   ],
   "source": [
    "arrayPar = np.array([1, 3, 5, 7])\n",
    "arrayImpar = np.array([2, 4, 6, 8])\n",
    "\n",
    "suma = arrayPar + arrayImpar\n",
    "resta = arrayPar - arrayImpar\n",
    "multiplicacion = arrayPar * arrayImpar\n",
    "divicion = arrayPar / arrayImpar\n",
    "\n",
    "print(\"Suma:\", suma)\n",
    "print(\"Resta:\", resta)\n",
    "print(\"Multiplicacion:\", multiplicacion)\n",
    "print(\"Divicion:\", divicion)"
   ]
  },
  {
   "cell_type": "markdown",
   "id": "f5c16e46-3902-4703-a01e-b5425601ce79",
   "metadata": {},
   "source": [
    "## Ejercicio 2.2\r\n",
    "Con numpy es muy facil crear matrices, por ejemplo la matriz de Identidad"
   ]
  },
  {
   "cell_type": "code",
   "execution_count": 19,
   "id": "3deee591-e392-4122-801e-83bcfd27ec1b",
   "metadata": {},
   "outputs": [
    {
     "name": "stdout",
     "output_type": "stream",
     "text": [
      "La matriz de indetidad 12 x 12 luce asi 😁:\n",
      "[[1. 0. 0. 0. 0. 0. 0. 0. 0. 0. 0. 0.]\n",
      " [0. 1. 0. 0. 0. 0. 0. 0. 0. 0. 0. 0.]\n",
      " [0. 0. 1. 0. 0. 0. 0. 0. 0. 0. 0. 0.]\n",
      " [0. 0. 0. 1. 0. 0. 0. 0. 0. 0. 0. 0.]\n",
      " [0. 0. 0. 0. 1. 0. 0. 0. 0. 0. 0. 0.]\n",
      " [0. 0. 0. 0. 0. 1. 0. 0. 0. 0. 0. 0.]\n",
      " [0. 0. 0. 0. 0. 0. 1. 0. 0. 0. 0. 0.]\n",
      " [0. 0. 0. 0. 0. 0. 0. 1. 0. 0. 0. 0.]\n",
      " [0. 0. 0. 0. 0. 0. 0. 0. 1. 0. 0. 0.]\n",
      " [0. 0. 0. 0. 0. 0. 0. 0. 0. 1. 0. 0.]\n",
      " [0. 0. 0. 0. 0. 0. 0. 0. 0. 0. 1. 0.]\n",
      " [0. 0. 0. 0. 0. 0. 0. 0. 0. 0. 0. 1.]]\n"
     ]
    }
   ],
   "source": [
    "matriz_identidad = np.eye(12)\n",
    "print(\"La matriz de indetidad 12 x 12 luce asi 😁:\")\n",
    "print(matriz_identidad)"
   ]
  },
  {
   "cell_type": "markdown",
   "id": "bfc4ca03-66c2-4278-8101-03acca93d49c",
   "metadata": {},
   "source": [
    "## Ejercicio 2.3\r\n",
    "Si trabajamos con vectores podemos calcular el producto escalar de estos"
   ]
  },
  {
   "cell_type": "markdown",
   "id": "4222cc5f-77f0-456a-851b-8eb5834dfa37",
   "metadata": {},
   "source": [
    "vectorImp = np.array([1, 3, 5])\n",
    "vectorPar = np.array([2, 4, 6])\n",
    "\n",
    "product_escalar = np.dot(vectorImp, vectorPar)\n",
    "print(\"Producto escalar:\", product_escalar)"
   ]
  },
  {
   "cell_type": "markdown",
   "id": "c2138405-e6f2-40a9-b495-0116b1c9f3f7",
   "metadata": {},
   "source": [
    "## Ejercicio 2.4\n",
    "Otra operación muy común es calcular el vector norma"
   ]
  },
  {
   "cell_type": "code",
   "execution_count": 28,
   "id": "136cf721-3e40-4a34-8c24-c00cb1cc687a",
   "metadata": {},
   "outputs": [
    {
     "name": "stdout",
     "output_type": "stream",
     "text": [
      "Norma del vector: 6.708203932499369\n"
     ]
    }
   ],
   "source": [
    "vector = np.array([3, 6])\n",
    "norma = np.linalg.norm(vector)\n",
    "print(\"Norma del vector:\", norma)"
   ]
  },
  {
   "cell_type": "markdown",
   "id": "a5a04f4c-d421-4347-bab9-204a757eb06a",
   "metadata": {},
   "source": [
    "## Ejercicio 2.5\r\n",
    "De forma similar es posible realizar operaciones entre matrices usando Numpy"
   ]
  },
  {
   "cell_type": "code",
   "execution_count": 30,
   "id": "d0dcf169-06ce-442b-9c3c-e546a203665a",
   "metadata": {},
   "outputs": [
    {
     "name": "stdout",
     "output_type": "stream",
     "text": [
      "Producto matricial : [[22 34]\n",
      " [46 74]]\n",
      "Transpuesta de la matriz: [[2 6]\n",
      " [4 8]]\n",
      "Determinante de la matriz: -8.000000000000002\n"
     ]
    }
   ],
   "source": [
    "matrizPar = np.array([[2, 4],[6, 8]])\n",
    "matrizImp = np.array([[1, 3],[5, 7]])\n",
    "\n",
    "producto_matricial = np.matmul(matrizPar, matrizImp)\n",
    "transpuesta = np.transpose(matrizPar)\n",
    "determinante = np.linalg.det(matrizPar)\n",
    "\n",
    "print(\"Producto matricial :\", producto_matricial)\n",
    "print(\"Transpuesta de la matriz:\", transpuesta)\n",
    "print(\"Determinante de la matriz:\", determinante)"
   ]
  },
  {
   "cell_type": "markdown",
   "id": "d680eec8-0c6b-448b-b265-1442a78a82ea",
   "metadata": {},
   "source": [
    "## Ejercicio 2.6\n",
    "Numpy tiene una función especifica para resolver ecuaciones lineales"
   ]
  },
  {
   "cell_type": "code",
   "execution_count": 33,
   "id": "4a6c090d-abc4-457f-a781-b2e1730a8c96",
   "metadata": {},
   "outputs": [
    {
     "name": "stdout",
     "output_type": "stream",
     "text": [
      "Solucion de sistema de ecuaciones:\n",
      "x = 0.9166666666666666\n",
      "y = 0.7916666666666666\n"
     ]
    }
   ],
   "source": [
    "coef = np.array([[2, 4],[5, -2]])\n",
    "const = np.array([5, 3])\n",
    "\n",
    "solucion = np.linalg.solve(coef, const)\n",
    "print(\"Solucion de sistema de ecuaciones:\")\n",
    "print(\"x =\", solucion[0])\n",
    "print(\"y =\", solucion[1])"
   ]
  },
  {
   "cell_type": "code",
   "execution_count": null,
   "id": "96639bd6-f478-4281-844c-35f081e2ee12",
   "metadata": {},
   "outputs": [],
   "source": []
  }
 ],
 "metadata": {
  "kernelspec": {
   "display_name": "Python 3 (ipykernel)",
   "language": "python",
   "name": "python3"
  },
  "language_info": {
   "codemirror_mode": {
    "name": "ipython",
    "version": 3
   },
   "file_extension": ".py",
   "mimetype": "text/x-python",
   "name": "python",
   "nbconvert_exporter": "python",
   "pygments_lexer": "ipython3",
   "version": "3.11.7"
  }
 },
 "nbformat": 4,
 "nbformat_minor": 5
}
