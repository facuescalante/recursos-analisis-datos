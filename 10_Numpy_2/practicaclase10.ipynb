{
 "cells": [
  {
   "cell_type": "markdown",
   "id": "863314ed-067b-4512-8127-e1de93007872",
   "metadata": {},
   "source": [
    "## Clase 10\n"
   ]
  },
  {
   "cell_type": "markdown",
   "id": "c8c08dd3-833b-4bd6-8a38-6a165725d79b",
   "metadata": {},
   "source": [
    "## Ejercicio 1.0\n",
    "inportar numpy como np"
   ]
  },
  {
   "cell_type": "code",
   "execution_count": 1,
   "id": "b659bc7c-f2ab-486d-8d94-d263e156fad9",
   "metadata": {},
   "outputs": [],
   "source": [
    "import numpy as np"
   ]
  },
  {
   "cell_type": "markdown",
   "id": "eb5a3b47-91ab-4d2c-b197-fb6158797a6c",
   "metadata": {},
   "source": [
    "## Ejercicio 1.1"
   ]
  },
  {
   "cell_type": "code",
   "execution_count": 2,
   "id": "b7cab211-8942-4493-a042-f2416f87814f",
   "metadata": {},
   "outputs": [
    {
     "data": {
      "text/plain": [
       "array([1, 2, 3, 4, 5, 6])"
      ]
     },
     "execution_count": 2,
     "metadata": {},
     "output_type": "execute_result"
    }
   ],
   "source": [
    "array10 = np.array([1,2,3,4,5,6])\n",
    "array11 = np.array([7,8,8,4,5,6])\n",
    "array10\n"
   ]
  },
  {
   "cell_type": "code",
   "execution_count": 3,
   "id": "4fa99419-5e81-4f5c-9055-41ec0bc2afe9",
   "metadata": {
    "scrolled": true
   },
   "outputs": [
    {
     "name": "stdout",
     "output_type": "stream",
     "text": [
      "[-6 -6 -5  0  0  0]\n"
     ]
    }
   ],
   "source": [
    "print(array10 - array11)"
   ]
  },
  {
   "cell_type": "markdown",
   "id": "e9a5d91b-8f1d-466f-9f69-280758fb6710",
   "metadata": {},
   "source": [
    "## Ejercicio 1.3\n",
    "\n",
    "ecuaciones lineales con numpy\n",
    "\n",
    "2x + 3y = 5\n",
    "4x - 1y = 2"
   ]
  },
  {
   "cell_type": "code",
   "execution_count": 4,
   "id": "068efc6c-9f94-46f6-a497-3cb0680e90a3",
   "metadata": {},
   "outputs": [
    {
     "name": "stdout",
     "output_type": "stream",
     "text": [
      "[0.78571429 1.14285714]\n"
     ]
    }
   ],
   "source": [
    "coef = np.array([[2,3],[4,-1]])\n",
    "const = np.array([5,2])\n",
    "\n",
    "solucion = np.linalg.solve(coef, const)\n",
    "print(solucion)"
   ]
  },
  {
   "cell_type": "markdown",
   "id": "1d1b28c0-d823-4f33-b920-f915f1136d14",
   "metadata": {},
   "source": [
    "### Ejercicio 1.4"
   ]
  },
  {
   "cell_type": "code",
   "execution_count": 5,
   "id": "db3f481b-00a7-4662-8835-6b21892b80f2",
   "metadata": {},
   "outputs": [
    {
     "name": "stdout",
     "output_type": "stream",
     "text": [
      "[[[1 2 3 5]]\n",
      "\n",
      " [[8 9 5 8]]\n",
      "\n",
      " [[4 6 5 8]]]\n"
     ]
    }
   ],
   "source": [
    "matrizW = np.array([[[1,2,3,5]],[[8,9,5,8]],[[4,6,5,8]]])\n",
    "print(matrizW)"
   ]
  },
  {
   "cell_type": "code",
   "execution_count": 6,
   "id": "6b2a0bc3-e8ed-4f86-96f0-f085e708e70b",
   "metadata": {},
   "outputs": [
    {
     "data": {
      "text/plain": [
       "3"
      ]
     },
     "execution_count": 6,
     "metadata": {},
     "output_type": "execute_result"
    }
   ],
   "source": [
    "# podemos ver la cantidad de dimenciones de un array\n",
    "matrizW.ndim"
   ]
  },
  {
   "cell_type": "code",
   "execution_count": 7,
   "id": "b7759e80-3497-4af3-acfc-d35617860efc",
   "metadata": {},
   "outputs": [
    {
     "data": {
      "text/plain": [
       "12"
      ]
     },
     "execution_count": 7,
     "metadata": {},
     "output_type": "execute_result"
    }
   ],
   "source": [
    "matrizW.size"
   ]
  },
  {
   "cell_type": "code",
   "execution_count": 8,
   "id": "4b253563-44f1-4723-bea7-1dea751f3252",
   "metadata": {},
   "outputs": [
    {
     "data": {
      "text/plain": [
       "(3, 1, 4)"
      ]
     },
     "execution_count": 8,
     "metadata": {},
     "output_type": "execute_result"
    }
   ],
   "source": [
    "matrizW.shape"
   ]
  },
  {
   "cell_type": "markdown",
   "id": "d7023e7e-a7cf-4fbf-87ff-052bb920d8fb",
   "metadata": {},
   "source": [
    "### Ejercicio 1.8\n",
    "\n",
    "array con numeros aleatorios"
   ]
  },
  {
   "cell_type": "code",
   "execution_count": 15,
   "id": "872953a8-0b37-4566-9002-e86c1bbae2e0",
   "metadata": {},
   "outputs": [],
   "source": [
    "# creamos un objeto del generador de numreos aleatorios\n",
    "rng = np.random.rand"
   ]
  },
  {
   "cell_type": "code",
   "execution_count": null,
   "id": "647f191a-edb8-47d3-9a17-2e82a40452cc",
   "metadata": {},
   "outputs": [],
   "source": []
  }
 ],
 "metadata": {
  "kernelspec": {
   "display_name": "Python 3 (ipykernel)",
   "language": "python",
   "name": "python3"
  },
  "language_info": {
   "codemirror_mode": {
    "name": "ipython",
    "version": 3
   },
   "file_extension": ".py",
   "mimetype": "text/x-python",
   "name": "python",
   "nbconvert_exporter": "python",
   "pygments_lexer": "ipython3",
   "version": "3.11.7"
  }
 },
 "nbformat": 4,
 "nbformat_minor": 5
}
