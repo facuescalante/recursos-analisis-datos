{
 "cells": [
  {
   "cell_type": "markdown",
   "id": "863314ed-067b-4512-8127-e1de93007872",
   "metadata": {},
   "source": [
    "# Clase 10\n",
    "        \n"
   ]
  },
  {
   "cell_type": "markdown",
   "id": "c8c08dd3-833b-4bd6-8a38-6a165725d79b",
   "metadata": {},
   "source": [
    "## Ejercicio 1.0\n",
    "importar numpy como np y otros recursos como math"
   ]
  },
  {
   "cell_type": "code",
   "execution_count": 1,
   "id": "b659bc7c-f2ab-486d-8d94-d263e156fad9",
   "metadata": {},
   "outputs": [],
   "source": [
    "import numpy as np\n",
    "import math"
   ]
  },
  {
   "cell_type": "markdown",
   "id": "eb5a3b47-91ab-4d2c-b197-fb6158797a6c",
   "metadata": {},
   "source": [
    "## Ejercicio 1.1\n",
    "\n",
    "repaso creacion de array"
   ]
  },
  {
   "cell_type": "code",
   "execution_count": 2,
   "id": "b7cab211-8942-4493-a042-f2416f87814f",
   "metadata": {},
   "outputs": [
    {
     "data": {
      "text/plain": [
       "array([1, 2, 3, 4, 5, 6])"
      ]
     },
     "execution_count": 2,
     "metadata": {},
     "output_type": "execute_result"
    }
   ],
   "source": [
    "array10 = np.array([1,2,3,4,5,6])\n",
    "array11 = np.array([7,8,8,4,5,6])\n",
    "array10\n"
   ]
  },
  {
   "cell_type": "code",
   "execution_count": 3,
   "id": "4fa99419-5e81-4f5c-9055-41ec0bc2afe9",
   "metadata": {
    "scrolled": true
   },
   "outputs": [
    {
     "name": "stdout",
     "output_type": "stream",
     "text": [
      "[-6 -6 -5  0  0  0]\n"
     ]
    }
   ],
   "source": [
    "print(array10 - array11)"
   ]
  },
  {
   "cell_type": "markdown",
   "id": "b9d59f61-5be3-471c-91f3-1431587ab846",
   "metadata": {},
   "source": [
    "## Ejercicio 1.2\n",
    "\n",
    "matrices"
   ]
  },
  {
   "cell_type": "code",
   "execution_count": 4,
   "id": "8c150f95-99dd-452f-b737-8ae6c723f254",
   "metadata": {},
   "outputs": [
    {
     "name": "stdout",
     "output_type": "stream",
     "text": [
      "[[1 2]\n",
      " [3 4]]\n"
     ]
    }
   ],
   "source": [
    "matriz1 = np.array([[1,2],[3,4]]) #matriz de 2 columnas por 2 filas\n",
    "print(matriz1)"
   ]
  },
  {
   "cell_type": "code",
   "execution_count": 5,
   "id": "ba8ba2fb-9826-4a28-96f8-2cc0d2d86bea",
   "metadata": {},
   "outputs": [
    {
     "name": "stdout",
     "output_type": "stream",
     "text": [
      "[[1 2]\n",
      " [3 4]\n",
      " [5 6]\n",
      " [7 8]]\n"
     ]
    }
   ],
   "source": [
    "# matriz de 2 columnas y 4 filas\n",
    "matriz2 = np.array([[1,2],[3,4],[5,6],[7,8]])\n",
    "print(matriz2)"
   ]
  },
  {
   "cell_type": "code",
   "execution_count": 6,
   "id": "3b5df5fc-9d9b-473a-ac15-bfeca410ed58",
   "metadata": {},
   "outputs": [
    {
     "name": "stdout",
     "output_type": "stream",
     "text": [
      "[[1 2 3]\n",
      " [4 5 6]\n",
      " [7 8 9]]\n"
     ]
    }
   ],
   "source": [
    "# matriz de 3 columnnas por 3 filas\n",
    "matriz3 = np.array([[1,2,3],[4,5,6],[7,8,9]])\n",
    "print(matriz3)"
   ]
  },
  {
   "cell_type": "code",
   "execution_count": 7,
   "id": "e644502f-89ca-4628-9e39-5f61f8c6a869",
   "metadata": {},
   "outputs": [
    {
     "name": "stdout",
     "output_type": "stream",
     "text": [
      "[[ 1  2  3  4]\n",
      " [ 5  6  7  8]\n",
      " [ 9 10 11 12]]\n"
     ]
    }
   ],
   "source": [
    "#matriz de 4 columnas y 3 filas\n",
    "matriz4 = np.array([[1,2,3,4],[5,6,7,8],[9,10,11,12]])\n",
    "print(matriz4)"
   ]
  },
  {
   "cell_type": "code",
   "execution_count": 8,
   "id": "899419d9-aa2b-4833-a19c-2fd3df4e2699",
   "metadata": {},
   "outputs": [
    {
     "data": {
      "text/plain": [
       "2"
      ]
     },
     "execution_count": 8,
     "metadata": {},
     "output_type": "execute_result"
    }
   ],
   "source": [
    "matriz4.ndim"
   ]
  },
  {
   "cell_type": "markdown",
   "id": "e9a5d91b-8f1d-466f-9f69-280758fb6710",
   "metadata": {
    "editable": true,
    "slideshow": {
     "slide_type": ""
    },
    "tags": []
   },
   "source": [
    "## Ejercicio 1.3\n",
    "\n",
    "ecuaciones lineales con numpy\n",
    "\n",
    "2x + 3y = 5\n",
    "4x - 1y = 2"
   ]
  },
  {
   "cell_type": "code",
   "execution_count": 9,
   "id": "068efc6c-9f94-46f6-a497-3cb0680e90a3",
   "metadata": {},
   "outputs": [
    {
     "name": "stdout",
     "output_type": "stream",
     "text": [
      "[0.78571429 1.14285714]\n"
     ]
    }
   ],
   "source": [
    "coef = np.array([[2,3],[4,-1]])\n",
    "const = np.array([5,2])\n",
    "\n",
    "solucion = np.linalg.solve(coef, const)\n",
    "print(solucion)"
   ]
  },
  {
   "cell_type": "markdown",
   "id": "1d1b28c0-d823-4f33-b920-f915f1136d14",
   "metadata": {},
   "source": [
    "## Ejercicio 1.4\n",
    "\n",
    "operaciones con matrices"
   ]
  },
  {
   "cell_type": "code",
   "execution_count": 10,
   "id": "db3f481b-00a7-4662-8835-6b21892b80f2",
   "metadata": {},
   "outputs": [
    {
     "name": "stdout",
     "output_type": "stream",
     "text": [
      "[[[1 2 3 5]]\n",
      "\n",
      " [[8 9 5 8]]\n",
      "\n",
      " [[4 6 5 8]]]\n"
     ]
    }
   ],
   "source": [
    "matrizW = np.array([[[1,2,3,5]],[[8,9,5,8]],[[4,6,5,8]]])\n",
    "print(matrizW)"
   ]
  },
  {
   "cell_type": "code",
   "execution_count": 11,
   "id": "6b2a0bc3-e8ed-4f86-96f0-f085e708e70b",
   "metadata": {},
   "outputs": [
    {
     "data": {
      "text/plain": [
       "3"
      ]
     },
     "execution_count": 11,
     "metadata": {},
     "output_type": "execute_result"
    }
   ],
   "source": [
    "# podemos ver la cantidad de dimenciones de un array\n",
    "matrizW.ndim"
   ]
  },
  {
   "cell_type": "code",
   "execution_count": 12,
   "id": "b7759e80-3497-4af3-acfc-d35617860efc",
   "metadata": {},
   "outputs": [
    {
     "data": {
      "text/plain": [
       "12"
      ]
     },
     "execution_count": 12,
     "metadata": {},
     "output_type": "execute_result"
    }
   ],
   "source": [
    "matrizW.size"
   ]
  },
  {
   "cell_type": "code",
   "execution_count": 13,
   "id": "4b253563-44f1-4723-bea7-1dea751f3252",
   "metadata": {},
   "outputs": [
    {
     "data": {
      "text/plain": [
       "(3, 1, 4)"
      ]
     },
     "execution_count": 13,
     "metadata": {},
     "output_type": "execute_result"
    }
   ],
   "source": [
    "matrizW.shape"
   ]
  },
  {
   "cell_type": "code",
   "execution_count": 14,
   "id": "8b032346-9b21-40a2-98ab-eb58ccabcbff",
   "metadata": {},
   "outputs": [
    {
     "name": "stdout",
     "output_type": "stream",
     "text": [
      "[[1 2]\n",
      " [3 4]]\n",
      "-------\n",
      "[[5 6]\n",
      " [7 8]]\n"
     ]
    }
   ],
   "source": [
    "matrizA = np.array([[1,2],[3,4]])\n",
    "matrizB = np.array([[5,6],[7,8]])\n",
    "\n",
    "print(matrizA)\n",
    "print(\"-------\")\n",
    "print(matrizB)\n",
    "\n"
   ]
  },
  {
   "cell_type": "code",
   "execution_count": 15,
   "id": "8d2b75a4-657c-46fd-8286-b5fad55b4633",
   "metadata": {},
   "outputs": [
    {
     "name": "stdout",
     "output_type": "stream",
     "text": [
      "Producto matricial\n",
      "[[19 22]\n",
      " [43 50]]\n"
     ]
    }
   ],
   "source": [
    "print(\"Producto matricial\")\n",
    "matriz_producto = np.matmul(matrizA,matrizB)\n",
    "print(matriz_producto)"
   ]
  },
  {
   "cell_type": "code",
   "execution_count": 16,
   "id": "9859b643-c3dd-4ca2-afb4-456530f72d67",
   "metadata": {},
   "outputs": [
    {
     "name": "stdout",
     "output_type": "stream",
     "text": [
      "Matriz transpuesta\n",
      "[[1 3]\n",
      " [2 4]]\n"
     ]
    }
   ],
   "source": [
    "print(\"Matriz transpuesta\")\n",
    "matriz_transpuesta_A = np.transpose(matrizA)\n",
    "print(matriz_transpuesta_A)"
   ]
  },
  {
   "cell_type": "code",
   "execution_count": 17,
   "id": "485b7ab5-8e75-4655-9060-e9fa45d47bc6",
   "metadata": {},
   "outputs": [
    {
     "name": "stdout",
     "output_type": "stream",
     "text": [
      "matriz c original\n",
      "[[0 1 2 3]\n",
      " [4 5 6 7]]\n",
      "-------\n",
      "Matriz transpuesta\n",
      "[[0 4]\n",
      " [1 5]\n",
      " [2 6]\n",
      " [3 7]]\n"
     ]
    }
   ],
   "source": [
    "print(\"matriz c original\")\n",
    "matrizC = np.array([[0,1,2,3],[4,5,6,7]])\n",
    "print(matrizC)\n",
    "print(\"-------\")\n",
    "matriz_transpuesta_C = np.transpose(matrizC)\n",
    "print(\"Matriz transpuesta\")\n",
    "print(matriz_transpuesta_C)"
   ]
  },
  {
   "cell_type": "code",
   "execution_count": 18,
   "id": "e94fe32f-36ab-4330-9d95-93f9abfa4990",
   "metadata": {},
   "outputs": [
    {
     "name": "stdout",
     "output_type": "stream",
     "text": [
      "matriz a original\n",
      "[[1 2]\n",
      " [3 4]]\n",
      "-------\n",
      "Determinante de la matriz\n",
      "-2.0000000000000004\n"
     ]
    }
   ],
   "source": [
    "print(\"matriz a original\") #solo matrices cuadradas poseen determinante\n",
    "print(matrizA)\n",
    "print(\"-------\")\n",
    "determinanteA = np.linalg.det(matrizA)\n",
    "print(\"Determinante de la matriz\")\n",
    "print(determinanteA)"
   ]
  },
  {
   "cell_type": "markdown",
   "id": "d7023e7e-a7cf-4fbf-87ff-052bb920d8fb",
   "metadata": {},
   "source": [
    "### Ejercicio 1.8\n",
    "\n",
    "array con numeros aleatorios"
   ]
  },
  {
   "cell_type": "code",
   "execution_count": 19,
   "id": "872953a8-0b37-4566-9002-e86c1bbae2e0",
   "metadata": {},
   "outputs": [],
   "source": [
    "# creamos un objeto del generador de numreos aleatorios\n",
    "rng = np.random.default_rng()"
   ]
  },
  {
   "cell_type": "code",
   "execution_count": 20,
   "id": "f56b3ac5-1e80-43a7-939f-78d1895e18eb",
   "metadata": {},
   "outputs": [
    {
     "data": {
      "text/plain": [
       "array([0.2221894 , 0.25377321, 0.75716008, 0.87134169])"
      ]
     },
     "execution_count": 20,
     "metadata": {},
     "output_type": "execute_result"
    }
   ],
   "source": [
    "rng.random(4)"
   ]
  },
  {
   "cell_type": "code",
   "execution_count": 21,
   "id": "4857bbf7-01af-4523-acbd-fc2d05e4af57",
   "metadata": {},
   "outputs": [
    {
     "data": {
      "text/plain": [
       "array([[2, 0, 2, 1],\n",
       "       [3, 3, 0, 4]])"
      ]
     },
     "execution_count": 21,
     "metadata": {},
     "output_type": "execute_result"
    }
   ],
   "source": [
    "rng.integers(5, size=(2,4))"
   ]
  },
  {
   "cell_type": "markdown",
   "id": "6ad540d0-ff4a-4528-ac7d-4d11b88a6f7d",
   "metadata": {},
   "source": [
    "## Ejercicio 1.9\n",
    "\n",
    "Contar valores unicos dentro de un array"
   ]
  },
  {
   "cell_type": "code",
   "execution_count": 22,
   "id": "09b295ec-b09c-4a98-b3ce-7b2ff6d07669",
   "metadata": {},
   "outputs": [
    {
     "data": {
      "text/plain": [
       "array([11, 12, 13, 14, 15, 16, 17, 19, 20])"
      ]
     },
     "execution_count": 22,
     "metadata": {},
     "output_type": "execute_result"
    }
   ],
   "source": [
    "array_repetido = np.array([11,11,12,12,12,13,14,15,15,16,17,20,19,19])\n",
    "\n",
    "array_unico = np.unique(array_repetido)\n",
    "array_unico"
   ]
  },
  {
   "cell_type": "markdown",
   "id": "2c713129-1119-4e9d-ab32-430b48168a9f",
   "metadata": {},
   "source": [
    "# Parte A\n",
    "\n",
    "Tenemos una funcion cubica con la forma(3x^3-7x^2+6*x+9)"
   ]
  },
  {
   "cell_type": "code",
   "execution_count": 23,
   "id": "7a7ec349-9a92-4e2d-86d2-59f819e09f3f",
   "metadata": {},
   "outputs": [],
   "source": [
    "def mi_calculo(x):\n",
    "    return 3 * x**3 - 7 * x**2 + 6 * x + 9"
   ]
  },
  {
   "cell_type": "markdown",
   "id": "80753131-7726-4a04-9ccf-bd55a860e3d5",
   "metadata": {},
   "source": [
    "## Ejercicio 2.1\n",
    "\n",
    "Calcular cuales serian los valores obtenidos al pasarle como argumentos los valores pares desde 0 a 20 incluyendo ambos. Guardar el resultado en un array."
   ]
  },
  {
   "cell_type": "code",
   "execution_count": 24,
   "id": "7c3d40ca-1403-4700-9aac-8456375c2820",
   "metadata": {},
   "outputs": [
    {
     "data": {
      "text/plain": [
       "array([ 0,  2,  4,  6,  8, 10, 12, 14, 16, 18, 20])"
      ]
     },
     "execution_count": 24,
     "metadata": {},
     "output_type": "execute_result"
    }
   ],
   "source": [
    "lista_valores = []\n",
    "for i in range(0, 21, 2):\n",
    "    lista_valores.append(i)\n",
    "input_array = np.array(lista_valores)\n",
    "input_array"
   ]
  },
  {
   "cell_type": "code",
   "execution_count": 25,
   "id": "727b034a-2e5d-46ff-a904-b451dc708991",
   "metadata": {},
   "outputs": [
    {
     "data": {
      "text/plain": [
       "array([    9,    17,   113,   441,  1145,  2369,  4257,  6953, 10601,\n",
       "       15345, 21329])"
      ]
     },
     "execution_count": 25,
     "metadata": {},
     "output_type": "execute_result"
    }
   ],
   "source": [
    "output_array = mi_calculo(input_array)\n",
    "output_array"
   ]
  },
  {
   "cell_type": "markdown",
   "id": "b31a2f83-3889-4803-9755-e0138711c3be",
   "metadata": {},
   "source": [
    "## Ejercicio 2.2\n",
    "\n",
    "Al array que obtuvimos en la sección anterior:\n",
    "\n",
    "* Calcula la media de los números en el array que contiene los valores calculados.\n",
    "* Calcula la desviación estándar de los números en el array calculado.\n",
    "* Encuentra el valor máximo y su índice en el array calculado.\n",
    "* Crea un nuevo array array_cuadrados que contenga el cuadrado de cada número en calculado.\n",
    "* Crear un array con la suma acumulativa (a1, a1+a2, a1+a2+a3, .....) de los elementos en array_cuadrados.\n",
    "* Crear un array con la raiz 5ta de cada valor de array_cuadrados (redondear a 2 decimales).\n",
    "  \n",
    "Imprimir los resultados obtenidos."
   ]
  },
  {
   "cell_type": "code",
   "execution_count": 29,
   "id": "5e3181e7-1293-4561-9f93-8e147c4f0c97",
   "metadata": {},
   "outputs": [
    {
     "name": "stdout",
     "output_type": "stream",
     "text": [
      "Media: 5689.0\n",
      "Desviacion estandar: 6877.906658279102\n",
      "Valor maximo: 21329\n",
      "Indice del valor maximo: 10\n",
      "Valores al cuadrado: [       81       289     12769    194481   1311025   5612161  18122049\n",
      "  48344209 112381201 235469025 454926241]\n",
      "Array suma acumulativa de valores al cuadrado: [       81       370     13139    207620   1518645   7130806  25252855\n",
      "  73597064 185978265 421447290 876373531]\n",
      "Array resultado raiz quinta: [ 2.41  3.11  6.63 11.42 16.73 22.38 28.29 34.42 40.75 47.25 53.9 ]\n"
     ]
    }
   ],
   "source": [
    "media = np.mean(output_array)\n",
    "\n",
    "desviacion_estandar = np.std(output_array)\n",
    "\n",
    "valor_maximo = np.max(output_array)\n",
    "\n",
    "indice_maximo = np.argmax(output_array)\n",
    "\n",
    "array_cuadrados = np.square(output_array)\n",
    "\n",
    "suma_acumulativa_cuadrados = np.cumsum(array_cuadrados)\n",
    "\n",
    "array_raiz_quinta = np.power(array_cuadrados, 1/5).round(2)\n",
    "\n",
    "print(\"Media:\", media)\n",
    "print(\"Desviacion estandar:\", desviacion_estandar)\n",
    "print(\"Valor maximo:\", valor_maximo)\n",
    "print(\"Indice del valor maximo:\", indice_maximo)\n",
    "print(\"Valores al cuadrado:\", array_cuadrados)\n",
    "print(\"Array suma acumulativa de valores al cuadrado:\", suma_acumulativa_cuadrados)\n",
    "print(\"Array resultado raiz quinta:\", array_raiz_quinta)\n"
   ]
  },
  {
   "cell_type": "markdown",
   "id": "7faa9dcb-893c-4b65-82ff-eaa001434003",
   "metadata": {},
   "source": [
    "## Ejercicio 2.3\n",
    "\n",
    "Con los arrays que obtuvimos en la sección anterior:\n",
    "\n",
    "* Calcular el producto escalar (o producto punto) entre los array output y el array raiz quinta.\n",
    "* Crear un vector con los 3 ultimos valores del array input. Crear un segundo vector con los 3 primeros valores del array suma acumulativa de los cuadrados. Calcular el array que daria como resultado hacer el producto vectorial entre ambos."
   ]
  },
  {
   "cell_type": "code",
   "execution_count": 30,
   "id": "628f1dc3-1851-4155-b049-3a001f3a2f45",
   "metadata": {},
   "outputs": [
    {
     "data": {
      "text/plain": [
       "2744461.93"
      ]
     },
     "execution_count": 30,
     "metadata": {},
     "output_type": "execute_result"
    }
   ],
   "source": [
    "reusltado_producto_escalar = np.matmul(output_array,array_raiz_quinta).round(2)\n",
    "reusltado_producto_escalar"
   ]
  },
  {
   "cell_type": "code",
   "execution_count": 31,
   "id": "27ff8294-23f0-484c-8689-242f7924594e",
   "metadata": {},
   "outputs": [],
   "source": [
    "vector1 = input_array[-3:]\n",
    "vector2 = suma_acumulativa_cuadrados[:3]\n",
    "reusltado_producto_vec"
   ]
  },
  {
   "cell_type": "code",
   "execution_count": null,
   "id": "7781f9e2-4e96-45f2-8cc0-735c87b21914",
   "metadata": {},
   "outputs": [],
   "source": []
  }
 ],
 "metadata": {
  "kernelspec": {
   "display_name": "Python 3 (ipykernel)",
   "language": "python",
   "name": "python3"
  },
  "language_info": {
   "codemirror_mode": {
    "name": "ipython",
    "version": 3
   },
   "file_extension": ".py",
   "mimetype": "text/x-python",
   "name": "python",
   "nbconvert_exporter": "python",
   "pygments_lexer": "ipython3",
   "version": "3.10.13"
  }
 },
 "nbformat": 4,
 "nbformat_minor": 5
}
