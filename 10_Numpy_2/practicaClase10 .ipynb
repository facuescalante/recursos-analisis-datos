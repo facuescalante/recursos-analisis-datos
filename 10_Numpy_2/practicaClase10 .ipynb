{
 "cells": [
  {
   "cell_type": "markdown",
   "id": "863314ed-067b-4512-8127-e1de93007872",
   "metadata": {},
   "source": [
    "# Clase 10\n",
    "        \n"
   ]
  },
  {
   "cell_type": "markdown",
   "id": "c8c08dd3-833b-4bd6-8a38-6a165725d79b",
   "metadata": {},
   "source": [
    "## Ejercicio 1.0\n",
    "inportar numpy como np y otros recursos como math"
   ]
  },
  {
   "cell_type": "code",
   "execution_count": 43,
   "id": "b659bc7c-f2ab-486d-8d94-d263e156fad9",
   "metadata": {},
   "outputs": [],
   "source": [
    "import numpy as np\n",
    "import math"
   ]
  },
  {
   "cell_type": "markdown",
   "id": "eb5a3b47-91ab-4d2c-b197-fb6158797a6c",
   "metadata": {},
   "source": [
    "## Ejercicio 1.1\n",
    "\n",
    "repaso creacion de array"
   ]
  },
  {
   "cell_type": "code",
   "execution_count": 23,
   "id": "b7cab211-8942-4493-a042-f2416f87814f",
   "metadata": {},
   "outputs": [
    {
     "data": {
      "text/plain": [
       "array([1, 2, 3, 4, 5, 6])"
      ]
     },
     "execution_count": 23,
     "metadata": {},
     "output_type": "execute_result"
    }
   ],
   "source": [
    "array10 = np.array([1,2,3,4,5,6])\n",
    "array11 = np.array([7,8,8,4,5,6])\n",
    "array10\n"
   ]
  },
  {
   "cell_type": "code",
   "execution_count": 24,
   "id": "4fa99419-5e81-4f5c-9055-41ec0bc2afe9",
   "metadata": {
    "scrolled": true
   },
   "outputs": [
    {
     "name": "stdout",
     "output_type": "stream",
     "text": [
      "[-6 -6 -5  0  0  0]\n"
     ]
    }
   ],
   "source": [
    "print(array10 - array11)"
   ]
  },
  {
   "cell_type": "markdown",
   "id": "b9d59f61-5be3-471c-91f3-1431587ab846",
   "metadata": {},
   "source": [
    "## Ejercicio 1.2\n",
    "\n",
    "matrices"
   ]
  },
  {
   "cell_type": "code",
   "execution_count": 25,
   "id": "8c150f95-99dd-452f-b737-8ae6c723f254",
   "metadata": {},
   "outputs": [
    {
     "name": "stdout",
     "output_type": "stream",
     "text": [
      "[[1 2]\n",
      " [3 4]]\n"
     ]
    }
   ],
   "source": [
    "matriz1 = np.array([[1,2],[3,4]]) #matriz de 2 columnas por 2 filas\n",
    "print(matriz1)"
   ]
  },
  {
   "cell_type": "code",
   "execution_count": 26,
   "id": "ba8ba2fb-9826-4a28-96f8-2cc0d2d86bea",
   "metadata": {},
   "outputs": [
    {
     "name": "stdout",
     "output_type": "stream",
     "text": [
      "[[1 2]\n",
      " [3 4]\n",
      " [5 6]\n",
      " [7 8]]\n"
     ]
    }
   ],
   "source": [
    "# matriz de 2 columnas y 4 filas\n",
    "matriz2 = np.array([[1,2],[3,4],[5,6],[7,8]])\n",
    "print(matriz2)"
   ]
  },
  {
   "cell_type": "code",
   "execution_count": 27,
   "id": "3b5df5fc-9d9b-473a-ac15-bfeca410ed58",
   "metadata": {},
   "outputs": [
    {
     "name": "stdout",
     "output_type": "stream",
     "text": [
      "[[1 2 3]\n",
      " [4 5 6]\n",
      " [7 8 9]]\n"
     ]
    }
   ],
   "source": [
    "# matriz de 3 columnnas por 3 filas\n",
    "matriz3 = np.array([[1,2,3],[4,5,6],[7,8,9]])\n",
    "print(matriz3)"
   ]
  },
  {
   "cell_type": "code",
   "execution_count": 28,
   "id": "e644502f-89ca-4628-9e39-5f61f8c6a869",
   "metadata": {},
   "outputs": [
    {
     "name": "stdout",
     "output_type": "stream",
     "text": [
      "[[ 1  2  3  4]\n",
      " [ 5  6  7  8]\n",
      " [ 9 10 11 12]]\n"
     ]
    }
   ],
   "source": [
    "#matriz de 4 columnas y 3 filas\n",
    "matriz4 = np.array([[1,2,3,4],[5,6,7,8],[9,10,11,12]])\n",
    "print(matriz4)"
   ]
  },
  {
   "cell_type": "code",
   "execution_count": 29,
   "id": "899419d9-aa2b-4833-a19c-2fd3df4e2699",
   "metadata": {},
   "outputs": [
    {
     "data": {
      "text/plain": [
       "2"
      ]
     },
     "execution_count": 29,
     "metadata": {},
     "output_type": "execute_result"
    }
   ],
   "source": [
    "matriz4.ndim"
   ]
  },
  {
   "cell_type": "markdown",
   "id": "e9a5d91b-8f1d-466f-9f69-280758fb6710",
   "metadata": {
    "editable": true,
    "slideshow": {
     "slide_type": ""
    },
    "tags": []
   },
   "source": [
    "## Ejercicio 1.3\n",
    "\n",
    "ecuaciones lineales con numpy\n",
    "\n",
    "2x + 3y = 5\n",
    "4x - 1y = 2"
   ]
  },
  {
   "cell_type": "code",
   "execution_count": 30,
   "id": "068efc6c-9f94-46f6-a497-3cb0680e90a3",
   "metadata": {},
   "outputs": [
    {
     "name": "stdout",
     "output_type": "stream",
     "text": [
      "[0.78571429 1.14285714]\n"
     ]
    }
   ],
   "source": [
    "coef = np.array([[2,3],[4,-1]])\n",
    "const = np.array([5,2])\n",
    "\n",
    "solucion = np.linalg.solve(coef, const)\n",
    "print(solucion)"
   ]
  },
  {
   "cell_type": "markdown",
   "id": "1d1b28c0-d823-4f33-b920-f915f1136d14",
   "metadata": {},
   "source": [
    "## Ejercicio 1.4\n",
    "\n",
    "operaciones con matrices"
   ]
  },
  {
   "cell_type": "code",
   "execution_count": 31,
   "id": "db3f481b-00a7-4662-8835-6b21892b80f2",
   "metadata": {},
   "outputs": [
    {
     "name": "stdout",
     "output_type": "stream",
     "text": [
      "[[[1 2 3 5]]\n",
      "\n",
      " [[8 9 5 8]]\n",
      "\n",
      " [[4 6 5 8]]]\n"
     ]
    }
   ],
   "source": [
    "matrizW = np.array([[[1,2,3,5]],[[8,9,5,8]],[[4,6,5,8]]])\n",
    "print(matrizW)"
   ]
  },
  {
   "cell_type": "code",
   "execution_count": 32,
   "id": "6b2a0bc3-e8ed-4f86-96f0-f085e708e70b",
   "metadata": {},
   "outputs": [
    {
     "data": {
      "text/plain": [
       "3"
      ]
     },
     "execution_count": 32,
     "metadata": {},
     "output_type": "execute_result"
    }
   ],
   "source": [
    "# podemos ver la cantidad de dimenciones de un array\n",
    "matrizW.ndim"
   ]
  },
  {
   "cell_type": "code",
   "execution_count": 33,
   "id": "b7759e80-3497-4af3-acfc-d35617860efc",
   "metadata": {},
   "outputs": [
    {
     "data": {
      "text/plain": [
       "12"
      ]
     },
     "execution_count": 33,
     "metadata": {},
     "output_type": "execute_result"
    }
   ],
   "source": [
    "matrizW.size"
   ]
  },
  {
   "cell_type": "code",
   "execution_count": 34,
   "id": "4b253563-44f1-4723-bea7-1dea751f3252",
   "metadata": {},
   "outputs": [
    {
     "data": {
      "text/plain": [
       "(3, 1, 4)"
      ]
     },
     "execution_count": 34,
     "metadata": {},
     "output_type": "execute_result"
    }
   ],
   "source": [
    "matrizW.shape"
   ]
  },
  {
   "cell_type": "code",
   "execution_count": 35,
   "id": "8b032346-9b21-40a2-98ab-eb58ccabcbff",
   "metadata": {},
   "outputs": [
    {
     "name": "stdout",
     "output_type": "stream",
     "text": [
      "[[1 2]\n",
      " [3 4]]\n",
      "-------\n",
      "[[5 6]\n",
      " [7 8]]\n"
     ]
    }
   ],
   "source": [
    "matrizA = np.array([[1,2],[3,4]])\n",
    "matrizB = np.array([[5,6],[7,8]])\n",
    "\n",
    "print(matrizA)\n",
    "print(\"-------\")\n",
    "print(matrizB)\n",
    "\n"
   ]
  },
  {
   "cell_type": "code",
   "execution_count": 36,
   "id": "8d2b75a4-657c-46fd-8286-b5fad55b4633",
   "metadata": {},
   "outputs": [
    {
     "name": "stdout",
     "output_type": "stream",
     "text": [
      "Producto matricial\n",
      "[[19 22]\n",
      " [43 50]]\n"
     ]
    }
   ],
   "source": [
    "print(\"Producto matricial\")\n",
    "matriz_producto = np.matmul(matrizA,matrizB)\n",
    "print(matriz_producto)"
   ]
  },
  {
   "cell_type": "code",
   "execution_count": 37,
   "id": "9859b643-c3dd-4ca2-afb4-456530f72d67",
   "metadata": {},
   "outputs": [
    {
     "name": "stdout",
     "output_type": "stream",
     "text": [
      "Matriz transpuesta\n",
      "[[1 3]\n",
      " [2 4]]\n"
     ]
    }
   ],
   "source": [
    "print(\"Matriz transpuesta\")\n",
    "matriz_transpuesta_A = np.transpose(matrizA)\n",
    "print(matriz_transpuesta_A)"
   ]
  },
  {
   "cell_type": "code",
   "execution_count": 38,
   "id": "485b7ab5-8e75-4655-9060-e9fa45d47bc6",
   "metadata": {},
   "outputs": [
    {
     "name": "stdout",
     "output_type": "stream",
     "text": [
      "matriz c original\n",
      "[[0 1 2 3]\n",
      " [4 5 6 7]]\n",
      "-------\n",
      "Matriz transpuesta\n",
      "[[0 4]\n",
      " [1 5]\n",
      " [2 6]\n",
      " [3 7]]\n"
     ]
    }
   ],
   "source": [
    "print(\"matriz c original\")\n",
    "matrizC = np.array([[0,1,2,3],[4,5,6,7]])\n",
    "print(matrizC)\n",
    "print(\"-------\")\n",
    "matriz_transpuesta_C = np.transpose(matrizC)\n",
    "print(\"Matriz transpuesta\")\n",
    "print(matriz_transpuesta_C)"
   ]
  },
  {
   "cell_type": "code",
   "execution_count": 45,
   "id": "e94fe32f-36ab-4330-9d95-93f9abfa4990",
   "metadata": {},
   "outputs": [
    {
     "name": "stdout",
     "output_type": "stream",
     "text": [
      "matriz a original\n",
      "[[1 2]\n",
      " [3 4]]\n",
      "-------\n",
      "Determinante de la matriz\n",
      "-2.0000000000000004\n"
     ]
    }
   ],
   "source": [
    "print(\"matriz a original\") #solo matrices cuadradas poseen determinante\n",
    "print(matrizA)\n",
    "print(\"-------\")\n",
    "determinanteA = np.linalg.det(matrizA)\n",
    "print(\"Determinante de la matriz\")\n",
    "print(determinanteA)"
   ]
  },
  {
   "cell_type": "markdown",
   "id": "d7023e7e-a7cf-4fbf-87ff-052bb920d8fb",
   "metadata": {},
   "source": [
    "### Ejercicio 1.8\n",
    "\n",
    "array con numeros aleatorios"
   ]
  },
  {
   "cell_type": "code",
   "execution_count": null,
   "id": "872953a8-0b37-4566-9002-e86c1bbae2e0",
   "metadata": {},
   "outputs": [],
   "source": [
    "# creamos un objeto del generador de numreos aleatorios\n",
    "rng = np.random.default_rng()"
   ]
  },
  {
   "cell_type": "code",
   "execution_count": null,
   "id": "f56b3ac5-1e80-43a7-939f-78d1895e18eb",
   "metadata": {},
   "outputs": [],
   "source": [
    "rng.random(4)"
   ]
  },
  {
   "cell_type": "code",
   "execution_count": null,
   "id": "4857bbf7-01af-4523-acbd-fc2d05e4af57",
   "metadata": {},
   "outputs": [],
   "source": [
    "rng.integers(5, size=(2,4))"
   ]
  },
  {
   "cell_type": "code",
   "execution_count": null,
   "id": "d54ec1f5-1c33-475e-a4ec-5ea058048869",
   "metadata": {},
   "outputs": [],
   "source": []
  }
 ],
 "metadata": {
  "kernelspec": {
   "display_name": "Python 3 (ipykernel)",
   "language": "python",
   "name": "python3"
  },
  "language_info": {
   "codemirror_mode": {
    "name": "ipython",
    "version": 3
   },
   "file_extension": ".py",
   "mimetype": "text/x-python",
   "name": "python",
   "nbconvert_exporter": "python",
   "pygments_lexer": "ipython3",
   "version": "3.10.13"
  }
 },
 "nbformat": 4,
 "nbformat_minor": 5
}
