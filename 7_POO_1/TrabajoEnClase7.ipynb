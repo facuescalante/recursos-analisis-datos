{
  "nbformat": 4,
  "nbformat_minor": 0,
  "metadata": {
    "colab": {
      "provenance": [],
      "authorship_tag": "ABX9TyP46u6Qi2V0gVUEKz6wjD/R",
      "include_colab_link": true
    },
    "kernelspec": {
      "name": "python3",
      "display_name": "Python 3"
    },
    "language_info": {
      "name": "python"
    }
  },
  "cells": [
    {
      "cell_type": "markdown",
      "metadata": {
        "id": "view-in-github",
        "colab_type": "text"
      },
      "source": [
        "<a href=\"https://colab.research.google.com/github/facuescalante/recursos-analisis-datos/blob/main/7_POO_1/TrabajoEnClase7.ipynb\" target=\"_parent\"><img src=\"https://colab.research.google.com/assets/colab-badge.svg\" alt=\"Open In Colab\"/></a>"
      ]
    },
    {
      "cell_type": "markdown",
      "source": [
        "# POO"
      ],
      "metadata": {
        "id": "f9v1yW1F11N_"
      }
    },
    {
      "cell_type": "markdown",
      "source": [
        "# Clases\n",
        "son la estructura fundamental de la poo.\n",
        "Nos permiten trabajar con plantillas. Puedo crear objetos con variables o info y utilizarlos.\n",
        "Las clases tienen **atributos**(informacion o variables internas) y **metodos**(funciones que realizan alguna tarea).\n",
        "La sintaxis minima para crear una clase es:\n",
        "\n",
        "**class** NombreClase:"
      ],
      "metadata": {
        "id": "VxjtbiU91Twp"
      }
    },
    {
      "cell_type": "markdown",
      "source": [
        "Ejercicio 1.0"
      ],
      "metadata": {
        "id": "1GMoFuSP20Yc"
      }
    },
    {
      "cell_type": "code",
      "execution_count": 1,
      "metadata": {
        "id": "fZDYWSYg1Kzp"
      },
      "outputs": [],
      "source": [
        "class Letra: #defino nombre de la clase\n",
        "  caracter = \"o\" #creo primer atributo\n"
      ]
    },
    {
      "cell_type": "code",
      "source": [
        "Letra.caracter #visualizamos el valor del atributo"
      ],
      "metadata": {
        "colab": {
          "base_uri": "https://localhost:8080/",
          "height": 35
        },
        "id": "LKexy-ON1lgl",
        "outputId": "5ef30a70-02a9-4944-fbdc-2714f0db85a7"
      },
      "execution_count": 2,
      "outputs": [
        {
          "output_type": "execute_result",
          "data": {
            "text/plain": [
              "'o'"
            ],
            "application/vnd.google.colaboratory.intrinsic+json": {
              "type": "string"
            }
          },
          "metadata": {},
          "execution_count": 2
        }
      ]
    },
    {
      "cell_type": "code",
      "source": [
        "Letra.caracter = \"q\" #modifico el valor del atributo de la clase\n",
        "Letra.caracter"
      ],
      "metadata": {
        "colab": {
          "base_uri": "https://localhost:8080/",
          "height": 35
        },
        "id": "oB6GWONW3jlc",
        "outputId": "0ffd3e69-659e-46ee-ea97-cae26bffcbbe"
      },
      "execution_count": 3,
      "outputs": [
        {
          "output_type": "execute_result",
          "data": {
            "text/plain": [
              "'q'"
            ],
            "application/vnd.google.colaboratory.intrinsic+json": {
              "type": "string"
            }
          },
          "metadata": {},
          "execution_count": 3
        }
      ]
    },
    {
      "cell_type": "markdown",
      "source": [
        "##Ejercicio 1.1"
      ],
      "metadata": {
        "id": "9Oh8ZRot5cki"
      }
    },
    {
      "cell_type": "markdown",
      "source": [
        "\n",
        "Como transformar nuestra clase tan basica en un clase que nos permita crear objetos a partir de la clase que definamos.\n",
        "Hay una **funcion especial** que se utiliza deentro de las clases que permite cargar la informacion de nuestros atributos para crear nuestros objetos.\n",
        "El nombre que tiene es init . La sintaxis es : def__init__ (atributos).\n",
        "La clase \"molde\" llamada Persona va atener los atributos nombre, apellido y edad."
      ],
      "metadata": {
        "id": "WTfNZ4AM4Wpf"
      }
    },
    {
      "cell_type": "code",
      "source": [
        "class Persona: #defino nombre de clase\n",
        "  def __init__( self,nombre, apellido, edad): #creo el metodo init\n",
        "   self.nombre = nombre #inicializar mis atributos\n",
        "   self.apellido = apellido\n",
        "   self.edad = edad"
      ],
      "metadata": {
        "id": "8ATnHMD05gdW"
      },
      "execution_count": 15,
      "outputs": []
    },
    {
      "cell_type": "code",
      "source": [
        "persona1 = Persona(\"Messi\",\"Leonel\",36)\n"
      ],
      "metadata": {
        "id": "Rl5rU1c_6m3l"
      },
      "execution_count": 16,
      "outputs": []
    },
    {
      "cell_type": "code",
      "source": [
        "persona1.nombre, persona1.apellido, persona1.edad"
      ],
      "metadata": {
        "colab": {
          "base_uri": "https://localhost:8080/"
        },
        "id": "HmBW3a5D645L",
        "outputId": "12552b76-b08e-4c27-eff0-47d4c284ff93"
      },
      "execution_count": 17,
      "outputs": [
        {
          "output_type": "execute_result",
          "data": {
            "text/plain": [
              "('Messi', 'Leonel', 36)"
            ]
          },
          "metadata": {},
          "execution_count": 17
        }
      ]
    },
    {
      "cell_type": "markdown",
      "source": [
        "**Ejercico 1.2**"
      ],
      "metadata": {
        "id": "3fNM2sDr-FBV"
      }
    },
    {
      "cell_type": "code",
      "source": [
        "class Empleado:\n",
        "  def __init__(self, nombre, edad ,dni, estado_activo):\n",
        "   self.nombre = nombre\n",
        "   self.edad = edad\n",
        "   self.dni = dni\n",
        "   self.estado_activo = estado_activo\n",
        "\n",
        "  def __str__(self):\n",
        "    return f\"el empleado {self.nombre} con dni {self.dni} esta en estado {self.estado_activo}\""
      ],
      "metadata": {
        "id": "UNN6YOtb-JPC"
      },
      "execution_count": 24,
      "outputs": []
    },
    {
      "cell_type": "markdown",
      "source": [
        "### Ejercicio 1.3\n",
        "creamos una nueva clase Alkemy\n",
        "esta clase va tener los atributos:\n",
        "-nombre\n",
        "-apellido\n",
        "-nota_final\n",
        "-comision\n",
        "-cancelo_matricula.\n",
        "Queremos que nuestra clase tenga un metodo(funcion interna) que permita descargar el certificado de finalizacion del curso con su nombre completa, nota que obtuvieron y en que area estudiaron. Pero solo van a poder descargarlo una vez que su matricula este cancelada.\n",
        "Tip: Utilizar anotacion de la siguiente forma:\n",
        "* variables y atributos = snake_case\n",
        "* funciones o metodos = camelCase\n",
        "* clases = PascalCase"
      ],
      "metadata": {
        "id": "7jJShIqJAHwx"
      }
    },
    {
      "cell_type": "code",
      "source": [
        "class AlumnoAlkemy:\n",
        "  def __init__(self, nombre, apellido, nota_final, comision, cancelo_matricula):\n",
        "    self.nombre = nombre\n",
        "    self.apellido = apellido\n",
        "    self.nota_final = nota_final\n",
        "    self.comision = comision\n",
        "    self.cancelo_matricula = cancelo_matricula\n",
        "\n",
        "  def __str__(self):\n",
        "    return f\"Nombre: {self.nombre} \\nApellido: {self.apellido} \\nComision: {self.comision}\"\n",
        "\n",
        "  def descargarCertificado(self):\n",
        "    if self.cancelo_matricula == True:\n",
        "      return f\"Felicitaciones {self.nombre} {self.apellido} obtubo una nota final {self.nota_final}\""
      ],
      "metadata": {
        "id": "3JUZEez9Bhj3"
      },
      "execution_count": 33,
      "outputs": []
    },
    {
      "cell_type": "code",
      "source": [
        "\n",
        "alumno1 = AlumnoAlkemy(\"facu\", \"escalante\", 9, \"python\", True)\n",
        "print(alumno1)"
      ],
      "metadata": {
        "colab": {
          "base_uri": "https://localhost:8080/"
        },
        "id": "J-75bKaIAUFV",
        "outputId": "41426970-d3f8-455e-cc65-5ec302484667"
      },
      "execution_count": 34,
      "outputs": [
        {
          "output_type": "stream",
          "name": "stdout",
          "text": [
            "Nombre: facu \n",
            "Apellido: escalante \n",
            "Comision: python\n"
          ]
        }
      ]
    },
    {
      "cell_type": "markdown",
      "source": [
        "**Ejercicio 1.4**\n"
      ],
      "metadata": {
        "id": "A8kX3MEbHsZU"
      }
    },
    {
      "cell_type": "code",
      "source": [
        "class EmpleadoAlkemy:\n",
        "  def __init__(self, nombre, cuit, cargo, facturo_ultimo_mes = False):\n",
        "    self.nombre = nombre\n",
        "    self.cuit = cuit\n",
        "    self.cargo = cargo\n",
        "    self.facturo_ultimo_mes = facturo_ultimo_mes\n",
        "\n",
        "  def __str__(self):\n",
        "    return f\"El empleado {self.nombre} cumple el rol de {self.cargo}\"\n",
        "\n",
        "  def depositarSueldo(self):\n",
        "    if self.facturo_ultimo_mes:\n",
        "      return f\"A {self.nombre} se le depositara el sueldo de {self.cargo} en la cuenta vinculada al cuit {self.cuit}\"\n",
        "    else:\n",
        "      return f\"Usted no facturo este mes\""
      ],
      "metadata": {
        "id": "3z-q920YHyOs"
      },
      "execution_count": 36,
      "outputs": []
    },
    {
      "cell_type": "code",
      "source": [
        "empleado1 = EmpleadoAlkemy(\"ricky\", 255554, \"ingeniero\", True)\n",
        "print(empleado1)"
      ],
      "metadata": {
        "colab": {
          "base_uri": "https://localhost:8080/"
        },
        "id": "M7EkY8ISJvv5",
        "outputId": "213a979c-8ed6-4e98-cade-fae87f864107"
      },
      "execution_count": 37,
      "outputs": [
        {
          "output_type": "stream",
          "name": "stdout",
          "text": [
            "El empleado ricky cumple el rol de ingeniero\n"
          ]
        }
      ]
    },
    {
      "cell_type": "code",
      "source": [
        "empleado1.depositarSueldo()"
      ],
      "metadata": {
        "colab": {
          "base_uri": "https://localhost:8080/",
          "height": 35
        },
        "id": "Y_uVyyd6LAuu",
        "outputId": "bd232504-a0c3-47e3-eb08-d2f931027f2a"
      },
      "execution_count": 39,
      "outputs": [
        {
          "output_type": "execute_result",
          "data": {
            "text/plain": [
              "'A ricky se le depositara el sueldo de ingeniero en la cuenta vinculada al cuit 255554'"
            ],
            "application/vnd.google.colaboratory.intrinsic+json": {
              "type": "string"
            }
          },
          "metadata": {},
          "execution_count": 39
        }
      ]
    }
  ]
}