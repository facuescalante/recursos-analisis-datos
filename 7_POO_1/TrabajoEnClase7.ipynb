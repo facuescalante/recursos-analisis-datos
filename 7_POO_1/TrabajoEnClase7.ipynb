{
  "nbformat": 4,
  "nbformat_minor": 0,
  "metadata": {
    "colab": {
      "provenance": [],
      "authorship_tag": "ABX9TyMMtbD2UrCAMnMthoUPDlLG",
      "include_colab_link": true
    },
    "kernelspec": {
      "name": "python3",
      "display_name": "Python 3"
    },
    "language_info": {
      "name": "python"
    }
  },
  "cells": [
    {
      "cell_type": "markdown",
      "metadata": {
        "id": "view-in-github",
        "colab_type": "text"
      },
      "source": [
        "<a href=\"https://colab.research.google.com/github/facuescalante/recursos-analisis-datos/blob/main/7_POO_1/TrabajoEnClase7.ipynb\" target=\"_parent\"><img src=\"https://colab.research.google.com/assets/colab-badge.svg\" alt=\"Open In Colab\"/></a>"
      ]
    },
    {
      "cell_type": "markdown",
      "source": [
        "# POO"
      ],
      "metadata": {
        "id": "f9v1yW1F11N_"
      }
    },
    {
      "cell_type": "markdown",
      "source": [
        "# Clases\n",
        "son la estructura fundamental de la poo.\n",
        "Nos permiten trabajar con plantillas. Puedo crear objetos con variables o info y utilizarlos.\n",
        "Las clases tienen **atributos**(informacion o variables internas) y **metodos**(funciones que realizan alguna tarea).\n",
        "La sintaxis minima para crear una clase es:\n",
        "\n",
        "**class** NombreClase:"
      ],
      "metadata": {
        "id": "VxjtbiU91Twp"
      }
    },
    {
      "cell_type": "markdown",
      "source": [
        "Ejercicio 1.0"
      ],
      "metadata": {
        "id": "1GMoFuSP20Yc"
      }
    },
    {
      "cell_type": "code",
      "execution_count": 1,
      "metadata": {
        "id": "fZDYWSYg1Kzp"
      },
      "outputs": [],
      "source": [
        "class Letra: #defino nombre de la clase\n",
        "  caracter = \"o\" #creo primer atributo\n"
      ]
    },
    {
      "cell_type": "code",
      "source": [
        "Letra.caracter #visualizamos el valor del atributo"
      ],
      "metadata": {
        "colab": {
          "base_uri": "https://localhost:8080/",
          "height": 35
        },
        "id": "LKexy-ON1lgl",
        "outputId": "52faf304-0c37-43b1-a0e5-7c8d87afa840"
      },
      "execution_count": 2,
      "outputs": [
        {
          "output_type": "execute_result",
          "data": {
            "text/plain": [
              "'o'"
            ],
            "application/vnd.google.colaboratory.intrinsic+json": {
              "type": "string"
            }
          },
          "metadata": {},
          "execution_count": 2
        }
      ]
    },
    {
      "cell_type": "code",
      "source": [
        "Letra.caracter = \"q\" #modifico el valor del atributo de la clase\n",
        "Letra.caracter"
      ],
      "metadata": {
        "colab": {
          "base_uri": "https://localhost:8080/",
          "height": 35
        },
        "id": "oB6GWONW3jlc",
        "outputId": "c457ff94-b451-4db3-fe32-baa05ac51d9b"
      },
      "execution_count": 3,
      "outputs": [
        {
          "output_type": "execute_result",
          "data": {
            "text/plain": [
              "'q'"
            ],
            "application/vnd.google.colaboratory.intrinsic+json": {
              "type": "string"
            }
          },
          "metadata": {},
          "execution_count": 3
        }
      ]
    },
    {
      "cell_type": "markdown",
      "source": [
        "##Ejercicio 1.1"
      ],
      "metadata": {
        "id": "9Oh8ZRot5cki"
      }
    },
    {
      "cell_type": "markdown",
      "source": [
        "\n",
        "Como transformar nuestra clase tan basica en un clase que nos permita crear objetos a partir de la clase que definamos.\n",
        "Hay una **funcion especial** que se utiliza deentro de las clases que permite cargar la informacion de nuestros atributos para crear nuestros objetos.\n",
        "El nombre que tiene es init . La sintaxis es : def__init__ (atributos).\n",
        "La clase \"molde\" llamada Persona va atener los atributos nombre, apellido y edad.\n",
        "\n",
        "Ademas self es una convención que se utiliza dentro de los métodos de una clase para hacer referencia a la instancia actual de la clase. Es un parámetro implícito que debe ser el primer parámetro de cualquier método de instancia (métodos dentro de una clase)."
      ],
      "metadata": {
        "id": "WTfNZ4AM4Wpf"
      }
    },
    {
      "cell_type": "code",
      "source": [
        "class Persona: #defino nombre de clase\n",
        "  def __init__( self,nombre, apellido, edad): #creo el metodo init\n",
        "   self.nombre = nombre #inicializar mis atributos\n",
        "   self.apellido = apellido\n",
        "   self.edad = edad"
      ],
      "metadata": {
        "id": "8ATnHMD05gdW"
      },
      "execution_count": 4,
      "outputs": []
    },
    {
      "cell_type": "code",
      "source": [
        "persona1 = Persona(\"Messi\",\"Leonel\",36)\n"
      ],
      "metadata": {
        "id": "Rl5rU1c_6m3l"
      },
      "execution_count": 5,
      "outputs": []
    },
    {
      "cell_type": "code",
      "source": [
        "persona1.nombre, persona1.apellido, persona1.edad"
      ],
      "metadata": {
        "colab": {
          "base_uri": "https://localhost:8080/"
        },
        "id": "HmBW3a5D645L",
        "outputId": "919834cf-a649-41d2-fd42-7cabbd2535f9"
      },
      "execution_count": 6,
      "outputs": [
        {
          "output_type": "execute_result",
          "data": {
            "text/plain": [
              "('Messi', 'Leonel', 36)"
            ]
          },
          "metadata": {},
          "execution_count": 6
        }
      ]
    },
    {
      "cell_type": "markdown",
      "source": [
        "**Ejercico 1.2**\n",
        "\n",
        "Tambien hay otra función especial, str() nos sirve para especificar como queremos que se vea nuestra clase al imprimirla.\n",
        "\n",
        "Nota: Veamos como self permite usar los atributos de nuestra clase en cualquier parte de las funciones que esta tiene."
      ],
      "metadata": {
        "id": "3fNM2sDr-FBV"
      }
    },
    {
      "cell_type": "code",
      "source": [
        "class Empleado:\n",
        "  def __init__(self, nombre, edad ,dni, estado_activo):\n",
        "   self.nombre = nombre\n",
        "   self.edad = edad\n",
        "   self.dni = dni\n",
        "   self.estado_activo = estado_activo\n",
        "\n",
        "  def __str__(self):\n",
        "    return f\"el empleado {self.nombre} con dni {self.dni} esta en estado {self.estado_activo}\""
      ],
      "metadata": {
        "id": "UNN6YOtb-JPC"
      },
      "execution_count": 7,
      "outputs": []
    },
    {
      "cell_type": "markdown",
      "source": [
        "### Ejercicio 1.3\n",
        "creamos una nueva clase Alkemy\n",
        "esta clase va tener los atributos:\n",
        "-nombre\n",
        "-apellido\n",
        "-nota_final\n",
        "-comision\n",
        "-cancelo_matricula.\n",
        "Queremos que nuestra clase tenga un metodo(funcion interna) que permita descargar el certificado de finalizacion del curso con su nombre completa, nota que obtuvieron y en que area estudiaron. Pero solo van a poder descargarlo una vez que su matricula este cancelada.\n",
        "Tip: Utilizar anotacion de la siguiente forma:\n",
        "* variables y atributos = snake_case\n",
        "* funciones o metodos = camelCase\n",
        "* clases = PascalCase"
      ],
      "metadata": {
        "id": "7jJShIqJAHwx"
      }
    },
    {
      "cell_type": "code",
      "source": [
        "class AlumnoAlkemy:\n",
        "  def __init__(self, nombre, apellido, nota_final, comision, cancelo_matricula):\n",
        "    self.nombre = nombre\n",
        "    self.apellido = apellido\n",
        "    self.nota_final = nota_final\n",
        "    self.comision = comision\n",
        "    self.cancelo_matricula = cancelo_matricula\n",
        "\n",
        "  def __str__(self):\n",
        "    return f\"Nombre: {self.nombre} \\nApellido: {self.apellido} \\nComision: {self.comision}\"\n",
        "\n",
        "  def descargarCertificado(self):\n",
        "    if self.cancelo_matricula == True:\n",
        "      return f\"Felicitaciones {self.nombre} {self.apellido} obtubo una nota final {self.nota_final}\""
      ],
      "metadata": {
        "id": "3JUZEez9Bhj3"
      },
      "execution_count": 8,
      "outputs": []
    },
    {
      "cell_type": "code",
      "source": [
        "\n",
        "alumno1 = AlumnoAlkemy(\"facu\", \"escalante\", 9, \"python\", True)\n",
        "print(alumno1)"
      ],
      "metadata": {
        "colab": {
          "base_uri": "https://localhost:8080/"
        },
        "id": "J-75bKaIAUFV",
        "outputId": "74dc9432-1063-4034-b419-bb0c49a38af7"
      },
      "execution_count": 9,
      "outputs": [
        {
          "output_type": "stream",
          "name": "stdout",
          "text": [
            "Nombre: facu \n",
            "Apellido: escalante \n",
            "Comision: python\n"
          ]
        }
      ]
    },
    {
      "cell_type": "markdown",
      "source": [
        "**Ejercicio 1.4**\n",
        "\n",
        "Ya vimos las funciones \"magicas\" que traen las clases de Python.\n",
        "\n",
        "Pero realmente nosotros podemos definir nuestras propias funciones dentro de una clase, a estas se las conoce como métodos."
      ],
      "metadata": {
        "id": "A8kX3MEbHsZU"
      }
    },
    {
      "cell_type": "code",
      "source": [
        "class EmpleadoAlkemy:\n",
        "  def __init__(self, nombre, cuit, cargo, facturo_ultimo_mes = False):\n",
        "    self.nombre = nombre\n",
        "    self.cuit = cuit\n",
        "    self.cargo = cargo\n",
        "    self.facturo_ultimo_mes = facturo_ultimo_mes\n",
        "\n",
        "  def __str__(self):\n",
        "    return f\"El empleado {self.nombre} cumple el rol de {self.cargo}\"\n",
        "\n",
        "  def depositarSueldo(self):\n",
        "    if self.facturo_ultimo_mes:\n",
        "      return f\"A {self.nombre} se le depositara el sueldo de {self.cargo} en la cuenta vinculada al cuit {self.cuit}\"\n",
        "    else:\n",
        "      return f\"Usted no facturo este mes\""
      ],
      "metadata": {
        "id": "3z-q920YHyOs"
      },
      "execution_count": 10,
      "outputs": []
    },
    {
      "cell_type": "code",
      "source": [
        "empleado1 = EmpleadoAlkemy(\"ricky\", 255554, \"ingeniero\", True)\n",
        "print(empleado1)"
      ],
      "metadata": {
        "colab": {
          "base_uri": "https://localhost:8080/"
        },
        "id": "M7EkY8ISJvv5",
        "outputId": "6601a49d-c1dd-4245-fb2b-a2c5109a4deb"
      },
      "execution_count": 11,
      "outputs": [
        {
          "output_type": "stream",
          "name": "stdout",
          "text": [
            "El empleado ricky cumple el rol de ingeniero\n"
          ]
        }
      ]
    },
    {
      "cell_type": "code",
      "source": [
        "empleado1.depositarSueldo()"
      ],
      "metadata": {
        "colab": {
          "base_uri": "https://localhost:8080/",
          "height": 35
        },
        "id": "Y_uVyyd6LAuu",
        "outputId": "55791e86-4946-47f0-d998-ddc4341af423"
      },
      "execution_count": 12,
      "outputs": [
        {
          "output_type": "execute_result",
          "data": {
            "text/plain": [
              "'A ricky se le depositara el sueldo de ingeniero en la cuenta vinculada al cuit 255554'"
            ],
            "application/vnd.google.colaboratory.intrinsic+json": {
              "type": "string"
            }
          },
          "metadata": {},
          "execution_count": 12
        }
      ]
    },
    {
      "cell_type": "markdown",
      "source": [
        "**Ejercicio 1.5**\n",
        "\n",
        "Práctiquemos con otro ejercicio mas:\n",
        "\n",
        "Vaos a crear una clase llamada Vehiculo que represente un vehículo con atributos como marca, modelo, color y velocidad. Implementar métodos para acelerar, girar, frenar y estacionar el vehículo.\n",
        "\n",
        "Recordemos que hay que seguir estos pasos:\n",
        "\n",
        "* Define la clase Vehiculo con un constructor init.\n",
        "* Definamos como queremos que se muestre nuestro print\n",
        "* Implementa métodos acelerar, girar, frenar y estacionar.\n",
        "* En caso de frenar hay que tener en cuenta si el vehiculo se mueve o no.\n",
        "\n",
        "\n",
        "Crea dos instancias de Vehiculo con diferentes características. Utiliza los métodos de cada instancia para simular acciones de manejo."
      ],
      "metadata": {
        "id": "ALgs9933LJRN"
      }
    },
    {
      "cell_type": "code",
      "source": [
        "class Auto:\n",
        "  def __init__(self, marca, modelo, color='azul', velocidad=0):\n",
        "    self.marca = marca\n",
        "    self.modelo = modelo\n",
        "    self.color = color\n",
        "    self.velocidad = velocidad\n",
        "\n",
        "  def __str__(self):\n",
        "    return f\"Marca: {self.marca} \\nModelo: {self.modelo} \\nColor: {self.color} \"\n",
        "\n",
        "  def acelerar(self, incremento):\n",
        "    self.velocidad += incremento\n",
        "    print(f\"El automovil {self.marca} {self.modelo} acelera a {self.velocidad} km/h. \")\n",
        "\n",
        "  def girar(self, direccion):\n",
        "    print(f\"El automovil {self.marca} {self.modelo} gira hacia {direccion}.\")\n",
        "\n",
        "  def frenar(self, decremento):\n",
        "    if self.velocidad - decremento > 0:\n",
        "      self.velocidad -= decremento\n",
        "      print(f\"El automovil {self.marca} {self.modelo} frena a {self.velocidad} km/h.\")\n",
        "    else:\n",
        "      print(\"El automovil esta detenido\")\n",
        "\n",
        "  def estacionar(self):\n",
        "      print(f\"El automovil {self.marca} {self.modelo} esta estacionado\")"
      ],
      "metadata": {
        "id": "4BjbkxgYLSmq"
      },
      "execution_count": 20,
      "outputs": []
    },
    {
      "cell_type": "code",
      "source": [
        "auto1 = Auto(\"Audi\", \"A10\", \"negro\")\n",
        "print(auto1)\n",
        "auto1.acelerar(230)\n",
        "auto1.girar(\"derecha\")\n",
        "auto1.frenar(60)\n",
        "auto1.estacionar()"
      ],
      "metadata": {
        "id": "dxhOGzfCQUjQ",
        "outputId": "4ab4bdec-ace6-449f-c82a-85d667e1a661",
        "colab": {
          "base_uri": "https://localhost:8080/"
        }
      },
      "execution_count": 27,
      "outputs": [
        {
          "output_type": "stream",
          "name": "stdout",
          "text": [
            "Marca: Audi \n",
            "Modelo: A10 \n",
            "Color: negro \n",
            "El automovil Audi A10 acelera a 230 km/h. \n",
            "El automovil Audi A10 gira hacia derecha.\n",
            "El automovil Audi A10 frena a 170 km/h.\n",
            "El automovil Audi A10 esta estacionado\n"
          ]
        }
      ]
    },
    {
      "cell_type": "code",
      "source": [
        "auto2 = Auto(\"bugatti\",\"chiron\",\"noir\",470)\n",
        "print(auto2)\n",
        "auto2.acelerar(40)\n",
        "auto2.girar(\"derecha\")\n",
        "auto2.frenar(500)"
      ],
      "metadata": {
        "id": "0N5X0vDSSNpk",
        "outputId": "178750f2-acb9-4e26-920b-e568e5dbb244",
        "colab": {
          "base_uri": "https://localhost:8080/"
        }
      },
      "execution_count": 29,
      "outputs": [
        {
          "output_type": "stream",
          "name": "stdout",
          "text": [
            "Marca: bugatti \n",
            "Modelo: chiron \n",
            "Color: noir \n",
            "El automovil bugatti chiron acelera a 510 km/h. \n",
            "El automovil bugatti chiron gira hacia derecha.\n",
            "El automovil bugatti chiron frena a 10 km/h.\n"
          ]
        }
      ]
    }
  ]
}