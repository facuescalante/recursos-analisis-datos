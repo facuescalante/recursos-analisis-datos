{
  "nbformat": 4,
  "nbformat_minor": 0,
  "metadata": {
    "colab": {
      "provenance": [],
      "authorship_tag": "ABX9TyOW12C/1LyvoOx1EumDuO2l",
      "include_colab_link": true
    },
    "kernelspec": {
      "name": "python3",
      "display_name": "Python 3"
    },
    "language_info": {
      "name": "python"
    }
  },
  "cells": [
    {
      "cell_type": "markdown",
      "metadata": {
        "id": "view-in-github",
        "colab_type": "text"
      },
      "source": [
        "<a href=\"https://colab.research.google.com/github/facuescalante/recursos-analisis-datos/blob/main/7_POO_1/TrabajoEnClase7.ipynb\" target=\"_parent\"><img src=\"https://colab.research.google.com/assets/colab-badge.svg\" alt=\"Open In Colab\"/></a>"
      ]
    },
    {
      "cell_type": "markdown",
      "source": [
        "# **POO**"
      ],
      "metadata": {
        "id": "f9v1yW1F11N_"
      }
    },
    {
      "cell_type": "markdown",
      "source": [
        "# Clases\n",
        "son la estructura fundamental de la poo.\n",
        "Nos permiten trabajar con plantillas. Puedo crear objetos con variables o info y utilizarlos.\n",
        "Las clases tienen **atributos**(informacion o variables internas) y **metodos**(funciones que realizan alguna tarea).\n",
        "La sintaxis minima para crear una clase es:\n",
        "\n",
        "**class** NombreClase:"
      ],
      "metadata": {
        "id": "VxjtbiU91Twp"
      }
    },
    {
      "cell_type": "markdown",
      "source": [
        "## **Ejercicio 1.0**"
      ],
      "metadata": {
        "id": "1GMoFuSP20Yc"
      }
    },
    {
      "cell_type": "code",
      "execution_count": 32,
      "metadata": {
        "id": "fZDYWSYg1Kzp"
      },
      "outputs": [],
      "source": [
        "class Letra: #defino nombre de la clase\n",
        "  caracter = \"o\" #creo primer atributo\n"
      ]
    },
    {
      "cell_type": "code",
      "source": [
        "Letra.caracter #visualizamos el valor del atributo"
      ],
      "metadata": {
        "colab": {
          "base_uri": "https://localhost:8080/",
          "height": 35
        },
        "id": "LKexy-ON1lgl",
        "outputId": "16dd5831-a0da-4dbb-f4f0-8b688c905aab"
      },
      "execution_count": 33,
      "outputs": [
        {
          "output_type": "execute_result",
          "data": {
            "text/plain": [
              "'o'"
            ],
            "application/vnd.google.colaboratory.intrinsic+json": {
              "type": "string"
            }
          },
          "metadata": {},
          "execution_count": 33
        }
      ]
    },
    {
      "cell_type": "code",
      "source": [
        "Letra.caracter = \"q\" #modifico el valor del atributo de la clase\n",
        "Letra.caracter"
      ],
      "metadata": {
        "colab": {
          "base_uri": "https://localhost:8080/",
          "height": 35
        },
        "id": "oB6GWONW3jlc",
        "outputId": "eb270a38-4a15-4639-d442-b6267b05c625"
      },
      "execution_count": 34,
      "outputs": [
        {
          "output_type": "execute_result",
          "data": {
            "text/plain": [
              "'q'"
            ],
            "application/vnd.google.colaboratory.intrinsic+json": {
              "type": "string"
            }
          },
          "metadata": {},
          "execution_count": 34
        }
      ]
    },
    {
      "cell_type": "markdown",
      "source": [
        "##**Ejercicio 1.1**"
      ],
      "metadata": {
        "id": "9Oh8ZRot5cki"
      }
    },
    {
      "cell_type": "markdown",
      "source": [
        "\n",
        "Como transformar nuestra clase tan basica en un clase que nos permita crear objetos a partir de la clase que definamos.\n",
        "Hay una **funcion especial** que se utiliza dentro de las clases que permite cargar la informacion de nuestros atributos para crear nuestros objetos.\n",
        "El nombre que tiene es init . **La sintaxis es** : def__init__ (atributos).\n",
        "La clase \"molde\" llamada Persona va atener los atributos nombre, apellido y edad.\n",
        "\n",
        "Ademas **self** es una convención que se utiliza dentro de los métodos de una clase para hacer referencia a la instancia actual de la clase. Es un parámetro implícito que debe ser el primer parámetro de cualquier método de instancia (métodos dentro de una clase)."
      ],
      "metadata": {
        "id": "WTfNZ4AM4Wpf"
      }
    },
    {
      "cell_type": "code",
      "source": [
        "class Persona: #defino nombre de clase\n",
        "  def __init__( self,nombre, apellido, edad): #creo el metodo init\n",
        "   self.nombre = nombre #inicializar mis atributos\n",
        "   self.apellido = apellido\n",
        "   self.edad = edad"
      ],
      "metadata": {
        "id": "8ATnHMD05gdW"
      },
      "execution_count": 35,
      "outputs": []
    },
    {
      "cell_type": "code",
      "source": [
        "persona1 = Persona(\"Messi\",\"Leonel\",36)\n"
      ],
      "metadata": {
        "id": "Rl5rU1c_6m3l"
      },
      "execution_count": 36,
      "outputs": []
    },
    {
      "cell_type": "code",
      "source": [
        "persona1.nombre, persona1.apellido, persona1.edad"
      ],
      "metadata": {
        "colab": {
          "base_uri": "https://localhost:8080/"
        },
        "id": "HmBW3a5D645L",
        "outputId": "e29aaafa-0d78-42c2-de3b-ed21f2c52cf2"
      },
      "execution_count": 37,
      "outputs": [
        {
          "output_type": "execute_result",
          "data": {
            "text/plain": [
              "('Messi', 'Leonel', 36)"
            ]
          },
          "metadata": {},
          "execution_count": 37
        }
      ]
    },
    {
      "cell_type": "markdown",
      "source": [
        "##**Ejercico 1.2**\n",
        "\n",
        "Tambien hay otra función especial, **str**() nos sirve para especificar como queremos que se vea nuestra clase al imprimirla.\n",
        "\n",
        "Nota: Veamos como self permite usar los atributos de nuestra clase en cualquier parte de las funciones que esta tiene."
      ],
      "metadata": {
        "id": "3fNM2sDr-FBV"
      }
    },
    {
      "cell_type": "code",
      "source": [
        "class Empleado:\n",
        "  def __init__(self, nombre, edad ,dni, estado_activo):\n",
        "   self.nombre = nombre\n",
        "   self.edad = edad\n",
        "   self.dni = dni\n",
        "   self.estado_activo = estado_activo\n",
        "\n",
        "  def __str__(self):\n",
        "    return f\"el empleado {self.nombre} con dni {self.dni} esta en estado {self.estado_activo}\""
      ],
      "metadata": {
        "id": "UNN6YOtb-JPC"
      },
      "execution_count": 38,
      "outputs": []
    },
    {
      "cell_type": "markdown",
      "source": [
        "## **Ejercicio 1.3**\n",
        "creamos una nueva clase Alkemy\n",
        "esta clase va tener los atributos:\n",
        "-nombre\n",
        "-apellido\n",
        "-nota_final\n",
        "-comision\n",
        "-cancelo_matricula.\n",
        "Queremos que nuestra clase tenga un metodo(funcion interna) que permita descargar el certificado de finalizacion del curso con su nombre completa, nota que obtuvieron y en que area estudiaron. Pero solo van a poder descargarlo una vez que su matricula este cancelada.\n",
        "Tip: Utilizar anotacion de la siguiente forma:\n",
        "* variables y atributos = snake_case\n",
        "* funciones o metodos = camelCase\n",
        "* clases = PascalCase"
      ],
      "metadata": {
        "id": "7jJShIqJAHwx"
      }
    },
    {
      "cell_type": "code",
      "source": [
        "class AlumnoAlkemy:\n",
        "  def __init__(self, nombre, apellido, nota_final, comision, cancelo_matricula):\n",
        "    self.nombre = nombre\n",
        "    self.apellido = apellido\n",
        "    self.nota_final = nota_final\n",
        "    self.comision = comision\n",
        "    self.cancelo_matricula = cancelo_matricula\n",
        "\n",
        "  def __str__(self):\n",
        "    return f\"Nombre: {self.nombre} \\nApellido: {self.apellido} \\nComision: {self.comision}\"\n",
        "\n",
        "  def descargarCertificado(self):\n",
        "    if self.cancelo_matricula == True:\n",
        "      return f\"Felicitaciones {self.nombre} {self.apellido} obtubo una nota final {self.nota_final}\""
      ],
      "metadata": {
        "id": "3JUZEez9Bhj3"
      },
      "execution_count": 39,
      "outputs": []
    },
    {
      "cell_type": "code",
      "source": [
        "\n",
        "alumno1 = AlumnoAlkemy(\"facu\", \"escalante\", 9, \"python\", True)\n",
        "print(alumno1)"
      ],
      "metadata": {
        "colab": {
          "base_uri": "https://localhost:8080/"
        },
        "id": "J-75bKaIAUFV",
        "outputId": "0478712f-ec60-4de5-cdba-8fdf43a30a08"
      },
      "execution_count": 40,
      "outputs": [
        {
          "output_type": "stream",
          "name": "stdout",
          "text": [
            "Nombre: facu \n",
            "Apellido: escalante \n",
            "Comision: python\n"
          ]
        }
      ]
    },
    {
      "cell_type": "markdown",
      "source": [
        "##**Ejercicio 1.4**\n",
        "\n",
        "Ya vimos las funciones \"magicas\" que traen las clases de Python.\n",
        "\n",
        "Pero realmente nosotros podemos definir nuestras propias funciones dentro de una clase, a estas se las conoce como métodos."
      ],
      "metadata": {
        "id": "A8kX3MEbHsZU"
      }
    },
    {
      "cell_type": "code",
      "source": [
        "class EmpleadoAlkemy:\n",
        "  def __init__(self, nombre, cuit, cargo, facturo_ultimo_mes = False):\n",
        "    self.nombre = nombre\n",
        "    self.cuit = cuit\n",
        "    self.cargo = cargo\n",
        "    self.facturo_ultimo_mes = facturo_ultimo_mes\n",
        "\n",
        "  def __str__(self):\n",
        "    return f\"El empleado {self.nombre} cumple el rol de {self.cargo}\"\n",
        "\n",
        "  def depositarSueldo(self):\n",
        "    if self.facturo_ultimo_mes:\n",
        "      return f\"A {self.nombre} se le depositara el sueldo de {self.cargo} en la cuenta vinculada al cuit {self.cuit}\"\n",
        "    else:\n",
        "      return f\"Usted no facturo este mes\""
      ],
      "metadata": {
        "id": "3z-q920YHyOs"
      },
      "execution_count": 41,
      "outputs": []
    },
    {
      "cell_type": "code",
      "source": [
        "empleado1 = EmpleadoAlkemy(\"ricky\", 255554, \"ingeniero\", True)\n",
        "print(empleado1)"
      ],
      "metadata": {
        "colab": {
          "base_uri": "https://localhost:8080/"
        },
        "id": "M7EkY8ISJvv5",
        "outputId": "2eef39eb-75fa-4c27-a483-76ab5c8ae096"
      },
      "execution_count": 42,
      "outputs": [
        {
          "output_type": "stream",
          "name": "stdout",
          "text": [
            "El empleado ricky cumple el rol de ingeniero\n"
          ]
        }
      ]
    },
    {
      "cell_type": "code",
      "source": [
        "empleado1.depositarSueldo()"
      ],
      "metadata": {
        "colab": {
          "base_uri": "https://localhost:8080/",
          "height": 35
        },
        "id": "Y_uVyyd6LAuu",
        "outputId": "fb4791ab-bfa7-4a74-8d49-a9b54884ec7d"
      },
      "execution_count": 43,
      "outputs": [
        {
          "output_type": "execute_result",
          "data": {
            "text/plain": [
              "'A ricky se le depositara el sueldo de ingeniero en la cuenta vinculada al cuit 255554'"
            ],
            "application/vnd.google.colaboratory.intrinsic+json": {
              "type": "string"
            }
          },
          "metadata": {},
          "execution_count": 43
        }
      ]
    },
    {
      "cell_type": "markdown",
      "source": [
        "##**Ejercicio 1.5**\n",
        "\n",
        "Práctiquemos con otro ejercicio mas:\n",
        "\n",
        "Vaos a crear una clase llamada Vehiculo que represente un vehículo con atributos como marca, modelo, color y velocidad. Implementar métodos para acelerar, girar, frenar y estacionar el vehículo.\n",
        "\n",
        "Recordemos que hay que seguir estos pasos:\n",
        "\n",
        "* Define la clase Vehiculo con un constructor init.\n",
        "* Definamos como queremos que se muestre nuestro print\n",
        "* Implementa métodos acelerar, girar, frenar y estacionar.\n",
        "* En caso de frenar hay que tener en cuenta si el vehiculo se mueve o no.\n",
        "\n",
        "\n",
        "Crea dos instancias de Vehiculo con diferentes características. Utiliza los métodos de cada instancia para simular acciones de manejo."
      ],
      "metadata": {
        "id": "ALgs9933LJRN"
      }
    },
    {
      "cell_type": "code",
      "source": [
        "class Auto():\n",
        "  def __init__(self, marca, modelo, color='azul', velocidad=0):\n",
        "    self.marca = marca\n",
        "    self.modelo = modelo\n",
        "    self.color = color\n",
        "    self.velocidad = velocidad\n",
        "\n",
        "  def __str__(self):\n",
        "    return f\"Marca: {self.marca} \\nModelo: {self.modelo} \\nColor: {self.color} \"\n",
        "\n",
        "  def acelerar(self, incremento):\n",
        "    self.velocidad += incremento\n",
        "    print(f\"El automovil {self.marca} {self.modelo} acelera a {self.velocidad} km/h. \")\n",
        "\n",
        "  def girar(self, direccion):\n",
        "    print(f\"El automovil {self.marca} {self.modelo} gira hacia {direccion}.\")\n",
        "\n",
        "  def frenar(self, decremento):\n",
        "    if self.velocidad - decremento > 0:\n",
        "      self.velocidad -= decremento\n",
        "      print(f\"El automovil {self.marca} {self.modelo} frena a {self.velocidad} km/h.\")\n",
        "    else:\n",
        "      print(\"El automovil esta detenido\")\n",
        "\n",
        "  def estacionar(self):\n",
        "      print(f\"El automovil {self.marca} {self.modelo} esta estacionado\")"
      ],
      "metadata": {
        "id": "4BjbkxgYLSmq"
      },
      "execution_count": 44,
      "outputs": []
    },
    {
      "cell_type": "code",
      "source": [
        "auto1 = Auto(\"Audi\", \"A10\", \"negro\")\n",
        "print(auto1)\n",
        "auto1.acelerar(230)\n",
        "auto1.girar(\"derecha\")\n",
        "auto1.frenar(60)\n",
        "auto1.estacionar()"
      ],
      "metadata": {
        "id": "dxhOGzfCQUjQ",
        "outputId": "4d020078-242e-4088-aa59-8332064c52d7",
        "colab": {
          "base_uri": "https://localhost:8080/"
        }
      },
      "execution_count": 45,
      "outputs": [
        {
          "output_type": "stream",
          "name": "stdout",
          "text": [
            "Marca: Audi \n",
            "Modelo: A10 \n",
            "Color: negro \n",
            "El automovil Audi A10 acelera a 230 km/h. \n",
            "El automovil Audi A10 gira hacia derecha.\n",
            "El automovil Audi A10 frena a 170 km/h.\n",
            "El automovil Audi A10 esta estacionado\n"
          ]
        }
      ]
    },
    {
      "cell_type": "code",
      "source": [
        "auto2 = Auto(\"bugatti\",\"chiron\",\"noir\",470)\n",
        "print(auto2)\n",
        "auto2.acelerar(40)\n",
        "auto2.girar(\"derecha\")\n",
        "auto2.frenar(500)"
      ],
      "metadata": {
        "id": "0N5X0vDSSNpk",
        "outputId": "d31f6e6b-a1e4-47f4-ba34-3285de6ea670",
        "colab": {
          "base_uri": "https://localhost:8080/"
        }
      },
      "execution_count": 46,
      "outputs": [
        {
          "output_type": "stream",
          "name": "stdout",
          "text": [
            "Marca: bugatti \n",
            "Modelo: chiron \n",
            "Color: noir \n",
            "El automovil bugatti chiron acelera a 510 km/h. \n",
            "El automovil bugatti chiron gira hacia derecha.\n",
            "El automovil bugatti chiron frena a 10 km/h.\n"
          ]
        }
      ]
    },
    {
      "cell_type": "markdown",
      "source": [
        "## **Ejercicio 1.6**\n",
        "\n",
        "En el caso de que queramos que los atributos de nuestra clase no puedan ser ni accedidos ni modificados una vez nuestro objeto sea creado debemos aplicar los principios del encampsulamiento. Los cuales simplemente requieren usar __ adelante de los valores de nuestros atributos en la funcion init()\n",
        "\n",
        "Creemos una clase Empleado el cual siga los principios de encapsulamieto para sus atributos nombre, apellido, puesto y activo. Recordemos que podemos crear metodos en caso de querer mostrar los atributos uno a uno o directamente con str."
      ],
      "metadata": {
        "id": "HwdROwV5faL7"
      }
    },
    {
      "cell_type": "code",
      "source": [
        "class Auxiliar():\n",
        "  def __init__(self, nombre, apellido, puesto, activo=True):\n",
        "    self.__nombre = nombre\n",
        "    self.__apellido = apellido\n",
        "    self.__puesto = puesto\n",
        "    self.activo = activo\n",
        "\n",
        "  def __str__(self):\n",
        "    return f\"Nombre: {self.__nombre} \\nApellido: {self.__apellido}  \\nPuesto: {self.__puesto} \\nActivo:\"\n",
        "\n",
        "  def showNombre(self):\n",
        "    print(self.__nombre)\n",
        "\n",
        "  def showApellido(self):\n",
        "    print(self.__apellido)\n",
        "\n",
        "  def showPuesto(self):\n",
        "    print(self.__puesto)\n"
      ],
      "metadata": {
        "id": "Y6vC9Cweflb8"
      },
      "execution_count": 47,
      "outputs": []
    },
    {
      "cell_type": "code",
      "source": [
        "empleado1 = Auxiliar(\"Juan\", \"Simone\",\"farmaceutico\")\n",
        "print(empleado1)"
      ],
      "metadata": {
        "id": "jzJDhD4BkFFX",
        "outputId": "1c41c28a-3683-4f40-9ff9-63b7b20ae4d3",
        "colab": {
          "base_uri": "https://localhost:8080/"
        }
      },
      "execution_count": 48,
      "outputs": [
        {
          "output_type": "stream",
          "name": "stdout",
          "text": [
            "Nombre: Juan \n",
            "Apellido: Simone  \n",
            "Puesto: farmaceutico \n",
            "Activo:\n"
          ]
        }
      ]
    },
    {
      "cell_type": "markdown",
      "source": [
        "Si quisieramos acceder directamente o ver los atributos nombre, apellido o profesion no podriamos. Solo podemos con activo."
      ],
      "metadata": {
        "id": "TISgc6dFkm_u"
      }
    },
    {
      "cell_type": "code",
      "source": [
        "empleado1.nombre"
      ],
      "metadata": {
        "id": "ON21arajkn31",
        "outputId": "e4366363-b993-48e0-9e94-c4e136644dba",
        "colab": {
          "base_uri": "https://localhost:8080/",
          "height": 141
        }
      },
      "execution_count": 49,
      "outputs": [
        {
          "output_type": "error",
          "ename": "AttributeError",
          "evalue": "'Auxiliar' object has no attribute 'nombre'",
          "traceback": [
            "\u001b[0;31m---------------------------------------------------------------------------\u001b[0m",
            "\u001b[0;31mAttributeError\u001b[0m                            Traceback (most recent call last)",
            "\u001b[0;32m<ipython-input-49-06908f200b8c>\u001b[0m in \u001b[0;36m<cell line: 1>\u001b[0;34m()\u001b[0m\n\u001b[0;32m----> 1\u001b[0;31m \u001b[0mempleado1\u001b[0m\u001b[0;34m.\u001b[0m\u001b[0mnombre\u001b[0m\u001b[0;34m\u001b[0m\u001b[0;34m\u001b[0m\u001b[0m\n\u001b[0m",
            "\u001b[0;31mAttributeError\u001b[0m: 'Auxiliar' object has no attribute 'nombre'"
          ]
        }
      ]
    },
    {
      "cell_type": "code",
      "source": [
        "empleado1.activo"
      ],
      "metadata": {
        "id": "UR5-3KOPk1d1"
      },
      "execution_count": null,
      "outputs": []
    },
    {
      "cell_type": "markdown",
      "source": [
        "Tenemos que usar nuestras funciones creadas"
      ],
      "metadata": {
        "id": "ji2YmbBPlFBi"
      }
    },
    {
      "cell_type": "code",
      "source": [
        "empleado1.showNombre()\n",
        "empleado1.showApellido()\n",
        "empleado1.showPuesto()"
      ],
      "metadata": {
        "id": "wE-VjbKalF8l"
      },
      "execution_count": null,
      "outputs": []
    },
    {
      "cell_type": "markdown",
      "source": [
        "## **Ejercicio 1.7**\n",
        "\n",
        "En Python se puede usar la herencia entre clases, la cual nos permite crear clases a partir de otras clases heredando sus metodos y atributos; pudiendo sobreescribirlos.\n",
        "\n",
        "Creemos una clase padre llamada Animal con atributos:\n",
        "\n",
        "* Clase\n",
        "* Especie\n",
        "* Tipo\n",
        "\n",
        "Una clase hija llamada Perro la cual tambien tenga los atributos:\n",
        "\n",
        "* Nombre\n",
        "\n",
        "Y un metodo:\n",
        "\n",
        "* Dar la pata"
      ],
      "metadata": {
        "id": "-fuZ-2fPlLHT"
      }
    },
    {
      "cell_type": "code",
      "source": [
        "class Animal:\n",
        "  def __init__(self, tipo, especie, estado):\n",
        "    self.tipo = tipo\n",
        "    self.especie = especie\n",
        "    self.estado =estado\n",
        "  def __str__(self):\n",
        "    return f\"Tipo: {self.tipo}, Especie: {self.especie}, Estado: {self.estado}.\"\n"
      ],
      "metadata": {
        "id": "21tCo9mflTfD"
      },
      "execution_count": null,
      "outputs": []
    },
    {
      "cell_type": "code",
      "source": [
        "caballo = Animal(\"Mamífero\",\"Équidos\",\"Salvaje\")\n",
        "print(caballo)"
      ],
      "metadata": {
        "id": "G3lHen-dDvCx"
      },
      "execution_count": null,
      "outputs": []
    },
    {
      "cell_type": "code",
      "source": [
        "class Pez(Animal):\n",
        "  def __init__(self, tipo, especie, estado, nombre):\n",
        "    super().__init__(tipo, especie, estado)\n",
        "    self.nombre = nombre\n",
        "\n",
        "  def __str__(self):\n",
        "    return f\"Nombre: {self.nombre}, Tipo: {self.tipo}, Especie: {self.especie}, Estado: {self.estado}. \"\n",
        "\n",
        "  def hace_pirueta(self):\n",
        "    return f\"{self.nombre} hace una pirueta!!!\""
      ],
      "metadata": {
        "id": "68cy-PlKE7_A"
      },
      "execution_count": null,
      "outputs": []
    },
    {
      "cell_type": "code",
      "source": [
        "willy = Pez(\"Mamífero\",\"Cetáceo\",\"Salvaje\",\"Willy\")\n",
        "print(willy)"
      ],
      "metadata": {
        "id": "snEe3d5BI7fo"
      },
      "execution_count": null,
      "outputs": []
    },
    {
      "cell_type": "code",
      "source": [
        "class Avestruz(Animal):\n",
        "  def __init__(self, tipo, especie, estado, huevo=False):\n",
        "    super().__init__(tipo, especie, estado)\n",
        "    self.huevo = huevo\n",
        "\n",
        "  def __str__(self):\n",
        "    return f\"Tipo: {self.tipo}, Especie: {self.especie}, Estado: {self.estado}, Puso un huevo? : {self.huevo}.\"\n",
        "\n",
        "  def tortilla(self):\n",
        "    if self.huevo:\n",
        "      print(\"Hoy comemos tortilla!!\")\n",
        "    else:\n",
        "      print(\"No puso huevo... comemos sopa!!!\")\n"
      ],
      "metadata": {
        "id": "G5kfw6kwKF2W"
      },
      "execution_count": null,
      "outputs": []
    },
    {
      "cell_type": "code",
      "source": [
        "ave = Avestruz(\"Ave\",\"Estrutioniforme\",\"Salvaje\", True)\n",
        "print(ave)\n",
        "ave.tortilla()"
      ],
      "metadata": {
        "id": "ha51c7-NMEEU"
      },
      "execution_count": null,
      "outputs": []
    },
    {
      "cell_type": "code",
      "source": [
        "ave.huevo = False\n",
        "ave.tortilla()"
      ],
      "metadata": {
        "id": "3-8QCO-bM2Rh"
      },
      "execution_count": null,
      "outputs": []
    },
    {
      "cell_type": "markdown",
      "source": [
        "## **Ejercicio 1.8**\n",
        "\n",
        "El polimorfismo en Python permite que objetos de diferentes clases respondan al mismo método o función de manera diferente.\n",
        "\n",
        "Podemos usar un método con el mismo nombre en diferentes clases y cada una lo implementará de manera específica según sus necesidades.\n",
        "\n",
        "Veamos un ejemplo usando figuras geometricas"
      ],
      "metadata": {
        "id": "RpzbrQa2NOqw"
      }
    },
    {
      "cell_type": "code",
      "source": [
        "class Rectangulo:\n",
        "  def __init__(self, base, altura):\n",
        "    self.base = base\n",
        "    self.altura = altura\n",
        "\n",
        "  def calculo_area(self):\n",
        "    return self.base * self.altura"
      ],
      "metadata": {
        "id": "tYRHSAviNf8M"
      },
      "execution_count": null,
      "outputs": []
    },
    {
      "cell_type": "code",
      "source": [
        "class Triangulo:\n",
        "  def __init__(self, base, altura):\n",
        "    self.base = base\n",
        "    self.altura = altura\n",
        "\n",
        "  def calculo_area(self):\n",
        "    return 0.5 * self.base * self.altura"
      ],
      "metadata": {
        "id": "1d-IS17vOmnt"
      },
      "execution_count": null,
      "outputs": []
    },
    {
      "cell_type": "code",
      "source": [
        "class Circulo:\n",
        "  def __init__(self, radio):\n",
        "    self.radio = radio\n",
        "\n",
        "  def calculo_area(self):\n",
        "    return 3.14 * self.radio ** 2"
      ],
      "metadata": {
        "id": "Ee3ob3AwPK49"
      },
      "execution_count": null,
      "outputs": []
    },
    {
      "cell_type": "code",
      "source": [
        "def imprimir_area(objeto):\n",
        "  print(f\"El area de la forma geométrica es: {objeto.calculo_area()} \")"
      ],
      "metadata": {
        "id": "PTtO-xINPhYR"
      },
      "execution_count": null,
      "outputs": []
    },
    {
      "cell_type": "code",
      "source": [
        "rectangulo = Rectangulo(4, 8)\n",
        "triangulo = Triangulo(5, 6)\n",
        "circulo = Circulo(5)\n",
        "\n",
        "imprimir_area(rectangulo)\n",
        "imprimir_area(triangulo)\n",
        "imprimir_area(circulo)"
      ],
      "metadata": {
        "id": "u9glLJ8LQOmt"
      },
      "execution_count": null,
      "outputs": []
    },
    {
      "cell_type": "markdown",
      "source": [
        "## **Ejercicio 1.9**\n",
        "\n",
        "Nota: getter y setter es una convencion utilizada para decir que son los atributos que permiten:\n",
        "\n",
        "* getter -> retornar el valor de un atributo\n",
        "* setter -> editar el valor de un atributo"
      ],
      "metadata": {
        "id": "hssBqb5dXczm"
      }
    },
    {
      "cell_type": "code",
      "source": [
        "class MaterialBiblioteca:\n",
        "  def __init__(self, titulo, autor, anio_publicacion):\n",
        "    self.__titulo = titulo\n",
        "    self.__autor = autor\n",
        "    self.__anio_publicacion = anio_publicacion\n",
        "\n",
        "  def get_titulo(self):\n",
        "    return self.__titulo\n",
        "\n",
        "  def set_titulo(self, titulo):\n",
        "    self.__titulo = titulo\n",
        "\n",
        "  def get_autor(self):\n",
        "    return self.__autor\n",
        "\n",
        "  def set_autor(self, autor):\n",
        "    self.__autor = autor\n",
        "\n",
        "  def get_anio_publicacion(self):\n",
        "    return self.__anio_publicacion\n",
        "\n",
        "  def set_anio_publicacion(self, anio_publicacion):\n",
        "    self.__anio_publicacion = anio_publicacion\n"
      ],
      "metadata": {
        "id": "BuqHgrNRXrGV"
      },
      "execution_count": 69,
      "outputs": []
    },
    {
      "cell_type": "code",
      "source": [
        "class Libro(MaterialBiblioteca):\n",
        "  def __init__(self, titulo, autor, anio_publicacion, isbn):\n",
        "    super().__init__(titulo, autor, anio_publicacion)\n",
        "    self.__isbn = isbn\n",
        "\n",
        "  def get_isbn(self):\n",
        "    return self.__isbn\n",
        "\n",
        "  def set_isbn(self, isbn):\n",
        "    self.__isbn = isbn"
      ],
      "metadata": {
        "id": "fYJIgvjMbJe-"
      },
      "execution_count": 70,
      "outputs": []
    },
    {
      "cell_type": "code",
      "source": [
        "class Revista(MaterialBiblioteca):\n",
        "  def __init__(self, titulo, autor, anio_publicacion, categoria):\n",
        "    super().__init__(titulo, autor, anio_publicacion)\n",
        "    self.__categoria = categoria\n",
        "\n",
        "  def get_categoria(self):\n",
        "    return self.__categoria\n",
        "\n",
        "  def set_categoria(self, categoria):\n",
        "    self.__categoria = categoria"
      ],
      "metadata": {
        "id": "4I8iBB0Ob86V"
      },
      "execution_count": 71,
      "outputs": []
    },
    {
      "cell_type": "code",
      "source": [
        "class DVD(MaterialBiblioteca):\n",
        "  def __init__(self, titulo, autor, anio_publicacion, blue_ray = False):\n",
        "    super().__init__(titulo, autor, anio_publicacion)\n",
        "    self.__blue_ray = blue_ray\n",
        "\n",
        "  def get_blue_ray(self):\n",
        "    return self.__blue_ray\n",
        "\n",
        "  def set_blue_ray(self, blue_ray):\n",
        "    self.__blue_ray = blue_ray"
      ],
      "metadata": {
        "id": "6FCj0pHN0tBu"
      },
      "execution_count": 72,
      "outputs": []
    },
    {
      "cell_type": "code",
      "source": [
        "class MiBiblioteca:\n",
        "  def __init__(self, bibliografia):\n",
        "    self.bibliografia = bibliografia"
      ],
      "metadata": {
        "id": "jZa2SeSL1x4c"
      },
      "execution_count": 73,
      "outputs": []
    },
    {
      "cell_type": "code",
      "source": [
        "libro1 = Libro(\"Harry Potter y la piedra filosofal\",\"J.K Rowling\",\"2000\",\"9780439362139\")\n",
        "revista1 = Revista(\"Noticias\",\"Perfil\",2024,\"politica\")\n",
        "DVD1 = DVD(\"Toy Story\",\"John Lasseter\",1995, True)"
      ],
      "metadata": {
        "id": "wHOp4aAZ2bxi"
      },
      "execution_count": 74,
      "outputs": []
    },
    {
      "cell_type": "code",
      "source": [
        "biblioteca = [\n",
        "    MiBiblioteca(libro1),\n",
        "    MiBiblioteca(revista1),\n",
        "    MiBiblioteca(DVD1)\n",
        "    ]"
      ],
      "metadata": {
        "id": "CxGJvT4v5Qlt"
      },
      "execution_count": 75,
      "outputs": []
    },
    {
      "cell_type": "code",
      "source": [
        "for item in biblioteca:\n",
        "  material = item.bibliografia\n",
        "  print(f\"Título: {material.get_titulo()}, Autor: {material.get_autor()}, Año de publicacion: {material.get_anio_publicacion()} .\")"
      ],
      "metadata": {
        "colab": {
          "base_uri": "https://localhost:8080/"
        },
        "id": "ucT0Mbjg6Jws",
        "outputId": "0b80877c-8c4e-493b-8e17-f248fc126b05"
      },
      "execution_count": 76,
      "outputs": [
        {
          "output_type": "stream",
          "name": "stdout",
          "text": [
            "Título: Harry Potter y la piedra filosofal, Autor: J.K Rowling, Año de publicacion: 2000 .\n",
            "Título: Noticias, Autor: Perfil, Año de publicacion: 2024 .\n",
            "Título: Toy Story, Autor: John Lasseter, Año de publicacion: 1995 .\n"
          ]
        }
      ]
    }
  ]
}